{
  "nbformat": 4,
  "nbformat_minor": 0,
  "metadata": {
    "kernelspec": {
      "display_name": "Python 3",
      "language": "python",
      "name": "python3"
    },
    "language_info": {
      "codemirror_mode": {
        "name": "ipython",
        "version": 3
      },
      "file_extension": ".py",
      "mimetype": "text/x-python",
      "name": "python",
      "nbconvert_exporter": "python",
      "pygments_lexer": "ipython3",
      "version": "3.7.4"
    },
    "colab": {
      "provenance": [],
      "include_colab_link": true
    }
  },
  "cells": [
    {
      "cell_type": "markdown",
      "metadata": {
        "id": "view-in-github",
        "colab_type": "text"
      },
      "source": [
        "<a href=\"https://colab.research.google.com/github/bork0047/Data-Analysis/blob/main/Evaluation_methodologies_Part1.ipynb\" target=\"_parent\"><img src=\"https://colab.research.google.com/assets/colab-badge.svg\" alt=\"Open In Colab\"/></a>"
      ]
    },
    {
      "cell_type": "markdown",
      "metadata": {
        "id": "ZfA_-K9P99hr"
      },
      "source": [
        "# Evaluation Methodologies 1\n",
        "\n",
        "## Introduction\n",
        "The aim of this exercise is to work with the [scikit-learn library](https://scikit-learn.org/stable/getting_started.html) to setup comparative studies of machine learning algorithms. "
      ]
    },
    {
      "cell_type": "code",
      "metadata": {
        "id": "wy_N2TlM2qor"
      },
      "source": [
        "# Library Imports\n",
        "import pandas as pd\n",
        "import numpy as np\n",
        "import matplotlib.pyplot as plt\n",
        "\n",
        "#import method related to evaluation\n",
        "from sklearn import model_selection\n",
        "from sklearn.model_selection import train_test_split, KFold, StratifiedKFold, StratifiedShuffleSplit, ShuffleSplit, cross_val_score, GridSearchCV\n",
        "\n",
        "#transformers\n",
        "from sklearn.preprocessing import StandardScaler\n",
        "\n",
        "#metrics\n",
        "from sklearn.metrics import classification_report, confusion_matrix, roc_curve, auc\n",
        "\n",
        "#export the models from the sklearn library\n",
        "from sklearn.linear_model import LogisticRegression\n",
        "from sklearn.tree import DecisionTreeClassifier\n",
        "from sklearn.neighbors import KNeighborsClassifier\n",
        "from sklearn.discriminant_analysis import LinearDiscriminantAnalysis\n",
        "from sklearn.naive_bayes import GaussianNB\n",
        "from sklearn.neural_network import MLPClassifier\n",
        "from sklearn.svm import SVC\n",
        "\n",
        "import warnings\n",
        "warnings.filterwarnings('ignore')\n",
        "\n",
        "%matplotlib inline\n"
      ],
      "execution_count": null,
      "outputs": []
    },
    {
      "cell_type": "markdown",
      "metadata": {
        "id": "u7g-QJIW97rC"
      },
      "source": [
        "##1. Prepare Dataset: Diabetes Dataset\n",
        "We will use the Pima Indians diabetes dataset to explore the different evaluation methods provided in sklearn. \n",
        "The dataset contains 768 rows and 9 features and is used to build models that can predict the onset of diabetes based on diagnostic measures.\n",
        "\n",
        "\n",
        "Description of the dataset features are as follows.\n",
        "\n",
        "0 preg = *Number of times pregnant*\n",
        "\n",
        "1 plas = *Plasma glucose concentration a 2 hours in an oral glucose tolerance test*\n",
        "\n",
        "2 pres = *Diastolic blood pressure (mm Hg)*\n",
        "\n",
        "3 skin = *Triceps skin fold thickness (mm)*\n",
        "\n",
        "4 test = *2-Hour serum insulin (mu U/ml)*\n",
        "\n",
        "5 mass = *Body mass index (weight in kg/(height in m)^2)*\n",
        "\n",
        "6 pedi = *Diabetes pedigree function*\n",
        "\n",
        "7 age = *Age (years)*\n",
        "\n",
        "8 class = *Class variable (1:tested positive for diabetes, 0: tested negative for diabetes)*\n",
        "\n",
        "All of the values in the file are numeric, specifically floating point values. \n",
        "We will learn how to load the file first, then use it with sklearn by dividing the data into class labels (Y) and feature sets (X). We don't need to split it into test/train as we are going to use scklearn methods to do that."
      ]
    },
    {
      "cell_type": "code",
      "metadata": {
        "colab": {
          "base_uri": "https://localhost:8080/",
          "height": 206
        },
        "id": "N51NtPQS2qow",
        "outputId": "3a2e584f-5209-4c17-83ec-e01b9c395dbb"
      },
      "source": [
        "# load dataset\n",
        "datafile = \"https://raw.githubusercontent.com/npradaschnor/Pima-Indians-Diabetes-Dataset/master/diabetes.csv\"\n",
        "class_index = 8  # this dataset has its class column in location 8\n",
        "\n",
        "#lets use the convinient pandas library to read and form a data frame of our dataset\n",
        "df_diabetes_data = pd.read_csv(datafile)\n",
        "\n",
        "df_diabetes_data.head(5)  # view top 5 rows"
      ],
      "execution_count": null,
      "outputs": [
        {
          "output_type": "execute_result",
          "data": {
            "text/plain": [
              "   Pregnancies  Glucose  BloodPressure  SkinThickness  Insulin   BMI  \\\n",
              "0            6      148             72             35        0  33.6   \n",
              "1            1       85             66             29        0  26.6   \n",
              "2            8      183             64              0        0  23.3   \n",
              "3            1       89             66             23       94  28.1   \n",
              "4            0      137             40             35      168  43.1   \n",
              "\n",
              "   DiabetesPedigreeFunction  Age  Outcome  \n",
              "0                     0.627   50        1  \n",
              "1                     0.351   31        0  \n",
              "2                     0.672   32        1  \n",
              "3                     0.167   21        0  \n",
              "4                     2.288   33        1  "
            ],
            "text/html": [
              "\n",
              "  <div id=\"df-9c4da006-ab66-4fd3-8d30-1cb0c299f4f4\">\n",
              "    <div class=\"colab-df-container\">\n",
              "      <div>\n",
              "<style scoped>\n",
              "    .dataframe tbody tr th:only-of-type {\n",
              "        vertical-align: middle;\n",
              "    }\n",
              "\n",
              "    .dataframe tbody tr th {\n",
              "        vertical-align: top;\n",
              "    }\n",
              "\n",
              "    .dataframe thead th {\n",
              "        text-align: right;\n",
              "    }\n",
              "</style>\n",
              "<table border=\"1\" class=\"dataframe\">\n",
              "  <thead>\n",
              "    <tr style=\"text-align: right;\">\n",
              "      <th></th>\n",
              "      <th>Pregnancies</th>\n",
              "      <th>Glucose</th>\n",
              "      <th>BloodPressure</th>\n",
              "      <th>SkinThickness</th>\n",
              "      <th>Insulin</th>\n",
              "      <th>BMI</th>\n",
              "      <th>DiabetesPedigreeFunction</th>\n",
              "      <th>Age</th>\n",
              "      <th>Outcome</th>\n",
              "    </tr>\n",
              "  </thead>\n",
              "  <tbody>\n",
              "    <tr>\n",
              "      <th>0</th>\n",
              "      <td>6</td>\n",
              "      <td>148</td>\n",
              "      <td>72</td>\n",
              "      <td>35</td>\n",
              "      <td>0</td>\n",
              "      <td>33.6</td>\n",
              "      <td>0.627</td>\n",
              "      <td>50</td>\n",
              "      <td>1</td>\n",
              "    </tr>\n",
              "    <tr>\n",
              "      <th>1</th>\n",
              "      <td>1</td>\n",
              "      <td>85</td>\n",
              "      <td>66</td>\n",
              "      <td>29</td>\n",
              "      <td>0</td>\n",
              "      <td>26.6</td>\n",
              "      <td>0.351</td>\n",
              "      <td>31</td>\n",
              "      <td>0</td>\n",
              "    </tr>\n",
              "    <tr>\n",
              "      <th>2</th>\n",
              "      <td>8</td>\n",
              "      <td>183</td>\n",
              "      <td>64</td>\n",
              "      <td>0</td>\n",
              "      <td>0</td>\n",
              "      <td>23.3</td>\n",
              "      <td>0.672</td>\n",
              "      <td>32</td>\n",
              "      <td>1</td>\n",
              "    </tr>\n",
              "    <tr>\n",
              "      <th>3</th>\n",
              "      <td>1</td>\n",
              "      <td>89</td>\n",
              "      <td>66</td>\n",
              "      <td>23</td>\n",
              "      <td>94</td>\n",
              "      <td>28.1</td>\n",
              "      <td>0.167</td>\n",
              "      <td>21</td>\n",
              "      <td>0</td>\n",
              "    </tr>\n",
              "    <tr>\n",
              "      <th>4</th>\n",
              "      <td>0</td>\n",
              "      <td>137</td>\n",
              "      <td>40</td>\n",
              "      <td>35</td>\n",
              "      <td>168</td>\n",
              "      <td>43.1</td>\n",
              "      <td>2.288</td>\n",
              "      <td>33</td>\n",
              "      <td>1</td>\n",
              "    </tr>\n",
              "  </tbody>\n",
              "</table>\n",
              "</div>\n",
              "      <button class=\"colab-df-convert\" onclick=\"convertToInteractive('df-9c4da006-ab66-4fd3-8d30-1cb0c299f4f4')\"\n",
              "              title=\"Convert this dataframe to an interactive table.\"\n",
              "              style=\"display:none;\">\n",
              "        \n",
              "  <svg xmlns=\"http://www.w3.org/2000/svg\" height=\"24px\"viewBox=\"0 0 24 24\"\n",
              "       width=\"24px\">\n",
              "    <path d=\"M0 0h24v24H0V0z\" fill=\"none\"/>\n",
              "    <path d=\"M18.56 5.44l.94 2.06.94-2.06 2.06-.94-2.06-.94-.94-2.06-.94 2.06-2.06.94zm-11 1L8.5 8.5l.94-2.06 2.06-.94-2.06-.94L8.5 2.5l-.94 2.06-2.06.94zm10 10l.94 2.06.94-2.06 2.06-.94-2.06-.94-.94-2.06-.94 2.06-2.06.94z\"/><path d=\"M17.41 7.96l-1.37-1.37c-.4-.4-.92-.59-1.43-.59-.52 0-1.04.2-1.43.59L10.3 9.45l-7.72 7.72c-.78.78-.78 2.05 0 2.83L4 21.41c.39.39.9.59 1.41.59.51 0 1.02-.2 1.41-.59l7.78-7.78 2.81-2.81c.8-.78.8-2.07 0-2.86zM5.41 20L4 18.59l7.72-7.72 1.47 1.35L5.41 20z\"/>\n",
              "  </svg>\n",
              "      </button>\n",
              "      \n",
              "  <style>\n",
              "    .colab-df-container {\n",
              "      display:flex;\n",
              "      flex-wrap:wrap;\n",
              "      gap: 12px;\n",
              "    }\n",
              "\n",
              "    .colab-df-convert {\n",
              "      background-color: #E8F0FE;\n",
              "      border: none;\n",
              "      border-radius: 50%;\n",
              "      cursor: pointer;\n",
              "      display: none;\n",
              "      fill: #1967D2;\n",
              "      height: 32px;\n",
              "      padding: 0 0 0 0;\n",
              "      width: 32px;\n",
              "    }\n",
              "\n",
              "    .colab-df-convert:hover {\n",
              "      background-color: #E2EBFA;\n",
              "      box-shadow: 0px 1px 2px rgba(60, 64, 67, 0.3), 0px 1px 3px 1px rgba(60, 64, 67, 0.15);\n",
              "      fill: #174EA6;\n",
              "    }\n",
              "\n",
              "    [theme=dark] .colab-df-convert {\n",
              "      background-color: #3B4455;\n",
              "      fill: #D2E3FC;\n",
              "    }\n",
              "\n",
              "    [theme=dark] .colab-df-convert:hover {\n",
              "      background-color: #434B5C;\n",
              "      box-shadow: 0px 1px 3px 1px rgba(0, 0, 0, 0.15);\n",
              "      filter: drop-shadow(0px 1px 2px rgba(0, 0, 0, 0.3));\n",
              "      fill: #FFFFFF;\n",
              "    }\n",
              "  </style>\n",
              "\n",
              "      <script>\n",
              "        const buttonEl =\n",
              "          document.querySelector('#df-9c4da006-ab66-4fd3-8d30-1cb0c299f4f4 button.colab-df-convert');\n",
              "        buttonEl.style.display =\n",
              "          google.colab.kernel.accessAllowed ? 'block' : 'none';\n",
              "\n",
              "        async function convertToInteractive(key) {\n",
              "          const element = document.querySelector('#df-9c4da006-ab66-4fd3-8d30-1cb0c299f4f4');\n",
              "          const dataTable =\n",
              "            await google.colab.kernel.invokeFunction('convertToInteractive',\n",
              "                                                     [key], {});\n",
              "          if (!dataTable) return;\n",
              "\n",
              "          const docLinkHtml = 'Like what you see? Visit the ' +\n",
              "            '<a target=\"_blank\" href=https://colab.research.google.com/notebooks/data_table.ipynb>data table notebook</a>'\n",
              "            + ' to learn more about interactive tables.';\n",
              "          element.innerHTML = '';\n",
              "          dataTable['output_type'] = 'display_data';\n",
              "          await google.colab.output.renderOutput(dataTable, element);\n",
              "          const docLink = document.createElement('div');\n",
              "          docLink.innerHTML = docLinkHtml;\n",
              "          element.appendChild(docLink);\n",
              "        }\n",
              "      </script>\n",
              "    </div>\n",
              "  </div>\n",
              "  "
            ]
          },
          "metadata": {},
          "execution_count": 13
        }
      ]
    },
    {
      "cell_type": "markdown",
      "metadata": {
        "id": "HnBsQEk2TXpI"
      },
      "source": [
        "Divide the data into feature sets and label"
      ]
    },
    {
      "cell_type": "code",
      "metadata": {
        "id": "URWfgx5L-iQa"
      },
      "source": [
        "array = df_diabetes_data.values\n",
        "X = array[:,0:class_index] # feature set: select rows and columns up to column index 7 i.e. 0 to 7\n",
        "y = array[:,class_index] # clas label: select the 8th column index"
      ],
      "execution_count": null,
      "outputs": []
    },
    {
      "cell_type": "markdown",
      "metadata": {
        "id": "HVOOVrKras1o"
      },
      "source": [
        "### Bringing features into the same scale - normalisation\n",
        "We will use the built in sklearn methods to normalise the columns."
      ]
    },
    {
      "cell_type": "code",
      "metadata": {
        "colab": {
          "base_uri": "https://localhost:8080/"
        },
        "id": "eWq2IUKOa01k",
        "outputId": "30de367b-9be0-4018-cef8-b2a0e117a489"
      },
      "source": [
        "from sklearn.preprocessing import MinMaxScaler\n",
        "mms = MinMaxScaler()\n",
        "train_X_norm = mms.fit_transform(X)\n",
        "\n",
        "print(train_X_norm)"
      ],
      "execution_count": null,
      "outputs": [
        {
          "output_type": "stream",
          "name": "stdout",
          "text": [
            "[[0.22222222 0.625      0.06779661 0.04166667]\n",
            " [0.16666667 0.41666667 0.06779661 0.04166667]\n",
            " [0.11111111 0.5        0.05084746 0.04166667]\n",
            " [0.08333333 0.45833333 0.08474576 0.04166667]\n",
            " [0.19444444 0.66666667 0.06779661 0.04166667]\n",
            " [0.30555556 0.79166667 0.11864407 0.125     ]\n",
            " [0.08333333 0.58333333 0.06779661 0.08333333]\n",
            " [0.19444444 0.58333333 0.08474576 0.04166667]\n",
            " [0.02777778 0.375      0.06779661 0.04166667]\n",
            " [0.16666667 0.45833333 0.08474576 0.        ]\n",
            " [0.30555556 0.70833333 0.08474576 0.04166667]\n",
            " [0.13888889 0.58333333 0.10169492 0.04166667]\n",
            " [0.13888889 0.41666667 0.06779661 0.        ]\n",
            " [0.         0.41666667 0.01694915 0.        ]\n",
            " [0.41666667 0.83333333 0.03389831 0.04166667]\n",
            " [0.38888889 1.         0.08474576 0.125     ]\n",
            " [0.30555556 0.79166667 0.05084746 0.125     ]\n",
            " [0.22222222 0.625      0.06779661 0.08333333]\n",
            " [0.38888889 0.75       0.11864407 0.08333333]\n",
            " [0.22222222 0.75       0.08474576 0.08333333]\n",
            " [0.30555556 0.58333333 0.11864407 0.04166667]\n",
            " [0.22222222 0.70833333 0.08474576 0.125     ]\n",
            " [0.08333333 0.66666667 0.         0.04166667]\n",
            " [0.22222222 0.54166667 0.11864407 0.16666667]\n",
            " [0.13888889 0.58333333 0.15254237 0.04166667]\n",
            " [0.19444444 0.41666667 0.10169492 0.04166667]\n",
            " [0.19444444 0.58333333 0.10169492 0.125     ]\n",
            " [0.25       0.625      0.08474576 0.04166667]\n",
            " [0.25       0.58333333 0.06779661 0.04166667]\n",
            " [0.11111111 0.5        0.10169492 0.04166667]\n",
            " [0.13888889 0.45833333 0.10169492 0.04166667]\n",
            " [0.30555556 0.58333333 0.08474576 0.125     ]\n",
            " [0.25       0.875      0.08474576 0.        ]\n",
            " [0.33333333 0.91666667 0.06779661 0.04166667]\n",
            " [0.16666667 0.45833333 0.08474576 0.04166667]\n",
            " [0.19444444 0.5        0.03389831 0.04166667]\n",
            " [0.33333333 0.625      0.05084746 0.04166667]\n",
            " [0.16666667 0.66666667 0.06779661 0.        ]\n",
            " [0.02777778 0.41666667 0.05084746 0.04166667]\n",
            " [0.22222222 0.58333333 0.08474576 0.04166667]\n",
            " [0.19444444 0.625      0.05084746 0.08333333]\n",
            " [0.05555556 0.125      0.05084746 0.08333333]\n",
            " [0.02777778 0.5        0.05084746 0.04166667]\n",
            " [0.19444444 0.625      0.10169492 0.20833333]\n",
            " [0.22222222 0.75       0.15254237 0.125     ]\n",
            " [0.13888889 0.41666667 0.06779661 0.08333333]\n",
            " [0.22222222 0.75       0.10169492 0.04166667]\n",
            " [0.08333333 0.5        0.06779661 0.04166667]\n",
            " [0.27777778 0.70833333 0.08474576 0.04166667]\n",
            " [0.19444444 0.54166667 0.06779661 0.04166667]\n",
            " [0.75       0.5        0.62711864 0.54166667]\n",
            " [0.58333333 0.5        0.59322034 0.58333333]\n",
            " [0.72222222 0.45833333 0.66101695 0.58333333]\n",
            " [0.33333333 0.125      0.50847458 0.5       ]\n",
            " [0.61111111 0.33333333 0.61016949 0.58333333]\n",
            " [0.38888889 0.33333333 0.59322034 0.5       ]\n",
            " [0.55555556 0.54166667 0.62711864 0.625     ]\n",
            " [0.16666667 0.16666667 0.38983051 0.375     ]\n",
            " [0.63888889 0.375      0.61016949 0.5       ]\n",
            " [0.25       0.29166667 0.49152542 0.54166667]\n",
            " [0.19444444 0.         0.42372881 0.375     ]\n",
            " [0.44444444 0.41666667 0.54237288 0.58333333]\n",
            " [0.47222222 0.08333333 0.50847458 0.375     ]\n",
            " [0.5        0.375      0.62711864 0.54166667]\n",
            " [0.36111111 0.375      0.44067797 0.5       ]\n",
            " [0.66666667 0.45833333 0.57627119 0.54166667]\n",
            " [0.36111111 0.41666667 0.59322034 0.58333333]\n",
            " [0.41666667 0.29166667 0.52542373 0.375     ]\n",
            " [0.52777778 0.08333333 0.59322034 0.58333333]\n",
            " [0.36111111 0.20833333 0.49152542 0.41666667]\n",
            " [0.44444444 0.5        0.6440678  0.70833333]\n",
            " [0.5        0.33333333 0.50847458 0.5       ]\n",
            " [0.55555556 0.20833333 0.66101695 0.58333333]\n",
            " [0.5        0.33333333 0.62711864 0.45833333]\n",
            " [0.58333333 0.375      0.55932203 0.5       ]\n",
            " [0.63888889 0.41666667 0.57627119 0.54166667]\n",
            " [0.69444444 0.33333333 0.6440678  0.54166667]\n",
            " [0.66666667 0.41666667 0.6779661  0.66666667]\n",
            " [0.47222222 0.375      0.59322034 0.58333333]\n",
            " [0.38888889 0.25       0.42372881 0.375     ]\n",
            " [0.33333333 0.16666667 0.47457627 0.41666667]\n",
            " [0.33333333 0.16666667 0.45762712 0.375     ]\n",
            " [0.41666667 0.29166667 0.49152542 0.45833333]\n",
            " [0.47222222 0.29166667 0.69491525 0.625     ]\n",
            " [0.30555556 0.41666667 0.59322034 0.58333333]\n",
            " [0.47222222 0.58333333 0.59322034 0.625     ]\n",
            " [0.66666667 0.45833333 0.62711864 0.58333333]\n",
            " [0.55555556 0.125      0.57627119 0.5       ]\n",
            " [0.36111111 0.41666667 0.52542373 0.5       ]\n",
            " [0.33333333 0.20833333 0.50847458 0.5       ]\n",
            " [0.33333333 0.25       0.57627119 0.45833333]\n",
            " [0.5        0.41666667 0.61016949 0.54166667]\n",
            " [0.41666667 0.25       0.50847458 0.45833333]\n",
            " [0.19444444 0.125      0.38983051 0.375     ]\n",
            " [0.36111111 0.29166667 0.54237288 0.5       ]\n",
            " [0.38888889 0.41666667 0.54237288 0.45833333]\n",
            " [0.38888889 0.375      0.54237288 0.5       ]\n",
            " [0.52777778 0.375      0.55932203 0.5       ]\n",
            " [0.22222222 0.20833333 0.33898305 0.41666667]\n",
            " [0.38888889 0.33333333 0.52542373 0.5       ]\n",
            " [0.55555556 0.54166667 0.84745763 1.        ]\n",
            " [0.41666667 0.29166667 0.69491525 0.75      ]\n",
            " [0.77777778 0.41666667 0.83050847 0.83333333]\n",
            " [0.55555556 0.375      0.77966102 0.70833333]\n",
            " [0.61111111 0.41666667 0.81355932 0.875     ]\n",
            " [0.91666667 0.41666667 0.94915254 0.83333333]\n",
            " [0.16666667 0.20833333 0.59322034 0.66666667]\n",
            " [0.83333333 0.375      0.89830508 0.70833333]\n",
            " [0.66666667 0.20833333 0.81355932 0.70833333]\n",
            " [0.80555556 0.66666667 0.86440678 1.        ]\n",
            " [0.61111111 0.5        0.69491525 0.79166667]\n",
            " [0.58333333 0.29166667 0.72881356 0.75      ]\n",
            " [0.69444444 0.41666667 0.76271186 0.83333333]\n",
            " [0.38888889 0.20833333 0.6779661  0.79166667]\n",
            " [0.41666667 0.33333333 0.69491525 0.95833333]\n",
            " [0.58333333 0.5        0.72881356 0.91666667]\n",
            " [0.61111111 0.41666667 0.76271186 0.70833333]\n",
            " [0.94444444 0.75       0.96610169 0.875     ]\n",
            " [0.94444444 0.25       1.         0.91666667]\n",
            " [0.47222222 0.08333333 0.6779661  0.58333333]\n",
            " [0.72222222 0.5        0.79661017 0.91666667]\n",
            " [0.36111111 0.33333333 0.66101695 0.79166667]\n",
            " [0.94444444 0.33333333 0.96610169 0.79166667]\n",
            " [0.55555556 0.29166667 0.66101695 0.70833333]\n",
            " [0.66666667 0.54166667 0.79661017 0.83333333]\n",
            " [0.80555556 0.5        0.84745763 0.70833333]\n",
            " [0.52777778 0.33333333 0.6440678  0.70833333]\n",
            " [0.5        0.41666667 0.66101695 0.70833333]\n",
            " [0.58333333 0.33333333 0.77966102 0.83333333]\n",
            " [0.80555556 0.41666667 0.81355932 0.625     ]\n",
            " [0.86111111 0.33333333 0.86440678 0.75      ]\n",
            " [1.         0.75       0.91525424 0.79166667]\n",
            " [0.58333333 0.33333333 0.77966102 0.875     ]\n",
            " [0.55555556 0.33333333 0.69491525 0.58333333]\n",
            " [0.5        0.25       0.77966102 0.54166667]\n",
            " [0.94444444 0.41666667 0.86440678 0.91666667]\n",
            " [0.55555556 0.58333333 0.77966102 0.95833333]\n",
            " [0.58333333 0.45833333 0.76271186 0.70833333]\n",
            " [0.47222222 0.41666667 0.6440678  0.70833333]\n",
            " [0.72222222 0.45833333 0.74576271 0.83333333]\n",
            " [0.66666667 0.45833333 0.77966102 0.95833333]\n",
            " [0.72222222 0.45833333 0.69491525 0.91666667]\n",
            " [0.41666667 0.29166667 0.69491525 0.75      ]\n",
            " [0.69444444 0.5        0.83050847 0.91666667]\n",
            " [0.66666667 0.54166667 0.79661017 1.        ]\n",
            " [0.66666667 0.41666667 0.71186441 0.91666667]\n",
            " [0.55555556 0.20833333 0.6779661  0.75      ]\n",
            " [0.61111111 0.41666667 0.71186441 0.79166667]\n",
            " [0.52777778 0.58333333 0.74576271 0.91666667]\n",
            " [0.44444444 0.41666667 0.69491525 0.70833333]]\n"
          ]
        }
      ]
    },
    {
      "cell_type": "code",
      "source": [
        "import seaborn as sns\n",
        "sns.distplot(X[0], hist=False, rug=True)\n",
        "plt.show()\n",
        "sns.distplot(train_X_norm[0], hist=False, rug=True)\n",
        "plt.show()\n"
      ],
      "metadata": {
        "colab": {
          "base_uri": "https://localhost:8080/",
          "height": 513
        },
        "id": "vLVN-LcCC66Y",
        "outputId": "a354fc22-503c-4561-dfda-bc446ee7199c"
      },
      "execution_count": null,
      "outputs": [
        {
          "output_type": "display_data",
          "data": {
            "text/plain": [
              "<Figure size 432x288 with 1 Axes>"
            ],
            "image/png": "[encoded data removed]"
          },
          "metadata": {
            "needs_background": "light"
          }
        },
        {
          "output_type": "display_data",
          "data": {
            "text/plain": [
              "<Figure size 432x288 with 1 Axes>"
            ],
            "image/png": "[encoded data removed]"
          },
          "metadata": {
            "needs_background": "light"
          }
        }
      ]
    },
    {
      "cell_type": "markdown",
      "metadata": {
        "id": "WBouj4fc-AHO"
      },
      "source": [
        "## <font color='red'>1.1 Exercise</font> Data Normalisation using the StandardScaler\n",
        "\n",
        "Normalise the Diabetes dataset feature values using the `StandardScaler` from\n",
        "[ScikitLearn](https://scikit-learn.org/stable/modules/generated/sklearn.preprocessing.StandardScaler.html?highlight=standardscaler#sklearn.preprocessing.StandardScaler) ."
      ]
    },
    {
      "cell_type": "code",
      "metadata": {
        "colab": {
          "base_uri": "https://localhost:8080/"
        },
        "id": "26NFvSY79_SK",
        "outputId": "0fc3e105-ad02-4b5c-f418-648aa9f7cc33"
      },
      "source": [
        "# 1.1 Solution\n",
        "from sklearn.preprocessing import StandardScaler\n",
        "\n",
        "stdsc = StandardScaler()\n",
        "train_X_standard = stdsc.fit_transform(X)\n",
        "\n",
        "print(train_X_standard)\n",
        "\n",
        "# col_sums = [ sum(x) for x in train_X_standard ]\n",
        "# rows=len(col_sums)\n",
        "# means=[ x/rows for x in col_sums ]\n",
        "# print(\"\\n mean for each column is:\", means)"
      ],
      "execution_count": null,
      "outputs": [
        {
          "output_type": "stream",
          "name": "stdout",
          "text": [
            "[[ 0.63994726  0.84832379  0.14964075 ...  0.20401277  0.46849198\n",
            "   1.4259954 ]\n",
            " [-0.84488505 -1.12339636 -0.16054575 ... -0.68442195 -0.36506078\n",
            "  -0.19067191]\n",
            " [ 1.23388019  1.94372388 -0.26394125 ... -1.10325546  0.60439732\n",
            "  -0.10558415]\n",
            " ...\n",
            " [ 0.3429808   0.00330087  0.14964075 ... -0.73518964 -0.68519336\n",
            "  -0.27575966]\n",
            " [-0.84488505  0.1597866  -0.47073225 ... -0.24020459 -0.37110101\n",
            "   1.17073215]\n",
            " [-0.84488505 -0.8730192   0.04624525 ... -0.20212881 -0.47378505\n",
            "  -0.87137393]]\n"
          ]
        }
      ]
    },
    {
      "cell_type": "code",
      "source": [
        "import seaborn as sns\n",
        "sns.kdeplot(X[0])\n",
        "plt.show()\n",
        "sns.kdeplot(train_X_standard[0])\n",
        "plt.show()"
      ],
      "metadata": {
        "colab": {
          "base_uri": "https://localhost:8080/",
          "height": 513
        },
        "id": "vnPyDtPyGTua",
        "outputId": "34fa8165-e375-4a78-ee06-942b1cea7094"
      },
      "execution_count": null,
      "outputs": [
        {
          "output_type": "display_data",
          "data": {
            "text/plain": [
              "<Figure size 432x288 with 1 Axes>"
            ],
            "image/png": "[encoded data removed]"
          },
          "metadata": {
            "needs_background": "light"
          }
        },
        {
          "output_type": "display_data",
          "data": {
            "text/plain": [
              "<Figure size 432x288 with 1 Axes>"
            ],
            "image/png": "[encoded data removed]"
          },
          "metadata": {
            "needs_background": "light"
          }
        }
      ]
    },
    {
      "cell_type": "markdown",
      "metadata": {
        "id": "n-MtciPT9lje"
      },
      "source": [
        "##2. ML Models: scikit-learn\n",
        "\n",
        "Scikit-learn machine learning (ML) library for the Python programming language which features various classification, regression and clustering algorithms. We will use the scikitLearn library to access a bunch of ML models already available and run each of them on the Diabetes classification dataset.\n",
        "\n",
        "For instance with a statement such as: `models.append(('ANN', MLPClassifier()))`, we are using scikit-learn's neural net classifier which is a Multi-layer Perceptron classifier.\n",
        "\n",
        "### Prepare models\n",
        "\n",
        "We will be using the default settings for each of the classifiers.\n",
        "\n",
        "We encourage you to look up the scikit-learn documentation on classifiers to understand the different hyper-parameter settings and how you might change them (http://scikit-learn.org/stable/)\n"
      ]
    },
    {
      "cell_type": "markdown",
      "metadata": {
        "id": "OFeUX4Ix2qoy"
      },
      "source": [
        "By evaluating our classifier performance on data that has been seen during training, we could get false confidence in the predictive power of our model. In the worst case, it may simply memorise the training samples but completely fail when classifying new, similar samples. We really don't want to put such a system into production!\n",
        "Instead of using the same dataset for training and testing (this is called \"resubstitution evaluation\"), it is much much better to use a train/test split in order to estimate how well your trained model is doing on new data."
      ]
    },
    {
      "cell_type": "markdown",
      "metadata": {
        "id": "ANwMGAYz2qoz"
      },
      "source": [
        "###  k-Fold Cross-validation\n",
        " \n",
        "Often (labeled) data is precious, but with the previous hold-out (test_train_split) approach we can use only \n",
        "~ 3/4 of our data for training. On the other hand, we will only ever try to apply our model 1/4 of our data for testing. A common way to use more of the data to build a model, but also get a more robust estimate of the generalization performance, is to use cross-validation. \n",
        "\n",
        "Cross validation is an approach that you can use to estimate the performance of a machine learning algorithm with less variance than a single train-test set split. In cross-validation, the data is split repeatedly into training and non-overlapping test-sets, with a separate model built for every pair. Each split of the data is called a **fold**.\n",
        "\n",
        "Essentially the algorithm is trained on `k - 1` folds with one held back and tested on the held back fold. This is repeated so that each fold of the dataset is given a chance to be the held back test set.\n",
        "The most common way to do cross-validation is k-fold cross-validation, in which the data is first split into k (often 5 or 10) equal-sized folds, and then for each iteration, one of the k folds is used as test data, and the rest as training data. This way, each data point will be in the test-set exactly once, and we can use all but a `k`th of the data for training.\n",
        "\n",
        "After running cross validation you end up with k different performance scores that you can summarise using a mean and a standard deviation. The result is a more reliable estimate of the performance of the algorithm on new data given your test data. It is more accurate because the algorithm is trained and evaluated multiple times on different data.\n",
        "\n",
        "#### Choosing number of folds (k)\n",
        "\n",
        "The choice of k must allow the size of each test partition to be large enough to be a reasonable sample of the problem, whilst allowing enough repetitions of the train-test evaluation of the algorithm to provide a fair estimate of the algorithms performance on unseen data. For modest sized datasets in the thousands or tens of thousands of records, k values of 3, 5 and 10 are common.\n",
        "\n",
        "For more details you can also read up on the function at http://scikit-learn.org/stable/modules/cross_validation.html"
      ]
    },
    {
      "cell_type": "markdown",
      "metadata": {
        "id": "UgSX74zfksoX"
      },
      "source": [
        "#### K-Fold Cross-validation on the Diabetes Dataset\n",
        "\n",
        "Let us apply the k-fold cross-validation technique to evaluate the KNeighborsClassifier algorithm on the Diabetes dataset using 10-folds.\n",
        "\n",
        "The model_selection.KFold forms the kfold and model_selection.cross_val_score aggregates the scores (specified here as scoring = 'accuracy') providing mean and standard deviation over the specified number of runs (specified here as `n_splits=k` with `k=10`)."
      ]
    },
    {
      "cell_type": "code",
      "metadata": {
        "id": "4f74CTHg2qo0",
        "colab": {
          "base_uri": "https://localhost:8080/",
          "height": 419
        },
        "outputId": "33797152-a498-4891-9e56-df5792b16d62"
      },
      "source": [
        "# evaluate each model in turn\n",
        "k = 10  # 10-folds\n",
        "results = []\n",
        "names = []\n",
        "scoring = 'accuracy'\n",
        "\n",
        "##iterate through each model\n",
        "for name, model in models:\n",
        "    kfold = KFold(n_splits=k)\n",
        "    cv_results = model_selection.cross_val_score(model, train_X_norm, y, cv=kfold, scoring=scoring)\n",
        "    results.append(cv_results)\n",
        "    names.append(name)\n",
        "    msg = \"%s: %f (%f)\" % (name, cv_results.mean(), cv_results.std())\n",
        "    print(msg)\n",
        "# boxplot algorithm comparison\n",
        "fig = plt.figure()\n",
        "title = \"Algorithm Comparison with \" + str(k) + \"-fold Cross Validation\"\n",
        "fig.suptitle(title)\n",
        "ax = fig.add_subplot(111)\n",
        "plt.boxplot(results)\n",
        "ax.set_xticklabels(names)\n",
        "plt.show()"
      ],
      "execution_count": null,
      "outputs": [
        {
          "output_type": "stream",
          "name": "stdout",
          "text": [
            "LR: 0.853333 (0.135974)\n",
            "LDA: 0.966667 (0.061464)\n",
            "KNN: 0.953333 (0.060000)\n",
            "CART: 0.940000 (0.086667)\n",
            "NB: 0.946667 (0.058119)\n",
            "SVM: 0.933333 (0.084327)\n",
            "ANN: 0.946667 (0.083267)\n"
          ]
        },
        {
          "output_type": "display_data",
          "data": {
            "text/plain": [
              "<Figure size 432x288 with 1 Axes>"
            ],
            "image/png": "[encoded data removed]"
          },
          "metadata": {
            "needs_background": "light"
          }
        }
      ]
    },
    {
      "cell_type": "markdown",
      "metadata": {
        "id": "HvRotc2T2qo1"
      },
      "source": [
        "## Stratification - when do we need it?\n",
        "By default, cross_val_score will use StratifiedKFold for classification, which ensures that the class proportions in the dataset are reflected in each fold. If you have a binary classification dataset with 90% of data point belonging to class 0, that would mean that in each fold, 90% of datapoints would belong to class 0. If you would just use KFold cross-validation, it is likely that you would generate a split that only contains class 0. It is generally a good idea to use StratifiedKFold whenever you do classification."
      ]
    },
    {
      "cell_type": "code",
      "metadata": {
        "id": "wKqFU77z2qoy"
      },
      "source": [
        "# prepare models\n",
        "models = []\n",
        "models.append(('LR', LogisticRegression(max_iter=200, solver='lbfgs', multi_class='auto')))\n",
        "models.append(('LDA', LinearDiscriminantAnalysis()))\n",
        "models.append(('KNN', KNeighborsClassifier()))\n",
        "models.append(('CART', DecisionTreeClassifier()))\n",
        "models.append(('NB', GaussianNB()))\n",
        "models.append(('SVM', SVC(kernel='rbf', gamma=0.7, C=1.0)))\n",
        "models.append(('ANN', MLPClassifier( max_iter=2048)))\n",
        "\n",
        "\n",
        "seed = 100 #useful for random generators"
      ],
      "execution_count": null,
      "outputs": []
    },
    {
      "cell_type": "code",
      "metadata": {
        "id": "0R-v_EBW2qo1",
        "colab": {
          "base_uri": "https://localhost:8080/",
          "height": 1000
        },
        "outputId": "2df505e6-0345-4b40-a816-8021accfd503"
      },
      "source": [
        "# in this example we can see how each fold\n",
        "# will maintain the same class distribution \n",
        "# in the test split\n",
        "kfold = StratifiedKFold(n_splits=5)\n",
        "idx = 0\n",
        "for train, test in kfold.split(train_X_norm, y):\n",
        "    print(\"Fold: \", idx)\n",
        "    test_labels = np.asfarray([y[i] for i in test])  \n",
        "    print(\"Class counts:\")\n",
        "    #print(test)\n",
        "    unique_elements, counts_elements = np.unique(test_labels, return_counts=True)\n",
        "    print(\"np.asarray((unique_elements, counts_elements))\\n\", np.asarray((unique_elements, counts_elements)))\n",
        "\n",
        "    plt.hist(test_labels, bins=[0,1,2]) \n",
        "    plt.show()\n",
        "    idx += 1\n"
      ],
      "execution_count": null,
      "outputs": [
        {
          "output_type": "stream",
          "name": "stdout",
          "text": [
            "Fold:  0\n",
            "Class counts:\n",
            "np.asarray((unique_elements, counts_elements))\n",
            " [[  0.   1.]\n",
            " [100.  54.]]\n"
          ]
        },
        {
          "output_type": "display_data",
          "data": {
            "text/plain": [
              "<Figure size 432x288 with 1 Axes>"
            ],
            "image/png": "[encoded data removed]"
          },
          "metadata": {
            "needs_background": "light"
          }
        },
        {
          "output_type": "stream",
          "name": "stdout",
          "text": [
            "Fold:  1\n",
            "Class counts:\n",
            "np.asarray((unique_elements, counts_elements))\n",
            " [[  0.   1.]\n",
            " [100.  54.]]\n"
          ]
        },
        {
          "output_type": "display_data",
          "data": {
            "text/plain": [
              "<Figure size 432x288 with 1 Axes>"
            ],
            "image/png": "[encoded data removed]"
          },
          "metadata": {
            "needs_background": "light"
          }
        },
        {
          "output_type": "stream",
          "name": "stdout",
          "text": [
            "Fold:  2\n",
            "Class counts:\n",
            "np.asarray((unique_elements, counts_elements))\n",
            " [[  0.   1.]\n",
            " [100.  54.]]\n"
          ]
        },
        {
          "output_type": "display_data",
          "data": {
            "text/plain": [
              "<Figure size 432x288 with 1 Axes>"
            ],
            "image/png": "[encoded data removed]"
          },
          "metadata": {
            "needs_background": "light"
          }
        },
        {
          "output_type": "stream",
          "name": "stdout",
          "text": [
            "Fold:  3\n",
            "Class counts:\n",
            "np.asarray((unique_elements, counts_elements))\n",
            " [[  0.   1.]\n",
            " [100.  53.]]\n"
          ]
        },
        {
          "output_type": "display_data",
          "data": {
            "text/plain": [
              "<Figure size 432x288 with 1 Axes>"
            ],
            "image/png": "[encoded data removed]"
          },
          "metadata": {
            "needs_background": "light"
          }
        },
        {
          "output_type": "stream",
          "name": "stdout",
          "text": [
            "Fold:  4\n",
            "Class counts:\n",
            "np.asarray((unique_elements, counts_elements))\n",
            " [[  0.   1.]\n",
            " [100.  53.]]\n"
          ]
        },
        {
          "output_type": "display_data",
          "data": {
            "text/plain": [
              "<Figure size 432x288 with 1 Axes>"
            ],
            "image/png": "[encoded data removed]"
          },
          "metadata": {
            "needs_background": "light"
          }
        }
      ]
    },
    {
      "cell_type": "markdown",
      "metadata": {
        "id": "gwQEYx-I2qo2"
      },
      "source": [
        "By default, cross_val_score will use StratifiedKFold for classification, which ensures that the class proportions in the dataset are reflected in each fold. If you have a binary classification dataset with 90% of data point belonging to class 0, that would mean that in each fold, 90% of datapoints would belong to class 0. If you would just use KFold cross-validation, it is likely that you would generate a split that only contains class 0. It is generally a good idea to use StratifiedKFold whenever you do classification."
      ]
    },
    {
      "cell_type": "markdown",
      "metadata": {
        "id": "2dBWn3w42qo2"
      },
      "source": [
        "### Iris Dataset - Understanding Stratified Cross-Fold Validation\n",
        "\n",
        "\n",
        "The labels in iris are sorted, which means that if we split the data without stratification then the first fold will only have the label 0 in it, while the last one will only have the label 2.\n",
        "To avoid this we want stratification to select instances for folds from different areas of the dataset to ensure a class distribution that is representative of the original dataset. \n",
        "\n",
        "Next we will attempt to understand this difference by plotting the locations from where instances are selected for folds over the full dataset.\n",
        "\n",
        "We will do this by plotting the results for both stratified and non-stratified versions.\n",
        "We do this by creating a binary vectored mask which marks the location/index of each test instance selected from the dataset."
      ]
    },
    {
      "cell_type": "code",
      "metadata": {
        "id": "-wmDtPHI2qo2",
        "colab": {
          "base_uri": "https://localhost:8080/"
        },
        "outputId": "84ec1267-332e-4ef8-81f2-bf2146e2c294"
      },
      "source": [
        "#lets load the Iris dataset which is part of the sklearn library\n",
        "from sklearn.datasets import load_iris\n",
        "iris = load_iris()  # read dataset\n",
        "X, y = iris.data, iris.target\n",
        "class_names = iris.target_names\n",
        "\n",
        "print(\"Number of instances: \", len(X))\n",
        "print(\"Class counts: \", np.unique(y, return_counts=True))"
      ],
      "execution_count": null,
      "outputs": [
        {
          "output_type": "stream",
          "name": "stdout",
          "text": [
            "Number of instances:  150\n",
            "Class counts:  (array([0, 1, 2]), array([50, 50, 50]))\n"
          ]
        }
      ]
    },
    {
      "cell_type": "markdown",
      "metadata": {
        "id": "hfyTVG252qo3"
      },
      "source": [
        "### Iris Dataset - Visualising Membership of Instances in Folds"
      ]
    },
    {
      "cell_type": "code",
      "metadata": {
        "id": "1hxLQqQD2qo3"
      },
      "source": [
        "# to help with visualisation\n",
        "# lets define a generic plot method\n",
        "# which takes cross-validation folds together with the dataset (X) and class labels (y)\n",
        "def plot_cv(cv, X,y):\n",
        "    masks = []\n",
        "    for train, test in cv.split(X,y):\n",
        "        mask = np.zeros(len(y), dtype=bool) # initialise a mask of length y to false /zero\n",
        "       \n",
        "        mask[test] = 1 # set the mask location True if the corresponding instance was selected as a test instance\n",
        "        #print(test)\n",
        "        #print(mask)\n",
        "        masks.append(mask) # append the mask from this fold\n",
        "    \n",
        "    #matshow displays an array as an image\n",
        "    # cmap is a colour map that uses the mask to show area where test instance indexes were extracted\n",
        "    # each mask corresponding to a fold is displayed in a row\n",
        "    plt.matshow(masks, cmap='gray_r', aspect='auto')"
      ],
      "execution_count": null,
      "outputs": []
    },
    {
      "cell_type": "code",
      "metadata": {
        "id": "SD_G4BKf2qo3",
        "colab": {
          "base_uri": "https://localhost:8080/",
          "height": 181
        },
        "outputId": "ad962ad1-f07b-43ce-a474-b76b996b6042"
      },
      "source": [
        "print(\"Stratified\")\n",
        "plot_cv(StratifiedKFold(n_splits=3), X, y)"
      ],
      "execution_count": null,
      "outputs": [
        {
          "output_type": "stream",
          "name": "stdout",
          "text": [
            "Stratified\n"
          ]
        },
        {
          "output_type": "display_data",
          "data": {
            "text/plain": [
              "<Figure size 1152x144 with 1 Axes>"
            ],
            "image/png": "[encoded data removed]"
          },
          "metadata": {
            "needs_background": "light"
          }
        }
      ]
    },
    {
      "cell_type": "markdown",
      "source": [
        "The plot above shows the number of instance ids as columns and the 3 folds are shown as rows. \n",
        "WE used 3 here to illustrate how the data organised into 3 classes will be sampled by this stratified k-fold splitter. \n",
        "\n",
        "It is worth comparing this to the none stratified splitter KFold."
      ],
      "metadata": {
        "id": "ApyHCwYCIydE"
      }
    },
    {
      "cell_type": "code",
      "metadata": {
        "id": "h4w5UO_42qo4",
        "colab": {
          "base_uri": "https://localhost:8080/",
          "height": 181
        },
        "outputId": "f3e1ad5c-2c41-4e4c-cebc-f55efedb7d2a"
      },
      "source": [
        "\n",
        "print(\"Not Stratified\")\n",
        "plot_cv(KFold(n_splits=3), X, y)"
      ],
      "execution_count": null,
      "outputs": [
        {
          "output_type": "stream",
          "name": "stdout",
          "text": [
            "Not Stratified\n"
          ]
        },
        {
          "output_type": "display_data",
          "data": {
            "text/plain": [
              "<Figure size 1152x144 with 1 Axes>"
            ],
            "image/png": "[encoded data removed]"
          },
          "metadata": {
            "needs_background": "light"
          }
        }
      ]
    },
    {
      "cell_type": "markdown",
      "metadata": {
        "id": "nq8raAUN2qo4"
      },
      "source": [
        "## <font color='red'>2.1 Exercise</font> Role of stratification\n",
        "- Can you understand the difference due to stratification from the graphic above?\n",
        "- There is also a version of stratification for the basic train_test_split that we worked with earlier. It is called `StratifiedShuffleSplit`. We return to it in this lab but you can find out more about it here http://scikit-learn.org/stable/modules/generated/sklearn.model_selection.StratifiedShuffleSplit.html"
      ]
    },
    {
      "cell_type": "markdown",
      "metadata": {
        "id": "Lpo2g5o02qo4"
      },
      "source": [
        "### Iris Dataset - StratifiedShuffleSplit to generate several train-test splits\n",
        "This generator randomly splits the data into train and test repeatedly. With stratification it ensures that the split maintains class distribution in both train and test. \n",
        "This allows the user to specify the number of repetitions and the training/test set size independently.\n",
        "\n",
        "Note this is very similar to test-train-splits but is stratified by default and by specifying n_splits it repeatedly creates several train-test splits to run models and aggregation an average accuracy over all the train-test splits. "
      ]
    },
    {
      "cell_type": "markdown",
      "metadata": {
        "id": "07k0K-hTRwIE"
      },
      "source": [
        "## <font color='red'>2.2 Exercise</font> Visualise membership of data instances for ShuffleSplit\n",
        "\n",
        "Visualise the membership of test instances of the Iris dataset for `ShuffleSplit`."
      ]
    },
    {
      "cell_type": "code",
      "metadata": {
        "id": "21Vx9hMF2qo4",
        "colab": {
          "base_uri": "https://localhost:8080/",
          "height": 163
        },
        "outputId": "29034d5f-f5f3-4713-e1e9-efd1bf1b3c2d"
      },
      "source": [
        "# SOLUTION 2.2\n",
        "plot_cv(ShuffleSplit(n_splits=3, test_size=.03, random_state=seed), X, y)"
      ],
      "execution_count": null,
      "outputs": [
        {
          "output_type": "display_data",
          "data": {
            "text/plain": [
              "<Figure size 1152x144 with 1 Axes>"
            ],
            "image/png": "[encoded data removed]"
          },
          "metadata": {
            "needs_background": "light"
          }
        }
      ]
    },
    {
      "cell_type": "markdown",
      "metadata": {
        "id": "vteKmX9q2qo5"
      },
      "source": [
        "If you look closely you will notice that the first row is not well distributed in terms of where the test instances are being picked. Remember that in the Iris dataset the instances are originally ordered by class.\n",
        "Ideally what we want to select test instances from across the available classes. \n",
        "You can now visualise this using the StratifiedShuffleSplit version.\n",
        "Note that it is unlikely that you will need to select 0.03 percent only as test set; but we have used this very low value so that you can dive into and understand the plot better. "
      ]
    },
    {
      "cell_type": "markdown",
      "metadata": {
        "id": "fcoaopB1TiMi"
      },
      "source": [
        "## <font color='red'>2.3 Exercise</font> Visualise membership of data instances for StratifiedShuffleSplit\n",
        "\n",
        "Visualise the membership of test instances of the Iris dataset for `StratifiedShuffleSplit`."
      ]
    },
    {
      "cell_type": "code",
      "metadata": {
        "id": "No7iXMyK2qo5",
        "colab": {
          "base_uri": "https://localhost:8080/",
          "height": 163
        },
        "outputId": "cc9a78d5-3a08-4d15-ba14-b3ee97a66f3e"
      },
      "source": [
        "# SOLUTION 2.3\n",
        "plot_cv(StratifiedShuffleSplit(n_splits=3, test_size=.03, random_state=seed), X, y)"
      ],
      "execution_count": null,
      "outputs": [
        {
          "output_type": "display_data",
          "data": {
            "text/plain": [
              "<Figure size 1152x144 with 1 Axes>"
            ],
            "image/png": "[encoded data removed]"
          },
          "metadata": {
            "needs_background": "light"
          }
        }
      ]
    },
    {
      "cell_type": "markdown",
      "metadata": {
        "id": "d9HWudxH2qo5"
      },
      "source": [
        "You can use all of the cross-validation generators as well as the ShuffleSplit generators with the cross_val_score method:"
      ]
    },
    {
      "cell_type": "code",
      "source": [
        "# evaluate each model in turn\n",
        "# use 10 iterations of cross validation\n",
        "sss = StratifiedShuffleSplit(n_splits=10, random_state=seed, test_size=.3)\n",
        "results = []\n",
        "names = []\n",
        "scoring = 'accuracy'\n",
        "\n",
        "print(\"Comparative study with stratified test-train splits (or holdout Eval)\")\n",
        "##iterate through each model\n",
        "for name, model in models:  \n",
        "    sss_results = model_selection.cross_val_score(model, X, y, cv=sss, scoring=scoring)\n",
        "    results.append(sss_results)\n",
        "    names.append(name)\n",
        "    msg = \"%s: %f (%f)\" % (name, sss_results.mean(), sss_results.std())\n",
        "    print(msg)\n",
        " \n",
        "\n"
      ],
      "metadata": {
        "colab": {
          "base_uri": "https://localhost:8080/"
        },
        "id": "L8AIaArAE8xU",
        "outputId": "e14bfcc3-367e-420c-fc9a-cd01f6b64f96"
      },
      "execution_count": null,
      "outputs": [
        {
          "output_type": "stream",
          "name": "stdout",
          "text": [
            "Comparative study with stratified test-train splits (or holdout Eval)\n",
            "LR: 0.964444 (0.024746)\n",
            "LDA: 0.980000 (0.015556)\n",
            "KNN: 0.973333 (0.019373)\n",
            "CART: 0.946667 (0.020367)\n",
            "NB: 0.951111 (0.029481)\n",
            "SVM: 0.973333 (0.019373)\n",
            "ANN: 0.973333 (0.013333)\n"
          ]
        }
      ]
    },
    {
      "cell_type": "markdown",
      "metadata": {
        "id": "BoCJ1LcV2qo5"
      },
      "source": [
        "## Evaluation methodology options\n",
        "In all our evaluations so far we have been working with accuracy as the main metric of comparison. \n",
        "\n",
        "However there are several other scoring metrics (e.g. precision, recall, f1-score, support) other than \"accuracy\" that can be used to compare results. Modify the code above to explore these metrics. Note that in scikit-learn, default \"precision\", \"recall\" and \"f1-score\" are for binary class only. For multi-class, you will need to use a variant that specifies the averaging method e.g. \"precision_micro\". Other averaging options are \"macro\" and \"weighted\". You can read about the different metrics here: http://scikit-learn.org/stable/modules/model_evaluation.html#the-scoring-parameter-defining-model-evaluation-rules\n",
        "\n",
        "LeaveOneOut (or LOO) is a simple cross-validation approach. \n",
        "You can import as `from sklearn.model_selection import LeaveOneOut`. Modify the code above to explore LeaveOneOut. \n",
        "\n",
        "Each learning set is created by taking all the samples except one, the test set being the sample left out. Thus, for  samples, we have  different training sets and  different test sets. This cross-validation procedure does not waste much data as only one sample is removed from the training set. However it is time consuming ans so mainly used with small datasets. \n",
        "You can read more about it here http://scikit-learn.org/stable/modules/generated/sklearn.model_selection.LeaveOneOut.html#sklearn.model_selection.LeaveOneOut"
      ]
    },
    {
      "cell_type": "markdown",
      "metadata": {
        "id": "VgJBmu3kW6XW"
      },
      "source": [
        "## <font color='red'>2.4 Exercise</font> Evaluation with LeaveOneOut cross-validation"
      ]
    },
    {
      "cell_type": "code",
      "metadata": {
        "colab": {
          "base_uri": "https://localhost:8080/"
        },
        "id": "vGG5EXVYPZUm",
        "outputId": "e5368da0-45b5-4962-e1df-eb6c529fa3c7"
      },
      "source": [
        "# SOLUTION 2.4\n",
        "from sklearn.model_selection import LeaveOneOut\n",
        "\n",
        "scoring = 'precision_macro' # 'accuracy' is another option and there are many others\n",
        "##iterate through each model\n",
        "for name, model in models:\n",
        "    leaveoneout = LeaveOneOut()  # initialise the splitter\n",
        "    cv_results = model_selection.cross_val_score(model, X, y, cv=leaveoneout, scoring=scoring)\n",
        "    msg = \"%s: %f (%f)\" % (name, cv_results.mean(), cv_results.std())\n",
        "    print(msg)\n"
      ],
      "execution_count": null,
      "outputs": [
        {
          "output_type": "stream",
          "name": "stdout",
          "text": [
            "LR: 0.966667 (0.179505)\n",
            "LDA: 0.980000 (0.140000)\n",
            "KNN: 0.966667 (0.179505)\n",
            "CART: 0.946667 (0.224697)\n",
            "NB: 0.953333 (0.210924)\n",
            "SVM: 0.966667 (0.179505)\n",
            "ANN: 0.973333 (0.161107)\n"
          ]
        }
      ]
    },
    {
      "cell_type": "markdown",
      "metadata": {
        "id": "6S_aYJwV2qo6"
      },
      "source": [
        "##3. Advanced Evaluation Setup  \n",
        "\n",
        "### How to use Grid Search CV with MNIST?\n",
        "GridSearchCV carries out an exhaustive search over specified parameter values for a classifier.\n",
        "\n",
        "Like other cross validation methods, Gridsearch splits up your test set into eqally sized folds, \n",
        "uses one fold as test and the rest for training. \n",
        "\n",
        "In this way it optimises as many classifiers using the splits from cross validation.\n",
        "\n",
        "You need to specify the number of folds, a classifier (such as MLP), and a Grid of parameters you may want to optimise as follows:"
      ]
    },
    {
      "cell_type": "code",
      "metadata": {
        "id": "aeg5N4QB2qo6",
        "colab": {
          "base_uri": "https://localhost:8080/",
          "height": 317
        },
        "outputId": "24633620-f2fc-4c57-f2f7-37b9c102c8eb"
      },
      "source": [
        "# load dataset\n",
        "# datasets to read\n",
        "# you can change these when trying out other datasets\n",
        "filename = \"sample_data/mnist_train_small.csv\"  # 20k dataset\n",
        "\n",
        "#print('sampling with replacement ... this will take a moment ...')\n",
        "\n",
        "#let's use the convenient pandas library to read and form a data frame of our dataset\n",
        "mnist = pd.read_csv(filename, header=None)\n",
        "#df.head()\n",
        "\n",
        "#use a very small fraction of the 20K dataset\n",
        "#sample with replacement\n",
        "data_array = mnist.sample(frac=0.1, replace=True).values\n",
        "print('shape of data sampled:', array.shape)\n",
        "\n",
        "\n",
        "X = data_array[:,1:] # get the features part\n",
        "y = data_array[:,0] # get the class column - mnist has its class column in first position\n",
        "print('shape of X:', X.shape)\n",
        "print('shape of y:', y.shape)\n",
        "labels = np.asfarray(y) #array of just the class column\n",
        "\n",
        "#basic plot to visualise the histogram of the class values\n",
        "plt.hist(labels, bins=[0,1,2,3,4,5,6,7,8,9]) # use bins here to control the order in which classes are plotted on x-axis\n",
        "plt.show()"
      ],
      "execution_count": null,
      "outputs": [
        {
          "output_type": "stream",
          "name": "stdout",
          "text": [
            "shape of data sampled: (2000, 785)\n",
            "shape of X: (2000, 784)\n",
            "shape of y: (2000,)\n"
          ]
        },
        {
          "output_type": "display_data",
          "data": {
            "text/plain": [
              "<Figure size 432x288 with 1 Axes>"
            ],
            "image/png": "[encoded data removed]"
          },
          "metadata": {
            "needs_background": "light"
          }
        }
      ]
    },
    {
      "cell_type": "markdown",
      "metadata": {
        "id": "HMmb2qeR2qo6"
      },
      "source": [
        "### MNIST - Setup a grid search to explore a variety of parameters relevant to a classifier\n",
        "In this example we will setup grid search for a MLPClassifier model (i.e. a neural network) from the scikit-learn library. \n",
        "Therefore the grid search will explore a variety of parameters that are relevant to this specific classifier. \n",
        "\n",
        "Obviously if you are working with a different classifier then you must use and explore parameters relevant to that specific classifier. \n",
        "\n",
        "For the MLPClassifier we explore different parameter settings for activation functions, weight update methods and hidden layer sizes.\n",
        "Details on parameters appear http://scikit-learn.org/stable/modules/generated/sklearn.neural_network.MLPClassifier.html\n",
        "\n",
        "For activation we will use identity (no activation), sigmoid and relu. As optimisers we can explore sgd (stochastic gradient descend) and adam. \n"
      ]
    },
    {
      "cell_type": "code",
      "metadata": {
        "id": "HduT5aAs2qo6"
      },
      "source": [
        "param_grid = [\n",
        "        {\n",
        "            'activation' : ['identity', 'sigmoid', 'relu'], \n",
        "            'solver' : ['sgd', 'adam'],\n",
        "            'hidden_layer_sizes': [(10,),(30,)]  # (10,) is a single hidden layer with 10 neurons\n",
        "        }\n",
        "       ]"
      ],
      "execution_count": null,
      "outputs": []
    },
    {
      "cell_type": "code",
      "metadata": {
        "id": "jsPeeNLe2qo7",
        "colab": {
          "base_uri": "https://localhost:8080/"
        },
        "outputId": "20bd7f9f-208e-4556-8b1d-15d2d57a9a48"
      },
      "source": [
        "# generate train and test data\n",
        "X_train, X_test, y_train, y_test = train_test_split(X, y, test_size=0.3, random_state=seed)\n",
        "\n",
        "print(\"Searching for best parameters - this will take a moment ...\")\n",
        "clf = GridSearchCV(MLPClassifier(max_iter=2048), param_grid, cv=5, scoring='accuracy')\n",
        "clf.fit(X_train,y_train)\n",
        "print(\"Best parameters set found on validation:\")\n",
        "print(clf.best_params_)\n",
        "print(\"Accuracy\", clf.best_score_)"
      ],
      "execution_count": null,
      "outputs": [
        {
          "output_type": "stream",
          "name": "stdout",
          "text": [
            "Searching for best parameters - this will take a moment ...\n",
            "Best parameters set found on validation:\n",
            "{'activation': 'identity', 'hidden_layer_sizes': (30,), 'solver': 'adam'}\n",
            "Accuracy 0.8007142857142858\n"
          ]
        }
      ]
    },
    {
      "cell_type": "markdown",
      "metadata": {
        "id": "1AfjZARK2qo7"
      },
      "source": [
        "### MNIST - Use the best found parameter combination to create and test a model\n",
        "\n",
        "We can use the parameters that were returned by `GridSearchCV`; (in our example this will be `clf.best_params_`) to create a new model.\n",
        "We also use two new method to provide some useful statistics about the model performance: `classification_report` and `confusion_matrix`."
      ]
    },
    {
      "cell_type": "code",
      "metadata": {
        "id": "GPMpG3lb2qo8",
        "colab": {
          "base_uri": "https://localhost:8080/"
        },
        "outputId": "0035f74b-4766-4877-8c42-451c700c3925"
      },
      "source": [
        "print(\"Best estimator found by grid search:\")\n",
        "print(clf.best_params_)\n",
        "\n",
        "print(\"Predicting on the test set\")\n",
        "y_pred = clf.predict(X_test)  # 'predict' uses the best found parameters\n",
        "print(\"Target labels: \", y_test)\n",
        "print(\"Predicted labels: \", y_pred)\n",
        "\n",
        "incorrect_idx = np.where(y_pred != y_test)[0]\n",
        "print(\"Incorrectly classified: \", incorrect_idx)\n"
      ],
      "execution_count": null,
      "outputs": [
        {
          "output_type": "stream",
          "name": "stdout",
          "text": [
            "Best estimator found by grid search:\n",
            "{'activation': 'identity', 'hidden_layer_sizes': (30,), 'solver': 'adam'}\n",
            "Predicting on the test set\n",
            "Target labels:  [9 1 0 4 9 0 8 4 2 3 3 0 7 8 2 8 2 7 2 5 0 4 9 8 4 2 0 0 6 3 1 9 1 2 7 9 6\n",
            " 4 4 8 0 2 2 0 4 7 5 2 2 9 3 2 5 1 5 0 1 5 8 6 4 3 2 1 1 8 9 7 5 9 0 1 1 9\n",
            " 1 5 0 9 9 2 5 8 0 8 1 1 5 9 1 0 5 6 7 8 1 4 1 3 9 2 9 2 4 1 9 3 0 4 8 9 1\n",
            " 4 0 5 4 9 7 7 7 3 1 1 7 5 1 0 2 3 6 0 4 9 0 3 1 1 7 8 8 3 0 3 1 0 2 5 3 1\n",
            " 7 8 1 9 5 3 8 6 0 2 4 1 2 6 4 9 3 7 2 5 9 1 7 5 0 5 0 0 3 9 4 7 7 4 8 3 9\n",
            " 9 9 2 7 2 5 1 8 2 5 7 9 7 2 0 5 6 9 0 2 2 3 0 2 4 1 4 8 5 1 8 8 5 0 0 0 9\n",
            " 3 5 1 5 8 0 6 6 2 2 9 8 2 6 0 9 8 2 6 5 7 4 5 8 4 8 5 2 3 4 4 4 1 5 2 1 4\n",
            " 3 1 8 8 1 8 5 7 5 0 9 6 9 1 9 1 3 9 3 8 5 6 3 8 5 9 5 2 7 3 7 4 1 6 9 6 7\n",
            " 6 5 1 3 8 1 8 5 6 8 6 4 8 1 0 4 9 0 7 8 8 8 7 1 8 9 3 9 2 9 2 5 6 4 1 6 0\n",
            " 2 6 6 4 9 1 6 6 0 3 1 8 0 3 6 4 1 1 3 5 4 5 0 4 7 8 7 8 8 6 0 4 1 9 3 6 6\n",
            " 9 8 1 4 1 7 2 2 8 6 1 7 7 1 0 5 5 6 6 1 1 6 3 9 1 0 9 1 8 2 2 5 6 0 8 3 5\n",
            " 0 4 6 6 6 1 0 2 3 4 8 1 6 5 8 9 9 1 3 0 7 4 2 4 8 7 9 0 6 8 0 7 7 6 0 3 3\n",
            " 0 1 8 4 8 7 8 0 3 1 4 4 6 3 8 1 8 0 6 3 5 8 1 5 1 4 2 3 6 1 0 2 0 0 8 6 9\n",
            " 7 2 7 1 4 7 7 3 2 4 8 5 4 4 0 4 0 0 3 2 9 5 6 0 0 7 0 9 5 2 6 1 7 0 8 1 7\n",
            " 2 3 2 2 6 0 3 2 3 2 0 0 9 2 5 3 2 2 6 0 6 5 1 8 4 7 1 3 8 7 3 0 1 2 1 2 9\n",
            " 8 4 7 5 7 7 7 9 2 6 2 7 2 6 9 0 2 5 7 9 6 4 5 5 7 4 1 2 7 5 8 1 3 3 9 8 1\n",
            " 7 3 9 6 3 5 5 9]\n",
            "Predicted labels:  [9 1 0 4 9 0 8 4 2 9 3 0 7 8 2 5 2 7 1 5 0 8 9 1 4 2 0 0 6 3 1 9 1 2 9 4 8\n",
            " 4 4 8 0 2 2 0 4 7 5 2 2 9 3 6 5 1 5 0 1 5 8 6 4 3 2 1 1 8 9 7 5 9 0 1 1 4\n",
            " 1 7 0 9 9 2 5 8 0 8 1 1 5 4 1 0 1 6 7 8 1 4 1 3 7 2 9 2 4 1 9 3 0 4 1 9 1\n",
            " 4 0 5 6 9 8 7 7 5 2 1 7 5 1 0 2 3 6 0 8 9 0 3 1 1 6 8 8 3 0 3 1 0 2 5 3 1\n",
            " 7 1 1 9 5 3 3 6 0 2 4 1 2 6 4 9 3 7 8 5 7 1 7 5 0 5 0 0 3 9 4 7 7 4 8 3 9\n",
            " 9 9 2 7 4 5 1 8 2 5 7 9 7 2 0 5 6 8 0 2 2 3 0 2 4 1 8 8 0 1 8 5 6 0 0 0 9\n",
            " 3 5 1 5 8 0 6 2 3 6 4 8 2 6 0 9 8 2 6 5 7 4 5 9 4 9 6 2 3 4 4 9 1 5 2 1 4\n",
            " 8 1 1 8 1 8 6 4 2 0 9 6 0 1 9 1 3 9 3 8 8 0 2 8 5 9 6 2 7 3 9 4 1 6 4 6 7\n",
            " 6 5 1 3 8 1 2 5 6 8 6 4 8 1 0 4 9 2 7 8 8 8 9 1 8 9 3 9 2 4 2 5 6 9 1 6 0\n",
            " 2 6 6 4 9 1 6 6 0 3 1 8 5 5 6 4 1 5 3 5 4 5 0 4 7 8 7 1 8 6 0 9 1 4 3 6 6\n",
            " 9 8 1 4 1 7 2 2 8 6 1 7 9 1 0 0 5 6 6 1 1 6 3 9 1 0 9 1 8 2 2 5 6 0 2 3 5\n",
            " 0 2 6 6 6 1 6 2 3 4 8 1 6 5 5 9 9 1 3 0 7 4 2 4 8 7 7 0 6 8 0 7 7 6 7 3 3\n",
            " 0 1 3 4 5 9 4 0 3 1 4 4 6 3 8 1 8 0 6 3 5 8 1 5 1 9 2 2 6 1 0 7 0 0 8 6 9\n",
            " 7 3 7 1 4 7 7 3 4 4 1 5 4 4 0 4 0 0 3 2 9 5 6 0 0 2 0 9 7 2 6 1 7 0 8 1 7\n",
            " 2 8 2 2 6 0 6 2 2 2 0 0 9 2 1 3 7 1 6 0 6 5 1 8 4 7 1 3 2 7 3 0 1 2 1 2 9\n",
            " 8 4 7 5 7 7 7 7 2 6 2 7 2 6 4 0 2 5 9 9 6 4 5 5 7 4 1 3 7 5 8 1 3 3 9 5 1\n",
            " 8 3 9 1 8 5 5 9]\n",
            "Incorrectly classified:  [  9  15  18  21  23  34  35  36  51  73  75  87  90  98 108 114 116 119\n",
            " 120 130 136 149 154 166 168 189 202 211 213 216 217 229 230 231 232 245\n",
            " 247 248 253 259 261 265 266 267 271 279 280 281 285 289 293 302 313 318\n",
            " 325 329 345 346 350 360 364 366 382 385 404 408 413 421 433 441 446 448\n",
            " 449 450 469 471 475 482 489 491 506 509 519 524 526 532 534 535 546 562\n",
            " 569 573 582 590 592 595 596]\n"
          ]
        }
      ]
    },
    {
      "cell_type": "code",
      "metadata": {
        "colab": {
          "base_uri": "https://localhost:8080/"
        },
        "id": "WUlJ5kBFLE1Q",
        "outputId": "56c3ae39-8ae0-4d19-840c-c912345160c5"
      },
      "source": [
        "#store the class names for plotting later on\n",
        "class_names = []\n",
        "for i in range(0,10):  # 0 to 9 for class names\n",
        "    class_names.append(str(i))\n",
        "\n",
        "print(\"Classification Report:\\n\")\n",
        "print(classification_report(y_test, y_pred, target_names=class_names))\n"
      ],
      "execution_count": null,
      "outputs": [
        {
          "output_type": "stream",
          "name": "stdout",
          "text": [
            "Classification Report:\n",
            "\n",
            "              precision    recall  f1-score   support\n",
            "\n",
            "           0       0.94      0.94      0.94        68\n",
            "           1       0.87      0.97      0.92        75\n",
            "           2       0.81      0.81      0.81        64\n",
            "           3       0.90      0.81      0.85        53\n",
            "           4       0.79      0.83      0.81        53\n",
            "           5       0.83      0.79      0.81        57\n",
            "           6       0.83      0.92      0.88        53\n",
            "           7       0.83      0.80      0.81        54\n",
            "           8       0.79      0.70      0.74        64\n",
            "           9       0.78      0.76      0.77        59\n",
            "\n",
            "    accuracy                           0.84       600\n",
            "   macro avg       0.84      0.83      0.83       600\n",
            "weighted avg       0.84      0.84      0.84       600\n",
            "\n"
          ]
        }
      ]
    },
    {
      "cell_type": "code",
      "metadata": {
        "colab": {
          "base_uri": "https://localhost:8080/",
          "height": 426
        },
        "id": "2R4InjlbLTgi",
        "outputId": "78592e2a-a780-46bd-ebbf-0553262d6fe4"
      },
      "source": [
        "y_test2 = pd.Series(y_test)\n",
        "y_pred2 = pd.Series(y_pred)\n",
        "\n",
        "#create a confusion matrix\n",
        "pd.crosstab(y_test2, y_pred2, rownames=['True'], colnames=['Predicted'], margins=True)  # cross tabulation of predicted and true digits"
      ],
      "execution_count": null,
      "outputs": [
        {
          "output_type": "execute_result",
          "data": {
            "text/plain": [
              "Predicted   0   1   2   3   4   5   6   7   8   9  All\n",
              "True                                                  \n",
              "0          64   0   1   0   0   1   1   1   0   0   68\n",
              "1           0  73   1   0   0   1   0   0   0   0   75\n",
              "2           0   2  52   3   2   0   2   2   1   0   64\n",
              "3           0   0   3  43   0   2   1   0   3   1   53\n",
              "4           0   0   1   0  44   0   1   0   3   4   53\n",
              "5           2   2   1   0   0  45   4   2   1   0   57\n",
              "6           1   1   1   0   0   0  49   0   1   0   53\n",
              "7           0   0   1   0   1   0   1  43   2   6   54\n",
              "8           0   6   3   2   1   5   0   0  45   2   64\n",
              "9           1   0   0   0   8   0   0   4   1  45   59\n",
              "All        68  84  64  48  56  54  59  52  57  58  600"
            ],
            "text/html": [
              "\n",
              "  <div id=\"df-80f836b4-84a6-4e22-86e5-96b26816e6e3\">\n",
              "    <div class=\"colab-df-container\">\n",
              "      <div>\n",
              "<style scoped>\n",
              "    .dataframe tbody tr th:only-of-type {\n",
              "        vertical-align: middle;\n",
              "    }\n",
              "\n",
              "    .dataframe tbody tr th {\n",
              "        vertical-align: top;\n",
              "    }\n",
              "\n",
              "    .dataframe thead th {\n",
              "        text-align: right;\n",
              "    }\n",
              "</style>\n",
              "<table border=\"1\" class=\"dataframe\">\n",
              "  <thead>\n",
              "    <tr style=\"text-align: right;\">\n",
              "      <th>Predicted</th>\n",
              "      <th>0</th>\n",
              "      <th>1</th>\n",
              "      <th>2</th>\n",
              "      <th>3</th>\n",
              "      <th>4</th>\n",
              "      <th>5</th>\n",
              "      <th>6</th>\n",
              "      <th>7</th>\n",
              "      <th>8</th>\n",
              "      <th>9</th>\n",
              "      <th>All</th>\n",
              "    </tr>\n",
              "    <tr>\n",
              "      <th>True</th>\n",
              "      <th></th>\n",
              "      <th></th>\n",
              "      <th></th>\n",
              "      <th></th>\n",
              "      <th></th>\n",
              "      <th></th>\n",
              "      <th></th>\n",
              "      <th></th>\n",
              "      <th></th>\n",
              "      <th></th>\n",
              "      <th></th>\n",
              "    </tr>\n",
              "  </thead>\n",
              "  <tbody>\n",
              "    <tr>\n",
              "      <th>0</th>\n",
              "      <td>64</td>\n",
              "      <td>0</td>\n",
              "      <td>1</td>\n",
              "      <td>0</td>\n",
              "      <td>0</td>\n",
              "      <td>1</td>\n",
              "      <td>1</td>\n",
              "      <td>1</td>\n",
              "      <td>0</td>\n",
              "      <td>0</td>\n",
              "      <td>68</td>\n",
              "    </tr>\n",
              "    <tr>\n",
              "      <th>1</th>\n",
              "      <td>0</td>\n",
              "      <td>73</td>\n",
              "      <td>1</td>\n",
              "      <td>0</td>\n",
              "      <td>0</td>\n",
              "      <td>1</td>\n",
              "      <td>0</td>\n",
              "      <td>0</td>\n",
              "      <td>0</td>\n",
              "      <td>0</td>\n",
              "      <td>75</td>\n",
              "    </tr>\n",
              "    <tr>\n",
              "      <th>2</th>\n",
              "      <td>0</td>\n",
              "      <td>2</td>\n",
              "      <td>52</td>\n",
              "      <td>3</td>\n",
              "      <td>2</td>\n",
              "      <td>0</td>\n",
              "      <td>2</td>\n",
              "      <td>2</td>\n",
              "      <td>1</td>\n",
              "      <td>0</td>\n",
              "      <td>64</td>\n",
              "    </tr>\n",
              "    <tr>\n",
              "      <th>3</th>\n",
              "      <td>0</td>\n",
              "      <td>0</td>\n",
              "      <td>3</td>\n",
              "      <td>43</td>\n",
              "      <td>0</td>\n",
              "      <td>2</td>\n",
              "      <td>1</td>\n",
              "      <td>0</td>\n",
              "      <td>3</td>\n",
              "      <td>1</td>\n",
              "      <td>53</td>\n",
              "    </tr>\n",
              "    <tr>\n",
              "      <th>4</th>\n",
              "      <td>0</td>\n",
              "      <td>0</td>\n",
              "      <td>1</td>\n",
              "      <td>0</td>\n",
              "      <td>44</td>\n",
              "      <td>0</td>\n",
              "      <td>1</td>\n",
              "      <td>0</td>\n",
              "      <td>3</td>\n",
              "      <td>4</td>\n",
              "      <td>53</td>\n",
              "    </tr>\n",
              "    <tr>\n",
              "      <th>5</th>\n",
              "      <td>2</td>\n",
              "      <td>2</td>\n",
              "      <td>1</td>\n",
              "      <td>0</td>\n",
              "      <td>0</td>\n",
              "      <td>45</td>\n",
              "      <td>4</td>\n",
              "      <td>2</td>\n",
              "      <td>1</td>\n",
              "      <td>0</td>\n",
              "      <td>57</td>\n",
              "    </tr>\n",
              "    <tr>\n",
              "      <th>6</th>\n",
              "      <td>1</td>\n",
              "      <td>1</td>\n",
              "      <td>1</td>\n",
              "      <td>0</td>\n",
              "      <td>0</td>\n",
              "      <td>0</td>\n",
              "      <td>49</td>\n",
              "      <td>0</td>\n",
              "      <td>1</td>\n",
              "      <td>0</td>\n",
              "      <td>53</td>\n",
              "    </tr>\n",
              "    <tr>\n",
              "      <th>7</th>\n",
              "      <td>0</td>\n",
              "      <td>0</td>\n",
              "      <td>1</td>\n",
              "      <td>0</td>\n",
              "      <td>1</td>\n",
              "      <td>0</td>\n",
              "      <td>1</td>\n",
              "      <td>43</td>\n",
              "      <td>2</td>\n",
              "      <td>6</td>\n",
              "      <td>54</td>\n",
              "    </tr>\n",
              "    <tr>\n",
              "      <th>8</th>\n",
              "      <td>0</td>\n",
              "      <td>6</td>\n",
              "      <td>3</td>\n",
              "      <td>2</td>\n",
              "      <td>1</td>\n",
              "      <td>5</td>\n",
              "      <td>0</td>\n",
              "      <td>0</td>\n",
              "      <td>45</td>\n",
              "      <td>2</td>\n",
              "      <td>64</td>\n",
              "    </tr>\n",
              "    <tr>\n",
              "      <th>9</th>\n",
              "      <td>1</td>\n",
              "      <td>0</td>\n",
              "      <td>0</td>\n",
              "      <td>0</td>\n",
              "      <td>8</td>\n",
              "      <td>0</td>\n",
              "      <td>0</td>\n",
              "      <td>4</td>\n",
              "      <td>1</td>\n",
              "      <td>45</td>\n",
              "      <td>59</td>\n",
              "    </tr>\n",
              "    <tr>\n",
              "      <th>All</th>\n",
              "      <td>68</td>\n",
              "      <td>84</td>\n",
              "      <td>64</td>\n",
              "      <td>48</td>\n",
              "      <td>56</td>\n",
              "      <td>54</td>\n",
              "      <td>59</td>\n",
              "      <td>52</td>\n",
              "      <td>57</td>\n",
              "      <td>58</td>\n",
              "      <td>600</td>\n",
              "    </tr>\n",
              "  </tbody>\n",
              "</table>\n",
              "</div>\n",
              "      <button class=\"colab-df-convert\" onclick=\"convertToInteractive('df-80f836b4-84a6-4e22-86e5-96b26816e6e3')\"\n",
              "              title=\"Convert this dataframe to an interactive table.\"\n",
              "              style=\"display:none;\">\n",
              "        \n",
              "  <svg xmlns=\"http://www.w3.org/2000/svg\" height=\"24px\"viewBox=\"0 0 24 24\"\n",
              "       width=\"24px\">\n",
              "    <path d=\"M0 0h24v24H0V0z\" fill=\"none\"/>\n",
              "    <path d=\"M18.56 5.44l.94 2.06.94-2.06 2.06-.94-2.06-.94-.94-2.06-.94 2.06-2.06.94zm-11 1L8.5 8.5l.94-2.06 2.06-.94-2.06-.94L8.5 2.5l-.94 2.06-2.06.94zm10 10l.94 2.06.94-2.06 2.06-.94-2.06-.94-.94-2.06-.94 2.06-2.06.94z\"/><path d=\"M17.41 7.96l-1.37-1.37c-.4-.4-.92-.59-1.43-.59-.52 0-1.04.2-1.43.59L10.3 9.45l-7.72 7.72c-.78.78-.78 2.05 0 2.83L4 21.41c.39.39.9.59 1.41.59.51 0 1.02-.2 1.41-.59l7.78-7.78 2.81-2.81c.8-.78.8-2.07 0-2.86zM5.41 20L4 18.59l7.72-7.72 1.47 1.35L5.41 20z\"/>\n",
              "  </svg>\n",
              "      </button>\n",
              "      \n",
              "  <style>\n",
              "    .colab-df-container {\n",
              "      display:flex;\n",
              "      flex-wrap:wrap;\n",
              "      gap: 12px;\n",
              "    }\n",
              "\n",
              "    .colab-df-convert {\n",
              "      background-color: #E8F0FE;\n",
              "      border: none;\n",
              "      border-radius: 50%;\n",
              "      cursor: pointer;\n",
              "      display: none;\n",
              "      fill: #1967D2;\n",
              "      height: 32px;\n",
              "      padding: 0 0 0 0;\n",
              "      width: 32px;\n",
              "    }\n",
              "\n",
              "    .colab-df-convert:hover {\n",
              "      background-color: #E2EBFA;\n",
              "      box-shadow: 0px 1px 2px rgba(60, 64, 67, 0.3), 0px 1px 3px 1px rgba(60, 64, 67, 0.15);\n",
              "      fill: #174EA6;\n",
              "    }\n",
              "\n",
              "    [theme=dark] .colab-df-convert {\n",
              "      background-color: #3B4455;\n",
              "      fill: #D2E3FC;\n",
              "    }\n",
              "\n",
              "    [theme=dark] .colab-df-convert:hover {\n",
              "      background-color: #434B5C;\n",
              "      box-shadow: 0px 1px 3px 1px rgba(0, 0, 0, 0.15);\n",
              "      filter: drop-shadow(0px 1px 2px rgba(0, 0, 0, 0.3));\n",
              "      fill: #FFFFFF;\n",
              "    }\n",
              "  </style>\n",
              "\n",
              "      <script>\n",
              "        const buttonEl =\n",
              "          document.querySelector('#df-80f836b4-84a6-4e22-86e5-96b26816e6e3 button.colab-df-convert');\n",
              "        buttonEl.style.display =\n",
              "          google.colab.kernel.accessAllowed ? 'block' : 'none';\n",
              "\n",
              "        async function convertToInteractive(key) {\n",
              "          const element = document.querySelector('#df-80f836b4-84a6-4e22-86e5-96b26816e6e3');\n",
              "          const dataTable =\n",
              "            await google.colab.kernel.invokeFunction('convertToInteractive',\n",
              "                                                     [key], {});\n",
              "          if (!dataTable) return;\n",
              "\n",
              "          const docLinkHtml = 'Like what you see? Visit the ' +\n",
              "            '<a target=\"_blank\" href=https://colab.research.google.com/notebooks/data_table.ipynb>data table notebook</a>'\n",
              "            + ' to learn more about interactive tables.';\n",
              "          element.innerHTML = '';\n",
              "          dataTable['output_type'] = 'display_data';\n",
              "          await google.colab.output.renderOutput(dataTable, element);\n",
              "          const docLink = document.createElement('div');\n",
              "          docLink.innerHTML = docLinkHtml;\n",
              "          element.appendChild(docLink);\n",
              "        }\n",
              "      </script>\n",
              "    </div>\n",
              "  </div>\n",
              "  "
            ]
          },
          "metadata": {},
          "execution_count": 92
        }
      ]
    },
    {
      "cell_type": "markdown",
      "metadata": {
        "id": "N7jf0mha2qo8"
      },
      "source": [
        "#### Plot and visualise a confusion matrix\n",
        "For this we will use the heatmap function from the seaborn library. You can compare the quality of the graph provided with and without seaborn."
      ]
    },
    {
      "cell_type": "code",
      "metadata": {
        "id": "fBut4Iru2qo8",
        "colab": {
          "base_uri": "https://localhost:8080/",
          "height": 265
        },
        "outputId": "8867fb95-eee4-4847-cddb-f4cc4b30923a"
      },
      "source": [
        "# there is an inbuilt confusion matrix method we can use\n",
        "conf=confusion_matrix(y_test, y_pred)\n",
        "plt.imshow(conf, cmap=\"YlGnBu\", interpolation='None')  # see more on colour maps - https://www.kite.com/python/docs/matplotlib.pyplot.colormaps\n",
        "plt.show()\n"
      ],
      "execution_count": null,
      "outputs": [
        {
          "output_type": "display_data",
          "data": {
            "text/plain": [
              "<Figure size 432x288 with 1 Axes>"
            ],
            "image/png": "[encoded data removed]"
          },
          "metadata": {
            "needs_background": "light"
          }
        }
      ]
    },
    {
      "cell_type": "code",
      "metadata": {
        "colab": {
          "base_uri": "https://localhost:8080/",
          "height": 290
        },
        "id": "rYEBl0AxaWjq",
        "outputId": "fdbaff75-3da7-467c-8b2a-40111b58ccdb"
      },
      "source": [
        "# or we can use a heatmap from the seaborn library\n",
        "import seaborn as sn\n",
        "df_cm = pd.DataFrame(conf, range(10), range(10))\n",
        "sn.set(font_scale=1.4)  # for label size\n",
        "sn.heatmap(df_cm, cmap=\"YlGnBu\", annot=True, annot_kws={\"size\": 16})  # font size"
      ],
      "execution_count": null,
      "outputs": [
        {
          "output_type": "execute_result",
          "data": {
            "text/plain": [
              "<matplotlib.axes._subplots.AxesSubplot at 0x7faa15dba190>"
            ]
          },
          "metadata": {},
          "execution_count": 89
        },
        {
          "output_type": "display_data",
          "data": {
            "text/plain": [
              "<Figure size 432x288 with 2 Axes>"
            ],
            "image/png": "[encoded data removed]"
          },
          "metadata": {}
        }
      ]
    },
    {
      "cell_type": "markdown",
      "metadata": {
        "id": "fC2pAdqa2qo8"
      },
      "source": [
        "### Working with other classifiers\n",
        "You can conduct a grid search with different classifiers from scikit-learn such as the SVM (support vector machine). \n",
        "\n",
        "SVM maps training data to points in space so as to maximise the gap between the different classes by finding an optimal boundary/hyperplane. New examples are then mapped into that same space and predicted to belong to a class based on which side of the boundary they fall.\n",
        "\n",
        "![SVM-classifier-scheme-a-Linear-and-b-nonlinear-cases.png](data:image/png;base64,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)\n",
        "\n",
        "Useful links to learn more about SVM:\n",
        "- [Support Vector Machines - scikit learn](http://scikit-learn.org/stable/modules/svm.html)\n",
        "- [Support Vector Machines Explained - Medium](https://medium.com/@zachary.bedell/support-vector-machines-explained-73f4ec363f13)\n",
        "- [Support-vector machine - Wikipedia](https://en.wikipedia.org/wiki/Support-vector_machine)"
      ]
    },
    {
      "cell_type": "code",
      "metadata": {
        "colab": {
          "base_uri": "https://localhost:8080/",
          "height": 336
        },
        "id": "AkrmdQZtji6H",
        "outputId": "16b9780f-0ac7-474c-8425-737922774bd1"
      },
      "source": [
        "# Visualisation on classifying data points that are not linearly separable using SVM.\n",
        "\n",
        "from IPython.display import HTML\n",
        "\n",
        "HTML('<iframe width=\"560\" height=\"315\" src=\"https://www.youtube.com/embed/OdlNM96sHio?start=3&end=45\" frameborder=\"0\" allow=\"accelerometer; autoplay; encrypted-media; gyroscope; picture-in-picture\" allowfullscreen></iframe>')"
      ],
      "execution_count": null,
      "outputs": [
        {
          "output_type": "execute_result",
          "data": {
            "text/plain": [
              "<IPython.core.display.HTML object>"
            ],
            "text/html": [
              "<iframe width=\"560\" height=\"315\" src=\"https://www.youtube.com/embed/OdlNM96sHio?start=3&end=45\" frameborder=\"0\" allow=\"accelerometer; autoplay; encrypted-media; gyroscope; picture-in-picture\" allowfullscreen></iframe>"
            ]
          },
          "metadata": {},
          "execution_count": 90
        }
      ]
    },
    {
      "cell_type": "markdown",
      "metadata": {
        "id": "be2Wu9Bfjej5"
      },
      "source": [
        "## <font color='red'>3.1 Exercise</font>: Parameter grid for SVM classifier\n",
        "\n",
        "Create a parameters' grid to apply `GridSearchCV` to the SVM classifier, SVC (Support Vector Classification) that we used earlier. Specify at least 2 options for each chosen parameter.\n",
        "\n",
        "You can read about this classifier and its parameters that you could apply grid search to here https://scikit-learn.org/stable/modules/generated/sklearn.svm.SVC.html#sklearn.svm.SVC"
      ]
    },
    {
      "cell_type": "code",
      "metadata": {
        "id": "p90xRFUT-IAZ"
      },
      "source": [
        "# SOLUTION 3.1\n",
        "svm_parameters = [\n",
        "    {\n",
        "        'kernel': ['rbf', 'linear'], \n",
        "        'gamma': [0.1, 0.7, 1e-3],\n",
        "        'C': [1, 10, 100]\n",
        "    }\n",
        "]"
      ],
      "execution_count": null,
      "outputs": []
    },
    {
      "cell_type": "markdown",
      "metadata": {
        "id": "tgGohJi8b03n"
      },
      "source": [
        "## <font color='red'>3.2 Exercise</font>: Find the best parameters for SVM classifier\n",
        "\n",
        "Conduct a grid search for the SVM classifier to determine the best parameter values using the MNIST sample dataset."
      ]
    },
    {
      "cell_type": "code",
      "metadata": {
        "colab": {
          "base_uri": "https://localhost:8080/"
        },
        "id": "_ykXC3Eu-TiV",
        "outputId": "90a50462-6ba6-45ac-b9f1-8f694b4c9870"
      },
      "source": [
        "X_train, X_test, y_train, y_test = train_test_split(X, y, test_size=0.3, random_state=seed)  # generate train and test data\n",
        "\n",
        "# SOLUTION 3.2\n",
        "\n",
        "print(\"Searching for best parameters - this will take a moment ...\")\n",
        "clf = GridSearchCV(SVC(), svm_parameters, cv=5, scoring='accuracy')\n",
        "clf.fit(X_train,y_train)\n",
        "print(\"Best parameters set found on validation:\")\n",
        "print(clf.best_params_)\n",
        "print(clf.best_score_)"
      ],
      "execution_count": null,
      "outputs": [
        {
          "output_type": "stream",
          "name": "stdout",
          "text": [
            "Searching for best parameters - this will take a moment ...\n",
            "Best parameters set found on validation:\n",
            "{'C': 1, 'gamma': 0.1, 'kernel': 'linear'}\n",
            "0.8685714285714287\n"
          ]
        }
      ]
    },
    {
      "cell_type": "markdown",
      "metadata": {
        "id": "DXeg4i4CdnQH"
      },
      "source": [
        "## <font color='red'>3.3 Exercise</font>: Classification report for the SVM classifier using the best parameters\n",
        "\n",
        "Generate a classification report of the SVM classifier's performance on the MNIST test dataset. Can you identify the digits that were most difficult for the classifier based on classification precision?"
      ]
    },
    {
      "cell_type": "code",
      "metadata": {
        "colab": {
          "base_uri": "https://localhost:8080/"
        },
        "id": "eTc9f_tIETfv",
        "outputId": "088b16ca-ec32-4cda-a808-a02e6690778f"
      },
      "source": [
        "# SOLUTION 3.3\n",
        "print(\"Predicting on the test set\")\n",
        "y_pred = clf.predict(X_test)\n",
        "\n",
        "print(\"Classification Report:\\n\")\n",
        "print(classification_report(y_test, y_pred, target_names=class_names))"
      ],
      "execution_count": null,
      "outputs": [
        {
          "output_type": "stream",
          "name": "stdout",
          "text": [
            "Predicting on the test set\n",
            "Classification Report:\n",
            "\n",
            "              precision    recall  f1-score   support\n",
            "\n",
            "           0       0.96      0.98      0.97        49\n",
            "           1       0.91      1.00      0.95        70\n",
            "           2       0.90      0.80      0.85        59\n",
            "           3       0.87      0.86      0.87        64\n",
            "           4       0.88      0.86      0.87        49\n",
            "           5       0.78      0.93      0.85        46\n",
            "           6       0.97      0.92      0.95        66\n",
            "           7       0.89      0.95      0.92        62\n",
            "           8       0.96      0.82      0.89        66\n",
            "           9       0.84      0.86      0.85        69\n",
            "\n",
            "    accuracy                           0.90       600\n",
            "   macro avg       0.90      0.90      0.90       600\n",
            "weighted avg       0.90      0.90      0.90       600\n",
            "\n"
          ]
        }
      ]
    }
  ]
}