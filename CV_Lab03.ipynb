{
  "nbformat": 4,
  "nbformat_minor": 0,
  "metadata": {
    "colab": {
      "provenance": [],
      "authorship_tag": "ABX9TyPxX0aNckZ7m0bsfkFSKk0/",
      "include_colab_link": true
    },
    "kernelspec": {
      "name": "python3",
      "display_name": "Python 3"
    },
    "language_info": {
      "name": "python"
    }
  },
  "cells": [
    {
      "cell_type": "markdown",
      "metadata": {
        "id": "view-in-github",
        "colab_type": "text"
      },
      "source": [
        "<a href=\"https://colab.research.google.com/github/bork0047/Data-Analysis/blob/main/CV_Lab03.ipynb\" target=\"_parent\"><img src=\"https://colab.research.google.com/assets/colab-badge.svg\" alt=\"Open In Colab\"/></a>"
      ]
    },
    {
      "cell_type": "code",
      "execution_count": null,
      "metadata": {
        "id": "8xZV0joX5_L5"
      },
      "outputs": [],
      "source": [
        "import tensorflow as tf\n",
        "from tensorflow import keras"
      ]
    },
    {
      "cell_type": "code",
      "source": [
        "#Loading and preparing the dataset Keras can be used to load the dataset in a simple way as can\n",
        "#be seen below\n",
        "\n",
        "fashion_mnist = keras.datasets.fashion_mnist\n",
        "(X_train_full,y_train_full),(X_test,y_test) = fashion_mnist.load_data()"
      ],
      "metadata": {
        "colab": {
          "base_uri": "https://localhost:8080/"
        },
        "id": "HJHqI9c37CCO",
        "outputId": "c29bf855-9a27-4945-8b78-e881a1c5b4b1"
      },
      "execution_count": null,
      "outputs": [
        {
          "output_type": "stream",
          "name": "stdout",
          "text": [
            "Downloading data from https://storage.googleapis.com/tensorflow/tf-keras-datasets/train-labels-idx1-ubyte.gz\n",
            "29515/29515 [==============================] - 0s 0us/step\n",
            "Downloading data from https://storage.googleapis.com/tensorflow/tf-keras-datasets/train-images-idx3-ubyte.gz\n",
            "26421880/26421880 [==============================] - 1s 0us/step\n",
            "Downloading data from https://storage.googleapis.com/tensorflow/tf-keras-datasets/t10k-labels-idx1-ubyte.gz\n",
            "5148/5148 [==============================] - 0s 0us/step\n",
            "Downloading data from https://storage.googleapis.com/tensorflow/tf-keras-datasets/t10k-images-idx3-ubyte.gz\n",
            "4422102/4422102 [==============================] - 0s 0us/step\n"
          ]
        }
      ]
    },
    {
      "cell_type": "code",
      "source": [
        "#dataset size\n",
        "X_train_full.shape"
      ],
      "metadata": {
        "colab": {
          "base_uri": "https://localhost:8080/"
        },
        "id": "4Qelqj_a7E13",
        "outputId": "93e90ec5-e211-4340-f2d6-573d332b8109"
      },
      "execution_count": null,
      "outputs": [
        {
          "output_type": "execute_result",
          "data": {
            "text/plain": [
              "(60000, 28, 28)"
            ]
          },
          "metadata": {},
          "execution_count": 3
        }
      ]
    },
    {
      "cell_type": "code",
      "source": [
        "X_test.shape"
      ],
      "metadata": {
        "colab": {
          "base_uri": "https://localhost:8080/"
        },
        "id": "aHf5Rz2L7bTg",
        "outputId": "ec3fcbe2-c239-4d5c-e6f9-1d385e3f7eea"
      },
      "execution_count": null,
      "outputs": [
        {
          "output_type": "execute_result",
          "data": {
            "text/plain": [
              "(10000, 28, 28)"
            ]
          },
          "metadata": {},
          "execution_count": 4
        }
      ]
    },
    {
      "cell_type": "code",
      "source": [
        "x_valid, X_train = X_train_full[:5000]/255.0, X_train_full[5000:]/255.0\n",
        "y_valid, y_train = y_train_full[:5000], y_train_full[5000:]"
      ],
      "metadata": {
        "id": "zb3i-2Mt7l5-"
      },
      "execution_count": null,
      "outputs": []
    },
    {
      "cell_type": "code",
      "source": [
        "x_valid.shape"
      ],
      "metadata": {
        "colab": {
          "base_uri": "https://localhost:8080/"
        },
        "id": "t3FXI5af7nlg",
        "outputId": "48ebb0d5-804f-4b38-8c2a-91a82de48d2d"
      },
      "execution_count": null,
      "outputs": [
        {
          "output_type": "execute_result",
          "data": {
            "text/plain": [
              "(5000, 28, 28)"
            ]
          },
          "metadata": {},
          "execution_count": 6
        }
      ]
    },
    {
      "cell_type": "code",
      "source": [
        "X_train.shape"
      ],
      "metadata": {
        "colab": {
          "base_uri": "https://localhost:8080/"
        },
        "id": "QuC6-qQL8ytQ",
        "outputId": "b38e4e7f-6b4d-463e-ec5b-e7c4ceb3c0f7"
      },
      "execution_count": null,
      "outputs": [
        {
          "output_type": "execute_result",
          "data": {
            "text/plain": [
              "(55000, 28, 28)"
            ]
          },
          "metadata": {},
          "execution_count": 7
        }
      ]
    },
    {
      "cell_type": "code",
      "source": [
        "#class names\n",
        "class_names = ['T-shirt/top','Trouser','Pullover','Dress','Coat','Sandal',\n",
        "'Shirt','Sneaker','Bag','Ankle boot']"
      ],
      "metadata": {
        "id": "Ou5ejlFA80V3"
      },
      "execution_count": null,
      "outputs": []
    },
    {
      "cell_type": "code",
      "source": [
        "#check the the class of the first 10 images\n",
        "for i in range(10):\n",
        "  print(f'The class of image {i} is {class_names[y_train[0]]}')"
      ],
      "metadata": {
        "colab": {
          "base_uri": "https://localhost:8080/"
        },
        "id": "LT_H4xCY88dB",
        "outputId": "6e4e904d-673d-4809-e526-d8050e03c79a"
      },
      "execution_count": null,
      "outputs": [
        {
          "output_type": "stream",
          "name": "stdout",
          "text": [
            "The class of image 0 is Coat\n",
            "The class of image 1 is Coat\n",
            "The class of image 2 is Coat\n",
            "The class of image 3 is Coat\n",
            "The class of image 4 is Coat\n",
            "The class of image 5 is Coat\n",
            "The class of image 6 is Coat\n",
            "The class of image 7 is Coat\n",
            "The class of image 8 is Coat\n",
            "The class of image 9 is Coat\n"
          ]
        }
      ]
    },
    {
      "cell_type": "code",
      "source": [
        "from matplotlib import pyplot\n",
        "#lets show some of these images\n",
        "for i in range(9):\n",
        "  pyplot.subplot(330 + 1 + i)\n",
        "  pyplot.imshow(X_train[i], cmap=pyplot.get_cmap('gray'))\n",
        "# show the figure"
      ],
      "metadata": {
        "colab": {
          "base_uri": "https://localhost:8080/",
          "height": 268
        },
        "id": "HSqRiuMA8-TA",
        "outputId": "062dc5db-35f4-455b-957e-c79c7681f1b0"
      },
      "execution_count": null,
      "outputs": [
        {
          "output_type": "display_data",
          "data": {
            "text/plain": [
              "<Figure size 432x288 with 9 Axes>"
            ],
            "image/png": "[encoded data removed]"
          },
          "metadata": {
            "needs_background": "light"
          }
        }
      ]
    },
    {
      "cell_type": "code",
      "source": [
        "pip install matplotlib"
      ],
      "metadata": {
        "colab": {
          "base_uri": "https://localhost:8080/"
        },
        "id": "cnvaViZN9AOx",
        "outputId": "66e80cf7-cf41-4607-9895-7554bec1ae92"
      },
      "execution_count": null,
      "outputs": [
        {
          "output_type": "stream",
          "name": "stdout",
          "text": [
            "Looking in indexes: https://pypi.org/simple, https://us-python.pkg.dev/colab-wheels/public/simple/\n",
            "Requirement already satisfied: matplotlib in /usr/local/lib/python3.8/dist-packages (3.2.2)\n",
            "Requirement already satisfied: numpy>=1.11 in /usr/local/lib/python3.8/dist-packages (from matplotlib) (1.21.6)\n",
            "Requirement already satisfied: cycler>=0.10 in /usr/local/lib/python3.8/dist-packages (from matplotlib) (0.11.0)\n",
            "Requirement already satisfied: pyparsing!=2.0.4,!=2.1.2,!=2.1.6,>=2.0.1 in /usr/local/lib/python3.8/dist-packages (from matplotlib) (3.0.9)\n",
            "Requirement already satisfied: python-dateutil>=2.1 in /usr/local/lib/python3.8/dist-packages (from matplotlib) (2.8.2)\n",
            "Requirement already satisfied: kiwisolver>=1.0.1 in /usr/local/lib/python3.8/dist-packages (from matplotlib) (1.4.4)\n",
            "Requirement already satisfied: six>=1.5 in /usr/local/lib/python3.8/dist-packages (from python-dateutil>=2.1->matplotlib) (1.15.0)\n"
          ]
        }
      ]
    },
    {
      "cell_type": "code",
      "source": [
        "#Build Neural Network\n",
        "# create a neural network model using keras\n",
        "model = keras.models.Sequential()\n",
        "# build the first layer, this is the input layer. Note, that flatten converts␣\n",
        "#↪→the 28 by 28 image into 1D array\n",
        "model.add(keras.layers.Flatten(input_shape=[28,28]))\n",
        "# add a hidden layer with 300 neurons\n",
        "model.add(keras.layers.Dense(300,activation='relu'))\n",
        "# add another hidden layer with 100 neurons\n",
        "model.add(keras.layers.Dense(100,activation='relu'))\n",
        "# add output layer (note we have 10 outputs representing 10 classes)\n",
        "model.add(keras.layers.Dense(10,activation='softmax'))"
      ],
      "metadata": {
        "id": "65k1KOSO9OkL"
      },
      "execution_count": null,
      "outputs": []
    },
    {
      "cell_type": "code",
      "source": [
        "model.summary()"
      ],
      "metadata": {
        "colab": {
          "base_uri": "https://localhost:8080/"
        },
        "id": "ueaSEnmf9UvD",
        "outputId": "e7fb7fa7-da5a-46a3-e0a8-9c4f362d6e21"
      },
      "execution_count": null,
      "outputs": [
        {
          "output_type": "stream",
          "name": "stdout",
          "text": [
            "Model: \"sequential\"\n",
            "_________________________________________________________________\n",
            " Layer (type)                Output Shape              Param #   \n",
            "=================================================================\n",
            " flatten (Flatten)           (None, 784)               0         \n",
            "                                                                 \n",
            " dense (Dense)               (None, 300)               235500    \n",
            "                                                                 \n",
            " dense_1 (Dense)             (None, 100)               30100     \n",
            "                                                                 \n",
            " dense_2 (Dense)             (None, 10)                1010      \n",
            "                                                                 \n",
            "=================================================================\n",
            "Total params: 266,610\n",
            "Trainable params: 266,610\n",
            "Non-trainable params: 0\n",
            "_________________________________________________________________\n"
          ]
        }
      ]
    },
    {
      "cell_type": "code",
      "source": [
        "#Recall, we said that the weights are ranomly initialised, you can check the weights using the\n",
        "#following function:\n",
        "weights, biases = model.layers[1].get_weights()"
      ],
      "metadata": {
        "id": "OKXa2h0H9aJt"
      },
      "execution_count": null,
      "outputs": []
    },
    {
      "cell_type": "code",
      "source": [
        "weights"
      ],
      "metadata": {
        "colab": {
          "base_uri": "https://localhost:8080/"
        },
        "id": "pacXoanZ9dgk",
        "outputId": "9aca35cc-d950-428b-cb09-ff2f929db4a3"
      },
      "execution_count": null,
      "outputs": [
        {
          "output_type": "execute_result",
          "data": {
            "text/plain": [
              "array([[-0.01184564, -0.0521188 ,  0.00449999, ...,  0.05489787,\n",
              "         0.00613366, -0.05665407],\n",
              "       [-0.03613075,  0.06792103,  0.02028327, ..., -0.06017597,\n",
              "         0.02008418, -0.00333282],\n",
              "       [-0.01397691,  0.01560771, -0.0387265 , ..., -0.05516262,\n",
              "         0.0186107 , -0.04429555],\n",
              "       ...,\n",
              "       [ 0.01028007,  0.03569818, -0.04514289, ..., -0.00832755,\n",
              "         0.0725956 ,  0.0675433 ],\n",
              "       [-0.00819533,  0.05695342,  0.06217869, ..., -0.05712921,\n",
              "         0.04777429, -0.0628488 ],\n",
              "       [ 0.00589979,  0.06193404,  0.05470832, ...,  0.02393784,\n",
              "        -0.05706892,  0.05716184]], dtype=float32)"
            ]
          },
          "metadata": {},
          "execution_count": 18
        }
      ]
    },
    {
      "cell_type": "code",
      "source": [
        "biases"
      ],
      "metadata": {
        "colab": {
          "base_uri": "https://localhost:8080/"
        },
        "id": "26cfH6hb9eYE",
        "outputId": "01ef3833-0f98-4916-aa0b-cf7ec7a3ffe2"
      },
      "execution_count": null,
      "outputs": [
        {
          "output_type": "execute_result",
          "data": {
            "text/plain": [
              "array([0., 0., 0., 0., 0., 0., 0., 0., 0., 0., 0., 0., 0., 0., 0., 0., 0.,\n",
              "       0., 0., 0., 0., 0., 0., 0., 0., 0., 0., 0., 0., 0., 0., 0., 0., 0.,\n",
              "       0., 0., 0., 0., 0., 0., 0., 0., 0., 0., 0., 0., 0., 0., 0., 0., 0.,\n",
              "       0., 0., 0., 0., 0., 0., 0., 0., 0., 0., 0., 0., 0., 0., 0., 0., 0.,\n",
              "       0., 0., 0., 0., 0., 0., 0., 0., 0., 0., 0., 0., 0., 0., 0., 0., 0.,\n",
              "       0., 0., 0., 0., 0., 0., 0., 0., 0., 0., 0., 0., 0., 0., 0., 0., 0.,\n",
              "       0., 0., 0., 0., 0., 0., 0., 0., 0., 0., 0., 0., 0., 0., 0., 0., 0.,\n",
              "       0., 0., 0., 0., 0., 0., 0., 0., 0., 0., 0., 0., 0., 0., 0., 0., 0.,\n",
              "       0., 0., 0., 0., 0., 0., 0., 0., 0., 0., 0., 0., 0., 0., 0., 0., 0.,\n",
              "       0., 0., 0., 0., 0., 0., 0., 0., 0., 0., 0., 0., 0., 0., 0., 0., 0.,\n",
              "       0., 0., 0., 0., 0., 0., 0., 0., 0., 0., 0., 0., 0., 0., 0., 0., 0.,\n",
              "       0., 0., 0., 0., 0., 0., 0., 0., 0., 0., 0., 0., 0., 0., 0., 0., 0.,\n",
              "       0., 0., 0., 0., 0., 0., 0., 0., 0., 0., 0., 0., 0., 0., 0., 0., 0.,\n",
              "       0., 0., 0., 0., 0., 0., 0., 0., 0., 0., 0., 0., 0., 0., 0., 0., 0.,\n",
              "       0., 0., 0., 0., 0., 0., 0., 0., 0., 0., 0., 0., 0., 0., 0., 0., 0.,\n",
              "       0., 0., 0., 0., 0., 0., 0., 0., 0., 0., 0., 0., 0., 0., 0., 0., 0.,\n",
              "       0., 0., 0., 0., 0., 0., 0., 0., 0., 0., 0., 0., 0., 0., 0., 0., 0.,\n",
              "       0., 0., 0., 0., 0., 0., 0., 0., 0., 0., 0.], dtype=float32)"
            ]
          },
          "metadata": {},
          "execution_count": 19
        }
      ]
    },
    {
      "cell_type": "code",
      "source": [
        "model.compile(loss = 'sparse_categorical_crossentropy',\n",
        "              optimizer='sgd',\n",
        "              metrics='accuracy')"
      ],
      "metadata": {
        "id": "MMWByfsZ9kT0"
      },
      "execution_count": null,
      "outputs": []
    },
    {
      "cell_type": "code",
      "source": [
        "#training\n",
        "history = model.fit(X_train, y_train, epochs=30,\n",
        "                    validation_data=(x_valid, y_valid))"
      ],
      "metadata": {
        "colab": {
          "base_uri": "https://localhost:8080/"
        },
        "id": "I_QK7Sv49rEd",
        "outputId": "65d293e9-cb62-4758-8ad6-9e89b969b1c7"
      },
      "execution_count": null,
      "outputs": [
        {
          "output_type": "stream",
          "name": "stdout",
          "text": [
            "Epoch 1/30\n",
            "1719/1719 [==============================] - 11s 6ms/step - loss: 0.7263 - accuracy: 0.7623 - val_loss: 0.5175 - val_accuracy: 0.8234\n",
            "Epoch 2/30\n",
            "1719/1719 [==============================] - 9s 5ms/step - loss: 0.4919 - accuracy: 0.8284 - val_loss: 0.4563 - val_accuracy: 0.8430\n",
            "Epoch 3/30\n",
            "1719/1719 [==============================] - 11s 6ms/step - loss: 0.4448 - accuracy: 0.8427 - val_loss: 0.4372 - val_accuracy: 0.8502\n",
            "Epoch 4/30\n",
            "1719/1719 [==============================] - 11s 6ms/step - loss: 0.4175 - accuracy: 0.8531 - val_loss: 0.4306 - val_accuracy: 0.8468\n",
            "Epoch 5/30\n",
            "1719/1719 [==============================] - 9s 5ms/step - loss: 0.3970 - accuracy: 0.8602 - val_loss: 0.3779 - val_accuracy: 0.8684\n",
            "Epoch 6/30\n",
            "1719/1719 [==============================] - 10s 6ms/step - loss: 0.3799 - accuracy: 0.8654 - val_loss: 0.3841 - val_accuracy: 0.8664\n",
            "Epoch 7/30\n",
            "1719/1719 [==============================] - 9s 6ms/step - loss: 0.3659 - accuracy: 0.8695 - val_loss: 0.3606 - val_accuracy: 0.8730\n",
            "Epoch 8/30\n",
            "1719/1719 [==============================] - 10s 6ms/step - loss: 0.3548 - accuracy: 0.8744 - val_loss: 0.3582 - val_accuracy: 0.8750\n",
            "Epoch 9/30\n",
            "1719/1719 [==============================] - 7s 4ms/step - loss: 0.3436 - accuracy: 0.8775 - val_loss: 0.3514 - val_accuracy: 0.8768\n",
            "Epoch 10/30\n",
            "1719/1719 [==============================] - 8s 5ms/step - loss: 0.3347 - accuracy: 0.8807 - val_loss: 0.3417 - val_accuracy: 0.8816\n",
            "Epoch 11/30\n",
            "1719/1719 [==============================] - 9s 5ms/step - loss: 0.3253 - accuracy: 0.8837 - val_loss: 0.3668 - val_accuracy: 0.8714\n",
            "Epoch 12/30\n",
            "1719/1719 [==============================] - 9s 5ms/step - loss: 0.3180 - accuracy: 0.8861 - val_loss: 0.3615 - val_accuracy: 0.8720\n",
            "Epoch 13/30\n",
            "1719/1719 [==============================] - 9s 5ms/step - loss: 0.3112 - accuracy: 0.8885 - val_loss: 0.3431 - val_accuracy: 0.8794\n",
            "Epoch 14/30\n",
            "1719/1719 [==============================] - 9s 5ms/step - loss: 0.3040 - accuracy: 0.8901 - val_loss: 0.3265 - val_accuracy: 0.8810\n",
            "Epoch 15/30\n",
            "1719/1719 [==============================] - 8s 4ms/step - loss: 0.2979 - accuracy: 0.8919 - val_loss: 0.3447 - val_accuracy: 0.8798\n",
            "Epoch 16/30\n",
            "1719/1719 [==============================] - 10s 6ms/step - loss: 0.2925 - accuracy: 0.8940 - val_loss: 0.3326 - val_accuracy: 0.8832\n",
            "Epoch 17/30\n",
            "1719/1719 [==============================] - 9s 5ms/step - loss: 0.2864 - accuracy: 0.8960 - val_loss: 0.3261 - val_accuracy: 0.8846\n",
            "Epoch 18/30\n",
            "1719/1719 [==============================] - 7s 4ms/step - loss: 0.2809 - accuracy: 0.8984 - val_loss: 0.3207 - val_accuracy: 0.8830\n",
            "Epoch 19/30\n",
            "1719/1719 [==============================] - 9s 5ms/step - loss: 0.2754 - accuracy: 0.9001 - val_loss: 0.3288 - val_accuracy: 0.8802\n",
            "Epoch 20/30\n",
            "1719/1719 [==============================] - 9s 5ms/step - loss: 0.2703 - accuracy: 0.9033 - val_loss: 0.3076 - val_accuracy: 0.8898\n",
            "Epoch 21/30\n",
            "1719/1719 [==============================] - 7s 4ms/step - loss: 0.2660 - accuracy: 0.9037 - val_loss: 0.3311 - val_accuracy: 0.8824\n",
            "Epoch 22/30\n",
            "1719/1719 [==============================] - 9s 5ms/step - loss: 0.2608 - accuracy: 0.9055 - val_loss: 0.3094 - val_accuracy: 0.8920\n",
            "Epoch 23/30\n",
            "1719/1719 [==============================] - 9s 5ms/step - loss: 0.2564 - accuracy: 0.9077 - val_loss: 0.3043 - val_accuracy: 0.8908\n",
            "Epoch 24/30\n",
            "1719/1719 [==============================] - 8s 5ms/step - loss: 0.2524 - accuracy: 0.9085 - val_loss: 0.2992 - val_accuracy: 0.8916\n",
            "Epoch 25/30\n",
            "1719/1719 [==============================] - 9s 5ms/step - loss: 0.2494 - accuracy: 0.9097 - val_loss: 0.3048 - val_accuracy: 0.8890\n",
            "Epoch 26/30\n",
            "1719/1719 [==============================] - 8s 5ms/step - loss: 0.2440 - accuracy: 0.9120 - val_loss: 0.3011 - val_accuracy: 0.8904\n",
            "Epoch 27/30\n",
            "1719/1719 [==============================] - 8s 5ms/step - loss: 0.2401 - accuracy: 0.9129 - val_loss: 0.3583 - val_accuracy: 0.8730\n",
            "Epoch 28/30\n",
            "1719/1719 [==============================] - 10s 6ms/step - loss: 0.2367 - accuracy: 0.9159 - val_loss: 0.3063 - val_accuracy: 0.8918\n",
            "Epoch 29/30\n",
            "1719/1719 [==============================] - 8s 4ms/step - loss: 0.2325 - accuracy: 0.9168 - val_loss: 0.3005 - val_accuracy: 0.8912\n",
            "Epoch 30/30\n",
            "1719/1719 [==============================] - 8s 5ms/step - loss: 0.2288 - accuracy: 0.9166 - val_loss: 0.3013 - val_accuracy: 0.8932\n"
          ]
        }
      ]
    },
    {
      "cell_type": "markdown",
      "source": [
        "Another thing to note is that we pass the validation set. You will notice that keras at each epoch\n",
        "during the training process display the number of instances processed, the mean training time per\n",
        "instance, and the loss and accuracy. A good model should show a decreasing loss value over time\n",
        "as well as increase in accuracy.\n",
        "The fit() function returns a History object that contains the training parameters (history.params),\n",
        "the list of epochs it went through (history.epoch), and a history dictionary (history.history) con-\n",
        "taining the loss and extra metrics. This is particularly useful to display the loss plots, and assess if\n",
        "the model is overfitting or not as can be seen below:"
      ],
      "metadata": {
        "id": "C4j2_zGg9z_V"
      }
    },
    {
      "cell_type": "code",
      "source": [
        "import pandas as pd\n",
        "import matplotlib.pyplot as plt"
      ],
      "metadata": {
        "id": "AqQFO2YE9ua1"
      },
      "execution_count": null,
      "outputs": []
    },
    {
      "cell_type": "code",
      "source": [
        "pd.DataFrame(history.history).plot(figsize=(12,8))\n",
        "plt.grid(True)\n",
        "plt.gca().set_ylim(0,1) # set the range between 0 to 1\n",
        "plt.show()"
      ],
      "metadata": {
        "colab": {
          "base_uri": "https://localhost:8080/",
          "height": 487
        },
        "id": "jRNC5GbQ98xX",
        "outputId": "bc4c16e0-7cc7-4c86-f471-5b06ab5fb0bf"
      },
      "execution_count": null,
      "outputs": [
        {
          "output_type": "display_data",
          "data": {
            "text/plain": [
              "<Figure size 864x576 with 1 Axes>"
            ],
            "image/png": "[encoded data removed]"
          },
          "metadata": {
            "needs_background": "light"
          }
        }
      ]
    },
    {
      "cell_type": "code",
      "source": [
        "# the function below returns accuracy and loss values of the model\n",
        "results = model.evaluate(X_test,y_test)"
      ],
      "metadata": {
        "colab": {
          "base_uri": "https://localhost:8080/"
        },
        "id": "iKkG0Kmy99H_",
        "outputId": "abaee5a3-f123-4424-f53c-b643ad9d675a"
      },
      "execution_count": null,
      "outputs": [
        {
          "output_type": "stream",
          "name": "stdout",
          "text": [
            "313/313 [==============================] - 2s 5ms/step - loss: 71.9405 - accuracy: 0.8350\n"
          ]
        }
      ]
    },
    {
      "cell_type": "code",
      "source": [
        "print(f'Accuracy of the Neural Network is {round(results[1],2)*100}%')"
      ],
      "metadata": {
        "colab": {
          "base_uri": "https://localhost:8080/"
        },
        "id": "RO61ZjB3BgnQ",
        "outputId": "2d595e32-09d8-4c8c-ad4b-cf5aface4736"
      },
      "execution_count": null,
      "outputs": [
        {
          "output_type": "stream",
          "name": "stdout",
          "text": [
            "Accuracy of the Neural Network is 83.0%\n"
          ]
        }
      ]
    },
    {
      "cell_type": "code",
      "source": [
        "# consider the first three imgaes in the testing set\n",
        "testing_images = X_test[:3]\n",
        "# use predict to classify the images above\n",
        "y_prob = model.predict(testing_images)\n",
        "y_prob.round(2)"
      ],
      "metadata": {
        "colab": {
          "base_uri": "https://localhost:8080/"
        },
        "id": "47ksSuL0BjLh",
        "outputId": "638fff62-a3b0-474b-d6f0-5dfa4d673164"
      },
      "execution_count": null,
      "outputs": [
        {
          "output_type": "stream",
          "name": "stdout",
          "text": [
            "1/1 [==============================] - 0s 104ms/step\n"
          ]
        },
        {
          "output_type": "execute_result",
          "data": {
            "text/plain": [
              "array([[0., 0., 0., 0., 0., 0., 0., 0., 0., 1.],\n",
              "       [0., 0., 1., 0., 0., 0., 0., 0., 0., 0.],\n",
              "       [0., 1., 0., 0., 0., 0., 0., 0., 0., 0.]], dtype=float32)"
            ]
          },
          "metadata": {},
          "execution_count": 26
        }
      ]
    },
    {
      "cell_type": "markdown",
      "source": [
        "If you look at the array above, you will notice that for each image the model estimates the proba-\n",
        "bility per class, from class 0 to 9 (recall, we have 10 different classes in our dataset):\n",
        "• The model estimates that the first image in the testing_images is of class 9\n",
        "• Similarly, the second image is of class 2 and so on\n",
        "Instead, and if you only want the class with the highest estimated probability, then you can use\n",
        "the predict_classes() method as follows:"
      ],
      "metadata": {
        "id": "osIewoMjBoYC"
      }
    },
    {
      "cell_type": "code",
      "source": [
        "import numpy as np\n",
        "y_pred = np.argmax(model.predict(testing_images), axis=-1)\n",
        "y_pred"
      ],
      "metadata": {
        "colab": {
          "base_uri": "https://localhost:8080/"
        },
        "id": "AtHdrBM_Bkiw",
        "outputId": "31a243b0-07a1-47cc-b437-32b7176947e8"
      },
      "execution_count": null,
      "outputs": [
        {
          "output_type": "stream",
          "name": "stdout",
          "text": [
            "1/1 [==============================] - 0s 48ms/step\n"
          ]
        },
        {
          "output_type": "execute_result",
          "data": {
            "text/plain": [
              "array([9, 2, 1])"
            ]
          },
          "metadata": {},
          "execution_count": 27
        }
      ]
    },
    {
      "cell_type": "code",
      "source": [
        "# Check the actual class names of the predicted test imgaes\n",
        "for i in range (len(testing_images)):\n",
        "  print (f'The class name of {y_pred[i]} is {class_names[y_pred[i]]}')"
      ],
      "metadata": {
        "colab": {
          "base_uri": "https://localhost:8080/"
        },
        "id": "coynXtrBBrY6",
        "outputId": "850fb12c-2026-4c1d-a9fa-66331aff90ba"
      },
      "execution_count": null,
      "outputs": [
        {
          "output_type": "stream",
          "name": "stdout",
          "text": [
            "The class name of 9 is Ankle boot\n",
            "The class name of 2 is Pullover\n",
            "The class name of 1 is Trouser\n"
          ]
        }
      ]
    },
    {
      "cell_type": "code",
      "source": [
        "# You can further verify this by visualising these testing images\n",
        "pyplot.imshow(testing_images[0], cmap=pyplot.get_cmap('gray'))"
      ],
      "metadata": {
        "colab": {
          "base_uri": "https://localhost:8080/",
          "height": 283
        },
        "id": "TRtY6pFLBuQq",
        "outputId": "ef8b49b8-a341-4ec4-e26b-f25286c41be1"
      },
      "execution_count": null,
      "outputs": [
        {
          "output_type": "execute_result",
          "data": {
            "text/plain": [
              "<matplotlib.image.AxesImage at 0x7fc977ebd4c0>"
            ]
          },
          "metadata": {},
          "execution_count": 29
        },
        {
          "output_type": "display_data",
          "data": {
            "text/plain": [
              "<Figure size 432x288 with 1 Axes>"
            ],
            "image/png": "[encoded data removed]"
          },
          "metadata": {
            "needs_background": "light"
          }
        }
      ]
    },
    {
      "cell_type": "code",
      "source": [
        "pyplot.imshow(testing_images[1], cmap=pyplot.get_cmap('gray'))"
      ],
      "metadata": {
        "colab": {
          "base_uri": "https://localhost:8080/",
          "height": 283
        },
        "id": "3zfYeh-OBwYp",
        "outputId": "3a02ae54-9b65-4e1e-bd6e-dad1ba1a4ea0"
      },
      "execution_count": null,
      "outputs": [
        {
          "output_type": "execute_result",
          "data": {
            "text/plain": [
              "<matplotlib.image.AxesImage at 0x7fc977ec6670>"
            ]
          },
          "metadata": {},
          "execution_count": 30
        },
        {
          "output_type": "display_data",
          "data": {
            "text/plain": [
              "<Figure size 432x288 with 1 Axes>"
            ],
            "image/png": "[encoded data removed]"
          },
          "metadata": {
            "needs_background": "light"
          }
        }
      ]
    },
    {
      "cell_type": "code",
      "source": [
        "pyplot.imshow(testing_images[2], cmap=pyplot.get_cmap('gray'))"
      ],
      "metadata": {
        "colab": {
          "base_uri": "https://localhost:8080/",
          "height": 283
        },
        "id": "m7c6thDbBywh",
        "outputId": "726f1b88-7f9f-4971-b0ae-5607f7e436b8"
      },
      "execution_count": null,
      "outputs": [
        {
          "output_type": "execute_result",
          "data": {
            "text/plain": [
              "<matplotlib.image.AxesImage at 0x7fc977e7aa90>"
            ]
          },
          "metadata": {},
          "execution_count": 31
        },
        {
          "output_type": "display_data",
          "data": {
            "text/plain": [
              "<Figure size 432x288 with 1 Axes>"
            ],
            "image/png": "[encoded data removed]"
          },
          "metadata": {
            "needs_background": "light"
          }
        }
      ]
    },
    {
      "cell_type": "code",
      "source": [],
      "metadata": {
        "id": "S-4LB5CxB0gK"
      },
      "execution_count": null,
      "outputs": []
    }
  ]
}