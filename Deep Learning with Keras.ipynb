{
  "nbformat": 4,
  "nbformat_minor": 0,
  "metadata": {
    "kernelspec": {
      "display_name": "Python 3",
      "language": "python",
      "name": "python3"
    },
    "language_info": {
      "codemirror_mode": {
        "name": "ipython",
        "version": 3
      },
      "file_extension": ".py",
      "mimetype": "text/x-python",
      "name": "python",
      "nbconvert_exporter": "python",
      "pygments_lexer": "ipython3",
      "version": "3.7.4"
    },
    "colab": {
      "provenance": [],
      "machine_shape": "hm",
      "include_colab_link": true
    }
  },
  "cells": [
    {
      "cell_type": "markdown",
      "metadata": {
        "id": "view-in-github",
        "colab_type": "text"
      },
      "source": [
        "<a href=\"https://colab.research.google.com/github/bork0047/Data-Analysis/blob/main/Deep%20Learning%20with%20Keras.ipynb\" target=\"_parent\"><img src=\"https://colab.research.google.com/assets/colab-badge.svg\" alt=\"Open In Colab\"/></a>"
      ]
    },
    {
      "cell_type": "markdown",
      "metadata": {
        "id": "GPY_r3PlFL0K"
      },
      "source": [
        "# Deep Learning with Keras\n",
        "\n",
        "In this notebook we will use keras libraries to create ANN and CNN models to classify MNIST digits. \n",
        "\n",
        "In Google Colab, you can set the runtime to use hardware acceleration with GPU when working on this notebook which will speed up training and testing models. "
      ]
    },
    {
      "cell_type": "code",
      "metadata": {
        "id": "E92K3mFVH2WK"
      },
      "source": [
        "import numpy as np\n",
        "import pandas as pd\n",
        "\n",
        "import tensorflow as tf\n",
        "from tensorflow.keras import optimizers\n",
        "from tensorflow.keras import losses\n",
        "\n",
        "from keras.datasets import mnist\n",
        "from keras.models import Sequential\n",
        "from keras.layers import Dense, Flatten, Activation, BatchNormalization\n",
        "from keras.utils import np_utils\n",
        "from keras.datasets import mnist\n",
        "\n",
        "from tensorflow.keras.utils import to_categorical\n",
        "\n",
        "from sklearn.metrics import f1_score, precision_score, recall_score"
      ],
      "execution_count": null,
      "outputs": []
    },
    {
      "cell_type": "code",
      "metadata": {
        "id": "oOZle_alH2WZ"
      },
      "source": [
        "np.random.seed(1) #for reproducibility"
      ],
      "execution_count": null,
      "outputs": []
    },
    {
      "cell_type": "markdown",
      "metadata": {
        "id": "MRJCZxh6H2Wa"
      },
      "source": [
        "Read the MNIST dataset using Keras's load_data method\n",
        "\n",
        "We also need to one-hot encoded labels for Y_train and Y_test. In one-hot encoding an integer is converted to an array which contains only one ‘1’ and the rest elements are ‘0’. We do that using keras.utils.to_categorical"
      ]
    },
    {
      "cell_type": "code",
      "metadata": {
        "id": "dAGB-ZFxH2Wg",
        "colab": {
          "base_uri": "https://localhost:8080/"
        },
        "outputId": "e46df316-7983-493e-cad6-577c605cf6ec"
      },
      "source": [
        "num_classes = 10\n",
        "(X_train, y_train), (X_test, y_test) = mnist.load_data()\n",
        "\n",
        "# convert class labels to binary class one-hot-encoded vectors\n",
        "y_train_ohe = to_categorical(y_train, num_classes)\n",
        "y_test_ohe = to_categorical(y_test, num_classes)"
      ],
      "execution_count": null,
      "outputs": [
        {
          "output_type": "stream",
          "name": "stdout",
          "text": [
            "Downloading data from https://storage.googleapis.com/tensorflow/tf-keras-datasets/mnist.npz\n",
            "11493376/11490434 [==============================] - 0s 0us/step\n",
            "11501568/11490434 [==============================] - 0s 0us/step\n"
          ]
        }
      ]
    },
    {
      "cell_type": "code",
      "metadata": {
        "colab": {
          "base_uri": "https://localhost:8080/"
        },
        "id": "NAXNNY8Iv3vV",
        "outputId": "85e27025-e9e7-484b-d4e1-ab1f2662fd0a"
      },
      "source": [
        "# check data shapes\n",
        "print('Shape of the training data: ', X_train.shape)\n",
        "print('Shape of the test data: ', X_test.shape)"
      ],
      "execution_count": null,
      "outputs": [
        {
          "output_type": "stream",
          "name": "stdout",
          "text": [
            "Shape of the training data:  (60000, 28, 28)\n",
            "Shape of the test data:  (10000, 28, 28)\n"
          ]
        }
      ]
    },
    {
      "cell_type": "code",
      "metadata": {
        "id": "ESlueDtXwcUd"
      },
      "source": [
        "#convert to float before normalising\n",
        "X_train = X_train.astype('float32')\n",
        "X_test = X_test.astype('float32')"
      ],
      "execution_count": null,
      "outputs": []
    },
    {
      "cell_type": "code",
      "metadata": {
        "colab": {
          "base_uri": "https://localhost:8080/"
        },
        "id": "wr-Qfn-iwJDI",
        "outputId": "cc9eb82c-7d10-45f5-997d-d2b3dd463802"
      },
      "source": [
        "# check data values\n",
        "print('Max value: ', max(X_train.flatten()))\n",
        "print('Min value: ', min(X_test.flatten()))"
      ],
      "execution_count": null,
      "outputs": [
        {
          "output_type": "stream",
          "name": "stdout",
          "text": [
            "Max value:  255.0\n",
            "Min value:  0.0\n"
          ]
        }
      ]
    },
    {
      "cell_type": "code",
      "metadata": {
        "id": "CAhSGhJTH2Wh"
      },
      "source": [
        "# normalise by dividing by (max-min) i.e. (255-0)\n",
        "X_train/=255\n",
        "X_test/=255"
      ],
      "execution_count": null,
      "outputs": []
    },
    {
      "cell_type": "code",
      "metadata": {
        "colab": {
          "base_uri": "https://localhost:8080/"
        },
        "id": "mRmPEz2lH2Wj",
        "outputId": "36d503e4-22df-4516-88b8-8c14351b213e"
      },
      "source": [
        "print('Example of a y label convereted to one-hot-encoding:', y_train_ohe[2])"
      ],
      "execution_count": null,
      "outputs": [
        {
          "output_type": "stream",
          "name": "stdout",
          "text": [
            "Example of a y label convereted to one-hot-encoding: [0. 0. 0. 0. 1. 0. 0. 0. 0. 0.]\n"
          ]
        }
      ]
    },
    {
      "cell_type": "markdown",
      "metadata": {
        "id": "Zvqk8SPnH2Wm"
      },
      "source": [
        "# MNIST ANN\n",
        "We will now use Keras to build a basic fully connected ANN. \n",
        "We create a sequential model\n",
        "\n",
        "Firstly the input shape which as 2-dimensional representation of the pixels i.e. 28x28 needs to be flattened.\n",
        "We achieve this by adding a Flatten layer.\n",
        "Thereafeter we add dense layers followed by activation layers. \n",
        "Apart from the input first Dense layer ; all other layers need only specify the number of neurons / hidden units to be included in a given hidden layer. That number automatically becomes input to the next layer."
      ]
    },
    {
      "cell_type": "code",
      "metadata": {
        "id": "9j28AQssH2Wo"
      },
      "source": [
        "model = Sequential()\n",
        "\n",
        "model.add(Flatten(input_shape=(28, 28)))\n",
        "\n",
        "model.add (Dense ( input_dim=28*28, units = 512))\n",
        "\n",
        "model.add ( Activation('sigmoid'))\n",
        "\n",
        "model.add (Dense ( units = 128))\n",
        "\n",
        "model.add ( Activation('sigmoid'))\n",
        "\n",
        "model.add (Dense ( units = 10))\n",
        "\n",
        "model.add ( Activation('softmax'))"
      ],
      "execution_count": null,
      "outputs": []
    },
    {
      "cell_type": "markdown",
      "metadata": {
        "id": "zFD7hmp-w258"
      },
      "source": [
        "View the model summary, notice the number of parameters in the model."
      ]
    },
    {
      "cell_type": "code",
      "metadata": {
        "colab": {
          "base_uri": "https://localhost:8080/"
        },
        "id": "heaiW9ImH2Wr",
        "outputId": "b8d7e096-d9fd-4e9b-8e2c-8070d9c5fce6"
      },
      "source": [
        "model.summary()"
      ],
      "execution_count": null,
      "outputs": [
        {
          "output_type": "stream",
          "name": "stdout",
          "text": [
            "Model: \"sequential_13\"\n",
            "_________________________________________________________________\n",
            " Layer (type)                Output Shape              Param #   \n",
            "=================================================================\n",
            " flatten_13 (Flatten)        (None, 784)               0         \n",
            "                                                                 \n",
            " dense_37 (Dense)            (None, 512)               401920    \n",
            "                                                                 \n",
            " activation_41 (Activation)  (None, 512)               0         \n",
            "                                                                 \n",
            " dense_38 (Dense)            (None, 128)               65664     \n",
            "                                                                 \n",
            " activation_42 (Activation)  (None, 128)               0         \n",
            "                                                                 \n",
            " dense_39 (Dense)            (None, 10)                1290      \n",
            "                                                                 \n",
            " activation_43 (Activation)  (None, 10)                0         \n",
            "                                                                 \n",
            "=================================================================\n",
            "Total params: 468,874\n",
            "Trainable params: 468,874\n",
            "Non-trainable params: 0\n",
            "_________________________________________________________________\n"
          ]
        }
      ]
    },
    {
      "cell_type": "markdown",
      "metadata": {
        "id": "jSkrv3O2H2Wt"
      },
      "source": [
        "Choose the optimiser for the network weight update strategy and then compile it."
      ]
    },
    {
      "cell_type": "code",
      "metadata": {
        "id": "h_ibrc2UH2Wv"
      },
      "source": [
        "# pass optimizer by name: default parameters will be used\n",
        "sgd_opt = optimizers.SGD(learning_rate=0.01)\n",
        "# loss: mean squared error \n",
        "mse_loss = losses.mean_squared_error\n",
        "#specify the loss function and the metric for evaluation\n",
        "model.compile(loss=mse_loss, optimizer=sgd_opt, metrics=['accuracy'])"
      ],
      "execution_count": null,
      "outputs": []
    },
    {
      "cell_type": "markdown",
      "metadata": {
        "id": "zSb3lGAnxa_n"
      },
      "source": [
        "Train the ANN model for 10 epochs"
      ]
    },
    {
      "cell_type": "code",
      "metadata": {
        "colab": {
          "base_uri": "https://localhost:8080/"
        },
        "id": "C0vwrqtfH2Ww",
        "outputId": "58965f64-72e7-4320-aad2-ab790185ca88"
      },
      "source": [
        "model.fit(X_train, y_train_ohe, batch_size=128, epochs=10)"
      ],
      "execution_count": null,
      "outputs": [
        {
          "output_type": "stream",
          "name": "stdout",
          "text": [
            "Epoch 1/10\n",
            "469/469 [==============================] - 1s 2ms/step - loss: 0.0924 - accuracy: 0.1246\n",
            "Epoch 2/10\n",
            "469/469 [==============================] - 1s 2ms/step - loss: 0.0912 - accuracy: 0.1179\n",
            "Epoch 3/10\n",
            "469/469 [==============================] - 1s 2ms/step - loss: 0.0906 - accuracy: 0.1379\n",
            "Epoch 4/10\n",
            "469/469 [==============================] - 1s 2ms/step - loss: 0.0904 - accuracy: 0.1348\n",
            "Epoch 5/10\n",
            "469/469 [==============================] - 1s 2ms/step - loss: 0.0902 - accuracy: 0.1299\n",
            "Epoch 6/10\n",
            "469/469 [==============================] - 1s 2ms/step - loss: 0.0900 - accuracy: 0.1298\n",
            "Epoch 7/10\n",
            "469/469 [==============================] - 1s 2ms/step - loss: 0.0899 - accuracy: 0.1289\n",
            "Epoch 8/10\n",
            "469/469 [==============================] - 1s 2ms/step - loss: 0.0898 - accuracy: 0.1300\n",
            "Epoch 9/10\n",
            "469/469 [==============================] - 1s 2ms/step - loss: 0.0898 - accuracy: 0.1390\n",
            "Epoch 10/10\n",
            "469/469 [==============================] - 1s 2ms/step - loss: 0.0897 - accuracy: 0.1309\n"
          ]
        },
        {
          "output_type": "execute_result",
          "data": {
            "text/plain": [
              "<keras.callbacks.History at 0x7f68f56febd0>"
            ]
          },
          "metadata": {},
          "execution_count": 102
        }
      ]
    },
    {
      "cell_type": "markdown",
      "metadata": {
        "id": "OxXyfxahxi_V"
      },
      "source": [
        "Test the model accuracy on the test set"
      ]
    },
    {
      "cell_type": "code",
      "metadata": {
        "id": "6xlCQEJ1H2Wx",
        "colab": {
          "base_uri": "https://localhost:8080/"
        },
        "outputId": "5a8ffc23-d349-4dc1-b5a4-cbbbfd73d63e"
      },
      "source": [
        "score = model.evaluate(X_test, y_test_ohe)\n",
        "print('Total loss on test set: ', score[0])\n",
        "print('Total accuracy on test set: ', score[1])"
      ],
      "execution_count": null,
      "outputs": [
        {
          "output_type": "stream",
          "name": "stdout",
          "text": [
            "313/313 [==============================] - 1s 2ms/step - loss: 0.0897 - accuracy: 0.1377\n",
            "Total loss on test set:  0.08965911716222763\n",
            "Total accuracy on test set:  0.13770000636577606\n"
          ]
        }
      ]
    },
    {
      "cell_type": "markdown",
      "metadata": {
        "id": "cKqNJTAEzlCD"
      },
      "source": [
        "Get output for each individual test instances"
      ]
    },
    {
      "cell_type": "code",
      "metadata": {
        "id": "yBwMoIh_H2Wy",
        "colab": {
          "base_uri": "https://localhost:8080/"
        },
        "outputId": "e374418e-317a-4630-9cab-190c7e9ad08d"
      },
      "source": [
        "predicted_labels_ohe = model.predict(X_test)\n",
        "print(predicted_labels_ohe.shape)"
      ],
      "execution_count": null,
      "outputs": [
        {
          "output_type": "stream",
          "name": "stdout",
          "text": [
            "(10000, 10)\n"
          ]
        }
      ]
    },
    {
      "cell_type": "markdown",
      "metadata": {
        "id": "IhqO9b4ozovn"
      },
      "source": [
        "Use predicted labels to calculate other performance metrics"
      ]
    },
    {
      "cell_type": "code",
      "metadata": {
        "colab": {
          "base_uri": "https://localhost:8080/"
        },
        "id": "C30700bAzjP1",
        "outputId": "e7987bd9-7ac1-4ad4-87f0-d5e8d4be36df"
      },
      "source": [
        "# revert one-hot-encodings to labels\n",
        "predicted_labels = np.argmax(predicted_labels_ohe, axis=1)\n",
        "print(predicted_labels.shape)\n",
        "\n",
        "print('Precision score: ', precision_score(y_test, predicted_labels, average='macro'))\n",
        "print('Recall score', recall_score(y_test, predicted_labels, average='macro'))\n",
        "print('F1 score', f1_score(y_test, predicted_labels, average='macro'))"
      ],
      "execution_count": null,
      "outputs": [
        {
          "output_type": "stream",
          "name": "stdout",
          "text": [
            "(10000,)\n",
            "Precision score:  0.13184557014217546\n",
            "Recall score 0.12472374240017117\n",
            "F1 score 0.06258870415630886\n"
          ]
        },
        {
          "output_type": "stream",
          "name": "stderr",
          "text": [
            "/usr/local/lib/python3.7/dist-packages/sklearn/metrics/_classification.py:1308: UndefinedMetricWarning: Precision is ill-defined and being set to 0.0 in labels with no predicted samples. Use `zero_division` parameter to control this behavior.\n",
            "  _warn_prf(average, modifier, msg_start, len(result))\n"
          ]
        }
      ]
    },
    {
      "cell_type": "markdown",
      "metadata": {
        "id": "nlpqEQLMH2Wz"
      },
      "source": [
        "# Exercise \n",
        "Consider how you might improve the accuracy of the basic neural network for MNIST.\n",
        "- try a different loss functions such as categorical_crossentropy (see https://keras.io/losses/#available-loss-functions)\n",
        "which is known to work better with the softmax layer than does the mean squared error loss. The cross-entropy loss calculates the error rate between the predicted value and the original value. The formula for calculating cross-entropy loss is given here https://en.wikipedia.org/wiki/Cross_entropy. Categorical is used because there are 10 classes to predict from. If there were 2 classes, we would have used binary_crossentropy.\n",
        "\n",
        "> Indented block\n",
        "\n",
        "\n",
        "- try different optimizers such as Adam and RMSprop (see https://keras.io/optimizers/). For instance the Adam optimizer is an improvement over SGD(Stochastic Gradient Descent). The optimizer is responsible for updating the weights of the neurons via backpropagation. It calculates the derivative of the loss function with respect to each weight and subtracts it from the weight. \n",
        "- try different activation functions such as relu or tanh (see https://keras.io/activations/#available-activations).\n",
        "- try increasing the number of hidden layers and hidden units. However the more complex the network the longer it takes for training. \n",
        "- try adding regularisation methods like Batch Normalisation or Dropout. \n",
        "\n",
        "Which architecture resulted in the highest test accuracy?\n"
      ]
    },
    {
      "cell_type": "markdown",
      "metadata": {
        "id": "aJ_McXgRHKOd"
      },
      "source": [
        "### Categorical Cross-entropy Loss"
      ]
    },
    {
      "cell_type": "code",
      "metadata": {
        "id": "Oj-ntekiHidz"
      },
      "source": [
        "model.fit()"
      ],
      "execution_count": null,
      "outputs": []
    },
    {
      "cell_type": "markdown",
      "metadata": {
        "id": "eQawOvGmHOEn"
      },
      "source": [
        "### Adam Optimiser\n",
        "\n",
        "\n"
      ]
    },
    {
      "cell_type": "code",
      "metadata": {
        "id": "lVNwni4cHi3o"
      },
      "source": [],
      "execution_count": null,
      "outputs": []
    },
    {
      "cell_type": "markdown",
      "metadata": {
        "id": "VWQaMNk7HORi"
      },
      "source": [
        "### RMSprop Optimiser"
      ]
    },
    {
      "cell_type": "code",
      "metadata": {
        "id": "NAk-h2w9HjXW"
      },
      "source": [],
      "execution_count": null,
      "outputs": []
    },
    {
      "cell_type": "markdown",
      "metadata": {
        "id": "nNEd13wqHZpD"
      },
      "source": [
        "### Activation Functions: Relu and Tanh"
      ]
    },
    {
      "cell_type": "code",
      "metadata": {
        "id": "SW9EFvrBHjyJ"
      },
      "source": [],
      "execution_count": null,
      "outputs": []
    },
    {
      "cell_type": "code",
      "metadata": {
        "id": "Gpv1NlCPHj6v",
        "colab": {
          "base_uri": "https://localhost:8080/"
        },
        "outputId": "10a36eeb-1ac0-4641-95f6-43feaac32a1c"
      },
      "source": [
        "model = Sequential()\n",
        "model.add(Flatten(input_shape=(28, 28)))\n",
        "model.add (Dense ( input_dim=28*28, units = 512))\n",
        "model.add ( Activation('relu'))\n",
        "model.add (Dense ( units = 128))\n",
        "model.add ( Activation('relu'))\n",
        "model.add (Dense ( units = 10))\n",
        "model.add ( Activation('softmax'))\n",
        "\n",
        "# pass optimizer by name: default parameters will be used\n",
        "adam_opt = optimizers.Adam()\n",
        "# loss: mean squared error \n",
        "cce_loss = losses.categorical_crossentropy\n",
        "#specify the loss function and the metric for evaluation\n",
        "model.compile(loss=cce_loss, optimizer=adam_opt, metrics=['accuracy'])\n",
        "\n",
        "model.fit(X_train, y_train_ohe, batch_size=128, epochs=10)"
      ],
      "execution_count": null,
      "outputs": [
        {
          "output_type": "stream",
          "name": "stdout",
          "text": [
            "Epoch 1/10\n",
            "469/469 [==============================] - 5s 5ms/step - loss: 0.2340 - accuracy: 0.9331\n",
            "Epoch 2/10\n",
            "469/469 [==============================] - 2s 4ms/step - loss: 0.0877 - accuracy: 0.9735\n",
            "Epoch 3/10\n",
            "469/469 [==============================] - 2s 4ms/step - loss: 0.0550 - accuracy: 0.9825\n",
            "Epoch 4/10\n",
            "469/469 [==============================] - 2s 5ms/step - loss: 0.0399 - accuracy: 0.9871\n",
            "Epoch 5/10\n",
            "469/469 [==============================] - 2s 5ms/step - loss: 0.0287 - accuracy: 0.9909\n",
            "Epoch 6/10\n",
            "469/469 [==============================] - 2s 4ms/step - loss: 0.0211 - accuracy: 0.9931\n",
            "Epoch 7/10\n",
            "469/469 [==============================] - 2s 4ms/step - loss: 0.0172 - accuracy: 0.9944\n",
            "Epoch 8/10\n",
            "469/469 [==============================] - 2s 4ms/step - loss: 0.0134 - accuracy: 0.9958\n",
            "Epoch 9/10\n",
            "469/469 [==============================] - 2s 4ms/step - loss: 0.0138 - accuracy: 0.9956\n",
            "Epoch 10/10\n",
            "469/469 [==============================] - 2s 4ms/step - loss: 0.0118 - accuracy: 0.9963\n"
          ]
        },
        {
          "output_type": "execute_result",
          "data": {
            "text/plain": [
              "<keras.callbacks.History at 0x7f54b068f710>"
            ]
          },
          "metadata": {},
          "execution_count": 10
        }
      ]
    },
    {
      "cell_type": "code",
      "metadata": {
        "colab": {
          "base_uri": "https://localhost:8080/"
        },
        "id": "QFx6MIWtk2Uq",
        "outputId": "66e602d6-0a82-47de-aa11-69432c80cba2"
      },
      "source": [
        "score = model.evaluate(X_test, y_test_ohe)\n",
        "print('Total loss on test set: ', score[0])\n",
        "print('Total accuracy on test set: ', score[1])"
      ],
      "execution_count": null,
      "outputs": [
        {
          "output_type": "stream",
          "name": "stdout",
          "text": [
            "313/313 [==============================] - 1s 4ms/step - loss: 0.0978 - accuracy: 0.9763\n",
            "Total loss on test set:  0.09775944799184799\n",
            "Total accuracy on test set:  0.9763000011444092\n"
          ]
        }
      ]
    },
    {
      "cell_type": "markdown",
      "metadata": {
        "id": "40cMXSVLHeUB"
      },
      "source": [
        "### Add more hidden layers and hidden units"
      ]
    },
    {
      "cell_type": "code",
      "metadata": {
        "id": "c0zaQddWHltv"
      },
      "source": [],
      "execution_count": null,
      "outputs": []
    },
    {
      "cell_type": "code",
      "metadata": {
        "id": "cJpdvsMbHlwP"
      },
      "source": [],
      "execution_count": null,
      "outputs": []
    },
    {
      "cell_type": "markdown",
      "metadata": {
        "id": "ilKB1QZqH2W7"
      },
      "source": [
        "# CNN for MNIST\n",
        "Next we look at how to use the CNN implmentation of Keras on the MNIST data. \n",
        "\n",
        "Here we need to reshape our data such that we maintain the 2-dimensional 28x28 representation; instead of having to  flattening it as we did for the basic ANN above. Because we are using only a grey scale representation we will need to also set the number of channels as 1 (instead of say 3 in case we used a RGB input). \n",
        "\n",
        "Now the shape of X_train is (60000, 28, 28, 1). \n",
        "Remember we’ve already rescaled the image data so that each pixel lies in the interval [0, 1] instead of [0, 255]. It is always a good idea to normalize the input so that each dimension has approximately the same scale."
      ]
    },
    {
      "cell_type": "code",
      "metadata": {
        "id": "X69idhV6H2W8",
        "colab": {
          "base_uri": "https://localhost:8080/"
        },
        "outputId": "84bab9df-2f5f-4ec1-89f6-4caac0842f57"
      },
      "source": [
        "print(\"X_train original shape\", X_train.shape)\n",
        "print(\"y_train original shape\", y_train.shape)\n",
        "print(\"X_test original shape\", X_test.shape)\n",
        "print(\"y_test original shape\", y_test.shape)"
      ],
      "execution_count": null,
      "outputs": [
        {
          "output_type": "stream",
          "name": "stdout",
          "text": [
            "X_train original shape (60000, 28, 28)\n",
            "y_train original shape (60000,)\n",
            "X_test original shape (10000, 28, 28)\n",
            "y_test original shape (10000,)\n"
          ]
        }
      ]
    },
    {
      "cell_type": "code",
      "metadata": {
        "id": "xU8RLs6CH2W9",
        "colab": {
          "base_uri": "https://localhost:8080/"
        },
        "outputId": "54967d48-724d-42d8-abe5-59cd5d7ddef2"
      },
      "source": [
        "X_train = X_train.reshape(X_train.shape[0], 28, 28, 1)\n",
        "X_test = X_test.reshape(X_test.shape[0], 28, 28, 1)\n",
        "\n",
        "X_train.shape"
      ],
      "execution_count": null,
      "outputs": [
        {
          "output_type": "execute_result",
          "data": {
            "text/plain": [
              "(60000, 28, 28, 1)"
            ]
          },
          "metadata": {},
          "execution_count": 13
        }
      ]
    },
    {
      "cell_type": "markdown",
      "metadata": {
        "id": "orrRY2Cp7dXB"
      },
      "source": [
        "Import 2D convolutional layers needed to create the CNN architecture"
      ]
    },
    {
      "cell_type": "code",
      "metadata": {
        "id": "W1fXz0yQH2W-"
      },
      "source": [
        "from keras.layers import Conv2D, MaxPooling2D"
      ],
      "execution_count": null,
      "outputs": []
    },
    {
      "cell_type": "markdown",
      "metadata": {
        "id": "CuKSMT5C5Bj2"
      },
      "source": [
        "Three steps to create a CNN\n",
        "1. Convolution\n",
        "2. Activation\n",
        "3. Pooling\n",
        "\n",
        "Repeat Steps 1,2,3 for adding more hidden blocks \n",
        "\n",
        "After that make a fully connected network. This fully connected network gives classification ability to the CNN\n",
        "\n",
        "Keras allows us to specify the number of filters we want and the size of the filters. So, in our first layer, 32 is number of filters and (3, 3) is the size of the filter. We also need to specify the shape of the input which is (28, 28, 1), but we have to specify it only once.\n",
        "\n",
        "The next layer is the Activation layer. We have used ReLU (rectified linear unit) as our activation function. ReLU function is f(x) = max(0, x), where x is the input. It sets all negative values in the matrix ‘x’ to 0 and keeps all the other values constant. It is the most used activation function since it reduces training time and prevents the problem of vanishing gradients.\n",
        "\n",
        "It’s a best practice to always do BatchNormalization. BatchNormalization normalizes the matrix after it is been through a convolution layer so that the scale of each dimension remains the same. It reduces the training time significantly.\n",
        "\n",
        "The next layer is the MaxPooling layer. MaxPooling layer is used to down-sample the input to enable the model to make assumptions about the features so as to reduce over-fitting. It also reduces the number of parameters to learn, reducing the training time.\n",
        "\n",
        "After creating all the convolutional layers, we need to flatten them, so that they can act as an input to the Dense layers.\n",
        "\n",
        "Dense layers are keras’s alias for Fully connected layers. These layers give the ability to classify the features learned by the CNN.\n",
        "\n",
        "The second last layer is the Dense layer with 10 neurons. The neurons in this layer should be equal to the number of classes we want to predict as this is the output layer.\n",
        "\n",
        "The last layer is the Softmax Activation layer. Softmax activation enables us to calculate the output based on the probabilities. Each class is assigned a probability and the class with the maximum probability is the model’s output for the input."
      ]
    },
    {
      "cell_type": "code",
      "metadata": {
        "id": "DXWbhEmUH2W_"
      },
      "source": [
        "model_cnn = Sequential()\n",
        "#Convolutional layers\n",
        "model_cnn.add(Conv2D(32, (5, 5), input_shape=(28,28,1), activation='relu'))\n",
        "model_cnn.add(BatchNormalization())\n",
        "model_cnn.add(MaxPooling2D(pool_size=(3,3)))\n",
        "model_cnn.add(Conv2D(64, (5,5), activation='relu'))\n",
        "model_cnn.add(BatchNormalization())\n",
        "model_cnn.add(MaxPooling2D(pool_size=(3,3)))\n",
        "model_cnn.add(Flatten())\n",
        "# Fully connected layer\n",
        "model_cnn.add(Dense(32, activation='relu'))\n",
        "model_cnn.add(BatchNormalization())\n",
        "model_cnn.add(Dense(10, activation='softmax'))\n",
        "model_cnn.add(Activation('softmax'))\n",
        "\n",
        "model_cnn.compile(loss='categorical_crossentropy', optimizer='adam', \n",
        "                  metrics=['accuracy'])"
      ],
      "execution_count": null,
      "outputs": []
    },
    {
      "cell_type": "markdown",
      "metadata": {
        "id": "y2NE49NF87ac"
      },
      "source": [
        "View model summary. Note the amount of parameters in the CNN model and how it compares to the ANN model we created earlier."
      ]
    },
    {
      "cell_type": "code",
      "metadata": {
        "id": "KPBqxVjB-ZbM"
      },
      "source": [],
      "execution_count": null,
      "outputs": []
    },
    {
      "cell_type": "code",
      "metadata": {
        "id": "D0x4NIeVH2W_",
        "colab": {
          "base_uri": "https://localhost:8080/"
        },
        "outputId": "f0b59fb9-7a71-436c-a05d-98db0aabdac5"
      },
      "source": [
        "model_cnn.summary()"
      ],
      "execution_count": null,
      "outputs": [
        {
          "output_type": "stream",
          "name": "stdout",
          "text": [
            "Model: \"sequential_2\"\n",
            "_________________________________________________________________\n",
            " Layer (type)                Output Shape              Param #   \n",
            "=================================================================\n",
            " conv2d_2 (Conv2D)           (None, 24, 24, 32)        832       \n",
            "                                                                 \n",
            " activation_7 (Activation)   (None, 24, 24, 32)        0         \n",
            "                                                                 \n",
            " batch_normalization_4 (Batc  (None, 24, 24, 32)       128       \n",
            " hNormalization)                                                 \n",
            "                                                                 \n",
            " max_pooling2d_2 (MaxPooling  (None, 8, 8, 32)         0         \n",
            " 2D)                                                             \n",
            "                                                                 \n",
            " conv2d_3 (Conv2D)           (None, 4, 4, 64)          51264     \n",
            "                                                                 \n",
            " activation_8 (Activation)   (None, 4, 4, 64)          0         \n",
            "                                                                 \n",
            " batch_normalization_5 (Batc  (None, 4, 4, 64)         256       \n",
            " hNormalization)                                                 \n",
            "                                                                 \n",
            " max_pooling2d_3 (MaxPooling  (None, 1, 1, 64)         0         \n",
            " 2D)                                                             \n",
            "                                                                 \n",
            " flatten_2 (Flatten)         (None, 64)                0         \n",
            "                                                                 \n",
            " dense_5 (Dense)             (None, 32)                2080      \n",
            "                                                                 \n",
            " batch_normalization_6 (Batc  (None, 32)               128       \n",
            " hNormalization)                                                 \n",
            "                                                                 \n",
            " activation_9 (Activation)   (None, 32)                0         \n",
            "                                                                 \n",
            " batch_normalization_7 (Batc  (None, 32)               128       \n",
            " hNormalization)                                                 \n",
            "                                                                 \n",
            " dense_6 (Dense)             (None, 10)                330       \n",
            "                                                                 \n",
            " activation_10 (Activation)  (None, 10)                0         \n",
            "                                                                 \n",
            "=================================================================\n",
            "Total params: 55,146\n",
            "Trainable params: 54,826\n",
            "Non-trainable params: 320\n",
            "_________________________________________________________________\n"
          ]
        }
      ]
    },
    {
      "cell_type": "markdown",
      "metadata": {
        "id": "taay4sXh9QuB"
      },
      "source": [
        "Set the Optimiser and loss function and compile the model"
      ]
    },
    {
      "cell_type": "code",
      "metadata": {
        "id": "6PoffWi2H2XB"
      },
      "source": [
        "adam_opt = optimizers.Adam()\n",
        "cc_loss = losses.categorical_crossentropy\n",
        "model_cnn.compile(loss=cc_loss, optimizer=adam_opt, metrics=['accuracy'])"
      ],
      "execution_count": null,
      "outputs": []
    },
    {
      "cell_type": "markdown",
      "metadata": {
        "id": "3xemVKeP9Vc6"
      },
      "source": [
        "Train model\n",
        "\n",
        "We have to create smaller batches, so that we use less memory. Here we are using batch of 64, so during a single epoch the model will split the train dataset in to 938 subsets to take 64 images at a time and train on them."
      ]
    },
    {
      "cell_type": "code",
      "metadata": {
        "colab": {
          "base_uri": "https://localhost:8080/"
        },
        "id": "mb8DTW6M9QS7",
        "outputId": "60829a60-f283-4946-9a82-8ab810dd436b"
      },
      "source": [
        "model_cnn.fit(X_train, y_train_ohe, batch_size=64, epochs=10)"
      ],
      "execution_count": null,
      "outputs": [
        {
          "output_type": "stream",
          "name": "stdout",
          "text": [
            "Epoch 1/10\n",
            "938/938 [==============================] - 37s 9ms/step - loss: 0.1462 - accuracy: 0.9627\n",
            "Epoch 2/10\n",
            "938/938 [==============================] - 8s 9ms/step - loss: 0.0455 - accuracy: 0.9870\n",
            "Epoch 3/10\n",
            "938/938 [==============================] - 8s 9ms/step - loss: 0.0336 - accuracy: 0.9897\n",
            "Epoch 4/10\n",
            "938/938 [==============================] - 8s 9ms/step - loss: 0.0257 - accuracy: 0.9917\n",
            "Epoch 5/10\n",
            "938/938 [==============================] - 8s 9ms/step - loss: 0.0202 - accuracy: 0.9936\n",
            "Epoch 6/10\n",
            "938/938 [==============================] - 8s 9ms/step - loss: 0.0154 - accuracy: 0.9948\n",
            "Epoch 7/10\n",
            "938/938 [==============================] - 8s 9ms/step - loss: 0.0137 - accuracy: 0.9956\n",
            "Epoch 8/10\n",
            "938/938 [==============================] - 8s 9ms/step - loss: 0.0118 - accuracy: 0.9959\n",
            "Epoch 9/10\n",
            "938/938 [==============================] - 8s 9ms/step - loss: 0.0117 - accuracy: 0.9960\n",
            "Epoch 10/10\n",
            "938/938 [==============================] - 8s 9ms/step - loss: 0.0097 - accuracy: 0.9969\n"
          ]
        },
        {
          "output_type": "execute_result",
          "data": {
            "text/plain": [
              "<keras.callbacks.History at 0x7f54b0253890>"
            ]
          },
          "metadata": {},
          "execution_count": 20
        }
      ]
    },
    {
      "cell_type": "markdown",
      "metadata": {
        "id": "7IWdnKIE9rew"
      },
      "source": [
        "Test model"
      ]
    },
    {
      "cell_type": "code",
      "metadata": {
        "colab": {
          "base_uri": "https://localhost:8080/"
        },
        "id": "8f8JNymB9ta4",
        "outputId": "a309cdc1-6532-4dc4-8b65-c08438c024a0"
      },
      "source": [
        "score = model_cnn.evaluate(X_test, y_test_ohe)\n",
        "print('Total loss on test set: ', score[0])\n",
        "print('Total accuracy on test set: ', score[1])"
      ],
      "execution_count": null,
      "outputs": [
        {
          "output_type": "stream",
          "name": "stdout",
          "text": [
            "313/313 [==============================] - 2s 5ms/step - loss: 0.0387 - accuracy: 0.9883\n",
            "Total loss on test set:  0.03874821215867996\n",
            "Total accuracy on test set:  0.9883000254631042\n"
          ]
        }
      ]
    },
    {
      "cell_type": "markdown",
      "metadata": {
        "id": "nd-bmX2I94t-"
      },
      "source": [
        "## Data Augmentation"
      ]
    },
    {
      "cell_type": "markdown",
      "metadata": {
        "id": "DmhC4bgGH2XJ"
      },
      "source": [
        "To reduce over-fitting, we use another technique known as Data Augmentation. Data augmentation rotates, shears, zooms, etc the image so that the model learns to generalize and not remember specific data. If the model overfits, it will perform very well on the images that it already knows but will fail if new images are given to it.\n",
        "\n",
        "This is how we can do Data Augmentation in Keras. You can play with the values and check if it improves the accuracy of the model.\n"
      ]
    },
    {
      "cell_type": "code",
      "metadata": {
        "id": "Id5u0e2LH2XK"
      },
      "source": [
        "# import ImageDataGenerator\n",
        "\n",
        "from keras.preprocessing.image import ImageDataGenerator"
      ],
      "execution_count": null,
      "outputs": []
    },
    {
      "cell_type": "markdown",
      "metadata": {
        "id": "N-ZLIPJe_P02"
      },
      "source": [
        "There are many augmentation techniques in the library to choose from like:\n",
        "\n",
        "1. featurewise_center: Boolean. Set input mean to 0 over the dataset, feature-wise.\n",
        "2. samplewise_center: Boolean. Set each sample mean to 0.\n",
        "3. rotation_range: rotate image by a random degree within in the given range\n",
        "4. there are many more here https://www.tensorflow.org/api_docs/python/tf/keras/preprocessing/image/ImageDataGenerator\n",
        "\n"
      ]
    },
    {
      "cell_type": "code",
      "metadata": {
        "id": "7mwuT5wIH2XO"
      },
      "source": [
        "datagen = ImageDataGenerator(rotation_range=90)\n",
        "datagen.fit(X_train)"
      ],
      "execution_count": null,
      "outputs": []
    },
    {
      "cell_type": "code",
      "metadata": {
        "colab": {
          "base_uri": "https://localhost:8080/"
        },
        "id": "G2beLYmkAVpM",
        "outputId": "771baf05-adbc-44ad-aa61-09845915b4a8"
      },
      "source": [
        "model_cnn = Sequential()\n",
        "#Convolutional layers\n",
        "model_cnn.add(Conv2D(32, (3, 3), input_shape=(28,28,1)))\n",
        "model_cnn.add(Activation('relu'))\n",
        "model_cnn.add(BatchNormalization())\n",
        "model_cnn.add(MaxPooling2D(pool_size=(2,2)))\n",
        "model_cnn.add(Conv2D(32, (3, 3)))\n",
        "model_cnn.add(Activation('relu'))\n",
        "model_cnn.add(BatchNormalization())\n",
        "model_cnn.add(MaxPooling2D(pool_size=(2,2)))\n",
        "model_cnn.add(Flatten())\n",
        "# Fully connected layer\n",
        "model_cnn.add(Dense(128))\n",
        "model_cnn.add(BatchNormalization())\n",
        "model_cnn.add(Activation('relu'))\n",
        "model_cnn.add(BatchNormalization())\n",
        "model_cnn.add(Dense(10))\n",
        "model_cnn.add(Activation('softmax'))\n",
        "\n",
        "adam_opt = optimizers.Adam()\n",
        "cc_loss = losses.categorical_crossentropy\n",
        "model_cnn.compile(loss=cc_loss, optimizer=adam_opt, metrics=['accuracy'])\n",
        "\n",
        "model_cnn.fit(datagen.flow(X_train, y_train_ohe, batch_size=64), \n",
        "                        steps_per_epoch=len(X_train) // 64, epochs=10)"
      ],
      "execution_count": null,
      "outputs": [
        {
          "output_type": "stream",
          "name": "stdout",
          "text": [
            "Epoch 1/10\n",
            "937/937 [==============================] - 12s 12ms/step - loss: 0.2686 - accuracy: 0.9186\n",
            "Epoch 2/10\n",
            "937/937 [==============================] - 11s 12ms/step - loss: 0.1228 - accuracy: 0.9627\n",
            "Epoch 3/10\n",
            "937/937 [==============================] - 11s 12ms/step - loss: 0.1001 - accuracy: 0.9688\n",
            "Epoch 4/10\n",
            "937/937 [==============================] - 11s 12ms/step - loss: 0.0842 - accuracy: 0.9739\n",
            "Epoch 5/10\n",
            "937/937 [==============================] - 11s 12ms/step - loss: 0.0791 - accuracy: 0.9754\n",
            "Epoch 6/10\n",
            "937/937 [==============================] - 11s 12ms/step - loss: 0.0716 - accuracy: 0.9773\n",
            "Epoch 7/10\n",
            "937/937 [==============================] - 11s 12ms/step - loss: 0.0689 - accuracy: 0.9786\n",
            "Epoch 8/10\n",
            "937/937 [==============================] - 11s 12ms/step - loss: 0.0640 - accuracy: 0.9798\n",
            "Epoch 9/10\n",
            "937/937 [==============================] - 11s 12ms/step - loss: 0.0599 - accuracy: 0.9815\n",
            "Epoch 10/10\n",
            "937/937 [==============================] - 11s 12ms/step - loss: 0.0590 - accuracy: 0.9818\n"
          ]
        },
        {
          "output_type": "execute_result",
          "data": {
            "text/plain": [
              "<keras.callbacks.History at 0x7f683a6b3350>"
            ]
          },
          "metadata": {},
          "execution_count": 116
        }
      ]
    },
    {
      "cell_type": "markdown",
      "metadata": {
        "id": "R3KQ8H3JBLtd"
      },
      "source": [
        "Test Model"
      ]
    },
    {
      "cell_type": "code",
      "metadata": {
        "colab": {
          "base_uri": "https://localhost:8080/"
        },
        "id": "HmIY-nSCAYrp",
        "outputId": "5de650f9-7ae0-47fb-9cc1-0fd2b3db9ba9"
      },
      "source": [
        "score = model_cnn.evaluate(X_test, y_test_ohe)\n",
        "print('Total loss on test set: ', score[0])\n",
        "print('Total accuracy on test set: ', score[1])"
      ],
      "execution_count": null,
      "outputs": [
        {
          "output_type": "stream",
          "name": "stdout",
          "text": [
            "313/313 [==============================] - 1s 2ms/step - loss: 0.0589 - accuracy: 0.9820\n",
            "Total loss on test set:  0.058851905167102814\n",
            "Total accuracy on test set:  0.9819999933242798\n"
          ]
        }
      ]
    },
    {
      "cell_type": "markdown",
      "metadata": {
        "id": "WIqQk8vAH2XO"
      },
      "source": [
        "## Look inside the CNN model"
      ]
    },
    {
      "cell_type": "code",
      "metadata": {
        "id": "6OCvuNGsH2XP"
      },
      "source": [
        "import tensorflow as tf\n",
        "from tensorflow.keras.models import Sequential\n",
        "from tensorflow.keras.layers import Conv2D, MaxPooling2D, Activation, Flatten\n",
        "from tensorflow.keras.layers import Dense, Dropout, BatchNormalization"
      ],
      "execution_count": null,
      "outputs": []
    },
    {
      "cell_type": "code",
      "metadata": {
        "id": "nk3t69nRH2XP",
        "colab": {
          "base_uri": "https://localhost:8080/"
        },
        "outputId": "68e1e139-d964-4248-eff5-36beb6a439c6"
      },
      "source": [
        "model_tf = Sequential()\n",
        "#Convolutional layers\n",
        "model_tf.add(Conv2D(32, (3, 3), input_shape=(28,28,1), activation='relu'))\n",
        "model_tf.add(BatchNormalization())\n",
        "model_tf.add(MaxPooling2D(pool_size=(2,2)))\n",
        "model_tf.add(Conv2D(32, (3, 3), activation='relu'))\n",
        "model_tf.add(BatchNormalization())\n",
        "model_tf.add(MaxPooling2D(pool_size=(2,2)))\n",
        "model_tf.add(Flatten())\n",
        "# Fully connected layer\n",
        "model_tf.add(Dense(128, activation='relu'))\n",
        "model_tf.add(BatchNormalization())\n",
        "model_tf.add(Dense(10, activation='softmax'))\n",
        "\n",
        "model_tf.summary()"
      ],
      "execution_count": null,
      "outputs": [
        {
          "output_type": "stream",
          "name": "stdout",
          "text": [
            "Model: \"sequential_16\"\n",
            "_________________________________________________________________\n",
            " Layer (type)                Output Shape              Param #   \n",
            "=================================================================\n",
            " conv2d_12 (Conv2D)          (None, 26, 26, 32)        320       \n",
            "                                                                 \n",
            " batch_normalization_26 (Bat  (None, 26, 26, 32)       128       \n",
            " chNormalization)                                                \n",
            "                                                                 \n",
            " max_pooling2d_12 (MaxPoolin  (None, 13, 13, 32)       0         \n",
            " g2D)                                                            \n",
            "                                                                 \n",
            " conv2d_13 (Conv2D)          (None, 11, 11, 32)        9248      \n",
            "                                                                 \n",
            " batch_normalization_27 (Bat  (None, 11, 11, 32)       128       \n",
            " chNormalization)                                                \n",
            "                                                                 \n",
            " max_pooling2d_13 (MaxPoolin  (None, 5, 5, 32)         0         \n",
            " g2D)                                                            \n",
            "                                                                 \n",
            " flatten_16 (Flatten)        (None, 800)               0         \n",
            "                                                                 \n",
            " dense_44 (Dense)            (None, 128)               102528    \n",
            "                                                                 \n",
            " batch_normalization_28 (Bat  (None, 128)              512       \n",
            " chNormalization)                                                \n",
            "                                                                 \n",
            " dense_45 (Dense)            (None, 10)                1290      \n",
            "                                                                 \n",
            "=================================================================\n",
            "Total params: 114,154\n",
            "Trainable params: 113,770\n",
            "Non-trainable params: 384\n",
            "_________________________________________________________________\n"
          ]
        }
      ]
    },
    {
      "cell_type": "code",
      "metadata": {
        "id": "xQ-wu_33H2XP"
      },
      "source": [
        "adam_opt = optimizers.Adam()\n",
        "cc_loss = losses.categorical_crossentropy\n",
        "model_tf.compile(loss=cc_loss, optimizer=adam_opt, metrics=['accuracy'])"
      ],
      "execution_count": null,
      "outputs": []
    },
    {
      "cell_type": "code",
      "metadata": {
        "id": "5kw0q8iwH2XQ",
        "colab": {
          "base_uri": "https://localhost:8080/"
        },
        "outputId": "83342c63-e4fa-4f74-8280-980f49c3dfff"
      },
      "source": [
        "model_tf.fit(X_train, y_train_ohe, batch_size=64, epochs=1, validation_data=(X_test, y_test_ohe))\n",
        "score = model_tf.evaluate(X_test, y_test_ohe)\n",
        "print('Test accuracy: ', score[1])"
      ],
      "execution_count": null,
      "outputs": [
        {
          "output_type": "stream",
          "name": "stdout",
          "text": [
            "938/938 [==============================] - 5s 4ms/step - loss: 0.1081 - accuracy: 0.9669 - val_loss: 0.0440 - val_accuracy: 0.9853\n",
            "313/313 [==============================] - 1s 2ms/step - loss: 0.0440 - accuracy: 0.9853\n",
            "Test accuracy:  0.9853000044822693\n"
          ]
        }
      ]
    },
    {
      "cell_type": "markdown",
      "metadata": {
        "id": "FZbCuHVGF9Me"
      },
      "source": [
        "First, lets create a model that takes an input image and output feature maps from each layer. When you create the visualisation_model, you are re-using the weights learned in the previous step, so even though you are creating a new model, it is already trained. \n"
      ]
    },
    {
      "cell_type": "code",
      "metadata": {
        "id": "7_gG2vZ8H2XQ"
      },
      "source": [
        "successive_outputs = [layer.output for layer in model_tf.layers]\n",
        "# print(successive_outputs)\n",
        "visualization_model = tf.keras.models.Model(inputs = model_tf.input, outputs = successive_outputs)"
      ],
      "execution_count": null,
      "outputs": []
    },
    {
      "cell_type": "markdown",
      "metadata": {
        "id": "SYbnoF84GOmx"
      },
      "source": [
        "Next lets select a random test instance to see what feature maps are created at each layer. "
      ]
    },
    {
      "cell_type": "code",
      "metadata": {
        "colab": {
          "base_uri": "https://localhost:8080/"
        },
        "id": "MKKvUlYGGPce",
        "outputId": "f3096cfc-c7bd-4a4c-feca-8b8e998f9b06"
      },
      "source": [
        "import random\n",
        "X_test_random = random.choice(X_test)\n",
        "print(X_test_random.shape)\n",
        "X_test_random = X_test_random.reshape((1,) + X_test_random.shape)\n",
        "print(X_test_random.shape)\n",
        "\n",
        "successive_feature_maps = visualization_model.predict(X_test_random)"
      ],
      "execution_count": null,
      "outputs": [
        {
          "output_type": "stream",
          "name": "stdout",
          "text": [
            "(28, 28, 1)\n",
            "(1, 28, 28, 1)\n"
          ]
        }
      ]
    },
    {
      "cell_type": "markdown",
      "metadata": {
        "id": "wDaoxtGhGkN1"
      },
      "source": [
        "By looking at each feature map we can understand that they are the output from each layer. See model summary. "
      ]
    },
    {
      "cell_type": "code",
      "metadata": {
        "colab": {
          "base_uri": "https://localhost:8080/"
        },
        "id": "9-yaNcu1ChqB",
        "outputId": "e26f6a23-6771-4b96-aa91-74533b0a5083"
      },
      "source": [
        "print('Number of feature maps:', len(successive_feature_maps))\n",
        "for idx in range(len(successive_feature_maps)):\n",
        "    print('Feature map '+str(idx)+' shape:', successive_feature_maps[idx].shape)"
      ],
      "execution_count": null,
      "outputs": [
        {
          "output_type": "stream",
          "name": "stdout",
          "text": [
            "Number of feature maps: 10\n",
            "Feature map 0 shape: (1, 26, 26, 32)\n",
            "Feature map 1 shape: (1, 26, 26, 32)\n",
            "Feature map 2 shape: (1, 13, 13, 32)\n",
            "Feature map 3 shape: (1, 11, 11, 32)\n",
            "Feature map 4 shape: (1, 11, 11, 32)\n",
            "Feature map 5 shape: (1, 5, 5, 32)\n",
            "Feature map 6 shape: (1, 800)\n",
            "Feature map 7 shape: (1, 128)\n",
            "Feature map 8 shape: (1, 128)\n",
            "Feature map 9 shape: (1, 10)\n"
          ]
        }
      ]
    },
    {
      "cell_type": "markdown",
      "metadata": {
        "id": "dyl9h4byGsTr"
      },
      "source": [
        "Lets plot the random test instance and the feature maps from the convolutional layers"
      ]
    },
    {
      "cell_type": "code",
      "metadata": {
        "id": "ACueHcz8H2XR",
        "colab": {
          "base_uri": "https://localhost:8080/",
          "height": 229
        },
        "outputId": "f88d428f-b15a-47a2-c1ab-292c5fce4d66"
      },
      "source": [
        "import matplotlib.pyplot as plt\n",
        "\n",
        "fig, ax = plt.subplots(figsize=(3,3))\n",
        "ax.imshow(X_test_random[0][:,:,0])"
      ],
      "execution_count": null,
      "outputs": [
        {
          "output_type": "execute_result",
          "data": {
            "text/plain": [
              "<matplotlib.image.AxesImage at 0x7f683a2a0850>"
            ]
          },
          "metadata": {},
          "execution_count": 126
        },
        {
          "output_type": "display_data",
          "data": {
            "image/png": "[encoded data removed]",
            "text/plain": [
              "<Figure size 216x216 with 1 Axes>"
            ]
          },
          "metadata": {
            "needs_background": "light"
          }
        }
      ]
    },
    {
      "cell_type": "markdown",
      "metadata": {
        "id": "gP29ApJnDq6r"
      },
      "source": [
        "Output from the first Conv2D layer filters"
      ]
    },
    {
      "cell_type": "code",
      "metadata": {
        "colab": {
          "base_uri": "https://localhost:8080/",
          "height": 439
        },
        "id": "Mm_nznVKDi-9",
        "outputId": "25d71823-0616-426e-e8de-df9e03599ad2"
      },
      "source": [
        "fig, axes = plt.subplots(4, 8, figsize=(8,8))\n",
        "for i, ax in enumerate(axes.flat):\n",
        "    ax.imshow(successive_feature_maps[0][0][:,:,i])"
      ],
      "execution_count": null,
      "outputs": [
        {
          "output_type": "display_data",
          "data": {
            "image/png": "[encoded data removed]",
            "text/plain": [
              "<Figure size 576x576 with 32 Axes>"
            ]
          },
          "metadata": {
            "needs_background": "light"
          }
        }
      ]
    },
    {
      "cell_type": "markdown",
      "metadata": {
        "id": "YqqkAzNqDoVs"
      },
      "source": [
        "Output from the second Conv2D layer filters"
      ]
    },
    {
      "cell_type": "code",
      "metadata": {
        "colab": {
          "base_uri": "https://localhost:8080/",
          "height": 438
        },
        "id": "QUWvOtKlDgI1",
        "outputId": "4b332387-ea3a-482a-c302-c4aedb6399fd"
      },
      "source": [
        "fig, axes = plt.subplots(4, 8, figsize=(8, 8))\n",
        "for i, ax in enumerate(axes.flat):\n",
        "    ax.imshow(successive_feature_maps[3][0][:,:,i])"
      ],
      "execution_count": null,
      "outputs": [
        {
          "output_type": "display_data",
          "data": {
            "image/png": "[encoded data removed]",
            "text/plain": [
              "<Figure size 576x576 with 32 Axes>"
            ]
          },
          "metadata": {
            "needs_background": "light"
          }
        }
      ]
    },
    {
      "cell_type": "code",
      "metadata": {
        "id": "IY3wwTBCH2XR",
        "colab": {
          "base_uri": "https://localhost:8080/",
          "height": 131
        },
        "outputId": "6f7bcba4-cb50-4938-a5ae-027cd8f37c28"
      },
      "source": [
        "fig, ax = plt.subplots(1, 6, figsize=(8, 8))  \n",
        "ax.flat[0].imshow(successive_feature_maps[0][0][:,:,i]) #conv2d\n",
        "ax.flat[1].imshow(successive_feature_maps[1][0][:,:,i]) #batchnorm\n",
        "ax.flat[2].imshow(successive_feature_maps[2][0][:,:,i]) #pooling\n",
        "ax.flat[3].imshow(successive_feature_maps[3][0][:,:,i]) #conv2d\n",
        "ax.flat[4].imshow(successive_feature_maps[4][0][:,:,i]) #batchnorm\n",
        "ax.flat[5].imshow(successive_feature_maps[5][0][:,:,i]) #pooling"
      ],
      "execution_count": null,
      "outputs": [
        {
          "output_type": "execute_result",
          "data": {
            "text/plain": [
              "<matplotlib.image.AxesImage at 0x7f68f5136d50>"
            ]
          },
          "metadata": {},
          "execution_count": 129
        },
        {
          "output_type": "display_data",
          "data": {
            "image/png": "[encoded data removed]",
            "text/plain": [
              "<Figure size 576x576 with 6 Axes>"
            ]
          },
          "metadata": {
            "needs_background": "light"
          }
        }
      ]
    }
  ]
}