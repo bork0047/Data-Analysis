{
  "nbformat": 4,
  "nbformat_minor": 0,
  "metadata": {
    "anaconda-cloud": {},
    "colab": {
      "provenance": [],
      "include_colab_link": true
    },
    "kernelspec": {
      "display_name": "Python 3",
      "language": "python",
      "name": "python3"
    },
    "language_info": {
      "codemirror_mode": {
        "name": "ipython",
        "version": 3
      },
      "file_extension": ".py",
      "mimetype": "text/x-python",
      "name": "python",
      "nbconvert_exporter": "python",
      "pygments_lexer": "ipython3",
      "version": "3.7.4"
    }
  },
  "cells": [
    {
      "cell_type": "markdown",
      "metadata": {
        "id": "view-in-github",
        "colab_type": "text"
      },
      "source": [
        "<a href=\"https://colab.research.google.com/github/bork0047/Data-Analysis/blob/main/TextAnalysis_part3.ipynb\" target=\"_parent\"><img src=\"https://colab.research.google.com/assets/colab-badge.svg\" alt=\"Open In Colab\"/></a>"
      ]
    },
    {
      "cell_type": "markdown",
      "metadata": {
        "id": "Wb91vLHqYu4w"
      },
      "source": [
        "# Text Analytics Part 3: Text Analytics - Unsupervised Learning"
      ]
    },
    {
      "cell_type": "code",
      "metadata": {
        "id": "rdpUIy-0n_3c"
      },
      "source": [
        "import numpy as np\n",
        "import pandas as pd\n",
        "\n",
        "#for nlp\n",
        "import nltk\n",
        "from nltk.corpus import stopwords \n",
        "from nltk.stem.snowball import SnowballStemmer\n",
        "from nltk.corpus import stopwords\n",
        "\n",
        "#text vectorisation\n",
        "from sklearn.feature_extraction.text import CountVectorizer, TfidfTransformer, TfidfVectorizer\n",
        "\n",
        "#metrics\n",
        "from sklearn.metrics import classification_report, accuracy_score\n",
        "\n",
        "#import method releated to evaluation\n",
        "from sklearn import model_selection\n",
        "from sklearn.pipeline import make_pipeline\n",
        "from sklearn.pipeline import Pipeline\n",
        "from sklearn.model_selection import train_test_split, cross_val_score, GridSearchCV\n",
        "\n",
        "#for graphs\n",
        "%matplotlib inline\n",
        "import matplotlib.pyplot as plt\n",
        "import seaborn as sns"
      ],
      "execution_count": null,
      "outputs": []
    },
    {
      "cell_type": "markdown",
      "metadata": {
        "id": "Q7M6jyz5n7Wc"
      },
      "source": [
        "# Unsupervised Sentiment Analysis (Optional Lab Content)\n",
        "In the previous code we treated Sentiment Analysis as a standard text classification problem. \n",
        "In this section we will adopt a different approach whereby we will make use of a sentiment dictionary (SentiWordNet)\n",
        "to score every word in a piece of text as either positive or negative. \n",
        "Instead of fitting a machine learning classifier; we will instead aggregate these scores to establish the overall polarity of the piece of text. "
      ]
    },
    {
      "cell_type": "code",
      "metadata": {
        "id": "PuQhC1bGn7Wc",
        "outputId": "6b563829-dde1-4cd3-e1d0-499b49df29ce",
        "colab": {
          "base_uri": "https://localhost:8080/"
        }
      },
      "source": [
        "# lets download the sentiwordnet lexicon / dictionary from NLTK\n",
        "# we also need to the original wordnet lexicon \n",
        "nltk.download('sentiwordnet')\n",
        "nltk.download('wordnet')\n",
        "nltk.download('omw-1.4')"
      ],
      "execution_count": null,
      "outputs": [
        {
          "output_type": "stream",
          "name": "stderr",
          "text": [
            "[nltk_data] Downloading package sentiwordnet to /root/nltk_data...\n",
            "[nltk_data]   Package sentiwordnet is already up-to-date!\n",
            "[nltk_data] Downloading package wordnet to /root/nltk_data...\n",
            "[nltk_data]   Package wordnet is already up-to-date!\n",
            "[nltk_data] Downloading package omw-1.4 to /root/nltk_data...\n",
            "[nltk_data]   Package omw-1.4 is already up-to-date!\n"
          ]
        },
        {
          "output_type": "execute_result",
          "data": {
            "text/plain": [
              "True"
            ]
          },
          "metadata": {},
          "execution_count": 73
        }
      ]
    },
    {
      "cell_type": "markdown",
      "metadata": {
        "id": "wfHwpAFpn7Wd"
      },
      "source": [
        "## Using the sentiwordnet Lexicon"
      ]
    },
    {
      "cell_type": "code",
      "metadata": {
        "id": "mcxLXof3n7Wd",
        "outputId": "49c584cc-72b3-4bcb-a950-293108fe03e5",
        "colab": {
          "base_uri": "https://localhost:8080/"
        }
      },
      "source": [
        "from nltk.corpus import sentiwordnet as swn\n",
        "\n",
        "list(swn.senti_synsets('slow'))\n",
        "\n",
        "awesome = list(swn.senti_synsets('slow', 'a'))[0] # Take the first sense, the most common\n",
        "print('Positive Polarity Score:', awesome.pos_score())\n",
        "print('Negative Polarity Score:', awesome.neg_score())\n",
        "print('Objective Score:', awesome.obj_score())"
      ],
      "execution_count": null,
      "outputs": [
        {
          "output_type": "stream",
          "name": "stdout",
          "text": [
            "Positive Polarity Score: 0.0\n",
            "Negative Polarity Score: 0.0\n",
            "Objective Score: 1.0\n"
          ]
        }
      ]
    },
    {
      "cell_type": "code",
      "source": [
        "# we could also sum the pos, neg and obj scores \n",
        "# when there are multiple synsets\n",
        "\n",
        "word = list(swn.senti_synsets('happy', 'a'))\n",
        "\n",
        "A = [[p.pos_score(), n.neg_score(), o.obj_score()] for p, n, o  in zip(word, word, word)]\n",
        "print(A)\n",
        "A = np.array(A)\n",
        "Av = np.vstack(A)\n",
        "\n",
        "print(Av)\n",
        "\n",
        "[sum(x) for x in zip(*Av)]"
      ],
      "metadata": {
        "colab": {
          "base_uri": "https://localhost:8080/"
        },
        "id": "x5xNPs6lD1fT",
        "outputId": "6694e7c1-5417-446e-ffbc-270419bc098c"
      },
      "execution_count": null,
      "outputs": [
        {
          "output_type": "stream",
          "name": "stdout",
          "text": [
            "[[0.875, 0.0, 0.125], [0.75, 0.0, 0.25], [0.5, 0.0, 0.5], [0.125, 0.0, 0.875]]\n",
            "[[0.875 0.    0.125]\n",
            " [0.75  0.    0.25 ]\n",
            " [0.5   0.    0.5  ]\n",
            " [0.125 0.    0.875]]\n"
          ]
        },
        {
          "output_type": "execute_result",
          "data": {
            "text/plain": [
              "[2.25, 0.0, 1.75]"
            ]
          },
          "metadata": {},
          "execution_count": 88
        }
      ]
    },
    {
      "cell_type": "markdown",
      "metadata": {
        "id": "jGxG_1Lhn7Wd"
      },
      "source": [
        "### <font color='red'>Exercise</font>: using SentiWordNet\n",
        "Using the cell above try SentiWordNet to explore the pos, neg scores for different words.\n",
        "Note that 'a' refers to adjectives. If you are looking at anoun then this should be set to 'n' and similarly for verbs ('v') and adverbs ('r). "
      ]
    },
    {
      "cell_type": "code",
      "metadata": {
        "id": "wME3iV-pDvAZ"
      },
      "source": [],
      "execution_count": null,
      "outputs": []
    },
    {
      "cell_type": "markdown",
      "metadata": {
        "id": "DsPMfG0Mn7Wd"
      },
      "source": [
        "# POS Tagging - Setup NLTK for pos tagging"
      ]
    },
    {
      "cell_type": "code",
      "metadata": {
        "id": "NK67FIR0n7Wd",
        "outputId": "19144878-4078-4c9f-b993-3303e54585a6"
      },
      "source": [
        "nltk.download('punkt')\n",
        "nltk.download('averaged_perceptron_tagger')"
      ],
      "execution_count": null,
      "outputs": [
        {
          "name": "stderr",
          "output_type": "stream",
          "text": [
            "[nltk_data] Downloading package punkt to /Users/nirmalie/nltk_data...\n",
            "[nltk_data]   Unzipping tokenizers/punkt.zip.\n",
            "[nltk_data] Downloading package averaged_perceptron_tagger to\n",
            "[nltk_data]     /Users/nirmalie/nltk_data...\n",
            "[nltk_data]   Unzipping taggers/averaged_perceptron_tagger.zip.\n"
          ]
        },
        {
          "data": {
            "text/plain": [
              "True"
            ]
          },
          "execution_count": 58,
          "metadata": {},
          "output_type": "execute_result"
        }
      ]
    },
    {
      "cell_type": "markdown",
      "metadata": {
        "id": "k4EPUaAen7Wd"
      },
      "source": [
        "Unlike the previous tokenizer method we had created with the simple split function we now need to both tokenise and associate the relevant part-of-speech (POS) tag to each word. To do this we will make use the of nltk.pos_tag as shown in the example below, "
      ]
    },
    {
      "cell_type": "code",
      "metadata": {
        "id": "NEsdlzfLn7Wd",
        "outputId": "2a7d7104-76bc-41b8-fb97-485c46157512"
      },
      "source": [
        "tagged_text =nltk.pos_tag(tokenizer('The cat sat on the mat.'))\n",
        "tagged_text\n"
      ],
      "execution_count": null,
      "outputs": [
        {
          "data": {
            "text/plain": [
              "[('The', 'DT'),\n",
              " ('cat', 'NN'),\n",
              " ('sat', 'VBD'),\n",
              " ('on', 'IN'),\n",
              " ('the', 'DT'),\n",
              " ('mat.', 'NN')]"
            ]
          },
          "execution_count": 59,
          "metadata": {},
          "output_type": "execute_result"
        }
      ]
    },
    {
      "cell_type": "markdown",
      "metadata": {
        "id": "QJWERhwMn7Wd"
      },
      "source": [
        "We can modify the code above such that it returns a list.\n",
        "This data construct is more convinient as we see in the next cell using word_tokenise from the nltk library."
      ]
    },
    {
      "cell_type": "markdown",
      "metadata": {
        "id": "DiC5EudGn7Wd"
      },
      "source": [
        "## Unsupervised Sentiment Analyser"
      ]
    },
    {
      "cell_type": "code",
      "metadata": {
        "id": "GIYOelWwn7We"
      },
      "source": [
        "from nltk import word_tokenize\n",
        "\n",
        "def unsupervised_sentiment_analyzer(review, verbose=False):\n",
        "\n",
        "    # tokenize and POS tag text tokens\n",
        "    #tagged_text = [(token.text, token.tag_) for token in nltk.pos_tag tn.nlp(review)]\n",
        "    \n",
        "    tagged_text = [(pair) for pair in nltk.pos_tag(word_tokenize(review))]\n",
        "    pos_score = neg_score = token_count = obj_score = 0\n",
        "    # get wordnet synsets based on POS tags\n",
        "    # get sentiment scores if synsets are found\n",
        "    for word, tag in tagged_text:\n",
        "        ss_set = None\n",
        "        if 'NN' in tag and list(swn.senti_synsets(word, 'n')): #noun\n",
        "            ss_set = list(swn.senti_synsets(word, 'n'))[0]\n",
        "        elif 'VB' in tag and list(swn.senti_synsets(word, 'v')): #verb\n",
        "            ss_set = list(swn.senti_synsets(word, 'v'))[0]\n",
        "        elif 'JJ' in tag and list(swn.senti_synsets(word, 'a')): #adjective\n",
        "            ss_set = list(swn.senti_synsets(word, 'a'))[0]\n",
        "        elif 'RB' in tag and list(swn.senti_synsets(word, 'r')): #adverb\n",
        "            ss_set = list(swn.senti_synsets(word, 'r'))[0]\n",
        "        # if senti-synset is found        \n",
        "        if ss_set:\n",
        "            # add scores for all found synsets\n",
        "            pos_score += ss_set.pos_score()\n",
        "            neg_score += ss_set.neg_score()\n",
        "            obj_score += ss_set.obj_score()\n",
        "            token_count += 1\n",
        "    \n",
        "    # aggregate final scores\n",
        "    final_score = pos_score - neg_score\n",
        "    norm_final_score = round(float(final_score) / token_count, 2)\n",
        "    final_sentiment = 'positive' if norm_final_score >= 0 else 'negative'\n",
        "    if verbose:\n",
        "        norm_obj_score = round(float(obj_score) / token_count, 2)\n",
        "        norm_pos_score = round(float(pos_score) / token_count, 2)\n",
        "        norm_neg_score = round(float(neg_score) / token_count, 2)\n",
        "        # to display results in a nice table\n",
        "        sentiment_frame = pd.DataFrame([[final_sentiment, norm_obj_score, norm_pos_score, \n",
        "                                         norm_neg_score, norm_final_score]],\n",
        "                                       columns=pd.MultiIndex(levels=[['SENTIMENT STATS:'], \n",
        "                                                             ['Predicted Sentiment', 'Objectivity',\n",
        "                                                              'Positive', 'Negative', 'Overall']], \n",
        "                                                             codes=[[0,0,0,0,0],[0,1,2,3,4]]))\n",
        "        print(sentiment_frame)\n",
        "    return 1 if (final_sentiment == 'positive') else 0\n",
        "    #return final_sentiment"
      ],
      "execution_count": null,
      "outputs": []
    },
    {
      "cell_type": "markdown",
      "metadata": {
        "id": "hkyobtS6n7We"
      },
      "source": [
        "## Predict Sentiment for some example text"
      ]
    },
    {
      "cell_type": "code",
      "metadata": {
        "id": "N3oRaVp8n7We",
        "outputId": "98eaeed6-6543-450a-ce56-b106036ba554"
      },
      "source": [
        "unsupervised_sentiment_analyzer(\"stupid movie, acting average or worse... screenplay - no sense at all... SKIP IT!\", verbose=True)"
      ],
      "execution_count": null,
      "outputs": [
        {
          "name": "stdout",
          "output_type": "stream",
          "text": [
            "     SENTIMENT STATS:                                      \n",
            "  Predicted Sentiment Objectivity Positive Negative Overall\n",
            "0            negative        0.79     0.04     0.17   -0.12\n"
          ]
        },
        {
          "data": {
            "text/plain": [
              "0"
            ]
          },
          "execution_count": 64,
          "metadata": {},
          "output_type": "execute_result"
        }
      ]
    },
    {
      "cell_type": "markdown",
      "metadata": {
        "id": "OP3Tnpsvn7We"
      },
      "source": [
        "### <font color='red'>Exercise</font>: understanding sentiment in text\n",
        "You can see that the prediction is 0 which in this case relates to non-positive sentiment class i.e. negative sentiment.\n",
        "Modify the piece of text above so that the sentiment analyser predicts positive class. "
      ]
    },
    {
      "cell_type": "code",
      "metadata": {
        "id": "4fdIWy7OIb-3"
      },
      "source": [],
      "execution_count": null,
      "outputs": []
    },
    {
      "cell_type": "markdown",
      "metadata": {
        "id": "Jfpbjr9Mn7We"
      },
      "source": [
        "## Predict Sentiment for a selected movie review\n",
        "You can use the code below to explore the prediction given a specific id of a review.\n",
        "In the example we have used '5635'. Try out different reviews ids. "
      ]
    },
    {
      "cell_type": "code",
      "metadata": {
        "id": "_Z3hCBhBn7We",
        "outputId": "b10381fc-a27f-4101-84af-6289fb435137"
      },
      "source": [
        "print(df.loc[5635, 'review'])\n",
        "pred = unsupervised_sentiment_analyzer(df.loc[5635, 'review'], verbose=True)\n",
        "print('predicted:', pred)"
      ],
      "execution_count": null,
      "outputs": [
        {
          "name": "stdout",
          "output_type": "stream",
          "text": [
            "i really thought this would be a good movie boy was i mistaken for a quick summery b grade acting c grade special effects d grade for the overall movie don t get me wrong the story was pretty good and not kiddish so an adult too ride along with it the hero is good looking so most women will like it not a total chick flick as it contains some fight scenes and some bloodbut the way it is shot horrible the special effects would be better suited for tv on a kids show and lastly send some of the actors back to acting school if they ever attended a class there trust me there are much better ways to waste 2 hours you have been warned :)\n",
            "     SENTIMENT STATS:                                      \n",
            "  Predicted Sentiment Objectivity Positive Negative Overall\n",
            "0            positive        0.81     0.12     0.07    0.05\n",
            "predicted: 1\n"
          ]
        }
      ]
    },
    {
      "cell_type": "markdown",
      "metadata": {
        "id": "dvU6MDLRn7We"
      },
      "source": [
        "# Evaluate Sentiment Prediction on the Movie Review Test Dataset¶\n"
      ]
    },
    {
      "cell_type": "code",
      "metadata": {
        "id": "bLyOPLApn7We",
        "outputId": "ffaf4aad-c520-497c-acf5-eb2b7433d8f8"
      },
      "source": [
        "#Choose the test sample\n",
        "reviews = X_test #df.loc[25000:25003,['review']].values\n",
        "sentiments = y_test #df.loc[25000:25003,['sentiment']].values\n",
        "#The original test dataset has 25000 \n",
        "# This may take considerable time on a standard machine\n",
        "# Ideally select a sample to test with\n",
        "reviews = df.loc[25000:26000,'review'].values\n",
        "sentiments = df.loc[25000:26000,'sentiment'].values\n",
        "\n",
        "count = 0\n",
        "correct = 0\n",
        "\n",
        "msg = \"predicting for %d reviews\" % len(reviews)\n",
        "print(msg)\n",
        "print('this will take a moment ...')\n",
        "for test_X, test_y in zip(reviews, sentiments):#zip(df['review'], df['sentiment']):\n",
        "    count+=1\n",
        "    #print('REVIEW:', review)\n",
        "    #print('Actual Sentiment:', test_y)\n",
        "    pred = unsupervised_sentiment_analyzer(test_X, verbose=False) \n",
        "    #print('predicted Sentiment:', pred)\n",
        "    #print('-'*60)\n",
        "    if (pred==test_y):\n",
        "        correct+=1\n",
        "\n",
        "accuracy = round(float(correct) / count, 3) * 100\n",
        "print(accuracy)\n",
        "print(correct, count)\n"
      ],
      "execution_count": null,
      "outputs": [
        {
          "name": "stdout",
          "output_type": "stream",
          "text": [
            "predicting for 1001 reviews\n",
            "this will take a moment ...\n",
            "59.599999999999994\n",
            "597 1001\n"
          ]
        }
      ]
    },
    {
      "cell_type": "markdown",
      "metadata": {
        "id": "pbNKf5aHn7Wf"
      },
      "source": [
        "### <font color='red'>Exercise</font>: supervised and unsupervised sentiment analysis\n",
        "- Which approach results in better accuracy; supervised or unsupervised sentiment analysis?\n",
        "- What do you think might be the pros and cons of the 2 approaches to sentment analysis i.e. using a text classification or supervised approach versus using the -precompiled dictionary of sentment knowledge to analyse text in an unsupervised setting?"
      ]
    },
    {
      "cell_type": "code",
      "metadata": {
        "id": "XxZx7dvgn7Wf"
      },
      "source": [],
      "execution_count": null,
      "outputs": []
    },
    {
      "cell_type": "markdown",
      "metadata": {
        "id": "oNsjCsoln_3t"
      },
      "source": [
        "# Unsupervised Learning (Optional Lab Content)\n",
        "\n",
        "This is a family of machine learning algorithms used to draw inferences from datasets consisting of input data. Since the focus is away from class labels we refer to these as unsupervised.\n",
        "The most common unsupervised learning method is cluster analysis, which is used for exploratory data analysis to find hidden patterns or grouping in data.\n",
        "Clustering of documents is a common task and often used as a means to form indexes to search large collections of documents (e.g. indexing of web collections). \n",
        "\n",
        "## Document Clustering - Organizing clusters as a hierarchical tree\n",
        "In agglomerative clustering method, at each stage, the pair of clusters with minimum between-cluster distance are merged. \n",
        "Once the distance matrix (dist) is computed the dendogram can be generated by stating a linkage method.\n",
        "To cluster our documents it is best to work with a small sample of emails messages in order to visualise the dendogram. \n",
        "This can be controlled with setting the frac parameter. \n",
        "\n",
        "### Clustering the Spam dataset\n",
        "We will study clustering using the same dataset we used before for text classification. However we will not be using the class labels as we did before. "
      ]
    },
    {
      "cell_type": "code",
      "metadata": {
        "colab": {
          "base_uri": "https://localhost:8080/"
        },
        "id": "RfeNtQ9En_3t",
        "outputId": "ec9229b8-d978-48ee-cfda-33a4d5d42d72"
      },
      "source": [
        "df_sample = df.sample(frac=0.05, random_state=1) # use a frac of the data\n",
        "print(df_sample.shape)\n",
        "labels = list(range(len(df_sample.index.values))) # labels are text message ids extracted from the data frame index\n",
        "index = labels # need these for the dendogram\n",
        "\n",
        "#a = list(range(len(df_sample.index.values)))\n",
        "#labels = (list(map(str, a)))\n",
        "#print(labels)\n",
        "#variables = list(df_sample.columns.values)\n",
        "#features = list(df_sample.columns.values)\n",
        "#print(variables)\n",
        "#np.array(labels).T.tolist()"
      ],
      "execution_count": null,
      "outputs": [
        {
          "name": "stdout",
          "output_type": "stream",
          "text": [
            "(279, 2)\n"
          ]
        }
      ]
    },
    {
      "cell_type": "markdown",
      "metadata": {
        "id": "h1YAjvxun_3t"
      },
      "source": [
        "# Clean up the data further for clustering"
      ]
    },
    {
      "cell_type": "code",
      "metadata": {
        "id": "T-3cqBlfn_3t"
      },
      "source": [
        "from bs4 import BeautifulSoup\n",
        "\n",
        "REPLACE_BY_SPACE_RE = re.compile('[/(){}\\[\\]\\|@,;]')\n",
        "BAD_SYMBOLS_RE = re.compile('[^0-9a-z #+_]')\n",
        "STOPWORDS = set(stopwords.words('english'))\n",
        "\n",
        "def clean_text(text):\n",
        "    \"\"\"\n",
        "        text: a string\n",
        "        \n",
        "        return: modified initial string\n",
        "    \"\"\"\n",
        "    text = BeautifulSoup(text, \"lxml\").text # HTML decoding\n",
        "    text = text.lower() # lowercase text\n",
        "    text = REPLACE_BY_SPACE_RE.sub(' ', text) # replace REPLACE_BY_SPACE_RE symbols by space in text\n",
        "    text = BAD_SYMBOLS_RE.sub('', text) # delete symbols which are in BAD_SYMBOLS_RE from text\n",
        "    text = ' '.join(word for word in text.split() if word not in STOPWORDS) # delete stopwors from text\n",
        "    return text"
      ],
      "execution_count": null,
      "outputs": []
    },
    {
      "cell_type": "code",
      "metadata": {
        "id": "KJ3naXFon_3t"
      },
      "source": [
        "df_sample['sms_msg'] = df_sample['sms_msg'].apply(clean_text)"
      ],
      "execution_count": null,
      "outputs": []
    },
    {
      "cell_type": "code",
      "metadata": {
        "colab": {
          "base_uri": "https://localhost:8080/"
        },
        "id": "LMwrppT2n_3t",
        "outputId": "c22a742c-a470-4ce5-8faa-8a62906ada6b"
      },
      "source": [
        "# example text messages\n",
        "df_sample.iloc[0:10].sms_msg"
      ],
      "execution_count": null,
      "outputs": [
        {
          "data": {
            "text/plain": [
              "1447    looks like u wil b getting a headstart im leav...\n",
              "2032    i noe la u wana pei bf oso rite k lor other da...\n",
              "4432        2mro i am not coming to gym machan goodnight \n",
              "4888    todays vodafone numbers ending with 4882 are s...\n",
              "5276    hi hope ur day good back from walk table booke...\n",
              "5463    ok i thk i got it then u wan me 2 come now or ...\n",
              "839     we tried to contact you re our offer of new vi...\n",
              "4427                              was it something u ate \n",
              "1247    i do know what u mean is the king of not havin...\n",
              "1545    after completed degree there is no use in join...\n",
              "Name: sms_msg, dtype: object"
            ]
          },
          "execution_count": 30,
          "metadata": {},
          "output_type": "execute_result"
        }
      ]
    },
    {
      "cell_type": "markdown",
      "metadata": {
        "id": "GfyS1-dWn_3u"
      },
      "source": [
        "# Create a dataframe to hold the vectorised versions of the data"
      ]
    },
    {
      "cell_type": "code",
      "metadata": {
        "colab": {
          "base_uri": "https://localhost:8080/",
          "height": 413
        },
        "id": "vg6veOD9n_3u",
        "outputId": "9905a36a-01b4-438f-d560-e38da06ed7c6"
      },
      "source": [
        "#define vectorizer parameters\n",
        "tfidf_vectorizer = TfidfVectorizer(max_features=20, min_df=4, smooth_idf=True, stop_words='english',\n",
        "                                 use_idf=True, tokenizer=tokenizer_stemmer, ngram_range=(1,1))\n",
        "\n",
        "tfidf_matrix = tfidf_vectorizer.fit_transform(df_sample['sms_msg']) #fit the vectorizer to sms messages\n",
        "terms = tfidf_vectorizer.get_feature_names()\n",
        "#print(tfidf_matrix.shape)\n",
        "\n",
        "#print(terms)\n",
        "#print(tfidf_matrix)\n",
        "#df_sample['smsVect'] = list(tfidf_matrix.toarray()) # create the corresponding vectorised representation\n",
        "#z= list(tfidf_matrix.toarray())\n",
        "\n",
        "#list(tfidf_matrix.toarray())\n",
        "df3 = pd.DataFrame(list(tfidf_matrix.toarray()), columns = terms, index = index)\n",
        "df3.head(10)"
      ],
      "execution_count": null,
      "outputs": [
        {
          "name": "stderr",
          "output_type": "stream",
          "text": [
            "/usr/local/lib/python3.7/dist-packages/sklearn/feature_extraction/text.py:385: UserWarning: Your stop_words may be inconsistent with your preprocessing. Tokenizing the stop words generated tokens ['abov', 'afterward', 'alon', 'alreadi', 'alway', 'ani', 'anoth', 'anyon', 'anyth', 'anywher', 'becam', 'becaus', 'becom', 'befor', 'besid', 'cri', 'describ', 'dure', 'els', 'elsewher', 'empti', 'everi', 'everyon', 'everyth', 'everywher', 'fifti', 'forti', 'henc', 'hereaft', 'herebi', 'howev', 'hundr', 'inde', 'mani', 'meanwhil', 'moreov', 'nobodi', 'noon', 'noth', 'nowher', 'onc', 'onli', 'otherwis', 'ourselv', 'perhap', 'pleas', 'sever', 'sinc', 'sincer', 'sixti', 'someon', 'someth', 'sometim', 'somewher', 'themselv', 'thenc', 'thereaft', 'therebi', 'therefor', 'togeth', 'twelv', 'twenti', 'veri', 'whatev', 'whenc', 'whenev', 'wherea', 'whereaft', 'wherebi', 'wherev', 'whi', 'yourselv'] not in stop_words.\n",
            "  'stop_words.' % sorted(inconsistent))\n"
          ]
        },
        {
          "data": {
            "text/html": [
              "<div>\n",
              "<style scoped>\n",
              "    .dataframe tbody tr th:only-of-type {\n",
              "        vertical-align: middle;\n",
              "    }\n",
              "\n",
              "    .dataframe tbody tr th {\n",
              "        vertical-align: top;\n",
              "    }\n",
              "\n",
              "    .dataframe thead th {\n",
              "        text-align: right;\n",
              "    }\n",
              "</style>\n",
              "<table border=\"1\" class=\"dataframe\">\n",
              "  <thead>\n",
              "    <tr style=\"text-align: right;\">\n",
              "      <th></th>\n",
              "      <th>2</th>\n",
              "      <th>4</th>\n",
              "      <th>come</th>\n",
              "      <th>d</th>\n",
              "      <th>free</th>\n",
              "      <th>gt</th>\n",
              "      <th>just</th>\n",
              "      <th>know</th>\n",
              "      <th>like</th>\n",
              "      <th>ll</th>\n",
              "      <th>love</th>\n",
              "      <th>lt</th>\n",
              "      <th>m</th>\n",
              "      <th>ok</th>\n",
              "      <th>s</th>\n",
              "      <th>t</th>\n",
              "      <th>time</th>\n",
              "      <th>u</th>\n",
              "      <th>ur</th>\n",
              "      <th>work</th>\n",
              "    </tr>\n",
              "  </thead>\n",
              "  <tbody>\n",
              "    <tr>\n",
              "      <th>0</th>\n",
              "      <td>0.475309</td>\n",
              "      <td>0.0</td>\n",
              "      <td>0.000000</td>\n",
              "      <td>0.0</td>\n",
              "      <td>0.0</td>\n",
              "      <td>0.0</td>\n",
              "      <td>0.0</td>\n",
              "      <td>0.000000</td>\n",
              "      <td>0.44522</td>\n",
              "      <td>0.0</td>\n",
              "      <td>0.0</td>\n",
              "      <td>0.0</td>\n",
              "      <td>0.000000</td>\n",
              "      <td>0.00000</td>\n",
              "      <td>0.0</td>\n",
              "      <td>0.0</td>\n",
              "      <td>0.0</td>\n",
              "      <td>0.758854</td>\n",
              "      <td>0.000000</td>\n",
              "      <td>0.0</td>\n",
              "    </tr>\n",
              "    <tr>\n",
              "      <th>1</th>\n",
              "      <td>0.000000</td>\n",
              "      <td>0.0</td>\n",
              "      <td>0.000000</td>\n",
              "      <td>0.0</td>\n",
              "      <td>0.0</td>\n",
              "      <td>0.0</td>\n",
              "      <td>0.0</td>\n",
              "      <td>0.000000</td>\n",
              "      <td>0.00000</td>\n",
              "      <td>0.0</td>\n",
              "      <td>0.0</td>\n",
              "      <td>0.0</td>\n",
              "      <td>0.000000</td>\n",
              "      <td>0.00000</td>\n",
              "      <td>0.0</td>\n",
              "      <td>0.0</td>\n",
              "      <td>0.0</td>\n",
              "      <td>1.000000</td>\n",
              "      <td>0.000000</td>\n",
              "      <td>0.0</td>\n",
              "    </tr>\n",
              "    <tr>\n",
              "      <th>2</th>\n",
              "      <td>0.000000</td>\n",
              "      <td>0.0</td>\n",
              "      <td>1.000000</td>\n",
              "      <td>0.0</td>\n",
              "      <td>0.0</td>\n",
              "      <td>0.0</td>\n",
              "      <td>0.0</td>\n",
              "      <td>0.000000</td>\n",
              "      <td>0.00000</td>\n",
              "      <td>0.0</td>\n",
              "      <td>0.0</td>\n",
              "      <td>0.0</td>\n",
              "      <td>0.000000</td>\n",
              "      <td>0.00000</td>\n",
              "      <td>0.0</td>\n",
              "      <td>0.0</td>\n",
              "      <td>0.0</td>\n",
              "      <td>0.000000</td>\n",
              "      <td>0.000000</td>\n",
              "      <td>0.0</td>\n",
              "    </tr>\n",
              "    <tr>\n",
              "      <th>3</th>\n",
              "      <td>0.000000</td>\n",
              "      <td>0.0</td>\n",
              "      <td>0.000000</td>\n",
              "      <td>0.0</td>\n",
              "      <td>0.0</td>\n",
              "      <td>0.0</td>\n",
              "      <td>0.0</td>\n",
              "      <td>0.000000</td>\n",
              "      <td>0.00000</td>\n",
              "      <td>0.0</td>\n",
              "      <td>0.0</td>\n",
              "      <td>0.0</td>\n",
              "      <td>0.000000</td>\n",
              "      <td>0.00000</td>\n",
              "      <td>0.0</td>\n",
              "      <td>0.0</td>\n",
              "      <td>0.0</td>\n",
              "      <td>0.000000</td>\n",
              "      <td>0.000000</td>\n",
              "      <td>0.0</td>\n",
              "    </tr>\n",
              "    <tr>\n",
              "      <th>4</th>\n",
              "      <td>0.000000</td>\n",
              "      <td>0.0</td>\n",
              "      <td>0.417347</td>\n",
              "      <td>0.0</td>\n",
              "      <td>0.0</td>\n",
              "      <td>0.0</td>\n",
              "      <td>0.0</td>\n",
              "      <td>0.391098</td>\n",
              "      <td>0.00000</td>\n",
              "      <td>0.0</td>\n",
              "      <td>0.0</td>\n",
              "      <td>0.0</td>\n",
              "      <td>0.000000</td>\n",
              "      <td>0.00000</td>\n",
              "      <td>0.0</td>\n",
              "      <td>0.0</td>\n",
              "      <td>0.0</td>\n",
              "      <td>0.000000</td>\n",
              "      <td>0.820283</td>\n",
              "      <td>0.0</td>\n",
              "    </tr>\n",
              "    <tr>\n",
              "      <th>5</th>\n",
              "      <td>0.519263</td>\n",
              "      <td>0.0</td>\n",
              "      <td>0.562233</td>\n",
              "      <td>0.0</td>\n",
              "      <td>0.0</td>\n",
              "      <td>0.0</td>\n",
              "      <td>0.0</td>\n",
              "      <td>0.000000</td>\n",
              "      <td>0.00000</td>\n",
              "      <td>0.0</td>\n",
              "      <td>0.0</td>\n",
              "      <td>0.0</td>\n",
              "      <td>0.000000</td>\n",
              "      <td>0.49238</td>\n",
              "      <td>0.0</td>\n",
              "      <td>0.0</td>\n",
              "      <td>0.0</td>\n",
              "      <td>0.414514</td>\n",
              "      <td>0.000000</td>\n",
              "      <td>0.0</td>\n",
              "    </tr>\n",
              "    <tr>\n",
              "      <th>6</th>\n",
              "      <td>0.000000</td>\n",
              "      <td>0.0</td>\n",
              "      <td>0.000000</td>\n",
              "      <td>0.0</td>\n",
              "      <td>0.0</td>\n",
              "      <td>0.0</td>\n",
              "      <td>0.0</td>\n",
              "      <td>0.000000</td>\n",
              "      <td>0.00000</td>\n",
              "      <td>0.0</td>\n",
              "      <td>0.0</td>\n",
              "      <td>0.0</td>\n",
              "      <td>0.000000</td>\n",
              "      <td>0.00000</td>\n",
              "      <td>0.0</td>\n",
              "      <td>0.0</td>\n",
              "      <td>0.0</td>\n",
              "      <td>0.000000</td>\n",
              "      <td>0.000000</td>\n",
              "      <td>0.0</td>\n",
              "    </tr>\n",
              "    <tr>\n",
              "      <th>7</th>\n",
              "      <td>0.000000</td>\n",
              "      <td>0.0</td>\n",
              "      <td>0.000000</td>\n",
              "      <td>0.0</td>\n",
              "      <td>0.0</td>\n",
              "      <td>0.0</td>\n",
              "      <td>0.0</td>\n",
              "      <td>0.000000</td>\n",
              "      <td>0.00000</td>\n",
              "      <td>0.0</td>\n",
              "      <td>0.0</td>\n",
              "      <td>0.0</td>\n",
              "      <td>0.000000</td>\n",
              "      <td>0.00000</td>\n",
              "      <td>0.0</td>\n",
              "      <td>0.0</td>\n",
              "      <td>0.0</td>\n",
              "      <td>1.000000</td>\n",
              "      <td>0.000000</td>\n",
              "      <td>0.0</td>\n",
              "    </tr>\n",
              "    <tr>\n",
              "      <th>8</th>\n",
              "      <td>0.000000</td>\n",
              "      <td>0.0</td>\n",
              "      <td>0.000000</td>\n",
              "      <td>0.0</td>\n",
              "      <td>0.0</td>\n",
              "      <td>0.0</td>\n",
              "      <td>0.0</td>\n",
              "      <td>0.606481</td>\n",
              "      <td>0.00000</td>\n",
              "      <td>0.0</td>\n",
              "      <td>0.0</td>\n",
              "      <td>0.0</td>\n",
              "      <td>0.636012</td>\n",
              "      <td>0.00000</td>\n",
              "      <td>0.0</td>\n",
              "      <td>0.0</td>\n",
              "      <td>0.0</td>\n",
              "      <td>0.477147</td>\n",
              "      <td>0.000000</td>\n",
              "      <td>0.0</td>\n",
              "    </tr>\n",
              "    <tr>\n",
              "      <th>9</th>\n",
              "      <td>0.000000</td>\n",
              "      <td>0.0</td>\n",
              "      <td>0.000000</td>\n",
              "      <td>0.0</td>\n",
              "      <td>0.0</td>\n",
              "      <td>0.0</td>\n",
              "      <td>0.0</td>\n",
              "      <td>0.000000</td>\n",
              "      <td>0.00000</td>\n",
              "      <td>0.0</td>\n",
              "      <td>0.0</td>\n",
              "      <td>0.0</td>\n",
              "      <td>0.000000</td>\n",
              "      <td>0.00000</td>\n",
              "      <td>0.0</td>\n",
              "      <td>0.0</td>\n",
              "      <td>0.0</td>\n",
              "      <td>0.000000</td>\n",
              "      <td>0.000000</td>\n",
              "      <td>0.0</td>\n",
              "    </tr>\n",
              "  </tbody>\n",
              "</table>\n",
              "</div>"
            ],
            "text/plain": [
              "          2    4      come    d  free  ...    t  time         u        ur  work\n",
              "0  0.475309  0.0  0.000000  0.0   0.0  ...  0.0   0.0  0.758854  0.000000   0.0\n",
              "1  0.000000  0.0  0.000000  0.0   0.0  ...  0.0   0.0  1.000000  0.000000   0.0\n",
              "2  0.000000  0.0  1.000000  0.0   0.0  ...  0.0   0.0  0.000000  0.000000   0.0\n",
              "3  0.000000  0.0  0.000000  0.0   0.0  ...  0.0   0.0  0.000000  0.000000   0.0\n",
              "4  0.000000  0.0  0.417347  0.0   0.0  ...  0.0   0.0  0.000000  0.820283   0.0\n",
              "5  0.519263  0.0  0.562233  0.0   0.0  ...  0.0   0.0  0.414514  0.000000   0.0\n",
              "6  0.000000  0.0  0.000000  0.0   0.0  ...  0.0   0.0  0.000000  0.000000   0.0\n",
              "7  0.000000  0.0  0.000000  0.0   0.0  ...  0.0   0.0  1.000000  0.000000   0.0\n",
              "8  0.000000  0.0  0.000000  0.0   0.0  ...  0.0   0.0  0.477147  0.000000   0.0\n",
              "9  0.000000  0.0  0.000000  0.0   0.0  ...  0.0   0.0  0.000000  0.000000   0.0\n",
              "\n",
              "[10 rows x 20 columns]"
            ]
          },
          "execution_count": 32,
          "metadata": {},
          "output_type": "execute_result"
        }
      ]
    },
    {
      "cell_type": "markdown",
      "metadata": {
        "id": "KGKcV5rqn_3u"
      },
      "source": [
        "### We can visualise this document x term matrix using a heatmap"
      ]
    },
    {
      "cell_type": "code",
      "metadata": {
        "id": "UqgUdCVxn_3u",
        "outputId": "e1d41ecf-671f-4cb9-df0a-5a27ab167208"
      },
      "source": [
        "import seaborn as sns; sns.set()\n",
        "uniform_data = np.random.rand(10, 12)\n",
        "ax = sns.heatmap(df3)\n",
        "ax.figure.savefig(\"heatmap.png\")"
      ],
      "execution_count": null,
      "outputs": [
        {
          "data": {
            "image/png": "[encoded data removed]",
            "text/plain": [
              "<matplotlib.figure.Figure at 0x191015d1550>"
            ]
          },
          "metadata": {},
          "output_type": "display_data"
        }
      ]
    },
    {
      "cell_type": "markdown",
      "metadata": {
        "id": "v8gs6tmOn_3u"
      },
      "source": [
        "## Performing hierarchical clustering on a distance matrix"
      ]
    },
    {
      "cell_type": "code",
      "metadata": {
        "id": "Pq4CPGRzn_3u",
        "outputId": "cbc2efda-d80d-44b2-81af-2b43ee873ca5"
      },
      "source": [
        "from scipy.spatial.distance import pdist, squareform\n",
        "\n",
        "row_dist = pd.DataFrame(squareform(pdist(df3.values, metric='euclidean')),\n",
        "                        columns=index,\n",
        "                        index=index)\n",
        "print(row_dist)"
      ],
      "execution_count": null,
      "outputs": [
        {
          "name": "stdout",
          "output_type": "stream",
          "text": [
            "          0         1         2         3         4         5         6    \\\n",
            "0    0.000000  0.687775  1.414214  1.414214  1.414214  1.205671  1.414214   \n",
            "1    0.687775  0.000000  1.414214  1.414214  1.414214  1.133309  1.414214   \n",
            "2    1.414214  1.414214  0.000000  1.414214  1.108918  1.014578  1.414214   \n",
            "3    1.414214  1.414214  1.414214  0.000000  1.414214  1.414214  1.414214   \n",
            "4    1.414214  1.414214  1.108918  1.414214  0.000000  1.275210  1.414214   \n",
            "5    1.205671  1.133309  1.014578  1.414214  1.275210  0.000000  1.414214   \n",
            "6    1.414214  1.414214  1.414214  1.414214  1.414214  1.414214  0.000000   \n",
            "7    0.687775  0.000000  1.414214  1.414214  1.414214  1.133309  1.414214   \n",
            "8    1.105997  1.190031  1.414214  1.414214  1.316118  1.338321  1.414214   \n",
            "9    1.000000  1.000000  1.000000  1.000000  1.000000  1.000000  1.000000   \n",
            "10   1.034177  1.414214  1.414214  1.414214  1.414214  1.414214  1.414214   \n",
            "11   1.000000  1.000000  1.000000  1.000000  1.000000  1.000000  1.000000   \n",
            "12   1.000000  1.000000  1.000000  1.000000  1.000000  1.000000  1.000000   \n",
            "13   1.414214  1.414214  0.000000  1.414214  1.108918  1.014578  1.414214   \n",
            "14   1.414214  1.414214  1.414214  0.774354  1.414214  1.414214  0.756361   \n",
            "15   1.414214  1.414214  1.414214  1.414214  1.414214  1.414214  1.414214   \n",
            "16   1.084333  1.174951  1.414214  1.414214  1.414214  1.333545  0.504636   \n",
            "17   1.000000  1.000000  1.000000  1.000000  1.000000  1.000000  1.000000   \n",
            "18   1.414214  1.414214  1.414214  1.414214  1.414214  1.005667  1.414214   \n",
            "19   1.000000  1.000000  1.000000  1.000000  1.000000  1.000000  1.000000   \n",
            "20   1.414214  1.414214  1.414214  1.414214  1.200802  1.414214  1.414214   \n",
            "21   1.000000  1.000000  1.000000  1.000000  1.000000  1.000000  1.000000   \n",
            "22   1.414214  1.414214  1.414214  1.414214  1.245372  1.414214  1.414214   \n",
            "23   0.687775  0.000000  1.414214  1.414214  1.414214  1.133309  1.414214   \n",
            "24   1.000000  1.000000  1.000000  1.000000  1.000000  1.000000  1.000000   \n",
            "25   1.000000  1.000000  1.000000  1.000000  1.000000  1.000000  1.000000   \n",
            "26   1.000000  1.000000  1.000000  1.000000  1.000000  1.000000  1.000000   \n",
            "27   1.000000  1.000000  1.000000  1.000000  1.000000  1.000000  1.000000   \n",
            "28   0.687775  0.000000  1.414214  1.414214  1.414214  1.133309  1.414214   \n",
            "29   1.050775  1.414214  1.414214  1.414214  1.414214  1.414214  1.414214   \n",
            "..        ...       ...       ...       ...       ...       ...       ...   \n",
            "249  1.129859  1.025902  0.845464  1.414214  1.226788  0.699653  1.414214   \n",
            "250  1.000000  1.000000  1.000000  1.000000  1.000000  1.000000  1.000000   \n",
            "251  1.000000  1.000000  1.000000  1.000000  1.000000  1.000000  1.000000   \n",
            "252  1.000000  1.000000  1.000000  1.000000  1.000000  1.000000  1.000000   \n",
            "253  1.414214  1.414214  1.414214  1.414214  1.414214  1.067316  1.414214   \n",
            "254  1.176626  1.414214  1.414214  1.414214  1.414214  1.414214  1.414214   \n",
            "255  1.414214  1.414214  1.414214  1.414214  1.414214  1.414214  1.414214   \n",
            "256  1.414214  1.414214  1.414214  1.414214  1.108918  1.414214  1.414214   \n",
            "257  1.000000  1.000000  1.000000  1.000000  1.000000  1.000000  1.000000   \n",
            "258  1.000000  1.000000  1.000000  1.000000  1.000000  1.000000  1.000000   \n",
            "259  1.414214  1.414214  1.414214  1.414214  1.414214  1.414214  1.414214   \n",
            "260  1.027542  0.873701  1.414214  1.414214  1.414214  0.917964  1.414214   \n",
            "261  1.000000  1.000000  1.000000  1.000000  1.000000  1.000000  1.000000   \n",
            "262  1.414214  1.414214  1.414214  1.414214  1.414214  1.005667  1.414214   \n",
            "263  1.000000  1.000000  1.000000  1.000000  1.000000  1.000000  1.000000   \n",
            "264  1.000000  1.000000  1.000000  1.000000  1.000000  1.000000  1.000000   \n",
            "265  0.846721  0.565207  1.414214  1.414214  1.414214  1.182663  1.414214   \n",
            "266  1.414214  1.414214  1.414214  0.726751  1.229330  1.414214  1.414214   \n",
            "267  1.000000  1.000000  1.000000  1.000000  1.000000  1.000000  1.000000   \n",
            "268  1.000000  1.000000  1.000000  1.000000  1.000000  1.000000  1.000000   \n",
            "269  1.034177  1.414214  1.414214  1.414214  1.414214  1.414214  1.414214   \n",
            "270  1.000000  1.000000  1.000000  1.000000  1.000000  1.000000  1.000000   \n",
            "271  1.034177  1.414214  1.414214  1.414214  1.414214  1.414214  1.414214   \n",
            "272  1.414214  1.414214  1.414214  1.414214  1.414214  1.414214  1.414214   \n",
            "273  1.414214  1.414214  1.414214  1.414214  1.414214  1.414214  1.414214   \n",
            "274  1.000000  1.000000  1.000000  1.000000  1.000000  1.000000  1.000000   \n",
            "275  1.000000  1.000000  1.000000  1.000000  1.000000  1.000000  1.000000   \n",
            "276  1.000000  1.000000  1.000000  1.000000  1.000000  1.000000  1.000000   \n",
            "277  1.414214  1.414214  1.414214  1.414214  1.414214  1.414214  1.414214   \n",
            "278  1.000000  1.000000  1.000000  1.000000  1.000000  1.000000  1.000000   \n",
            "\n",
            "          7         8    9   ...        269  270       271       272  \\\n",
            "0    0.687775  1.105997  1.0 ...   1.034177  1.0  1.034177  1.414214   \n",
            "1    0.000000  1.190031  1.0 ...   1.414214  1.0  1.414214  1.414214   \n",
            "2    1.414214  1.414214  1.0 ...   1.414214  1.0  1.414214  1.414214   \n",
            "3    1.414214  1.414214  1.0 ...   1.414214  1.0  1.414214  1.414214   \n",
            "4    1.414214  1.316118  1.0 ...   1.414214  1.0  1.414214  1.414214   \n",
            "5    1.133309  1.338321  1.0 ...   1.414214  1.0  1.414214  1.414214   \n",
            "6    1.414214  1.414214  1.0 ...   1.414214  1.0  1.414214  1.414214   \n",
            "7    0.000000  1.190031  1.0 ...   1.414214  1.0  1.414214  1.414214   \n",
            "8    1.190031  0.000000  1.0 ...   1.135110  1.0  1.135110  1.414214   \n",
            "9    1.000000  1.000000  0.0 ...   1.000000  0.0  1.000000  1.000000   \n",
            "10   1.414214  1.135110  1.0 ...   0.000000  1.0  0.000000  1.414214   \n",
            "11   1.000000  1.000000  0.0 ...   1.000000  0.0  1.000000  1.000000   \n",
            "12   1.000000  1.000000  0.0 ...   1.000000  0.0  1.000000  1.000000   \n",
            "13   1.414214  1.414214  1.0 ...   1.414214  1.0  1.414214  1.414214   \n",
            "14   1.414214  1.414214  1.0 ...   1.414214  1.0  1.414214  1.414214   \n",
            "15   1.414214  1.414214  1.0 ...   1.414214  1.0  1.414214  1.414214   \n",
            "16   1.174951  1.245217  1.0 ...   1.115800  1.0  1.115800  1.414214   \n",
            "17   1.000000  1.000000  0.0 ...   1.000000  0.0  1.000000  1.000000   \n",
            "18   1.414214  1.414214  1.0 ...   1.414214  1.0  1.414214  1.414214   \n",
            "19   1.000000  1.000000  0.0 ...   1.000000  0.0  1.000000  1.000000   \n",
            "20   1.414214  1.414214  1.0 ...   1.414214  1.0  1.414214  1.414214   \n",
            "21   1.000000  1.000000  0.0 ...   1.000000  0.0  1.000000  1.000000   \n",
            "22   1.414214  1.414214  1.0 ...   1.414214  1.0  1.414214  1.414214   \n",
            "23   0.000000  1.190031  1.0 ...   1.414214  1.0  1.414214  1.414214   \n",
            "24   1.000000  1.000000  0.0 ...   1.000000  0.0  1.000000  1.000000   \n",
            "25   1.000000  1.000000  0.0 ...   1.000000  0.0  1.000000  1.000000   \n",
            "26   1.000000  1.000000  0.0 ...   1.000000  0.0  1.000000  1.000000   \n",
            "27   1.000000  1.000000  0.0 ...   1.000000  0.0  1.000000  1.000000   \n",
            "28   0.000000  1.190031  1.0 ...   1.414214  1.0  1.414214  1.414214   \n",
            "29   1.414214  1.414214  1.0 ...   1.414214  1.0  1.414214  1.414214   \n",
            "..        ...       ...  ... ...        ...  ...       ...       ...   \n",
            "249  1.025902  1.312785  1.0 ...   1.414214  1.0  1.414214  1.414214   \n",
            "250  1.000000  1.000000  0.0 ...   1.000000  0.0  1.000000  1.000000   \n",
            "251  1.000000  1.000000  0.0 ...   1.000000  0.0  1.000000  1.000000   \n",
            "252  1.000000  1.000000  0.0 ...   1.000000  0.0  1.000000  1.000000   \n",
            "253  1.414214  1.414214  1.0 ...   1.414214  1.0  1.414214  1.414214   \n",
            "254  1.414214  1.236647  1.0 ...   0.822749  1.0  0.822749  1.414214   \n",
            "255  1.414214  1.414214  1.0 ...   1.414214  1.0  1.414214  1.414214   \n",
            "256  1.414214  1.414214  1.0 ...   1.414214  1.0  1.414214  1.414214   \n",
            "257  1.000000  1.000000  0.0 ...   1.000000  0.0  1.000000  1.000000   \n",
            "258  1.000000  1.000000  0.0 ...   1.000000  0.0  1.000000  1.000000   \n",
            "259  1.414214  1.414214  1.0 ...   1.414214  1.0  1.414214  1.414214   \n",
            "260  0.873701  1.280237  1.0 ...   1.414214  1.0  1.414214  1.414214   \n",
            "261  1.000000  1.000000  0.0 ...   1.000000  0.0  1.000000  1.000000   \n",
            "262  1.414214  1.414214  1.0 ...   1.414214  1.0  1.414214  1.414214   \n",
            "263  1.000000  1.000000  0.0 ...   1.000000  0.0  1.000000  1.000000   \n",
            "264  1.000000  1.000000  0.0 ...   1.000000  0.0  1.000000  1.000000   \n",
            "265  0.565207  1.228588  1.0 ...   1.414214  1.0  1.414214  1.414214   \n",
            "266  1.414214  1.223749  1.0 ...   1.414214  1.0  1.414214  1.414214   \n",
            "267  1.000000  1.000000  0.0 ...   1.000000  0.0  1.000000  1.000000   \n",
            "268  1.000000  1.000000  0.0 ...   1.000000  0.0  1.000000  1.000000   \n",
            "269  1.414214  1.135110  1.0 ...   0.000000  1.0  0.000000  1.414214   \n",
            "270  1.000000  1.000000  0.0 ...   1.000000  0.0  1.000000  1.000000   \n",
            "271  1.414214  1.135110  1.0 ...   0.000000  1.0  0.000000  1.414214   \n",
            "272  1.414214  1.414214  1.0 ...   1.414214  1.0  1.414214  0.000000   \n",
            "273  1.414214  1.414214  1.0 ...   1.414214  1.0  1.414214  1.414214   \n",
            "274  1.000000  1.000000  0.0 ...   1.000000  0.0  1.000000  1.000000   \n",
            "275  1.000000  1.000000  0.0 ...   1.000000  0.0  1.000000  1.000000   \n",
            "276  1.000000  1.000000  0.0 ...   1.000000  0.0  1.000000  1.000000   \n",
            "277  1.414214  0.621985  1.0 ...   1.414214  1.0  1.414214  1.414214   \n",
            "278  1.000000  1.000000  0.0 ...   1.000000  0.0  1.000000  1.000000   \n",
            "\n",
            "          273  274  275  276       277  278  \n",
            "0    1.414214  1.0  1.0  1.0  1.414214  1.0  \n",
            "1    1.414214  1.0  1.0  1.0  1.414214  1.0  \n",
            "2    1.414214  1.0  1.0  1.0  1.414214  1.0  \n",
            "3    1.414214  1.0  1.0  1.0  1.414214  1.0  \n",
            "4    1.414214  1.0  1.0  1.0  1.414214  1.0  \n",
            "5    1.414214  1.0  1.0  1.0  1.414214  1.0  \n",
            "6    1.414214  1.0  1.0  1.0  1.414214  1.0  \n",
            "7    1.414214  1.0  1.0  1.0  1.414214  1.0  \n",
            "8    1.414214  1.0  1.0  1.0  0.621985  1.0  \n",
            "9    1.000000  0.0  0.0  0.0  1.000000  0.0  \n",
            "10   1.414214  1.0  1.0  1.0  1.414214  1.0  \n",
            "11   1.000000  0.0  0.0  0.0  1.000000  0.0  \n",
            "12   1.000000  0.0  0.0  0.0  1.000000  0.0  \n",
            "13   1.414214  1.0  1.0  1.0  1.414214  1.0  \n",
            "14   1.414214  1.0  1.0  1.0  1.414214  1.0  \n",
            "15   0.000000  1.0  1.0  1.0  1.414214  1.0  \n",
            "16   1.414214  1.0  1.0  1.0  1.414214  1.0  \n",
            "17   1.000000  0.0  0.0  0.0  1.000000  0.0  \n",
            "18   1.414214  1.0  1.0  1.0  1.414214  1.0  \n",
            "19   1.000000  0.0  0.0  0.0  1.000000  0.0  \n",
            "20   1.414214  1.0  1.0  1.0  1.414214  1.0  \n",
            "21   1.000000  0.0  0.0  0.0  1.000000  0.0  \n",
            "22   0.901372  1.0  1.0  1.0  1.414214  1.0  \n",
            "23   1.414214  1.0  1.0  1.0  1.414214  1.0  \n",
            "24   1.000000  0.0  0.0  0.0  1.000000  0.0  \n",
            "25   1.000000  0.0  0.0  0.0  1.000000  0.0  \n",
            "26   1.000000  0.0  0.0  0.0  1.000000  0.0  \n",
            "27   1.000000  0.0  0.0  0.0  1.000000  0.0  \n",
            "28   1.414214  1.0  1.0  1.0  1.414214  1.0  \n",
            "29   1.414214  1.0  1.0  1.0  1.414214  1.0  \n",
            "..        ...  ...  ...  ...       ...  ...  \n",
            "249  1.414214  1.0  1.0  1.0  1.414214  1.0  \n",
            "250  1.000000  0.0  0.0  0.0  1.000000  0.0  \n",
            "251  1.000000  0.0  0.0  0.0  1.000000  0.0  \n",
            "252  1.000000  0.0  0.0  0.0  1.000000  0.0  \n",
            "253  1.414214  1.0  1.0  1.0  1.414214  1.0  \n",
            "254  0.707237  1.0  1.0  1.0  1.414214  1.0  \n",
            "255  1.414214  1.0  1.0  1.0  1.414214  1.0  \n",
            "256  1.414214  1.0  1.0  1.0  1.414214  1.0  \n",
            "257  1.000000  0.0  0.0  0.0  1.000000  0.0  \n",
            "258  1.000000  0.0  0.0  0.0  1.000000  0.0  \n",
            "259  1.414214  1.0  1.0  1.0  1.414214  1.0  \n",
            "260  1.414214  1.0  1.0  1.0  1.414214  1.0  \n",
            "261  1.000000  0.0  0.0  0.0  1.000000  0.0  \n",
            "262  1.414214  1.0  1.0  1.0  1.414214  1.0  \n",
            "263  1.000000  0.0  0.0  0.0  1.000000  0.0  \n",
            "264  1.000000  0.0  0.0  0.0  1.000000  0.0  \n",
            "265  1.414214  1.0  1.0  1.0  1.414214  1.0  \n",
            "266  1.414214  1.0  1.0  1.0  1.414214  1.0  \n",
            "267  1.000000  0.0  0.0  0.0  1.000000  0.0  \n",
            "268  1.000000  0.0  0.0  0.0  1.000000  0.0  \n",
            "269  1.414214  1.0  1.0  1.0  1.414214  1.0  \n",
            "270  1.000000  0.0  0.0  0.0  1.000000  0.0  \n",
            "271  1.414214  1.0  1.0  1.0  1.414214  1.0  \n",
            "272  1.414214  1.0  1.0  1.0  1.414214  1.0  \n",
            "273  0.000000  1.0  1.0  1.0  1.414214  1.0  \n",
            "274  1.000000  0.0  0.0  0.0  1.000000  0.0  \n",
            "275  1.000000  0.0  0.0  0.0  1.000000  0.0  \n",
            "276  1.000000  0.0  0.0  0.0  1.000000  0.0  \n",
            "277  1.414214  1.0  1.0  1.0  0.000000  1.0  \n",
            "278  1.000000  0.0  0.0  0.0  1.000000  0.0  \n",
            "\n",
            "[279 rows x 279 columns]\n"
          ]
        }
      ]
    },
    {
      "cell_type": "code",
      "metadata": {
        "id": "t0HZweyZn_3u",
        "outputId": "62e7255c-6e56-4d38-c417-f24809846795"
      },
      "source": [
        "\n",
        "from scipy.cluster.hierarchy import linkage\n",
        "\n",
        "row_clusters = linkage(df3.values, method='single', metric='euclidean')\n",
        "pd.DataFrame(row_clusters,\n",
        "             columns=['row label 1', 'row label 2',\n",
        "                      'distance', 'no. of items in clust.'],\n",
        "             index=['cluster %d' % (i + 1)\n",
        "                    for i in range(row_clusters.shape[0])])"
      ],
      "execution_count": null,
      "outputs": [
        {
          "data": {
            "text/html": [
              "<div>\n",
              "<style scoped>\n",
              "    .dataframe tbody tr th:only-of-type {\n",
              "        vertical-align: middle;\n",
              "    }\n",
              "\n",
              "    .dataframe tbody tr th {\n",
              "        vertical-align: top;\n",
              "    }\n",
              "\n",
              "    .dataframe thead th {\n",
              "        text-align: right;\n",
              "    }\n",
              "</style>\n",
              "<table border=\"1\" class=\"dataframe\">\n",
              "  <thead>\n",
              "    <tr style=\"text-align: right;\">\n",
              "      <th></th>\n",
              "      <th>row label 1</th>\n",
              "      <th>row label 2</th>\n",
              "      <th>distance</th>\n",
              "      <th>no. of items in clust.</th>\n",
              "    </tr>\n",
              "  </thead>\n",
              "  <tbody>\n",
              "    <tr>\n",
              "      <th>cluster 1</th>\n",
              "      <td>1.0</td>\n",
              "      <td>7.0</td>\n",
              "      <td>0.000000</td>\n",
              "      <td>2.0</td>\n",
              "    </tr>\n",
              "    <tr>\n",
              "      <th>cluster 2</th>\n",
              "      <td>23.0</td>\n",
              "      <td>279.0</td>\n",
              "      <td>0.000000</td>\n",
              "      <td>3.0</td>\n",
              "    </tr>\n",
              "    <tr>\n",
              "      <th>cluster 3</th>\n",
              "      <td>28.0</td>\n",
              "      <td>280.0</td>\n",
              "      <td>0.000000</td>\n",
              "      <td>4.0</td>\n",
              "    </tr>\n",
              "    <tr>\n",
              "      <th>cluster 4</th>\n",
              "      <td>54.0</td>\n",
              "      <td>281.0</td>\n",
              "      <td>0.000000</td>\n",
              "      <td>5.0</td>\n",
              "    </tr>\n",
              "    <tr>\n",
              "      <th>cluster 5</th>\n",
              "      <td>84.0</td>\n",
              "      <td>282.0</td>\n",
              "      <td>0.000000</td>\n",
              "      <td>6.0</td>\n",
              "    </tr>\n",
              "    <tr>\n",
              "      <th>cluster 6</th>\n",
              "      <td>117.0</td>\n",
              "      <td>283.0</td>\n",
              "      <td>0.000000</td>\n",
              "      <td>7.0</td>\n",
              "    </tr>\n",
              "    <tr>\n",
              "      <th>cluster 7</th>\n",
              "      <td>142.0</td>\n",
              "      <td>284.0</td>\n",
              "      <td>0.000000</td>\n",
              "      <td>8.0</td>\n",
              "    </tr>\n",
              "    <tr>\n",
              "      <th>cluster 8</th>\n",
              "      <td>151.0</td>\n",
              "      <td>285.0</td>\n",
              "      <td>0.000000</td>\n",
              "      <td>9.0</td>\n",
              "    </tr>\n",
              "    <tr>\n",
              "      <th>cluster 9</th>\n",
              "      <td>170.0</td>\n",
              "      <td>286.0</td>\n",
              "      <td>0.000000</td>\n",
              "      <td>10.0</td>\n",
              "    </tr>\n",
              "    <tr>\n",
              "      <th>cluster 10</th>\n",
              "      <td>179.0</td>\n",
              "      <td>287.0</td>\n",
              "      <td>0.000000</td>\n",
              "      <td>11.0</td>\n",
              "    </tr>\n",
              "    <tr>\n",
              "      <th>cluster 11</th>\n",
              "      <td>239.0</td>\n",
              "      <td>288.0</td>\n",
              "      <td>0.000000</td>\n",
              "      <td>12.0</td>\n",
              "    </tr>\n",
              "    <tr>\n",
              "      <th>cluster 12</th>\n",
              "      <td>171.0</td>\n",
              "      <td>260.0</td>\n",
              "      <td>0.000000</td>\n",
              "      <td>2.0</td>\n",
              "    </tr>\n",
              "    <tr>\n",
              "      <th>cluster 13</th>\n",
              "      <td>129.0</td>\n",
              "      <td>145.0</td>\n",
              "      <td>0.000000</td>\n",
              "      <td>2.0</td>\n",
              "    </tr>\n",
              "    <tr>\n",
              "      <th>cluster 14</th>\n",
              "      <td>149.0</td>\n",
              "      <td>291.0</td>\n",
              "      <td>0.000000</td>\n",
              "      <td>3.0</td>\n",
              "    </tr>\n",
              "    <tr>\n",
              "      <th>cluster 15</th>\n",
              "      <td>174.0</td>\n",
              "      <td>292.0</td>\n",
              "      <td>0.000000</td>\n",
              "      <td>4.0</td>\n",
              "    </tr>\n",
              "    <tr>\n",
              "      <th>cluster 16</th>\n",
              "      <td>202.0</td>\n",
              "      <td>231.0</td>\n",
              "      <td>0.000000</td>\n",
              "      <td>2.0</td>\n",
              "    </tr>\n",
              "    <tr>\n",
              "      <th>cluster 17</th>\n",
              "      <td>246.0</td>\n",
              "      <td>294.0</td>\n",
              "      <td>0.000000</td>\n",
              "      <td>3.0</td>\n",
              "    </tr>\n",
              "    <tr>\n",
              "      <th>cluster 18</th>\n",
              "      <td>259.0</td>\n",
              "      <td>295.0</td>\n",
              "      <td>0.000000</td>\n",
              "      <td>4.0</td>\n",
              "    </tr>\n",
              "    <tr>\n",
              "      <th>cluster 19</th>\n",
              "      <td>156.0</td>\n",
              "      <td>203.0</td>\n",
              "      <td>0.000000</td>\n",
              "      <td>2.0</td>\n",
              "    </tr>\n",
              "    <tr>\n",
              "      <th>cluster 20</th>\n",
              "      <td>221.0</td>\n",
              "      <td>297.0</td>\n",
              "      <td>0.000000</td>\n",
              "      <td>3.0</td>\n",
              "    </tr>\n",
              "    <tr>\n",
              "      <th>cluster 21</th>\n",
              "      <td>85.0</td>\n",
              "      <td>186.0</td>\n",
              "      <td>0.000000</td>\n",
              "      <td>2.0</td>\n",
              "    </tr>\n",
              "    <tr>\n",
              "      <th>cluster 22</th>\n",
              "      <td>42.0</td>\n",
              "      <td>95.0</td>\n",
              "      <td>0.000000</td>\n",
              "      <td>2.0</td>\n",
              "    </tr>\n",
              "    <tr>\n",
              "      <th>cluster 23</th>\n",
              "      <td>18.0</td>\n",
              "      <td>67.0</td>\n",
              "      <td>0.000000</td>\n",
              "      <td>2.0</td>\n",
              "    </tr>\n",
              "    <tr>\n",
              "      <th>cluster 24</th>\n",
              "      <td>99.0</td>\n",
              "      <td>301.0</td>\n",
              "      <td>0.000000</td>\n",
              "      <td>3.0</td>\n",
              "    </tr>\n",
              "    <tr>\n",
              "      <th>cluster 25</th>\n",
              "      <td>122.0</td>\n",
              "      <td>302.0</td>\n",
              "      <td>0.000000</td>\n",
              "      <td>4.0</td>\n",
              "    </tr>\n",
              "    <tr>\n",
              "      <th>cluster 26</th>\n",
              "      <td>134.0</td>\n",
              "      <td>303.0</td>\n",
              "      <td>0.000000</td>\n",
              "      <td>5.0</td>\n",
              "    </tr>\n",
              "    <tr>\n",
              "      <th>cluster 27</th>\n",
              "      <td>166.0</td>\n",
              "      <td>304.0</td>\n",
              "      <td>0.000000</td>\n",
              "      <td>6.0</td>\n",
              "    </tr>\n",
              "    <tr>\n",
              "      <th>cluster 28</th>\n",
              "      <td>223.0</td>\n",
              "      <td>305.0</td>\n",
              "      <td>0.000000</td>\n",
              "      <td>7.0</td>\n",
              "    </tr>\n",
              "    <tr>\n",
              "      <th>cluster 29</th>\n",
              "      <td>262.0</td>\n",
              "      <td>306.0</td>\n",
              "      <td>0.000000</td>\n",
              "      <td>8.0</td>\n",
              "    </tr>\n",
              "    <tr>\n",
              "      <th>cluster 30</th>\n",
              "      <td>33.0</td>\n",
              "      <td>52.0</td>\n",
              "      <td>0.000000</td>\n",
              "      <td>2.0</td>\n",
              "    </tr>\n",
              "    <tr>\n",
              "      <th>...</th>\n",
              "      <td>...</td>\n",
              "      <td>...</td>\n",
              "      <td>...</td>\n",
              "      <td>...</td>\n",
              "    </tr>\n",
              "    <tr>\n",
              "      <th>cluster 249</th>\n",
              "      <td>14.0</td>\n",
              "      <td>525.0</td>\n",
              "      <td>0.756361</td>\n",
              "      <td>7.0</td>\n",
              "    </tr>\n",
              "    <tr>\n",
              "      <th>cluster 250</th>\n",
              "      <td>242.0</td>\n",
              "      <td>526.0</td>\n",
              "      <td>0.756870</td>\n",
              "      <td>56.0</td>\n",
              "    </tr>\n",
              "    <tr>\n",
              "      <th>cluster 251</th>\n",
              "      <td>243.0</td>\n",
              "      <td>528.0</td>\n",
              "      <td>0.757808</td>\n",
              "      <td>57.0</td>\n",
              "    </tr>\n",
              "    <tr>\n",
              "      <th>cluster 252</th>\n",
              "      <td>474.0</td>\n",
              "      <td>529.0</td>\n",
              "      <td>0.765367</td>\n",
              "      <td>59.0</td>\n",
              "    </tr>\n",
              "    <tr>\n",
              "      <th>cluster 253</th>\n",
              "      <td>307.0</td>\n",
              "      <td>530.0</td>\n",
              "      <td>0.765367</td>\n",
              "      <td>67.0</td>\n",
              "    </tr>\n",
              "    <tr>\n",
              "      <th>cluster 254</th>\n",
              "      <td>210.0</td>\n",
              "      <td>531.0</td>\n",
              "      <td>0.765367</td>\n",
              "      <td>68.0</td>\n",
              "    </tr>\n",
              "    <tr>\n",
              "      <th>cluster 255</th>\n",
              "      <td>507.0</td>\n",
              "      <td>532.0</td>\n",
              "      <td>0.765367</td>\n",
              "      <td>76.0</td>\n",
              "    </tr>\n",
              "    <tr>\n",
              "      <th>cluster 256</th>\n",
              "      <td>50.0</td>\n",
              "      <td>533.0</td>\n",
              "      <td>0.765367</td>\n",
              "      <td>77.0</td>\n",
              "    </tr>\n",
              "    <tr>\n",
              "      <th>cluster 257</th>\n",
              "      <td>509.0</td>\n",
              "      <td>534.0</td>\n",
              "      <td>0.765367</td>\n",
              "      <td>83.0</td>\n",
              "    </tr>\n",
              "    <tr>\n",
              "      <th>cluster 258</th>\n",
              "      <td>75.0</td>\n",
              "      <td>535.0</td>\n",
              "      <td>0.765367</td>\n",
              "      <td>84.0</td>\n",
              "    </tr>\n",
              "    <tr>\n",
              "      <th>cluster 259</th>\n",
              "      <td>518.0</td>\n",
              "      <td>536.0</td>\n",
              "      <td>0.765367</td>\n",
              "      <td>92.0</td>\n",
              "    </tr>\n",
              "    <tr>\n",
              "      <th>cluster 260</th>\n",
              "      <td>114.0</td>\n",
              "      <td>537.0</td>\n",
              "      <td>0.765367</td>\n",
              "      <td>93.0</td>\n",
              "    </tr>\n",
              "    <tr>\n",
              "      <th>cluster 261</th>\n",
              "      <td>521.0</td>\n",
              "      <td>538.0</td>\n",
              "      <td>0.773847</td>\n",
              "      <td>98.0</td>\n",
              "    </tr>\n",
              "    <tr>\n",
              "      <th>cluster 262</th>\n",
              "      <td>527.0</td>\n",
              "      <td>539.0</td>\n",
              "      <td>0.774354</td>\n",
              "      <td>105.0</td>\n",
              "    </tr>\n",
              "    <tr>\n",
              "      <th>cluster 263</th>\n",
              "      <td>97.0</td>\n",
              "      <td>346.0</td>\n",
              "      <td>0.776679</td>\n",
              "      <td>6.0</td>\n",
              "    </tr>\n",
              "    <tr>\n",
              "      <th>cluster 264</th>\n",
              "      <td>236.0</td>\n",
              "      <td>516.0</td>\n",
              "      <td>0.781647</td>\n",
              "      <td>15.0</td>\n",
              "    </tr>\n",
              "    <tr>\n",
              "      <th>cluster 265</th>\n",
              "      <td>330.0</td>\n",
              "      <td>540.0</td>\n",
              "      <td>0.784738</td>\n",
              "      <td>113.0</td>\n",
              "    </tr>\n",
              "    <tr>\n",
              "      <th>cluster 266</th>\n",
              "      <td>197.0</td>\n",
              "      <td>543.0</td>\n",
              "      <td>0.788240</td>\n",
              "      <td>114.0</td>\n",
              "    </tr>\n",
              "    <tr>\n",
              "      <th>cluster 267</th>\n",
              "      <td>519.0</td>\n",
              "      <td>522.0</td>\n",
              "      <td>0.788307</td>\n",
              "      <td>23.0</td>\n",
              "    </tr>\n",
              "    <tr>\n",
              "      <th>cluster 268</th>\n",
              "      <td>336.0</td>\n",
              "      <td>544.0</td>\n",
              "      <td>0.809007</td>\n",
              "      <td>121.0</td>\n",
              "    </tr>\n",
              "    <tr>\n",
              "      <th>cluster 269</th>\n",
              "      <td>542.0</td>\n",
              "      <td>546.0</td>\n",
              "      <td>0.809007</td>\n",
              "      <td>136.0</td>\n",
              "    </tr>\n",
              "    <tr>\n",
              "      <th>cluster 270</th>\n",
              "      <td>541.0</td>\n",
              "      <td>547.0</td>\n",
              "      <td>0.809468</td>\n",
              "      <td>142.0</td>\n",
              "    </tr>\n",
              "    <tr>\n",
              "      <th>cluster 271</th>\n",
              "      <td>545.0</td>\n",
              "      <td>548.0</td>\n",
              "      <td>0.812434</td>\n",
              "      <td>165.0</td>\n",
              "    </tr>\n",
              "    <tr>\n",
              "      <th>cluster 272</th>\n",
              "      <td>163.0</td>\n",
              "      <td>549.0</td>\n",
              "      <td>0.835173</td>\n",
              "      <td>166.0</td>\n",
              "    </tr>\n",
              "    <tr>\n",
              "      <th>cluster 273</th>\n",
              "      <td>504.0</td>\n",
              "      <td>550.0</td>\n",
              "      <td>0.837394</td>\n",
              "      <td>173.0</td>\n",
              "    </tr>\n",
              "    <tr>\n",
              "      <th>cluster 274</th>\n",
              "      <td>213.0</td>\n",
              "      <td>551.0</td>\n",
              "      <td>0.838350</td>\n",
              "      <td>174.0</td>\n",
              "    </tr>\n",
              "    <tr>\n",
              "      <th>cluster 275</th>\n",
              "      <td>94.0</td>\n",
              "      <td>552.0</td>\n",
              "      <td>0.842231</td>\n",
              "      <td>175.0</td>\n",
              "    </tr>\n",
              "    <tr>\n",
              "      <th>cluster 276</th>\n",
              "      <td>181.0</td>\n",
              "      <td>553.0</td>\n",
              "      <td>0.855884</td>\n",
              "      <td>176.0</td>\n",
              "    </tr>\n",
              "    <tr>\n",
              "      <th>cluster 277</th>\n",
              "      <td>205.0</td>\n",
              "      <td>554.0</td>\n",
              "      <td>0.913038</td>\n",
              "      <td>177.0</td>\n",
              "    </tr>\n",
              "    <tr>\n",
              "      <th>cluster 278</th>\n",
              "      <td>464.0</td>\n",
              "      <td>555.0</td>\n",
              "      <td>1.000000</td>\n",
              "      <td>279.0</td>\n",
              "    </tr>\n",
              "  </tbody>\n",
              "</table>\n",
              "<p>278 rows × 4 columns</p>\n",
              "</div>"
            ],
            "text/plain": [
              "             row label 1  row label 2  distance  no. of items in clust.\n",
              "cluster 1            1.0          7.0  0.000000                     2.0\n",
              "cluster 2           23.0        279.0  0.000000                     3.0\n",
              "cluster 3           28.0        280.0  0.000000                     4.0\n",
              "cluster 4           54.0        281.0  0.000000                     5.0\n",
              "cluster 5           84.0        282.0  0.000000                     6.0\n",
              "cluster 6          117.0        283.0  0.000000                     7.0\n",
              "cluster 7          142.0        284.0  0.000000                     8.0\n",
              "cluster 8          151.0        285.0  0.000000                     9.0\n",
              "cluster 9          170.0        286.0  0.000000                    10.0\n",
              "cluster 10         179.0        287.0  0.000000                    11.0\n",
              "cluster 11         239.0        288.0  0.000000                    12.0\n",
              "cluster 12         171.0        260.0  0.000000                     2.0\n",
              "cluster 13         129.0        145.0  0.000000                     2.0\n",
              "cluster 14         149.0        291.0  0.000000                     3.0\n",
              "cluster 15         174.0        292.0  0.000000                     4.0\n",
              "cluster 16         202.0        231.0  0.000000                     2.0\n",
              "cluster 17         246.0        294.0  0.000000                     3.0\n",
              "cluster 18         259.0        295.0  0.000000                     4.0\n",
              "cluster 19         156.0        203.0  0.000000                     2.0\n",
              "cluster 20         221.0        297.0  0.000000                     3.0\n",
              "cluster 21          85.0        186.0  0.000000                     2.0\n",
              "cluster 22          42.0         95.0  0.000000                     2.0\n",
              "cluster 23          18.0         67.0  0.000000                     2.0\n",
              "cluster 24          99.0        301.0  0.000000                     3.0\n",
              "cluster 25         122.0        302.0  0.000000                     4.0\n",
              "cluster 26         134.0        303.0  0.000000                     5.0\n",
              "cluster 27         166.0        304.0  0.000000                     6.0\n",
              "cluster 28         223.0        305.0  0.000000                     7.0\n",
              "cluster 29         262.0        306.0  0.000000                     8.0\n",
              "cluster 30          33.0         52.0  0.000000                     2.0\n",
              "...                  ...          ...       ...                     ...\n",
              "cluster 249         14.0        525.0  0.756361                     7.0\n",
              "cluster 250        242.0        526.0  0.756870                    56.0\n",
              "cluster 251        243.0        528.0  0.757808                    57.0\n",
              "cluster 252        474.0        529.0  0.765367                    59.0\n",
              "cluster 253        307.0        530.0  0.765367                    67.0\n",
              "cluster 254        210.0        531.0  0.765367                    68.0\n",
              "cluster 255        507.0        532.0  0.765367                    76.0\n",
              "cluster 256         50.0        533.0  0.765367                    77.0\n",
              "cluster 257        509.0        534.0  0.765367                    83.0\n",
              "cluster 258         75.0        535.0  0.765367                    84.0\n",
              "cluster 259        518.0        536.0  0.765367                    92.0\n",
              "cluster 260        114.0        537.0  0.765367                    93.0\n",
              "cluster 261        521.0        538.0  0.773847                    98.0\n",
              "cluster 262        527.0        539.0  0.774354                   105.0\n",
              "cluster 263         97.0        346.0  0.776679                     6.0\n",
              "cluster 264        236.0        516.0  0.781647                    15.0\n",
              "cluster 265        330.0        540.0  0.784738                   113.0\n",
              "cluster 266        197.0        543.0  0.788240                   114.0\n",
              "cluster 267        519.0        522.0  0.788307                    23.0\n",
              "cluster 268        336.0        544.0  0.809007                   121.0\n",
              "cluster 269        542.0        546.0  0.809007                   136.0\n",
              "cluster 270        541.0        547.0  0.809468                   142.0\n",
              "cluster 271        545.0        548.0  0.812434                   165.0\n",
              "cluster 272        163.0        549.0  0.835173                   166.0\n",
              "cluster 273        504.0        550.0  0.837394                   173.0\n",
              "cluster 274        213.0        551.0  0.838350                   174.0\n",
              "cluster 275         94.0        552.0  0.842231                   175.0\n",
              "cluster 276        181.0        553.0  0.855884                   176.0\n",
              "cluster 277        205.0        554.0  0.913038                   177.0\n",
              "cluster 278        464.0        555.0  1.000000                   279.0\n",
              "\n",
              "[278 rows x 4 columns]"
            ]
          },
          "execution_count": 249,
          "metadata": {},
          "output_type": "execute_result"
        }
      ]
    },
    {
      "cell_type": "markdown",
      "metadata": {
        "id": "td1NWqFun_3v"
      },
      "source": [
        "## Display the Dendogram"
      ]
    },
    {
      "cell_type": "code",
      "metadata": {
        "id": "Ow2fdmi4n_3v",
        "outputId": "95b17851-9c5a-4ed9-cff1-92e122577fc5"
      },
      "source": [
        "from scipy.cluster.hierarchy import dendrogram\n",
        "\n",
        "#make dendrogram black (part 1/2)\n",
        "#from scipy.cluster.hierarchy import set_link_color_palette\n",
        "#set_link_color_palette(['black'])\n",
        "\n",
        "fig, row_dendr = plt.subplots(figsize=(15, 20)) # set size\n",
        "\n",
        "row_dendr = dendrogram(row_clusters, \n",
        "                       labels=labels,\n",
        "                       orientation=\"right\",\n",
        "                       # make dendrogram black (part 2/2)\n",
        "                       # color_threshold=np.inf\n",
        "                       )\n",
        "\n",
        "plt.tight_layout()\n",
        "plt.ylabel('Euclidean distance')\n",
        "#plt.savefig('images/11_11.png', dpi=300, \n",
        "#            bbox_inches='tight')\n",
        "plt.show()"
      ],
      "execution_count": null,
      "outputs": [
        {
          "data": {
            "image/png": "[encoded data removed]",
            "text/plain": [
              "<matplotlib.figure.Figure at 0x1908b2f7198>"
            ]
          },
          "metadata": {},
          "output_type": "display_data"
        }
      ]
    },
    {
      "cell_type": "markdown",
      "metadata": {
        "id": "X8vWTh1Qn_3v"
      },
      "source": [
        "## Exercise \n",
        "Change the linkage method from 'complete' to 'single' and create the dendogram. Do you notice any obvious differences? Single link tends to create straggly clusters compared to complete."
      ]
    },
    {
      "cell_type": "markdown",
      "metadata": {
        "id": "wiKGylgHn_3v"
      },
      "source": [
        "# Further visualisations with the seaborn library\n",
        "seaborn provides some useful methods to display both the dendogram aswell as visualise the distances that led to the merging of instances (or text messages). "
      ]
    },
    {
      "cell_type": "code",
      "metadata": {
        "id": "TnI7G4c_n_3v",
        "outputId": "9e2611fa-3aae-46e5-d2db-c54e431112e3"
      },
      "source": [
        "# Libraries\n",
        "import seaborn as sns\n",
        "\n",
        " \n",
        "# Data set\n",
        "df3\n",
        " \n",
        "# draw the dendogram.\n",
        "# there are several linkage methods that can be used here\n",
        "sns.clustermap(df3, metric=\"euclidean\", standard_scale=1, method=\"single\")\n",
        "sns.clustermap(df3, metric=\"euclidean\", standard_scale=1, method=\"complete\", cmap=\"mako\")\n",
        "#sns.clustermap(df3, metric=\"euclidean\", standard_scale=1, method=\"average\", cmap=\"viridis\")\n",
        "#sns.clustermap(df3, metric=\"euclidean\", standard_scale=1, method=\"complete\", cmap=\"Blues\")\n"
      ],
      "execution_count": null,
      "outputs": [
        {
          "data": {
            "text/plain": [
              "<seaborn.matrix.ClusterGrid at 0x1908b7b9a20>"
            ]
          },
          "execution_count": 255,
          "metadata": {},
          "output_type": "execute_result"
        },
        {
          "data": {
            "image/png": "[encoded data removed]",
            "text/plain": [
              "<matplotlib.figure.Figure at 0x1908b7b9668>"
            ]
          },
          "metadata": {},
          "output_type": "display_data"
        },
        {
          "data": {
            "image/png": "[encoded data removed]",
            "text/plain": [
              "<matplotlib.figure.Figure at 0x1908b75beb8>"
            ]
          },
          "metadata": {},
          "output_type": "display_data"
        }
      ]
    },
    {
      "cell_type": "markdown",
      "metadata": {
        "id": "HlRurW8Dn_3v"
      },
      "source": [
        "# Explorations\n",
        "\n",
        "The code above can be used to cluster any text collection you might want to manage. \n",
        "For instance we could use it to cluster similar movies from synopsis; or we could cluster similar books from their abstracts; or cluster friends in a network based on similar postings etc. "
      ]
    }
  ]
}