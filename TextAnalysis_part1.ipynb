{
  "nbformat": 4,
  "nbformat_minor": 0,
  "metadata": {
    "anaconda-cloud": {},
    "kernelspec": {
      "display_name": "Python 3",
      "language": "python",
      "name": "python3"
    },
    "language_info": {
      "codemirror_mode": {
        "name": "ipython",
        "version": 3
      },
      "file_extension": ".py",
      "mimetype": "text/x-python",
      "name": "python",
      "nbconvert_exporter": "python",
      "pygments_lexer": "ipython3",
      "version": "3.7.4"
    },
    "toc": {
      "nav_menu": {},
      "number_sections": true,
      "sideBar": true,
      "skip_h1_title": false,
      "title_cell": "Table of Contents",
      "title_sidebar": "Contents",
      "toc_cell": false,
      "toc_position": {},
      "toc_section_display": true,
      "toc_window_display": false
    },
    "colab": {
      "provenance": [],
      "include_colab_link": true
    }
  },
  "cells": [
    {
      "cell_type": "markdown",
      "metadata": {
        "id": "view-in-github",
        "colab_type": "text"
      },
      "source": [
        "<a href=\"https://colab.research.google.com/github/bork0047/Data-Analysis/blob/main/TextAnalysis_part1.ipynb\" target=\"_parent\"><img src=\"https://colab.research.google.com/assets/colab-badge.svg\" alt=\"Open In Colab\"/></a>"
      ]
    },
    {
      "cell_type": "markdown",
      "metadata": {
        "id": "g5l0-Ts1NKPn"
      },
      "source": [
        "# Text Analytics Part 1: Applying Machine Learning To Text Classification\n"
      ]
    },
    {
      "cell_type": "markdown",
      "metadata": {
        "id": "z6Db1Ypfn7WL"
      },
      "source": [
        "# AIM\n",
        "To understand how to represent text data for classification and analysis. \n",
        "\n",
        "We will use the sentiment analysis application with the movie reviews to explore how to classify reviews into positive and negative sentiment classes. \n",
        "Thereafater other tasks will be explored in the follow on lab (supervised and unsupervised NLP analysis)."
      ]
    },
    {
      "cell_type": "code",
      "metadata": {
        "id": "e2QrCVr3n7WM"
      },
      "source": [
        "import pandas as pd\n",
        "import numpy as np\n",
        "import os\n",
        "\n",
        "import matplotlib.pylab as plt\n",
        "import seaborn as sns"
      ],
      "execution_count": null,
      "outputs": []
    },
    {
      "cell_type": "code",
      "metadata": {
        "id": "vzw4p7watD8Y"
      },
      "source": [
        "# sklearn evaluation stuff\n",
        "from sklearn.pipeline import Pipeline, make_pipeline\n",
        "from sklearn.model_selection import GridSearchCV, train_test_split, cross_val_score\n",
        "from sklearn.metrics import classification_report\n",
        "\n",
        "# NLP stuff\n",
        "from sklearn.feature_extraction.text import CountVectorizer, TfidfTransformer, TfidfVectorizer\n",
        "import nltk\n",
        "from nltk.stem.porter import PorterStemmer\n",
        "\n",
        "#export the models from the sklearn library\n",
        "from sklearn.naive_bayes import MultinomialNB\n",
        "from sklearn.linear_model import LogisticRegression\n",
        "from sklearn.tree import DecisionTreeClassifier\n",
        "from sklearn.neighbors import KNeighborsClassifier\n",
        "from sklearn.discriminant_analysis import LinearDiscriminantAnalysis\n",
        "from sklearn.naive_bayes import GaussianNB\n",
        "from sklearn.neural_network import MLPClassifier\n",
        "from sklearn.svm import SVC"
      ],
      "execution_count": null,
      "outputs": []
    },
    {
      "cell_type": "markdown",
      "metadata": {
        "id": "MwI1AOI2n7WN"
      },
      "source": [
        "# 1.0 Toy Example - Introducing the bag-of-words model"
      ]
    },
    {
      "cell_type": "markdown",
      "metadata": {
        "id": "UeqKHY5cn7WN"
      },
      "source": [
        "The bag-of-words model is a representation of documents as vectors in a high dimensional vector space based on the training collection vocabulary. Its a way of representing text data when modeling text with machine learning algorithms.\n",
        "\n",
        "The bag-of-words model is simple to understand and implement and has seen great success in problems such as language modeling and document classification.\n",
        "\n",
        "It basically assumes an encoding whereby each word in the training dataset vocabulary is considered a feature. \n",
        "\n",
        "This means that when handling reviews from the test set we must also consider what happens to words that were not seen in the training set. Two ways to deal with unknown terms observed at test time are to have an unknown token that absorbs all cases of new vocabulary, or more commonly to simply ignore those words in the test collection."
      ]
    },
    {
      "cell_type": "markdown",
      "metadata": {
        "id": "oUSeArZkn7WO"
      },
      "source": [
        "## Transforming documents into feature vectors"
      ]
    },
    {
      "cell_type": "markdown",
      "metadata": {
        "id": "3P97GNCDn7WO"
      },
      "source": [
        "CountVectorizer() method converts the text into count vector or a binary vector. For details of the avaiable parameters please refer to scikitLearn [documentation](\n",
        "http://scikit-learn.org/stable/modules/generated/sklearn.feature_extraction.text.CountVectorizer.html)\n",
        "\n",
        "By calling the fit_transform method on CountVectorizer, we can construct the bag-of-words model and transform text data into sparse feature vectors.\n"
      ]
    },
    {
      "cell_type": "code",
      "metadata": {
        "id": "vkLJIMuvn7WO"
      },
      "source": [
        "cv = CountVectorizer() \n",
        "docs = np.array([\n",
        "        'The sun is shining', # doc 0 \n",
        "        'The weather is sweet', # doc 1 \n",
        "        'The sun is shining, the weather is sweet, and one and one is two' # doc 2\n",
        "        ])\n",
        "bow = cv.fit_transform(docs)"
      ],
      "execution_count": null,
      "outputs": []
    },
    {
      "cell_type": "markdown",
      "metadata": {
        "id": "aOV2U0w-n7WP"
      },
      "source": [
        "Now let us print the contents of the vocabulary to get a better understanding of the underlying concepts:"
      ]
    },
    {
      "cell_type": "code",
      "metadata": {
        "id": "51jnSWwkn7WQ",
        "colab": {
          "base_uri": "https://localhost:8080/"
        },
        "outputId": "c85b5c59-3c15-4a10-fb42-3722943b1fc0"
      },
      "source": [
        "print(cv.vocabulary_) # vocabulary_ attribute of CountVectorizer() shows a mapping of terms to feature indices."
      ],
      "execution_count": null,
      "outputs": [
        {
          "output_type": "stream",
          "name": "stdout",
          "text": [
            "{'the': 6, 'sun': 4, 'is': 1, 'shining': 3, 'weather': 8, 'sweet': 5, 'and': 0, 'one': 2, 'two': 7}\n"
          ]
        }
      ]
    },
    {
      "cell_type": "markdown",
      "metadata": {
        "id": "L0dPBhIin7WQ"
      },
      "source": [
        "As we can see from executing the preceding command, the vocabulary is stored in a Python dictionary, which maps the unique words that are mapped to integer indices. Next let us print the feature vectors that we just created:"
      ]
    },
    {
      "cell_type": "markdown",
      "metadata": {
        "id": "RV7ts_PCn7WR"
      },
      "source": [
        "Each index position in the feature vectors shown here corresponds to the integer values that are stored as dictionary items in the CountVectorizer vocabulary. For example, the  first feature at index position 0 resembles the count of the word \"and\", which only occurs in the last document, and the word is at index position 1 (the 2nd feature in the document vectors) occurs in all three sentences. Those values in the feature vectors are also called the raw term frequencies: *tf (t,d)*—the number of times a term t occurs in a document *d*.\n",
        "\n",
        "We can print this as follows:"
      ]
    },
    {
      "cell_type": "code",
      "metadata": {
        "colab": {
          "base_uri": "https://localhost:8080/"
        },
        "id": "TGcwTo99QwfG",
        "outputId": "55eb9bab-d6ed-4347-8833-b4b0e32bc754"
      },
      "source": [
        "print(bow) # but this is a sparse matrix\n"
      ],
      "execution_count": null,
      "outputs": [
        {
          "output_type": "stream",
          "name": "stdout",
          "text": [
            "  (0, 6)\t1\n",
            "  (0, 4)\t1\n",
            "  (0, 1)\t1\n",
            "  (0, 3)\t1\n",
            "  (1, 6)\t1\n",
            "  (1, 1)\t1\n",
            "  (1, 8)\t1\n",
            "  (1, 5)\t1\n",
            "  (2, 6)\t2\n",
            "  (2, 4)\t1\n",
            "  (2, 1)\t3\n",
            "  (2, 3)\t1\n",
            "  (2, 8)\t1\n",
            "  (2, 5)\t1\n",
            "  (2, 0)\t2\n",
            "  (2, 2)\t2\n",
            "  (2, 7)\t1\n"
          ]
        }
      ]
    },
    {
      "cell_type": "code",
      "metadata": {
        "id": "LOJ8VEkFn7WR",
        "colab": {
          "base_uri": "https://localhost:8080/",
          "height": 181
        },
        "outputId": "f141e137-d676-4ef6-b526-e70ea937b458"
      },
      "source": [
        "# printing the sparse matrix\n",
        "\n",
        "plt.spy(bow)  # can also visualise the sparse BoW matrix with Spy - Plot the sparsity pattern of a 2D array."
      ],
      "execution_count": null,
      "outputs": [
        {
          "output_type": "execute_result",
          "data": {
            "text/plain": [
              "<matplotlib.lines.Line2D at 0x7f55e5c84b10>"
            ]
          },
          "metadata": {},
          "execution_count": 7
        },
        {
          "output_type": "display_data",
          "data": {
            "text/plain": [
              "<Figure size 432x288 with 1 Axes>"
            ],
            "image/png": "[encoded data removed]"
          },
          "metadata": {
            "needs_background": "light"
          }
        }
      ]
    },
    {
      "cell_type": "markdown",
      "metadata": {
        "id": "d4kW-w6UXFnv"
      },
      "source": [
        "### <font color='red'>Exercise</font>: Create a data frame and display the document term matrix. \n",
        "\n",
        "Use get_feature_names() on the count vectoriser. \n",
        "Use toarray() on the sparse matrix to access the data.\n",
        "These can be used in a data frame. "
      ]
    },
    {
      "cell_type": "code",
      "metadata": {
        "colab": {
          "base_uri": "https://localhost:8080/",
          "height": 199
        },
        "id": "dyuyNsmISjLi",
        "outputId": "c826f560-43d6-4f9b-ff2a-79b742d507eb"
      },
      "source": [
        "# Solution here\n",
        "\n",
        "# print the document term matrix\n",
        "columns = cv.get_feature_names()\n",
        "data = bow.toarray()\n",
        "df = pd.DataFrame(data, columns = columns)\n",
        "df"
      ],
      "execution_count": null,
      "outputs": [
        {
          "output_type": "stream",
          "name": "stderr",
          "text": [
            "/usr/local/lib/python3.7/dist-packages/sklearn/utils/deprecation.py:87: FutureWarning: Function get_feature_names is deprecated; get_feature_names is deprecated in 1.0 and will be removed in 1.2. Please use get_feature_names_out instead.\n",
            "  warnings.warn(msg, category=FutureWarning)\n"
          ]
        },
        {
          "output_type": "execute_result",
          "data": {
            "text/plain": [
              "   and  is  one  shining  sun  sweet  the  two  weather\n",
              "0    0   1    0        1    1      0    1    0        0\n",
              "1    0   1    0        0    0      1    1    0        1\n",
              "2    2   3    2        1    1      1    2    1        1"
            ],
            "text/html": [
              "\n",
              "  <div id=\"df-7a1be85b-14ad-462a-9a0f-c61d0580627d\">\n",
              "    <div class=\"colab-df-container\">\n",
              "      <div>\n",
              "<style scoped>\n",
              "    .dataframe tbody tr th:only-of-type {\n",
              "        vertical-align: middle;\n",
              "    }\n",
              "\n",
              "    .dataframe tbody tr th {\n",
              "        vertical-align: top;\n",
              "    }\n",
              "\n",
              "    .dataframe thead th {\n",
              "        text-align: right;\n",
              "    }\n",
              "</style>\n",
              "<table border=\"1\" class=\"dataframe\">\n",
              "  <thead>\n",
              "    <tr style=\"text-align: right;\">\n",
              "      <th></th>\n",
              "      <th>and</th>\n",
              "      <th>is</th>\n",
              "      <th>one</th>\n",
              "      <th>shining</th>\n",
              "      <th>sun</th>\n",
              "      <th>sweet</th>\n",
              "      <th>the</th>\n",
              "      <th>two</th>\n",
              "      <th>weather</th>\n",
              "    </tr>\n",
              "  </thead>\n",
              "  <tbody>\n",
              "    <tr>\n",
              "      <th>0</th>\n",
              "      <td>0</td>\n",
              "      <td>1</td>\n",
              "      <td>0</td>\n",
              "      <td>1</td>\n",
              "      <td>1</td>\n",
              "      <td>0</td>\n",
              "      <td>1</td>\n",
              "      <td>0</td>\n",
              "      <td>0</td>\n",
              "    </tr>\n",
              "    <tr>\n",
              "      <th>1</th>\n",
              "      <td>0</td>\n",
              "      <td>1</td>\n",
              "      <td>0</td>\n",
              "      <td>0</td>\n",
              "      <td>0</td>\n",
              "      <td>1</td>\n",
              "      <td>1</td>\n",
              "      <td>0</td>\n",
              "      <td>1</td>\n",
              "    </tr>\n",
              "    <tr>\n",
              "      <th>2</th>\n",
              "      <td>2</td>\n",
              "      <td>3</td>\n",
              "      <td>2</td>\n",
              "      <td>1</td>\n",
              "      <td>1</td>\n",
              "      <td>1</td>\n",
              "      <td>2</td>\n",
              "      <td>1</td>\n",
              "      <td>1</td>\n",
              "    </tr>\n",
              "  </tbody>\n",
              "</table>\n",
              "</div>\n",
              "      <button class=\"colab-df-convert\" onclick=\"convertToInteractive('df-7a1be85b-14ad-462a-9a0f-c61d0580627d')\"\n",
              "              title=\"Convert this dataframe to an interactive table.\"\n",
              "              style=\"display:none;\">\n",
              "        \n",
              "  <svg xmlns=\"http://www.w3.org/2000/svg\" height=\"24px\"viewBox=\"0 0 24 24\"\n",
              "       width=\"24px\">\n",
              "    <path d=\"M0 0h24v24H0V0z\" fill=\"none\"/>\n",
              "    <path d=\"M18.56 5.44l.94 2.06.94-2.06 2.06-.94-2.06-.94-.94-2.06-.94 2.06-2.06.94zm-11 1L8.5 8.5l.94-2.06 2.06-.94-2.06-.94L8.5 2.5l-.94 2.06-2.06.94zm10 10l.94 2.06.94-2.06 2.06-.94-2.06-.94-.94-2.06-.94 2.06-2.06.94z\"/><path d=\"M17.41 7.96l-1.37-1.37c-.4-.4-.92-.59-1.43-.59-.52 0-1.04.2-1.43.59L10.3 9.45l-7.72 7.72c-.78.78-.78 2.05 0 2.83L4 21.41c.39.39.9.59 1.41.59.51 0 1.02-.2 1.41-.59l7.78-7.78 2.81-2.81c.8-.78.8-2.07 0-2.86zM5.41 20L4 18.59l7.72-7.72 1.47 1.35L5.41 20z\"/>\n",
              "  </svg>\n",
              "      </button>\n",
              "      \n",
              "  <style>\n",
              "    .colab-df-container {\n",
              "      display:flex;\n",
              "      flex-wrap:wrap;\n",
              "      gap: 12px;\n",
              "    }\n",
              "\n",
              "    .colab-df-convert {\n",
              "      background-color: #E8F0FE;\n",
              "      border: none;\n",
              "      border-radius: 50%;\n",
              "      cursor: pointer;\n",
              "      display: none;\n",
              "      fill: #1967D2;\n",
              "      height: 32px;\n",
              "      padding: 0 0 0 0;\n",
              "      width: 32px;\n",
              "    }\n",
              "\n",
              "    .colab-df-convert:hover {\n",
              "      background-color: #E2EBFA;\n",
              "      box-shadow: 0px 1px 2px rgba(60, 64, 67, 0.3), 0px 1px 3px 1px rgba(60, 64, 67, 0.15);\n",
              "      fill: #174EA6;\n",
              "    }\n",
              "\n",
              "    [theme=dark] .colab-df-convert {\n",
              "      background-color: #3B4455;\n",
              "      fill: #D2E3FC;\n",
              "    }\n",
              "\n",
              "    [theme=dark] .colab-df-convert:hover {\n",
              "      background-color: #434B5C;\n",
              "      box-shadow: 0px 1px 3px 1px rgba(0, 0, 0, 0.15);\n",
              "      filter: drop-shadow(0px 1px 2px rgba(0, 0, 0, 0.3));\n",
              "      fill: #FFFFFF;\n",
              "    }\n",
              "  </style>\n",
              "\n",
              "      <script>\n",
              "        const buttonEl =\n",
              "          document.querySelector('#df-7a1be85b-14ad-462a-9a0f-c61d0580627d button.colab-df-convert');\n",
              "        buttonEl.style.display =\n",
              "          google.colab.kernel.accessAllowed ? 'block' : 'none';\n",
              "\n",
              "        async function convertToInteractive(key) {\n",
              "          const element = document.querySelector('#df-7a1be85b-14ad-462a-9a0f-c61d0580627d');\n",
              "          const dataTable =\n",
              "            await google.colab.kernel.invokeFunction('convertToInteractive',\n",
              "                                                     [key], {});\n",
              "          if (!dataTable) return;\n",
              "\n",
              "          const docLinkHtml = 'Like what you see? Visit the ' +\n",
              "            '<a target=\"_blank\" href=https://colab.research.google.com/notebooks/data_table.ipynb>data table notebook</a>'\n",
              "            + ' to learn more about interactive tables.';\n",
              "          element.innerHTML = '';\n",
              "          dataTable['output_type'] = 'display_data';\n",
              "          await google.colab.output.renderOutput(dataTable, element);\n",
              "          const docLink = document.createElement('div');\n",
              "          docLink.innerHTML = docLinkHtml;\n",
              "          element.appendChild(docLink);\n",
              "        }\n",
              "      </script>\n",
              "    </div>\n",
              "  </div>\n",
              "  "
            ]
          },
          "metadata": {},
          "execution_count": 8
        }
      ]
    },
    {
      "cell_type": "markdown",
      "metadata": {
        "id": "7iBtX_5Gn7WS"
      },
      "source": [
        "### <font color='red'>Exercise</font>: n-grams\n",
        "Notice that in the above the CountVectorizer we created has frequency counts for unigrams i.e. single words. \n",
        "To preserve some of the local ordering information we can also ask it to extract 2-grams of words in addition to the 1-grams (individual words). To do this modify the code using:\n",
        "\n",
        "CountVectorizer(ngram_range=(1,2)). \n",
        "\n",
        "Thereafter view the document term matrix again for comparison.\n"
      ]
    },
    {
      "cell_type": "code",
      "metadata": {
        "colab": {
          "base_uri": "https://localhost:8080/",
          "height": 361
        },
        "id": "reEPa5-IUcyd",
        "outputId": "25136262-a507-4f07-c5b5-51d84f16fd10"
      },
      "source": [
        "# SOLUTION here\n",
        "\n",
        "cv_2 = CountVectorizer(ngram_range=(1,2))\n",
        "bow_2 = cv_2.fit_transform(docs)\n",
        "print(cv_2.vocabulary_)\n",
        "print(bow_2.toarray())\n",
        "\n",
        "columns = cv_2.get_feature_names()\n",
        "data = bow_2.toarray()\n",
        "df = pd.DataFrame(data, columns = columns)\n",
        "df"
      ],
      "execution_count": null,
      "outputs": [
        {
          "output_type": "stream",
          "name": "stdout",
          "text": [
            "{'the': 15, 'sun': 11, 'is': 2, 'shining': 9, 'the sun': 16, 'sun is': 12, 'is shining': 3, 'weather': 19, 'sweet': 13, 'the weather': 17, 'weather is': 20, 'is sweet': 4, 'and': 0, 'one': 6, 'two': 18, 'shining the': 10, 'sweet and': 14, 'and one': 1, 'one and': 7, 'one is': 8, 'is two': 5}\n",
            "[[0 0 1 1 0 0 0 0 0 1 0 1 1 0 0 1 1 0 0 0 0]\n",
            " [0 0 1 0 1 0 0 0 0 0 0 0 0 1 0 1 0 1 0 1 1]\n",
            " [2 2 3 1 1 1 2 1 1 1 1 1 1 1 1 2 1 1 1 1 1]]\n"
          ]
        },
        {
          "output_type": "stream",
          "name": "stderr",
          "text": [
            "/usr/local/lib/python3.7/dist-packages/sklearn/utils/deprecation.py:87: FutureWarning: Function get_feature_names is deprecated; get_feature_names is deprecated in 1.0 and will be removed in 1.2. Please use get_feature_names_out instead.\n",
            "  warnings.warn(msg, category=FutureWarning)\n"
          ]
        },
        {
          "output_type": "execute_result",
          "data": {
            "text/plain": [
              "   and  and one  is  is shining  is sweet  is two  one  one and  one is  \\\n",
              "0    0        0   1           1         0       0    0        0       0   \n",
              "1    0        0   1           0         1       0    0        0       0   \n",
              "2    2        2   3           1         1       1    2        1       1   \n",
              "\n",
              "   shining  ...  sun  sun is  sweet  sweet and  the  the sun  the weather  \\\n",
              "0        1  ...    1       1      0          0    1        1            0   \n",
              "1        0  ...    0       0      1          0    1        0            1   \n",
              "2        1  ...    1       1      1          1    2        1            1   \n",
              "\n",
              "   two  weather  weather is  \n",
              "0    0        0           0  \n",
              "1    0        1           1  \n",
              "2    1        1           1  \n",
              "\n",
              "[3 rows x 21 columns]"
            ],
            "text/html": [
              "\n",
              "  <div id=\"df-f4a82df6-1ff8-4c02-af99-30c802d61f45\">\n",
              "    <div class=\"colab-df-container\">\n",
              "      <div>\n",
              "<style scoped>\n",
              "    .dataframe tbody tr th:only-of-type {\n",
              "        vertical-align: middle;\n",
              "    }\n",
              "\n",
              "    .dataframe tbody tr th {\n",
              "        vertical-align: top;\n",
              "    }\n",
              "\n",
              "    .dataframe thead th {\n",
              "        text-align: right;\n",
              "    }\n",
              "</style>\n",
              "<table border=\"1\" class=\"dataframe\">\n",
              "  <thead>\n",
              "    <tr style=\"text-align: right;\">\n",
              "      <th></th>\n",
              "      <th>and</th>\n",
              "      <th>and one</th>\n",
              "      <th>is</th>\n",
              "      <th>is shining</th>\n",
              "      <th>is sweet</th>\n",
              "      <th>is two</th>\n",
              "      <th>one</th>\n",
              "      <th>one and</th>\n",
              "      <th>one is</th>\n",
              "      <th>shining</th>\n",
              "      <th>...</th>\n",
              "      <th>sun</th>\n",
              "      <th>sun is</th>\n",
              "      <th>sweet</th>\n",
              "      <th>sweet and</th>\n",
              "      <th>the</th>\n",
              "      <th>the sun</th>\n",
              "      <th>the weather</th>\n",
              "      <th>two</th>\n",
              "      <th>weather</th>\n",
              "      <th>weather is</th>\n",
              "    </tr>\n",
              "  </thead>\n",
              "  <tbody>\n",
              "    <tr>\n",
              "      <th>0</th>\n",
              "      <td>0</td>\n",
              "      <td>0</td>\n",
              "      <td>1</td>\n",
              "      <td>1</td>\n",
              "      <td>0</td>\n",
              "      <td>0</td>\n",
              "      <td>0</td>\n",
              "      <td>0</td>\n",
              "      <td>0</td>\n",
              "      <td>1</td>\n",
              "      <td>...</td>\n",
              "      <td>1</td>\n",
              "      <td>1</td>\n",
              "      <td>0</td>\n",
              "      <td>0</td>\n",
              "      <td>1</td>\n",
              "      <td>1</td>\n",
              "      <td>0</td>\n",
              "      <td>0</td>\n",
              "      <td>0</td>\n",
              "      <td>0</td>\n",
              "    </tr>\n",
              "    <tr>\n",
              "      <th>1</th>\n",
              "      <td>0</td>\n",
              "      <td>0</td>\n",
              "      <td>1</td>\n",
              "      <td>0</td>\n",
              "      <td>1</td>\n",
              "      <td>0</td>\n",
              "      <td>0</td>\n",
              "      <td>0</td>\n",
              "      <td>0</td>\n",
              "      <td>0</td>\n",
              "      <td>...</td>\n",
              "      <td>0</td>\n",
              "      <td>0</td>\n",
              "      <td>1</td>\n",
              "      <td>0</td>\n",
              "      <td>1</td>\n",
              "      <td>0</td>\n",
              "      <td>1</td>\n",
              "      <td>0</td>\n",
              "      <td>1</td>\n",
              "      <td>1</td>\n",
              "    </tr>\n",
              "    <tr>\n",
              "      <th>2</th>\n",
              "      <td>2</td>\n",
              "      <td>2</td>\n",
              "      <td>3</td>\n",
              "      <td>1</td>\n",
              "      <td>1</td>\n",
              "      <td>1</td>\n",
              "      <td>2</td>\n",
              "      <td>1</td>\n",
              "      <td>1</td>\n",
              "      <td>1</td>\n",
              "      <td>...</td>\n",
              "      <td>1</td>\n",
              "      <td>1</td>\n",
              "      <td>1</td>\n",
              "      <td>1</td>\n",
              "      <td>2</td>\n",
              "      <td>1</td>\n",
              "      <td>1</td>\n",
              "      <td>1</td>\n",
              "      <td>1</td>\n",
              "      <td>1</td>\n",
              "    </tr>\n",
              "  </tbody>\n",
              "</table>\n",
              "<p>3 rows × 21 columns</p>\n",
              "</div>\n",
              "      <button class=\"colab-df-convert\" onclick=\"convertToInteractive('df-f4a82df6-1ff8-4c02-af99-30c802d61f45')\"\n",
              "              title=\"Convert this dataframe to an interactive table.\"\n",
              "              style=\"display:none;\">\n",
              "        \n",
              "  <svg xmlns=\"http://www.w3.org/2000/svg\" height=\"24px\"viewBox=\"0 0 24 24\"\n",
              "       width=\"24px\">\n",
              "    <path d=\"M0 0h24v24H0V0z\" fill=\"none\"/>\n",
              "    <path d=\"M18.56 5.44l.94 2.06.94-2.06 2.06-.94-2.06-.94-.94-2.06-.94 2.06-2.06.94zm-11 1L8.5 8.5l.94-2.06 2.06-.94-2.06-.94L8.5 2.5l-.94 2.06-2.06.94zm10 10l.94 2.06.94-2.06 2.06-.94-2.06-.94-.94-2.06-.94 2.06-2.06.94z\"/><path d=\"M17.41 7.96l-1.37-1.37c-.4-.4-.92-.59-1.43-.59-.52 0-1.04.2-1.43.59L10.3 9.45l-7.72 7.72c-.78.78-.78 2.05 0 2.83L4 21.41c.39.39.9.59 1.41.59.51 0 1.02-.2 1.41-.59l7.78-7.78 2.81-2.81c.8-.78.8-2.07 0-2.86zM5.41 20L4 18.59l7.72-7.72 1.47 1.35L5.41 20z\"/>\n",
              "  </svg>\n",
              "      </button>\n",
              "      \n",
              "  <style>\n",
              "    .colab-df-container {\n",
              "      display:flex;\n",
              "      flex-wrap:wrap;\n",
              "      gap: 12px;\n",
              "    }\n",
              "\n",
              "    .colab-df-convert {\n",
              "      background-color: #E8F0FE;\n",
              "      border: none;\n",
              "      border-radius: 50%;\n",
              "      cursor: pointer;\n",
              "      display: none;\n",
              "      fill: #1967D2;\n",
              "      height: 32px;\n",
              "      padding: 0 0 0 0;\n",
              "      width: 32px;\n",
              "    }\n",
              "\n",
              "    .colab-df-convert:hover {\n",
              "      background-color: #E2EBFA;\n",
              "      box-shadow: 0px 1px 2px rgba(60, 64, 67, 0.3), 0px 1px 3px 1px rgba(60, 64, 67, 0.15);\n",
              "      fill: #174EA6;\n",
              "    }\n",
              "\n",
              "    [theme=dark] .colab-df-convert {\n",
              "      background-color: #3B4455;\n",
              "      fill: #D2E3FC;\n",
              "    }\n",
              "\n",
              "    [theme=dark] .colab-df-convert:hover {\n",
              "      background-color: #434B5C;\n",
              "      box-shadow: 0px 1px 3px 1px rgba(0, 0, 0, 0.15);\n",
              "      filter: drop-shadow(0px 1px 2px rgba(0, 0, 0, 0.3));\n",
              "      fill: #FFFFFF;\n",
              "    }\n",
              "  </style>\n",
              "\n",
              "      <script>\n",
              "        const buttonEl =\n",
              "          document.querySelector('#df-f4a82df6-1ff8-4c02-af99-30c802d61f45 button.colab-df-convert');\n",
              "        buttonEl.style.display =\n",
              "          google.colab.kernel.accessAllowed ? 'block' : 'none';\n",
              "\n",
              "        async function convertToInteractive(key) {\n",
              "          const element = document.querySelector('#df-f4a82df6-1ff8-4c02-af99-30c802d61f45');\n",
              "          const dataTable =\n",
              "            await google.colab.kernel.invokeFunction('convertToInteractive',\n",
              "                                                     [key], {});\n",
              "          if (!dataTable) return;\n",
              "\n",
              "          const docLinkHtml = 'Like what you see? Visit the ' +\n",
              "            '<a target=\"_blank\" href=https://colab.research.google.com/notebooks/data_table.ipynb>data table notebook</a>'\n",
              "            + ' to learn more about interactive tables.';\n",
              "          element.innerHTML = '';\n",
              "          dataTable['output_type'] = 'display_data';\n",
              "          await google.colab.output.renderOutput(dataTable, element);\n",
              "          const docLink = document.createElement('div');\n",
              "          docLink.innerHTML = docLinkHtml;\n",
              "          element.appendChild(docLink);\n",
              "        }\n",
              "      </script>\n",
              "    </div>\n",
              "  </div>\n",
              "  "
            ]
          },
          "metadata": {},
          "execution_count": 9
        }
      ]
    },
    {
      "cell_type": "markdown",
      "metadata": {
        "id": "ZKv6OjdBz4mE"
      },
      "source": [
        "### <font color='red'>Exercise</font>: How can we plot the word frequency count for the corpus?"
      ]
    },
    {
      "cell_type": "code",
      "metadata": {
        "colab": {
          "base_uri": "https://localhost:8080/",
          "height": 357
        },
        "id": "ANStUv-dJfXV",
        "outputId": "660b634b-0a4c-4d73-f38e-fd960286f4cd"
      },
      "source": [
        "#SOLUTION here\n",
        "token_dict = cv.vocabulary_\n",
        "x = token_dict.keys() # alternative is to use=> cv.get_feature_names();    \n",
        "y = token_dict.values() # alternative is to use=> bow.toarray().sum(axis=0) \n",
        "print(token_dict)\n",
        "print(x,y)\n",
        "\n",
        "# Solution needs to be sorted by frequency counts - complete sorting code here ----\n",
        "# neeed to sort by the frequency count\n",
        "sorted_pairs = sorted(zip(x, y), key=lambda x: x[1], reverse=True)\n",
        "x, y = zip(*sorted_pairs)\n",
        "\n",
        "#plot\n",
        "plt.figure(figsize=(15,4))\n",
        "plt.bar(x,y)\n",
        "\n",
        "plt.ylabel('Frequency')\n",
        "plt.xlabel('tokens')\n",
        "plt.title('Frequency counts')\n",
        "plt.xticks(rotation=45)\n",
        "\n",
        "plt.show()\n"
      ],
      "execution_count": null,
      "outputs": [
        {
          "output_type": "stream",
          "name": "stdout",
          "text": [
            "{'the': 6, 'sun': 4, 'is': 1, 'shining': 3, 'weather': 8, 'sweet': 5, 'and': 0, 'one': 2, 'two': 7}\n",
            "dict_keys(['the', 'sun', 'is', 'shining', 'weather', 'sweet', 'and', 'one', 'two']) dict_values([6, 4, 1, 3, 8, 5, 0, 2, 7])\n"
          ]
        },
        {
          "output_type": "display_data",
          "data": {
            "text/plain": [
              "<Figure size 1080x288 with 1 Axes>"
            ],
            "image/png": "[encoded data removed]"
          },
          "metadata": {
            "needs_background": "light"
          }
        }
      ]
    },
    {
      "cell_type": "markdown",
      "metadata": {
        "id": "FB_aCtkrGHUj"
      },
      "source": [
        "### <font color='red'>Exercise</font>: Create a method to plot the frequency distribution"
      ]
    },
    {
      "cell_type": "code",
      "metadata": {
        "id": "A1-WJcSBEo_R"
      },
      "source": [
        "# SOLUTION: method to print the frequency distribution\n",
        "\n",
        "\n",
        "def get_frequency_distribution(docs, max_features =None, max_df=1.0, min_df =0):\n",
        "  cv_ = CountVectorizer(ngram_range=(1,1), max_features =max_features, max_df = max_df, min_df = min_df)\n",
        "  bag_ = cv_.fit_transform(docs)\n",
        "\n",
        "  token_dict = cv_.vocabulary_\n",
        "\n",
        "  tokens = token_dict.keys()# cv_.get_feature_names();    \n",
        "  tokenCounts = token_dict.values() # bag_.toarray().sum(axis=0)  \n",
        "\n",
        "  # use zip and sorted to first combine tokens and tokenCounts ; and then sort by the counts\n",
        "  sorted_pairs = sorted(zip(tokens, tokenCounts), key=lambda x: x[1], reverse=True)\n",
        "\n",
        "  x, y = zip(*sorted_pairs)\n",
        "  print(len(x))\n",
        "\n",
        "  plt.figure(figsize=(15,4))\n",
        "  \n",
        "  plt.bar(x,y)\n",
        "\n",
        "  plt.ylabel('Frequency')\n",
        "  plt.xlabel('tokens')\n",
        "  plt.title('Frequency counts')\n",
        "  plt.xticks(rotation=45)\n",
        "\n",
        "  plt.show()\n"
      ],
      "execution_count": null,
      "outputs": []
    },
    {
      "cell_type": "code",
      "metadata": {
        "colab": {
          "base_uri": "https://localhost:8080/",
          "height": 339
        },
        "id": "gfLj0skDFpPY",
        "outputId": "8bd24370-f695-426f-9b4a-8843ee7c59c1"
      },
      "source": [
        "get_frequency_distribution(docs, 10)"
      ],
      "execution_count": null,
      "outputs": [
        {
          "output_type": "stream",
          "name": "stdout",
          "text": [
            "9\n"
          ]
        },
        {
          "output_type": "display_data",
          "data": {
            "text/plain": [
              "<Figure size 1080x288 with 1 Axes>"
            ],
            "image/png": "[encoded data removed]"
          },
          "metadata": {
            "needs_background": "light"
          }
        }
      ]
    },
    {
      "cell_type": "markdown",
      "metadata": {
        "id": "SNTfw-u0n7WS"
      },
      "source": [
        "## Understanding word relevancy via term frequency-inverse document frequency"
      ]
    },
    {
      "cell_type": "code",
      "metadata": {
        "id": "yKtc-OFLn7WS"
      },
      "source": [
        "np.set_printoptions(precision=2) # These options determine the way floating point numbers are displayed."
      ],
      "execution_count": null,
      "outputs": []
    },
    {
      "cell_type": "markdown",
      "metadata": {
        "id": "ZkiM9ToOn7WS"
      },
      "source": [
        "When we are analyzing text data, we often encounter words that occur across multiple documents from both classes. Those frequently occurring words typically don't contain useful or discriminatory information. \n",
        "\n",
        "Term frequency-inverse document frequency (tf-idf) can be used to downweight those frequently occurring words in the feature vectors. \n",
        "\n",
        "$$\\text{tf-idf}(t,d)=\\text{tf (t,d)}\\times \\text{idf}(t,d)$$\n",
        "\n",
        "Here the tf(t, d) is the term frequency that we introduced in the previous section,\n",
        "and the inverse document frequency *idf(t, d)* can be calculated as:\n",
        "\n",
        "$$\\text{idf}(t,d) = \\text{log}\\frac{N}{\\text{df}(d, t) + 1},$$\n",
        "\n",
        "where $N$ is the total number of documents, and *df(d, t)* is the number of documents *d* that contain the term *t*. \n",
        "\n",
        "Note that adding the constant 1 is the default and serves to smooth the counts with assigning a non-zero value to terms to avoid divide by zero errors.\n",
        "\n",
        "The log is used to ensure that low document frequencies are not given too much weight.\n",
        "\n",
        "Scikit-learn implements yet another transformer, the `TfidfTransformer`, that takes the raw term frequencies from `CountVectorizer` as input and transforms them into tf-idfs:"
      ]
    },
    {
      "cell_type": "code",
      "metadata": {
        "colab": {
          "base_uri": "https://localhost:8080/",
          "height": 253
        },
        "id": "OjVDT75Uw0CS",
        "outputId": "6e67f886-8ecb-4b61-f1be-f309ee156c6d"
      },
      "source": [
        "tfidf = TfidfTransformer(use_idf=True, smooth_idf=True)\n",
        "tfidf_data = tfidf.fit_transform(cv.fit_transform(docs)).toarray()\n",
        "print(tfidf_data)\n",
        "\n",
        "columns = cv.get_feature_names()\n",
        "\n",
        "tfidf_df = pd.DataFrame(tfidf_data, columns = columns)\n",
        "tfidf_df"
      ],
      "execution_count": null,
      "outputs": [
        {
          "output_type": "stream",
          "name": "stdout",
          "text": [
            "[[0.   0.43 0.   0.56 0.56 0.   0.43 0.   0.  ]\n",
            " [0.   0.43 0.   0.   0.   0.56 0.43 0.   0.56]\n",
            " [0.5  0.45 0.5  0.19 0.19 0.19 0.3  0.25 0.19]]\n"
          ]
        },
        {
          "output_type": "stream",
          "name": "stderr",
          "text": [
            "/usr/local/lib/python3.7/dist-packages/sklearn/utils/deprecation.py:87: FutureWarning: Function get_feature_names is deprecated; get_feature_names is deprecated in 1.0 and will be removed in 1.2. Please use get_feature_names_out instead.\n",
            "  warnings.warn(msg, category=FutureWarning)\n"
          ]
        },
        {
          "output_type": "execute_result",
          "data": {
            "text/plain": [
              "        and        is       one   shining       sun     sweet       the  \\\n",
              "0  0.000000  0.433708  0.000000  0.558478  0.558478  0.000000  0.433708   \n",
              "1  0.000000  0.433708  0.000000  0.000000  0.000000  0.558478  0.433708   \n",
              "2  0.502386  0.445076  0.502386  0.191039  0.191039  0.191039  0.296718   \n",
              "\n",
              "        two   weather  \n",
              "0  0.000000  0.000000  \n",
              "1  0.000000  0.558478  \n",
              "2  0.251193  0.191039  "
            ],
            "text/html": [
              "\n",
              "  <div id=\"df-b0b3798c-484e-4722-8735-d66a12830e25\">\n",
              "    <div class=\"colab-df-container\">\n",
              "      <div>\n",
              "<style scoped>\n",
              "    .dataframe tbody tr th:only-of-type {\n",
              "        vertical-align: middle;\n",
              "    }\n",
              "\n",
              "    .dataframe tbody tr th {\n",
              "        vertical-align: top;\n",
              "    }\n",
              "\n",
              "    .dataframe thead th {\n",
              "        text-align: right;\n",
              "    }\n",
              "</style>\n",
              "<table border=\"1\" class=\"dataframe\">\n",
              "  <thead>\n",
              "    <tr style=\"text-align: right;\">\n",
              "      <th></th>\n",
              "      <th>and</th>\n",
              "      <th>is</th>\n",
              "      <th>one</th>\n",
              "      <th>shining</th>\n",
              "      <th>sun</th>\n",
              "      <th>sweet</th>\n",
              "      <th>the</th>\n",
              "      <th>two</th>\n",
              "      <th>weather</th>\n",
              "    </tr>\n",
              "  </thead>\n",
              "  <tbody>\n",
              "    <tr>\n",
              "      <th>0</th>\n",
              "      <td>0.000000</td>\n",
              "      <td>0.433708</td>\n",
              "      <td>0.000000</td>\n",
              "      <td>0.558478</td>\n",
              "      <td>0.558478</td>\n",
              "      <td>0.000000</td>\n",
              "      <td>0.433708</td>\n",
              "      <td>0.000000</td>\n",
              "      <td>0.000000</td>\n",
              "    </tr>\n",
              "    <tr>\n",
              "      <th>1</th>\n",
              "      <td>0.000000</td>\n",
              "      <td>0.433708</td>\n",
              "      <td>0.000000</td>\n",
              "      <td>0.000000</td>\n",
              "      <td>0.000000</td>\n",
              "      <td>0.558478</td>\n",
              "      <td>0.433708</td>\n",
              "      <td>0.000000</td>\n",
              "      <td>0.558478</td>\n",
              "    </tr>\n",
              "    <tr>\n",
              "      <th>2</th>\n",
              "      <td>0.502386</td>\n",
              "      <td>0.445076</td>\n",
              "      <td>0.502386</td>\n",
              "      <td>0.191039</td>\n",
              "      <td>0.191039</td>\n",
              "      <td>0.191039</td>\n",
              "      <td>0.296718</td>\n",
              "      <td>0.251193</td>\n",
              "      <td>0.191039</td>\n",
              "    </tr>\n",
              "  </tbody>\n",
              "</table>\n",
              "</div>\n",
              "      <button class=\"colab-df-convert\" onclick=\"convertToInteractive('df-b0b3798c-484e-4722-8735-d66a12830e25')\"\n",
              "              title=\"Convert this dataframe to an interactive table.\"\n",
              "              style=\"display:none;\">\n",
              "        \n",
              "  <svg xmlns=\"http://www.w3.org/2000/svg\" height=\"24px\"viewBox=\"0 0 24 24\"\n",
              "       width=\"24px\">\n",
              "    <path d=\"M0 0h24v24H0V0z\" fill=\"none\"/>\n",
              "    <path d=\"M18.56 5.44l.94 2.06.94-2.06 2.06-.94-2.06-.94-.94-2.06-.94 2.06-2.06.94zm-11 1L8.5 8.5l.94-2.06 2.06-.94-2.06-.94L8.5 2.5l-.94 2.06-2.06.94zm10 10l.94 2.06.94-2.06 2.06-.94-2.06-.94-.94-2.06-.94 2.06-2.06.94z\"/><path d=\"M17.41 7.96l-1.37-1.37c-.4-.4-.92-.59-1.43-.59-.52 0-1.04.2-1.43.59L10.3 9.45l-7.72 7.72c-.78.78-.78 2.05 0 2.83L4 21.41c.39.39.9.59 1.41.59.51 0 1.02-.2 1.41-.59l7.78-7.78 2.81-2.81c.8-.78.8-2.07 0-2.86zM5.41 20L4 18.59l7.72-7.72 1.47 1.35L5.41 20z\"/>\n",
              "  </svg>\n",
              "      </button>\n",
              "      \n",
              "  <style>\n",
              "    .colab-df-container {\n",
              "      display:flex;\n",
              "      flex-wrap:wrap;\n",
              "      gap: 12px;\n",
              "    }\n",
              "\n",
              "    .colab-df-convert {\n",
              "      background-color: #E8F0FE;\n",
              "      border: none;\n",
              "      border-radius: 50%;\n",
              "      cursor: pointer;\n",
              "      display: none;\n",
              "      fill: #1967D2;\n",
              "      height: 32px;\n",
              "      padding: 0 0 0 0;\n",
              "      width: 32px;\n",
              "    }\n",
              "\n",
              "    .colab-df-convert:hover {\n",
              "      background-color: #E2EBFA;\n",
              "      box-shadow: 0px 1px 2px rgba(60, 64, 67, 0.3), 0px 1px 3px 1px rgba(60, 64, 67, 0.15);\n",
              "      fill: #174EA6;\n",
              "    }\n",
              "\n",
              "    [theme=dark] .colab-df-convert {\n",
              "      background-color: #3B4455;\n",
              "      fill: #D2E3FC;\n",
              "    }\n",
              "\n",
              "    [theme=dark] .colab-df-convert:hover {\n",
              "      background-color: #434B5C;\n",
              "      box-shadow: 0px 1px 3px 1px rgba(0, 0, 0, 0.15);\n",
              "      filter: drop-shadow(0px 1px 2px rgba(0, 0, 0, 0.3));\n",
              "      fill: #FFFFFF;\n",
              "    }\n",
              "  </style>\n",
              "\n",
              "      <script>\n",
              "        const buttonEl =\n",
              "          document.querySelector('#df-b0b3798c-484e-4722-8735-d66a12830e25 button.colab-df-convert');\n",
              "        buttonEl.style.display =\n",
              "          google.colab.kernel.accessAllowed ? 'block' : 'none';\n",
              "\n",
              "        async function convertToInteractive(key) {\n",
              "          const element = document.querySelector('#df-b0b3798c-484e-4722-8735-d66a12830e25');\n",
              "          const dataTable =\n",
              "            await google.colab.kernel.invokeFunction('convertToInteractive',\n",
              "                                                     [key], {});\n",
              "          if (!dataTable) return;\n",
              "\n",
              "          const docLinkHtml = 'Like what you see? Visit the ' +\n",
              "            '<a target=\"_blank\" href=https://colab.research.google.com/notebooks/data_table.ipynb>data table notebook</a>'\n",
              "            + ' to learn more about interactive tables.';\n",
              "          element.innerHTML = '';\n",
              "          dataTable['output_type'] = 'display_data';\n",
              "          await google.colab.output.renderOutput(dataTable, element);\n",
              "          const docLink = document.createElement('div');\n",
              "          docLink.innerHTML = docLinkHtml;\n",
              "          element.appendChild(docLink);\n",
              "        }\n",
              "      </script>\n",
              "    </div>\n",
              "  </div>\n",
              "  "
            ]
          },
          "metadata": {},
          "execution_count": 14
        }
      ]
    },
    {
      "cell_type": "markdown",
      "metadata": {
        "id": "y1qeSVCMn7WT"
      },
      "source": [
        "However, if we'd manually calculated the tf-idfs of the individual terms in our feature vectors, we'd have noticed that the `TfidfTransformer` calculates the tf-idfs slightly differently compared to the standard textbook equations that we did in the lecture. The equations for the idf and tf-idf that were implemented in scikit-learn are:"
      ]
    },
    {
      "cell_type": "markdown",
      "metadata": {
        "id": "CnUNIok_n7WT"
      },
      "source": [
        "The tf-idf equation that was implemented in scikit-learn is as follows:\n",
        "$$\\text{tf-idf}(t,d) = \\text{tf}(t,d) \\times (\\text{idf}(t,d) \\mathbf{+1})$$\n",
        "\n",
        "$$\\text{idf} (t,d) = log\\frac{\\mathbf{1 \\ +} \\ n_d}{\\mathbf{1 \\ +} \\ \\text{df}(d, t)}$$\n",
        "\n",
        "The default setting of **smooth_idf=True** acheives the extra addition of one to document frequencies, as if an extra document was seen containing every term in the collection exactly once. Prevents zero divisions.\n",
        "\n",
        "To make sure that we understand how TfidfTransformer works, let us walk\n",
        "through an example and calculate the tf-idf of the word **\"is\"** in the **3rd document**.\n",
        "\n",
        "The word \"is\" has a term frequency of 3 (tf = 3) in document 3, and the document frequency of this term is 3 since the term \"is\" occurs in all three documents (df = 3). Thus, we can calculate the idf as follows:\n",
        "\n",
        "$$\\text{idf}(\"is\", d3) = log \\frac{1+3}{1+3} = 0$$\n",
        "\n",
        "Now in order to calculate the tf-idf, we simply need to add 1 to the inverse document frequency and multiply it by the term frequency:\n",
        "\n",
        "$$\\text{tf-idf}(\"is\",d3)= 3 \\times (0+1) = 3$$"
      ]
    },
    {
      "cell_type": "code",
      "metadata": {
        "id": "yXuE47Rtn7WU",
        "colab": {
          "base_uri": "https://localhost:8080/"
        },
        "outputId": "13095673-3d4d-4a58-c057-9d2dc0df6522"
      },
      "source": [
        "tf_is = 3 # suppose term \"is\" has a frequency of 3\n",
        "n_docs = 3\n",
        "\n",
        "idf_is = np.log((n_docs) / 3)\n",
        "tfidf_is = tf_is * idf_is\n",
        "print('tf-idf of term \"is\" = %.2f' % tfidf_is)\n",
        "\n",
        "#SOLUTION with smoothed\n",
        "idf_is = np.log((n_docs+1) / (3+1))\n",
        "tfidf_is = tf_is * (idf_is + 1)\n",
        "print('tf-idf of term \"is\" = %.2f' % tfidf_is)"
      ],
      "execution_count": null,
      "outputs": [
        {
          "output_type": "stream",
          "name": "stdout",
          "text": [
            "tf-idf of term \"is\" = 0.00\n",
            "tf-idf of term \"is\" = 3.00\n"
          ]
        }
      ]
    },
    {
      "cell_type": "markdown",
      "metadata": {
        "id": "GF1d5clEn7WU"
      },
      "source": [
        "If we repeated these calculations for all terms in the 3rd document, we'd obtain the following tf-idf vectors: [3.39, 3.0, 3.39, 1.29, 1.29, 1.29, 2.0 , 1.69, 1.29]. However, we notice that the values in this feature vector are different from the values that we obtained from the TfidfTransformer that we used previously. \n",
        "\n",
        "The next step that we are missing in this tf-idf calculation is the L2-normalization, which can be applied as follows:"
      ]
    },
    {
      "cell_type": "markdown",
      "metadata": {
        "id": "sH4abExIn7WU"
      },
      "source": [
        "$$\\text{tfi-df}_{norm} = \\frac{[3.39, 3.0, 3.39, 1.29, 1.29, 1.29, 2.0 , 1.69, 1.29]}{\\sqrt{[3.39^2+ 3.0^2+ 3.39^2+ 1.29^2+ 1.29^2+ 1.29^2+ 2.0^2+ 1.69^2+ 1.29^2]}}$$\n",
        "\n",
        "$$=[0.5, 0.45, 0.5, 0.19, 0.19, 0.19, 0.3, 0.25, 0.19]$$\n",
        "\n",
        "$$\\Rightarrow \\text{tfi-df}_{norm}(\"is\", d3) = 0.45$$"
      ]
    },
    {
      "cell_type": "markdown",
      "metadata": {
        "id": "3jV1tApYn7WU"
      },
      "source": [
        "Lets recalculate the tfidf values by switching off the norm "
      ]
    },
    {
      "cell_type": "code",
      "metadata": {
        "id": "ORT0C7pGn7WU",
        "colab": {
          "base_uri": "https://localhost:8080/"
        },
        "outputId": "bb4f8960-244e-4d5b-a88c-c61b4a7e6433"
      },
      "source": [
        "tfidf = TfidfTransformer(use_idf=True, norm=None, smooth_idf=True) # default uses norm=l2\n",
        "raw_tfidf = tfidf.fit_transform(cv.fit_transform(docs)).toarray()[-1] # consider the last row as an example\n",
        "raw_tfidf "
      ],
      "execution_count": null,
      "outputs": [
        {
          "output_type": "execute_result",
          "data": {
            "text/plain": [
              "array([3.39, 3.  , 3.39, 1.29, 1.29, 1.29, 2.  , 1.69, 1.29])"
            ]
          },
          "metadata": {},
          "execution_count": 16
        }
      ]
    },
    {
      "cell_type": "code",
      "metadata": {
        "id": "oXbG7JV5n7WV",
        "colab": {
          "base_uri": "https://localhost:8080/"
        },
        "outputId": "40950a7f-88c7-4a88-8a25-620c056d6800"
      },
      "source": [
        "# manually add the document length normalisation to the last document\n",
        "l2_tfidf = raw_tfidf / np.sqrt(np.sum(raw_tfidf**2))\n",
        "l2_tfidf"
      ],
      "execution_count": null,
      "outputs": [
        {
          "output_type": "execute_result",
          "data": {
            "text/plain": [
              "array([0.5 , 0.45, 0.5 , 0.19, 0.19, 0.19, 0.3 , 0.25, 0.19])"
            ]
          },
          "metadata": {},
          "execution_count": 17
        }
      ]
    },
    {
      "cell_type": "code",
      "metadata": {
        "colab": {
          "base_uri": "https://localhost:8080/"
        },
        "id": "N5iGOsruViPK",
        "outputId": "23fcce77-c290-487f-e64e-9b616c86adc1"
      },
      "source": [
        "# compare above with the norm using 'l2'\n",
        "tfidf = TfidfTransformer(use_idf=True, norm='l2', smooth_idf=True)\n",
        "norm_tfidf = tfidf.fit_transform(cv.fit_transform(docs)).toarray()\n",
        "norm_tfidf\n"
      ],
      "execution_count": null,
      "outputs": [
        {
          "output_type": "execute_result",
          "data": {
            "text/plain": [
              "array([[0.  , 0.43, 0.  , 0.56, 0.56, 0.  , 0.43, 0.  , 0.  ],\n",
              "       [0.  , 0.43, 0.  , 0.  , 0.  , 0.56, 0.43, 0.  , 0.56],\n",
              "       [0.5 , 0.45, 0.5 , 0.19, 0.19, 0.19, 0.3 , 0.25, 0.19]])"
            ]
          },
          "metadata": {},
          "execution_count": 18
        }
      ]
    },
    {
      "cell_type": "markdown",
      "metadata": {
        "id": "tFdWgI5g7N30"
      },
      "source": [
        "While it is also more typical to normalize the raw term frequencies before calculating the tf-idfs, the `TfidfTransformer` normalizes the tf-idfs directly.\n",
        "\n",
        "By default (`norm='l2'`), scikit-learn's TfidfTransformer applies the L2-normalization, which returns a vector of length 1 by dividing an un-normalized feature vector *v* by its L2-norm:\n",
        "\n",
        "$$v_{\\text{norm}} = \\frac{v}{||v||_2} = \\frac{v}{\\sqrt{v_{1}^{2} + v_{2}^{2} + \\dots + v_{n}^{2}}} = \\frac{v}{\\big (\\sum_{i=1}^{n} v_{i}^{2}\\big)^\\frac{1}{2}}$$"
      ]
    },
    {
      "cell_type": "markdown",
      "metadata": {
        "id": "oFFB4Qhh9jUE"
      },
      "source": [
        "### Tfidf Values - Using vectoriser to compute tfidf values"
      ]
    },
    {
      "cell_type": "markdown",
      "metadata": {
        "id": "kZVf1h0CWesL"
      },
      "source": [
        "\n",
        "The 3 documents:\n",
        "\n",
        "\n",
        "1.   'The sun is shining'\n",
        "2.   'The weather is sweet'\n",
        "3. 'The sun is shining, the weather is sweet, and one and one is two' "
      ]
    },
    {
      "cell_type": "markdown",
      "metadata": {
        "id": "OirtjXjx9y8b"
      },
      "source": [
        "#### Analysing IDF Values calculated by the TfidfTransformer"
      ]
    },
    {
      "cell_type": "code",
      "metadata": {
        "id": "4m-8s6OQuVr0",
        "colab": {
          "base_uri": "https://localhost:8080/",
          "height": 370
        },
        "outputId": "002e85ee-0434-4bce-e69b-bc29705409d2"
      },
      "source": [
        "#instantiate CountVectorizer() \n",
        "cv=CountVectorizer() \n",
        " \n",
        "# generates word counts for the words in your docs \n",
        "word_count_vector=cv.fit_transform(docs)\n",
        "\n",
        "#Now we are going to compute the IDF values by calling\n",
        "tfidf = TfidfTransformer(use_idf=True, norm='l2', smooth_idf=True)\n",
        "tfidf.fit(word_count_vector)\n",
        "\n",
        "# print idf values by accessing idf_\n",
        "df_idf = pd.DataFrame(tfidf.idf_, index=cv.get_feature_names(),columns=[\"idf_weights\"]) \n",
        " \n",
        "# sort in descending order and plot the idf values\n",
        "df_idf.sort_values(by=['idf_weights'], ascending=False).plot.bar()\n"
      ],
      "execution_count": null,
      "outputs": [
        {
          "output_type": "stream",
          "name": "stderr",
          "text": [
            "/usr/local/lib/python3.7/dist-packages/sklearn/utils/deprecation.py:87: FutureWarning: Function get_feature_names is deprecated; get_feature_names is deprecated in 1.0 and will be removed in 1.2. Please use get_feature_names_out instead.\n",
            "  warnings.warn(msg, category=FutureWarning)\n"
          ]
        },
        {
          "output_type": "execute_result",
          "data": {
            "text/plain": [
              "<matplotlib.axes._subplots.AxesSubplot at 0x7f55e5494750>"
            ]
          },
          "metadata": {},
          "execution_count": 19
        },
        {
          "output_type": "display_data",
          "data": {
            "text/plain": [
              "<Figure size 432x288 with 1 Axes>"
            ],
            "image/png": "[encoded data removed]"
          },
          "metadata": {
            "needs_background": "light"
          }
        }
      ]
    },
    {
      "cell_type": "markdown",
      "metadata": {
        "id": "DqdTJh-Lu6Ev"
      },
      "source": [
        "#### TFIDF in two steps"
      ]
    },
    {
      "cell_type": "code",
      "metadata": {
        "id": "sneVyKTEuhy3",
        "colab": {
          "base_uri": "https://localhost:8080/"
        },
        "outputId": "f5651e14-1e2d-41b8-cc01-5468c660a019"
      },
      "source": [
        "# tfidf in two steps i.e. count vectoriser then transform to tfidf\n",
        "\n",
        "#instantiate CountVectorizer() \n",
        "cv=CountVectorizer() \n",
        " \n",
        "# generates word counts for the words in your docs \n",
        "word_count_vector=cv.fit_transform(docs)\n",
        "\n",
        "#Now we are going to compute the IDF values by calling\n",
        "tfidf = TfidfTransformer(use_idf=True, norm='l2', smooth_idf=True) #these are all the defaults anyways\n",
        "\n",
        "\n",
        "print(tfidf.fit_transform(word_count_vector).toarray()) #Transform a count matrix to a normalized tf or tf-idf representation\n"
      ],
      "execution_count": null,
      "outputs": [
        {
          "output_type": "stream",
          "name": "stdout",
          "text": [
            "[[0.   0.43 0.   0.56 0.56 0.   0.43 0.   0.  ]\n",
            " [0.   0.43 0.   0.   0.   0.56 0.43 0.   0.56]\n",
            " [0.5  0.45 0.5  0.19 0.19 0.19 0.3  0.25 0.19]]\n"
          ]
        }
      ]
    },
    {
      "cell_type": "markdown",
      "metadata": {
        "id": "DQ2BI5-eu-RF"
      },
      "source": [
        "#### TFIDF in one step"
      ]
    },
    {
      "cell_type": "code",
      "metadata": {
        "id": "jR0TP6g8utUy",
        "colab": {
          "base_uri": "https://localhost:8080/"
        },
        "outputId": "94e3922d-d755-4250-e194-1c3f533a3e67"
      },
      "source": [
        " # Use TfidfVectorizer do it in one step\n",
        "\n",
        " #max_df=0.95 means ignore terms that appear in more than 95% of the documents i.e. get rid of corpus specific stopwords\n",
        " #min_df = 2 means get rid of words that dont appear in more than 2 documents i.e they are too rare \n",
        " #max_features = 10 means get top 10 features based on count (term frequency across the corpus.)\n",
        " tfidf_vec = TfidfVectorizer(use_idf=True, norm='l2', smooth_idf=True)\n",
        "\n",
        " tfidf = tfidf_vec.fit_transform(docs)\n",
        " print(tfidf)\n"
      ],
      "execution_count": null,
      "outputs": [
        {
          "output_type": "stream",
          "name": "stdout",
          "text": [
            "  (0, 3)\t0.5584778353707552\n",
            "  (0, 1)\t0.4337078595086741\n",
            "  (0, 4)\t0.5584778353707552\n",
            "  (0, 6)\t0.4337078595086741\n",
            "  (1, 5)\t0.5584778353707552\n",
            "  (1, 8)\t0.5584778353707552\n",
            "  (1, 1)\t0.4337078595086741\n",
            "  (1, 6)\t0.4337078595086741\n",
            "  (2, 7)\t0.25119322405394995\n",
            "  (2, 2)\t0.5023864481078999\n",
            "  (2, 0)\t0.5023864481078999\n",
            "  (2, 5)\t0.191038921512224\n",
            "  (2, 8)\t0.191038921512224\n",
            "  (2, 3)\t0.191038921512224\n",
            "  (2, 1)\t0.44507629390649395\n",
            "  (2, 4)\t0.191038921512224\n",
            "  (2, 6)\t0.296717529270996\n"
          ]
        }
      ]
    },
    {
      "cell_type": "markdown",
      "metadata": {
        "id": "y24ThqLqn7WV"
      },
      "source": [
        "### TfidfVectorizer - sparse matrix versus the dense representation \n",
        "Use TfidfVectorizer which is equivalent to CountVectorizer followed by TfidfTransformer.\n",
        "It converts a collection of raw documents to a matrix of TF-IDF features.\n"
      ]
    },
    {
      "cell_type": "code",
      "metadata": {
        "id": "iKZnl3xan7WV",
        "colab": {
          "base_uri": "https://localhost:8080/",
          "height": 306
        },
        "outputId": "03333282-2c05-4821-bc67-bc1f0b13fb40"
      },
      "source": [
        "corpus = np.array([\n",
        "        'The sun is shining',\n",
        "        'The weather is sweet',\n",
        "        'The sun is shining, the weather is sweet, and one and one is two'])\n",
        "\n",
        "vectorizer = TfidfVectorizer(norm='l2')\n",
        "X = vectorizer.fit_transform(corpus)\n",
        "words = vectorizer.get_feature_names_out()\n",
        "print(\"words are:\", words)\n",
        "\n",
        "# get the sparse matrix\n",
        "# (A Document index , B Specific word-vector index)  TFIDF score for word B in document A\n",
        "# This is a sparse matrix. It indicates the tfidf score for all non-zero values in the word vector for each document.\n",
        "print(\"shape is: \", X.shape)\n",
        "print(\"dense representation: \\n\", X[0])\n",
        "plt.spy(X)"
      ],
      "execution_count": null,
      "outputs": [
        {
          "output_type": "stream",
          "name": "stdout",
          "text": [
            "words are: ['and' 'is' 'one' 'shining' 'sun' 'sweet' 'the' 'two' 'weather']\n",
            "shape is:  (3, 9)\n",
            "dense representation: \n",
            "   (0, 3)\t0.5584778353707552\n",
            "  (0, 1)\t0.4337078595086741\n",
            "  (0, 4)\t0.5584778353707552\n",
            "  (0, 6)\t0.4337078595086741\n"
          ]
        },
        {
          "output_type": "execute_result",
          "data": {
            "text/plain": [
              "<matplotlib.lines.Line2D at 0x7f55e5430450>"
            ]
          },
          "metadata": {},
          "execution_count": 22
        },
        {
          "output_type": "display_data",
          "data": {
            "text/plain": [
              "<Figure size 432x288 with 1 Axes>"
            ],
            "image/png": "[encoded data removed]"
          },
          "metadata": {
            "needs_background": "light"
          }
        }
      ]
    },
    {
      "cell_type": "code",
      "metadata": {
        "colab": {
          "base_uri": "https://localhost:8080/"
        },
        "id": "S0O4_aqCYyQK",
        "outputId": "326ceeeb-2c3f-436f-d81f-d5bcfd0d35f7"
      },
      "source": [
        "# we can reconstruct the sparse representation as a matrix\n",
        "term_doc_matrix = vectorizer.transform(corpus).toarray()\n",
        "print(term_doc_matrix)"
      ],
      "execution_count": null,
      "outputs": [
        {
          "output_type": "stream",
          "name": "stdout",
          "text": [
            "[[0.   0.43 0.   0.56 0.56 0.   0.43 0.   0.  ]\n",
            " [0.   0.43 0.   0.   0.   0.56 0.43 0.   0.56]\n",
            " [0.5  0.45 0.5  0.19 0.19 0.19 0.3  0.25 0.19]]\n"
          ]
        }
      ]
    },
    {
      "cell_type": "code",
      "metadata": {
        "colab": {
          "base_uri": "https://localhost:8080/",
          "height": 143
        },
        "id": "JGHwFbuHi8Ej",
        "outputId": "62f7fd5f-3b42-4530-e7dc-04c281947186"
      },
      "source": [
        "# Create the pandas DataFrame\n",
        "df = pd.DataFrame(term_doc_matrix, columns = words)\n",
        "df.head(5)"
      ],
      "execution_count": null,
      "outputs": [
        {
          "output_type": "execute_result",
          "data": {
            "text/plain": [
              "        and        is       one   shining       sun     sweet       the  \\\n",
              "0  0.000000  0.433708  0.000000  0.558478  0.558478  0.000000  0.433708   \n",
              "1  0.000000  0.433708  0.000000  0.000000  0.000000  0.558478  0.433708   \n",
              "2  0.502386  0.445076  0.502386  0.191039  0.191039  0.191039  0.296718   \n",
              "\n",
              "        two   weather  \n",
              "0  0.000000  0.000000  \n",
              "1  0.000000  0.558478  \n",
              "2  0.251193  0.191039  "
            ],
            "text/html": [
              "\n",
              "  <div id=\"df-5f29ab83-99d9-43e9-800f-937981fb57a5\">\n",
              "    <div class=\"colab-df-container\">\n",
              "      <div>\n",
              "<style scoped>\n",
              "    .dataframe tbody tr th:only-of-type {\n",
              "        vertical-align: middle;\n",
              "    }\n",
              "\n",
              "    .dataframe tbody tr th {\n",
              "        vertical-align: top;\n",
              "    }\n",
              "\n",
              "    .dataframe thead th {\n",
              "        text-align: right;\n",
              "    }\n",
              "</style>\n",
              "<table border=\"1\" class=\"dataframe\">\n",
              "  <thead>\n",
              "    <tr style=\"text-align: right;\">\n",
              "      <th></th>\n",
              "      <th>and</th>\n",
              "      <th>is</th>\n",
              "      <th>one</th>\n",
              "      <th>shining</th>\n",
              "      <th>sun</th>\n",
              "      <th>sweet</th>\n",
              "      <th>the</th>\n",
              "      <th>two</th>\n",
              "      <th>weather</th>\n",
              "    </tr>\n",
              "  </thead>\n",
              "  <tbody>\n",
              "    <tr>\n",
              "      <th>0</th>\n",
              "      <td>0.000000</td>\n",
              "      <td>0.433708</td>\n",
              "      <td>0.000000</td>\n",
              "      <td>0.558478</td>\n",
              "      <td>0.558478</td>\n",
              "      <td>0.000000</td>\n",
              "      <td>0.433708</td>\n",
              "      <td>0.000000</td>\n",
              "      <td>0.000000</td>\n",
              "    </tr>\n",
              "    <tr>\n",
              "      <th>1</th>\n",
              "      <td>0.000000</td>\n",
              "      <td>0.433708</td>\n",
              "      <td>0.000000</td>\n",
              "      <td>0.000000</td>\n",
              "      <td>0.000000</td>\n",
              "      <td>0.558478</td>\n",
              "      <td>0.433708</td>\n",
              "      <td>0.000000</td>\n",
              "      <td>0.558478</td>\n",
              "    </tr>\n",
              "    <tr>\n",
              "      <th>2</th>\n",
              "      <td>0.502386</td>\n",
              "      <td>0.445076</td>\n",
              "      <td>0.502386</td>\n",
              "      <td>0.191039</td>\n",
              "      <td>0.191039</td>\n",
              "      <td>0.191039</td>\n",
              "      <td>0.296718</td>\n",
              "      <td>0.251193</td>\n",
              "      <td>0.191039</td>\n",
              "    </tr>\n",
              "  </tbody>\n",
              "</table>\n",
              "</div>\n",
              "      <button class=\"colab-df-convert\" onclick=\"convertToInteractive('df-5f29ab83-99d9-43e9-800f-937981fb57a5')\"\n",
              "              title=\"Convert this dataframe to an interactive table.\"\n",
              "              style=\"display:none;\">\n",
              "        \n",
              "  <svg xmlns=\"http://www.w3.org/2000/svg\" height=\"24px\"viewBox=\"0 0 24 24\"\n",
              "       width=\"24px\">\n",
              "    <path d=\"M0 0h24v24H0V0z\" fill=\"none\"/>\n",
              "    <path d=\"M18.56 5.44l.94 2.06.94-2.06 2.06-.94-2.06-.94-.94-2.06-.94 2.06-2.06.94zm-11 1L8.5 8.5l.94-2.06 2.06-.94-2.06-.94L8.5 2.5l-.94 2.06-2.06.94zm10 10l.94 2.06.94-2.06 2.06-.94-2.06-.94-.94-2.06-.94 2.06-2.06.94z\"/><path d=\"M17.41 7.96l-1.37-1.37c-.4-.4-.92-.59-1.43-.59-.52 0-1.04.2-1.43.59L10.3 9.45l-7.72 7.72c-.78.78-.78 2.05 0 2.83L4 21.41c.39.39.9.59 1.41.59.51 0 1.02-.2 1.41-.59l7.78-7.78 2.81-2.81c.8-.78.8-2.07 0-2.86zM5.41 20L4 18.59l7.72-7.72 1.47 1.35L5.41 20z\"/>\n",
              "  </svg>\n",
              "      </button>\n",
              "      \n",
              "  <style>\n",
              "    .colab-df-container {\n",
              "      display:flex;\n",
              "      flex-wrap:wrap;\n",
              "      gap: 12px;\n",
              "    }\n",
              "\n",
              "    .colab-df-convert {\n",
              "      background-color: #E8F0FE;\n",
              "      border: none;\n",
              "      border-radius: 50%;\n",
              "      cursor: pointer;\n",
              "      display: none;\n",
              "      fill: #1967D2;\n",
              "      height: 32px;\n",
              "      padding: 0 0 0 0;\n",
              "      width: 32px;\n",
              "    }\n",
              "\n",
              "    .colab-df-convert:hover {\n",
              "      background-color: #E2EBFA;\n",
              "      box-shadow: 0px 1px 2px rgba(60, 64, 67, 0.3), 0px 1px 3px 1px rgba(60, 64, 67, 0.15);\n",
              "      fill: #174EA6;\n",
              "    }\n",
              "\n",
              "    [theme=dark] .colab-df-convert {\n",
              "      background-color: #3B4455;\n",
              "      fill: #D2E3FC;\n",
              "    }\n",
              "\n",
              "    [theme=dark] .colab-df-convert:hover {\n",
              "      background-color: #434B5C;\n",
              "      box-shadow: 0px 1px 3px 1px rgba(0, 0, 0, 0.15);\n",
              "      filter: drop-shadow(0px 1px 2px rgba(0, 0, 0, 0.3));\n",
              "      fill: #FFFFFF;\n",
              "    }\n",
              "  </style>\n",
              "\n",
              "      <script>\n",
              "        const buttonEl =\n",
              "          document.querySelector('#df-5f29ab83-99d9-43e9-800f-937981fb57a5 button.colab-df-convert');\n",
              "        buttonEl.style.display =\n",
              "          google.colab.kernel.accessAllowed ? 'block' : 'none';\n",
              "\n",
              "        async function convertToInteractive(key) {\n",
              "          const element = document.querySelector('#df-5f29ab83-99d9-43e9-800f-937981fb57a5');\n",
              "          const dataTable =\n",
              "            await google.colab.kernel.invokeFunction('convertToInteractive',\n",
              "                                                     [key], {});\n",
              "          if (!dataTable) return;\n",
              "\n",
              "          const docLinkHtml = 'Like what you see? Visit the ' +\n",
              "            '<a target=\"_blank\" href=https://colab.research.google.com/notebooks/data_table.ipynb>data table notebook</a>'\n",
              "            + ' to learn more about interactive tables.';\n",
              "          element.innerHTML = '';\n",
              "          dataTable['output_type'] = 'display_data';\n",
              "          await google.colab.output.renderOutput(dataTable, element);\n",
              "          const docLink = document.createElement('div');\n",
              "          docLink.innerHTML = docLinkHtml;\n",
              "          element.appendChild(docLink);\n",
              "        }\n",
              "      </script>\n",
              "    </div>\n",
              "  </div>\n",
              "  "
            ]
          },
          "metadata": {},
          "execution_count": 24
        }
      ]
    },
    {
      "cell_type": "markdown",
      "metadata": {
        "id": "r8AgM1YAuYVJ"
      },
      "source": [
        "As we saw in the previous subsection, the word \"is\" with the largest term frequency was contained in the 3rd document.\n",
        "\n",
        "However, after transforming the same feature vector into tf-idfs, we see that the word \"is\" is\n",
        "now associated with a relatively smaller tf-idf (0.45) in document 3 since it is\n",
        "also contained in documents 1 and 2 and thus is unlikely to contain any useful, discriminatory information.\n",
        "\n",
        "Note how \"one\" and \"shining\" are now considered more important even though they occured only once in the previous vector representation (using just TF)."
      ]
    },
    {
      "cell_type": "code",
      "metadata": {
        "colab": {
          "base_uri": "https://localhost:8080/",
          "height": 297
        },
        "id": "vTr2Sv3Gnctq",
        "outputId": "e5beb6e8-aa54-4d46-e977-72d1b9f4d3be"
      },
      "source": [
        "np.random.seed(0)\n",
        "import seaborn as sns\n",
        "sns.set_theme()\n",
        "\n",
        "ax = sns.heatmap(df)#, vmin=0, vmax=1)\n",
        "ax.xaxis.tick_top() # x axis on top\n",
        "ax.xaxis.set_label_position('top')\n",
        "plt.xticks(rotation=45)\n",
        "ax.tick_params(length=0) # remove ticks at top\n",
        "plt.show()\n"
      ],
      "execution_count": null,
      "outputs": [
        {
          "output_type": "display_data",
          "data": {
            "text/plain": [
              "<Figure size 432x288 with 2 Axes>"
            ],
            "image/png": "[encoded data removed]"
          },
          "metadata": {}
        }
      ]
    },
    {
      "cell_type": "markdown",
      "metadata": {
        "id": "gJ4gppz1n7WV"
      },
      "source": [
        "### <font color='red'>Exercise</font>: with TfidfVectorizer\n",
        "- Again try out the ngram_range=(1, 2, 3) to generate n-grams beyond unigrams with the TFIDFVectorizer.\n",
        "- max_df and min_df are parameters that can be set with TFIDFVectorizer; where the former specifies the max cutoff for frequent occuring words and latter the minimum expected occurence of words with documents before words are considered. Try setting these and explore the different outputs. \n",
        "Please refer to scikitLearn [documentation](\n",
        "http://scikit-learn.org/stable/modules/generated/sklearn.feature_extraction.text.CountVectorizer.html)\n"
      ]
    },
    {
      "cell_type": "code",
      "metadata": {
        "colab": {
          "base_uri": "https://localhost:8080/"
        },
        "id": "Y2ef282KPCwK",
        "outputId": "5e7ea533-4345-428e-d22b-3299103c817b"
      },
      "source": [
        "corpus = np.array([\n",
        "        'The sun is shining',\n",
        "        'The weather is sweet',\n",
        "        'The sun is shining, the weather is sweet, and one and one is two'])\n",
        "\n",
        "# SOLUTION here\n",
        "vectorizer_123 = TfidfVectorizer(ngram_range=(1,3))\n",
        "X_123 = vectorizer_123.fit_transform(corpus)\n",
        "print(vectorizer_123.get_feature_names())\n",
        "\n",
        "print(\"Shape:\", X_123.shape)"
      ],
      "execution_count": null,
      "outputs": [
        {
          "output_type": "stream",
          "name": "stdout",
          "text": [
            "['and', 'and one', 'and one and', 'and one is', 'is', 'is shining', 'is shining the', 'is sweet', 'is sweet and', 'is two', 'one', 'one and', 'one and one', 'one is', 'one is two', 'shining', 'shining the', 'shining the weather', 'sun', 'sun is', 'sun is shining', 'sweet', 'sweet and', 'sweet and one', 'the', 'the sun', 'the sun is', 'the weather', 'the weather is', 'two', 'weather', 'weather is', 'weather is sweet']\n",
            "Shape: (3, 33)\n"
          ]
        },
        {
          "output_type": "stream",
          "name": "stderr",
          "text": [
            "/usr/local/lib/python3.7/dist-packages/sklearn/utils/deprecation.py:87: FutureWarning: Function get_feature_names is deprecated; get_feature_names is deprecated in 1.0 and will be removed in 1.2. Please use get_feature_names_out instead.\n",
            "  warnings.warn(msg, category=FutureWarning)\n"
          ]
        }
      ]
    },
    {
      "cell_type": "code",
      "metadata": {
        "colab": {
          "base_uri": "https://localhost:8080/"
        },
        "id": "giEGf4aWPGFm",
        "outputId": "c14c2c64-6ba5-4311-a0b1-be76867be294"
      },
      "source": [
        "# word \"The\" appears in 3 documents and \"one\" appears in only one document\n",
        "corpus = np.array([\n",
        "        'The sun is shining',\n",
        "        'The weather is sweet',\n",
        "        'The sun is shining, the weather is sweet, and one and one is two'])\n",
        "\n",
        "#SOLUTION here\n",
        "\n",
        "vectorizer_mm = TfidfVectorizer(min_df=2, max_df=2)# min means appear in atleast 2 docs; max means greater than 2 docs\n",
        "X_mm = vectorizer_mm.fit_transform(corpus)\n",
        "token_dict = vectorizer_mm.vocabulary_\n",
        "print(X_mm)\n",
        "\n",
        "print(token_dict)\n",
        "\n",
        "print(X_mm.shape)"
      ],
      "execution_count": null,
      "outputs": [
        {
          "output_type": "stream",
          "name": "stdout",
          "text": [
            "  (0, 0)\t0.7071067811865476\n",
            "  (0, 1)\t0.7071067811865476\n",
            "  (1, 2)\t0.7071067811865476\n",
            "  (1, 3)\t0.7071067811865476\n",
            "  (2, 2)\t0.5\n",
            "  (2, 3)\t0.5\n",
            "  (2, 0)\t0.5\n",
            "  (2, 1)\t0.5\n",
            "{'sun': 1, 'shining': 0, 'weather': 3, 'sweet': 2}\n",
            "(3, 4)\n"
          ]
        }
      ]
    },
    {
      "cell_type": "markdown",
      "metadata": {
        "id": "Bw4g1DwbtlH4"
      },
      "source": [
        "### Accessing the top tfidf words\n"
      ]
    },
    {
      "cell_type": "code",
      "metadata": {
        "colab": {
          "base_uri": "https://localhost:8080/",
          "height": 228
        },
        "id": "GmsuIQ4OD7dK",
        "outputId": "8891afb9-f2be-4ffe-b373-91deef857abf"
      },
      "source": [
        "num_features = 10\n",
        "tfidf_vectorizer = TfidfVectorizer( max_features=num_features, stop_words='english')\n",
        "tfidf = tfidf_vectorizer.fit_transform(corpus)\n",
        "\n",
        "tfidf_features = tfidf_vectorizer.get_feature_names()\n",
        "tfidf_values =  np.asarray(tfidf.sum(axis=0)).ravel() # returns a 1D array which can be zipped to the tfidf_features list\n",
        "#print(tfidf_values.shape)\n",
        "\n",
        "sorted_pairs = sorted(zip(tfidf_features, tfidf_values), key=lambda x: x[1], reverse=True)\n",
        "\n",
        "print(sorted_pairs)\n",
        "scores, words = zip(*sorted_pairs)\n",
        "print(x)\n",
        "print(y)\n",
        "df = pd.DataFrame(sorted_pairs)\n",
        "df.head(5)"
      ],
      "execution_count": null,
      "outputs": [
        {
          "output_type": "stream",
          "name": "stdout",
          "text": [
            "[('shining', 1.2071067811865475), ('sun', 1.2071067811865475), ('sweet', 1.2071067811865475), ('weather', 1.2071067811865475)]\n",
            "('weather', 'two', 'the', 'sweet', 'sun', 'shining', 'one', 'is', 'and')\n",
            "(8, 7, 6, 5, 4, 3, 2, 1, 0)\n"
          ]
        },
        {
          "output_type": "execute_result",
          "data": {
            "text/plain": [
              "         0         1\n",
              "0  shining  1.207107\n",
              "1      sun  1.207107\n",
              "2    sweet  1.207107\n",
              "3  weather  1.207107"
            ],
            "text/html": [
              "\n",
              "  <div id=\"df-665d2215-bd69-4e7c-8b04-dbf4e046bf8a\">\n",
              "    <div class=\"colab-df-container\">\n",
              "      <div>\n",
              "<style scoped>\n",
              "    .dataframe tbody tr th:only-of-type {\n",
              "        vertical-align: middle;\n",
              "    }\n",
              "\n",
              "    .dataframe tbody tr th {\n",
              "        vertical-align: top;\n",
              "    }\n",
              "\n",
              "    .dataframe thead th {\n",
              "        text-align: right;\n",
              "    }\n",
              "</style>\n",
              "<table border=\"1\" class=\"dataframe\">\n",
              "  <thead>\n",
              "    <tr style=\"text-align: right;\">\n",
              "      <th></th>\n",
              "      <th>0</th>\n",
              "      <th>1</th>\n",
              "    </tr>\n",
              "  </thead>\n",
              "  <tbody>\n",
              "    <tr>\n",
              "      <th>0</th>\n",
              "      <td>shining</td>\n",
              "      <td>1.207107</td>\n",
              "    </tr>\n",
              "    <tr>\n",
              "      <th>1</th>\n",
              "      <td>sun</td>\n",
              "      <td>1.207107</td>\n",
              "    </tr>\n",
              "    <tr>\n",
              "      <th>2</th>\n",
              "      <td>sweet</td>\n",
              "      <td>1.207107</td>\n",
              "    </tr>\n",
              "    <tr>\n",
              "      <th>3</th>\n",
              "      <td>weather</td>\n",
              "      <td>1.207107</td>\n",
              "    </tr>\n",
              "  </tbody>\n",
              "</table>\n",
              "</div>\n",
              "      <button class=\"colab-df-convert\" onclick=\"convertToInteractive('df-665d2215-bd69-4e7c-8b04-dbf4e046bf8a')\"\n",
              "              title=\"Convert this dataframe to an interactive table.\"\n",
              "              style=\"display:none;\">\n",
              "        \n",
              "  <svg xmlns=\"http://www.w3.org/2000/svg\" height=\"24px\"viewBox=\"0 0 24 24\"\n",
              "       width=\"24px\">\n",
              "    <path d=\"M0 0h24v24H0V0z\" fill=\"none\"/>\n",
              "    <path d=\"M18.56 5.44l.94 2.06.94-2.06 2.06-.94-2.06-.94-.94-2.06-.94 2.06-2.06.94zm-11 1L8.5 8.5l.94-2.06 2.06-.94-2.06-.94L8.5 2.5l-.94 2.06-2.06.94zm10 10l.94 2.06.94-2.06 2.06-.94-2.06-.94-.94-2.06-.94 2.06-2.06.94z\"/><path d=\"M17.41 7.96l-1.37-1.37c-.4-.4-.92-.59-1.43-.59-.52 0-1.04.2-1.43.59L10.3 9.45l-7.72 7.72c-.78.78-.78 2.05 0 2.83L4 21.41c.39.39.9.59 1.41.59.51 0 1.02-.2 1.41-.59l7.78-7.78 2.81-2.81c.8-.78.8-2.07 0-2.86zM5.41 20L4 18.59l7.72-7.72 1.47 1.35L5.41 20z\"/>\n",
              "  </svg>\n",
              "      </button>\n",
              "      \n",
              "  <style>\n",
              "    .colab-df-container {\n",
              "      display:flex;\n",
              "      flex-wrap:wrap;\n",
              "      gap: 12px;\n",
              "    }\n",
              "\n",
              "    .colab-df-convert {\n",
              "      background-color: #E8F0FE;\n",
              "      border: none;\n",
              "      border-radius: 50%;\n",
              "      cursor: pointer;\n",
              "      display: none;\n",
              "      fill: #1967D2;\n",
              "      height: 32px;\n",
              "      padding: 0 0 0 0;\n",
              "      width: 32px;\n",
              "    }\n",
              "\n",
              "    .colab-df-convert:hover {\n",
              "      background-color: #E2EBFA;\n",
              "      box-shadow: 0px 1px 2px rgba(60, 64, 67, 0.3), 0px 1px 3px 1px rgba(60, 64, 67, 0.15);\n",
              "      fill: #174EA6;\n",
              "    }\n",
              "\n",
              "    [theme=dark] .colab-df-convert {\n",
              "      background-color: #3B4455;\n",
              "      fill: #D2E3FC;\n",
              "    }\n",
              "\n",
              "    [theme=dark] .colab-df-convert:hover {\n",
              "      background-color: #434B5C;\n",
              "      box-shadow: 0px 1px 3px 1px rgba(0, 0, 0, 0.15);\n",
              "      filter: drop-shadow(0px 1px 2px rgba(0, 0, 0, 0.3));\n",
              "      fill: #FFFFFF;\n",
              "    }\n",
              "  </style>\n",
              "\n",
              "      <script>\n",
              "        const buttonEl =\n",
              "          document.querySelector('#df-665d2215-bd69-4e7c-8b04-dbf4e046bf8a button.colab-df-convert');\n",
              "        buttonEl.style.display =\n",
              "          google.colab.kernel.accessAllowed ? 'block' : 'none';\n",
              "\n",
              "        async function convertToInteractive(key) {\n",
              "          const element = document.querySelector('#df-665d2215-bd69-4e7c-8b04-dbf4e046bf8a');\n",
              "          const dataTable =\n",
              "            await google.colab.kernel.invokeFunction('convertToInteractive',\n",
              "                                                     [key], {});\n",
              "          if (!dataTable) return;\n",
              "\n",
              "          const docLinkHtml = 'Like what you see? Visit the ' +\n",
              "            '<a target=\"_blank\" href=https://colab.research.google.com/notebooks/data_table.ipynb>data table notebook</a>'\n",
              "            + ' to learn more about interactive tables.';\n",
              "          element.innerHTML = '';\n",
              "          dataTable['output_type'] = 'display_data';\n",
              "          await google.colab.output.renderOutput(dataTable, element);\n",
              "          const docLink = document.createElement('div');\n",
              "          docLink.innerHTML = docLinkHtml;\n",
              "          element.appendChild(docLink);\n",
              "        }\n",
              "      </script>\n",
              "    </div>\n",
              "  </div>\n",
              "  "
            ]
          },
          "metadata": {},
          "execution_count": 28
        }
      ]
    },
    {
      "cell_type": "markdown",
      "metadata": {
        "id": "KAmeh34ZRgpa"
      },
      "source": [
        "### <font color='red'>Exercise</font>: Write a method to return the top n features based on tfidf scores. "
      ]
    },
    {
      "cell_type": "code",
      "metadata": {
        "colab": {
          "base_uri": "https://localhost:8080/",
          "height": 136
        },
        "id": "w9O6p-PRHFmB",
        "outputId": "4c48737d-a55b-467f-d193-c11300126b4c"
      },
      "source": [
        "# SOLUTION here\n",
        "def get_tfidf_top_features(corpus, num_features=10):\n",
        "  tfidf_vectorizer = TfidfVectorizer( max_features=num_features)\n",
        "  tfidf = tfidf_vectorizer.fit_transform(corpus)\n",
        "\n",
        "  token_dict = tfidf_vectorizer.vocabulary_\n",
        "  tfidf_features = tfidf_vectorizer.get_feature_names()\n",
        "  tfidf_values = np.asarray(tfidf.sum(axis=0)).ravel()\n",
        "\n",
        "  sorted_pairs = sorted(zip(tfidf_features, tfidf_values), key=lambda x: x[1], reverse=True)\n",
        "  words, score = zip(*sorted_pairs) \n",
        "  return(score, words)\n",
        "\n",
        "x, y = get_tfidf_top_features(corpus)\n",
        "\n",
        "df = pd.DataFrame(np.expand_dims(x, axis=0), columns = y)\n",
        "df.head(5)"
      ],
      "execution_count": null,
      "outputs": [
        {
          "output_type": "stream",
          "name": "stderr",
          "text": [
            "/usr/local/lib/python3.7/dist-packages/sklearn/utils/deprecation.py:87: FutureWarning: Function get_feature_names is deprecated; get_feature_names is deprecated in 1.0 and will be removed in 1.2. Please use get_feature_names_out instead.\n",
            "  warnings.warn(msg, category=FutureWarning)\n"
          ]
        },
        {
          "output_type": "execute_result",
          "data": {
            "text/plain": [
              "         is       the   shining       sun     sweet   weather       and  \\\n",
              "0  1.312492  1.164133  0.749517  0.749517  0.749517  0.749517  0.502386   \n",
              "\n",
              "        one       two  \n",
              "0  0.502386  0.251193  "
            ],
            "text/html": [
              "\n",
              "  <div id=\"df-7335a642-4a88-4546-ad05-705cf78c47e0\">\n",
              "    <div class=\"colab-df-container\">\n",
              "      <div>\n",
              "<style scoped>\n",
              "    .dataframe tbody tr th:only-of-type {\n",
              "        vertical-align: middle;\n",
              "    }\n",
              "\n",
              "    .dataframe tbody tr th {\n",
              "        vertical-align: top;\n",
              "    }\n",
              "\n",
              "    .dataframe thead th {\n",
              "        text-align: right;\n",
              "    }\n",
              "</style>\n",
              "<table border=\"1\" class=\"dataframe\">\n",
              "  <thead>\n",
              "    <tr style=\"text-align: right;\">\n",
              "      <th></th>\n",
              "      <th>is</th>\n",
              "      <th>the</th>\n",
              "      <th>shining</th>\n",
              "      <th>sun</th>\n",
              "      <th>sweet</th>\n",
              "      <th>weather</th>\n",
              "      <th>and</th>\n",
              "      <th>one</th>\n",
              "      <th>two</th>\n",
              "    </tr>\n",
              "  </thead>\n",
              "  <tbody>\n",
              "    <tr>\n",
              "      <th>0</th>\n",
              "      <td>1.312492</td>\n",
              "      <td>1.164133</td>\n",
              "      <td>0.749517</td>\n",
              "      <td>0.749517</td>\n",
              "      <td>0.749517</td>\n",
              "      <td>0.749517</td>\n",
              "      <td>0.502386</td>\n",
              "      <td>0.502386</td>\n",
              "      <td>0.251193</td>\n",
              "    </tr>\n",
              "  </tbody>\n",
              "</table>\n",
              "</div>\n",
              "      <button class=\"colab-df-convert\" onclick=\"convertToInteractive('df-7335a642-4a88-4546-ad05-705cf78c47e0')\"\n",
              "              title=\"Convert this dataframe to an interactive table.\"\n",
              "              style=\"display:none;\">\n",
              "        \n",
              "  <svg xmlns=\"http://www.w3.org/2000/svg\" height=\"24px\"viewBox=\"0 0 24 24\"\n",
              "       width=\"24px\">\n",
              "    <path d=\"M0 0h24v24H0V0z\" fill=\"none\"/>\n",
              "    <path d=\"M18.56 5.44l.94 2.06.94-2.06 2.06-.94-2.06-.94-.94-2.06-.94 2.06-2.06.94zm-11 1L8.5 8.5l.94-2.06 2.06-.94-2.06-.94L8.5 2.5l-.94 2.06-2.06.94zm10 10l.94 2.06.94-2.06 2.06-.94-2.06-.94-.94-2.06-.94 2.06-2.06.94z\"/><path d=\"M17.41 7.96l-1.37-1.37c-.4-.4-.92-.59-1.43-.59-.52 0-1.04.2-1.43.59L10.3 9.45l-7.72 7.72c-.78.78-.78 2.05 0 2.83L4 21.41c.39.39.9.59 1.41.59.51 0 1.02-.2 1.41-.59l7.78-7.78 2.81-2.81c.8-.78.8-2.07 0-2.86zM5.41 20L4 18.59l7.72-7.72 1.47 1.35L5.41 20z\"/>\n",
              "  </svg>\n",
              "      </button>\n",
              "      \n",
              "  <style>\n",
              "    .colab-df-container {\n",
              "      display:flex;\n",
              "      flex-wrap:wrap;\n",
              "      gap: 12px;\n",
              "    }\n",
              "\n",
              "    .colab-df-convert {\n",
              "      background-color: #E8F0FE;\n",
              "      border: none;\n",
              "      border-radius: 50%;\n",
              "      cursor: pointer;\n",
              "      display: none;\n",
              "      fill: #1967D2;\n",
              "      height: 32px;\n",
              "      padding: 0 0 0 0;\n",
              "      width: 32px;\n",
              "    }\n",
              "\n",
              "    .colab-df-convert:hover {\n",
              "      background-color: #E2EBFA;\n",
              "      box-shadow: 0px 1px 2px rgba(60, 64, 67, 0.3), 0px 1px 3px 1px rgba(60, 64, 67, 0.15);\n",
              "      fill: #174EA6;\n",
              "    }\n",
              "\n",
              "    [theme=dark] .colab-df-convert {\n",
              "      background-color: #3B4455;\n",
              "      fill: #D2E3FC;\n",
              "    }\n",
              "\n",
              "    [theme=dark] .colab-df-convert:hover {\n",
              "      background-color: #434B5C;\n",
              "      box-shadow: 0px 1px 3px 1px rgba(0, 0, 0, 0.15);\n",
              "      filter: drop-shadow(0px 1px 2px rgba(0, 0, 0, 0.3));\n",
              "      fill: #FFFFFF;\n",
              "    }\n",
              "  </style>\n",
              "\n",
              "      <script>\n",
              "        const buttonEl =\n",
              "          document.querySelector('#df-7335a642-4a88-4546-ad05-705cf78c47e0 button.colab-df-convert');\n",
              "        buttonEl.style.display =\n",
              "          google.colab.kernel.accessAllowed ? 'block' : 'none';\n",
              "\n",
              "        async function convertToInteractive(key) {\n",
              "          const element = document.querySelector('#df-7335a642-4a88-4546-ad05-705cf78c47e0');\n",
              "          const dataTable =\n",
              "            await google.colab.kernel.invokeFunction('convertToInteractive',\n",
              "                                                     [key], {});\n",
              "          if (!dataTable) return;\n",
              "\n",
              "          const docLinkHtml = 'Like what you see? Visit the ' +\n",
              "            '<a target=\"_blank\" href=https://colab.research.google.com/notebooks/data_table.ipynb>data table notebook</a>'\n",
              "            + ' to learn more about interactive tables.';\n",
              "          element.innerHTML = '';\n",
              "          dataTable['output_type'] = 'display_data';\n",
              "          await google.colab.output.renderOutput(dataTable, element);\n",
              "          const docLink = document.createElement('div');\n",
              "          docLink.innerHTML = docLinkHtml;\n",
              "          element.appendChild(docLink);\n",
              "        }\n",
              "      </script>\n",
              "    </div>\n",
              "  </div>\n",
              "  "
            ]
          },
          "metadata": {},
          "execution_count": 29
        }
      ]
    },
    {
      "cell_type": "markdown",
      "metadata": {
        "id": "RxchYEuWn7WW"
      },
      "source": [
        "# 2.0 Preparing the IMDb movie review data for text processing "
      ]
    },
    {
      "cell_type": "markdown",
      "metadata": {
        "id": "HeE88GT4n7WW"
      },
      "source": [
        "## Obtaining the IMDb movie review dataset"
      ]
    },
    {
      "cell_type": "markdown",
      "metadata": {
        "id": "4WximTstn7WW"
      },
      "source": [
        "The IMDB movie review set can be downloaded from [http://ai.stanford.edu/~amaas/data/sentiment/](http://ai.stanford.edu/~amaas/data/sentiment/).\n",
        "We have already done this and extracted the csv file which you can access from our github.  "
      ]
    },
    {
      "cell_type": "code",
      "metadata": {
        "id": "OqawQFzIp4Dn"
      },
      "source": [
        "data_file = \"https://raw.githubusercontent.com/nirmalie/CM4107/main/movie_data_cat.csv\"\n",
        "class_index = 1 # on inspection of the csv file we see that the class appears in 1st position"
      ],
      "execution_count": null,
      "outputs": []
    },
    {
      "cell_type": "code",
      "metadata": {
        "colab": {
          "base_uri": "https://localhost:8080/",
          "height": 363
        },
        "id": "6J_7zRkZzmlJ",
        "outputId": "a4fab7b7-ae89-4a4e-bf51-ce0ceb344795"
      },
      "source": [
        "df = pd.read_csv(data_file,  encoding='utf-8') #skiprows=1,  header=None)\n",
        "df.head(10) "
      ],
      "execution_count": null,
      "outputs": [
        {
          "output_type": "execute_result",
          "data": {
            "text/plain": [
              "                                              review sentiment\n",
              "0  In 1974, the teenager Martha Moxley (Maggie Gr...       pos\n",
              "1  OK... so... I really like Kris Kristofferson a...       neg\n",
              "2  ***SPOILER*** Do not read this, if you think a...       neg\n",
              "3  hi for all the people who have seen this wonde...       pos\n",
              "4  I recently bought the DVD, forgetting just how...       neg\n",
              "5  Leave it to Braik to put on a good show. Final...       pos\n",
              "6  Nathan Detroit (Frank Sinatra) is the manager ...       pos\n",
              "7  To understand \"Crash Course\" in the right cont...       pos\n",
              "8  I've been impressed with Chavez's stance again...       pos\n",
              "9  This movie is directed by Renny Harlin the fin...       pos"
            ],
            "text/html": [
              "\n",
              "  <div id=\"df-2737b2e2-67ba-4729-b00b-0ee1851514af\">\n",
              "    <div class=\"colab-df-container\">\n",
              "      <div>\n",
              "<style scoped>\n",
              "    .dataframe tbody tr th:only-of-type {\n",
              "        vertical-align: middle;\n",
              "    }\n",
              "\n",
              "    .dataframe tbody tr th {\n",
              "        vertical-align: top;\n",
              "    }\n",
              "\n",
              "    .dataframe thead th {\n",
              "        text-align: right;\n",
              "    }\n",
              "</style>\n",
              "<table border=\"1\" class=\"dataframe\">\n",
              "  <thead>\n",
              "    <tr style=\"text-align: right;\">\n",
              "      <th></th>\n",
              "      <th>review</th>\n",
              "      <th>sentiment</th>\n",
              "    </tr>\n",
              "  </thead>\n",
              "  <tbody>\n",
              "    <tr>\n",
              "      <th>0</th>\n",
              "      <td>In 1974, the teenager Martha Moxley (Maggie Gr...</td>\n",
              "      <td>pos</td>\n",
              "    </tr>\n",
              "    <tr>\n",
              "      <th>1</th>\n",
              "      <td>OK... so... I really like Kris Kristofferson a...</td>\n",
              "      <td>neg</td>\n",
              "    </tr>\n",
              "    <tr>\n",
              "      <th>2</th>\n",
              "      <td>***SPOILER*** Do not read this, if you think a...</td>\n",
              "      <td>neg</td>\n",
              "    </tr>\n",
              "    <tr>\n",
              "      <th>3</th>\n",
              "      <td>hi for all the people who have seen this wonde...</td>\n",
              "      <td>pos</td>\n",
              "    </tr>\n",
              "    <tr>\n",
              "      <th>4</th>\n",
              "      <td>I recently bought the DVD, forgetting just how...</td>\n",
              "      <td>neg</td>\n",
              "    </tr>\n",
              "    <tr>\n",
              "      <th>5</th>\n",
              "      <td>Leave it to Braik to put on a good show. Final...</td>\n",
              "      <td>pos</td>\n",
              "    </tr>\n",
              "    <tr>\n",
              "      <th>6</th>\n",
              "      <td>Nathan Detroit (Frank Sinatra) is the manager ...</td>\n",
              "      <td>pos</td>\n",
              "    </tr>\n",
              "    <tr>\n",
              "      <th>7</th>\n",
              "      <td>To understand \"Crash Course\" in the right cont...</td>\n",
              "      <td>pos</td>\n",
              "    </tr>\n",
              "    <tr>\n",
              "      <th>8</th>\n",
              "      <td>I've been impressed with Chavez's stance again...</td>\n",
              "      <td>pos</td>\n",
              "    </tr>\n",
              "    <tr>\n",
              "      <th>9</th>\n",
              "      <td>This movie is directed by Renny Harlin the fin...</td>\n",
              "      <td>pos</td>\n",
              "    </tr>\n",
              "  </tbody>\n",
              "</table>\n",
              "</div>\n",
              "      <button class=\"colab-df-convert\" onclick=\"convertToInteractive('df-2737b2e2-67ba-4729-b00b-0ee1851514af')\"\n",
              "              title=\"Convert this dataframe to an interactive table.\"\n",
              "              style=\"display:none;\">\n",
              "        \n",
              "  <svg xmlns=\"http://www.w3.org/2000/svg\" height=\"24px\"viewBox=\"0 0 24 24\"\n",
              "       width=\"24px\">\n",
              "    <path d=\"M0 0h24v24H0V0z\" fill=\"none\"/>\n",
              "    <path d=\"M18.56 5.44l.94 2.06.94-2.06 2.06-.94-2.06-.94-.94-2.06-.94 2.06-2.06.94zm-11 1L8.5 8.5l.94-2.06 2.06-.94-2.06-.94L8.5 2.5l-.94 2.06-2.06.94zm10 10l.94 2.06.94-2.06 2.06-.94-2.06-.94-.94-2.06-.94 2.06-2.06.94z\"/><path d=\"M17.41 7.96l-1.37-1.37c-.4-.4-.92-.59-1.43-.59-.52 0-1.04.2-1.43.59L10.3 9.45l-7.72 7.72c-.78.78-.78 2.05 0 2.83L4 21.41c.39.39.9.59 1.41.59.51 0 1.02-.2 1.41-.59l7.78-7.78 2.81-2.81c.8-.78.8-2.07 0-2.86zM5.41 20L4 18.59l7.72-7.72 1.47 1.35L5.41 20z\"/>\n",
              "  </svg>\n",
              "      </button>\n",
              "      \n",
              "  <style>\n",
              "    .colab-df-container {\n",
              "      display:flex;\n",
              "      flex-wrap:wrap;\n",
              "      gap: 12px;\n",
              "    }\n",
              "\n",
              "    .colab-df-convert {\n",
              "      background-color: #E8F0FE;\n",
              "      border: none;\n",
              "      border-radius: 50%;\n",
              "      cursor: pointer;\n",
              "      display: none;\n",
              "      fill: #1967D2;\n",
              "      height: 32px;\n",
              "      padding: 0 0 0 0;\n",
              "      width: 32px;\n",
              "    }\n",
              "\n",
              "    .colab-df-convert:hover {\n",
              "      background-color: #E2EBFA;\n",
              "      box-shadow: 0px 1px 2px rgba(60, 64, 67, 0.3), 0px 1px 3px 1px rgba(60, 64, 67, 0.15);\n",
              "      fill: #174EA6;\n",
              "    }\n",
              "\n",
              "    [theme=dark] .colab-df-convert {\n",
              "      background-color: #3B4455;\n",
              "      fill: #D2E3FC;\n",
              "    }\n",
              "\n",
              "    [theme=dark] .colab-df-convert:hover {\n",
              "      background-color: #434B5C;\n",
              "      box-shadow: 0px 1px 3px 1px rgba(0, 0, 0, 0.15);\n",
              "      filter: drop-shadow(0px 1px 2px rgba(0, 0, 0, 0.3));\n",
              "      fill: #FFFFFF;\n",
              "    }\n",
              "  </style>\n",
              "\n",
              "      <script>\n",
              "        const buttonEl =\n",
              "          document.querySelector('#df-2737b2e2-67ba-4729-b00b-0ee1851514af button.colab-df-convert');\n",
              "        buttonEl.style.display =\n",
              "          google.colab.kernel.accessAllowed ? 'block' : 'none';\n",
              "\n",
              "        async function convertToInteractive(key) {\n",
              "          const element = document.querySelector('#df-2737b2e2-67ba-4729-b00b-0ee1851514af');\n",
              "          const dataTable =\n",
              "            await google.colab.kernel.invokeFunction('convertToInteractive',\n",
              "                                                     [key], {});\n",
              "          if (!dataTable) return;\n",
              "\n",
              "          const docLinkHtml = 'Like what you see? Visit the ' +\n",
              "            '<a target=\"_blank\" href=https://colab.research.google.com/notebooks/data_table.ipynb>data table notebook</a>'\n",
              "            + ' to learn more about interactive tables.';\n",
              "          element.innerHTML = '';\n",
              "          dataTable['output_type'] = 'display_data';\n",
              "          await google.colab.output.renderOutput(dataTable, element);\n",
              "          const docLink = document.createElement('div');\n",
              "          docLink.innerHTML = docLinkHtml;\n",
              "          element.appendChild(docLink);\n",
              "        }\n",
              "      </script>\n",
              "    </div>\n",
              "  </div>\n",
              "  "
            ]
          },
          "metadata": {},
          "execution_count": 31
        }
      ]
    },
    {
      "cell_type": "markdown",
      "metadata": {
        "id": "a_uoHygSn7WW"
      },
      "source": [
        "## Preprocessing the movie dataset into more convenient format\n",
        "\n",
        "**Why do we need to preprocess raw text?**\n",
        "User generated content particularly such as social media and text messaging normally contain non-word content.\n",
        "\n",
        "Whilst some of this content will be useful (e.g. emoji for sentiment analysis) to a given task; others won't. \n",
        "\n",
        "Accordingly we use regular expressions to clean our text before we can continue with converting text messages into vectors which can then form input into a sklearn classification algorithm. \n",
        "\n",
        "Use the next cell to explore different messages and the types of html tage, emojis and special chars that are contained in this dataset."
      ]
    },
    {
      "cell_type": "code",
      "metadata": {
        "colab": {
          "base_uri": "https://localhost:8080/"
        },
        "id": "YYvfogWsn7WW",
        "outputId": "5eb7231d-4bc4-49dc-b06a-5244c05bbc8c"
      },
      "source": [
        "print(df.shape)\n",
        "df.columns\n",
        "imdb_class_labels = df.columns.tolist()\n",
        "print(\"classes:\", imdb_class_labels)"
      ],
      "execution_count": null,
      "outputs": [
        {
          "output_type": "stream",
          "name": "stdout",
          "text": [
            "(50000, 2)\n",
            "classes: ['review', 'sentiment']\n"
          ]
        }
      ]
    },
    {
      "cell_type": "markdown",
      "metadata": {
        "id": "V5NUcj4zn7WX"
      },
      "source": [
        "Since the sentiment column happens to be categorical we can map the \"pos\" and \"neg\" classes to 0 and 1 integers. "
      ]
    },
    {
      "cell_type": "code",
      "metadata": {
        "colab": {
          "base_uri": "https://localhost:8080/",
          "height": 381
        },
        "id": "YMGRPPLxn7WX",
        "outputId": "21ff0247-3651-4bf8-e7f7-57a2892d0f85"
      },
      "source": [
        "class_mapping = {label:idx for idx,label in enumerate(np.unique(df['sentiment']))}\n",
        "\n",
        "print(\"class_mapping:\" , class_mapping)\n",
        "\n",
        "#use the mapping dictionary to transform the class labels into integers\n",
        "\n",
        "df['sentiment'] = df['sentiment'].map(class_mapping)\n",
        "df.head(10)"
      ],
      "execution_count": null,
      "outputs": [
        {
          "output_type": "stream",
          "name": "stdout",
          "text": [
            "class_mapping: {'neg': 0, 'pos': 1}\n"
          ]
        },
        {
          "output_type": "execute_result",
          "data": {
            "text/plain": [
              "                                              review  sentiment\n",
              "0  In 1974, the teenager Martha Moxley (Maggie Gr...          1\n",
              "1  OK... so... I really like Kris Kristofferson a...          0\n",
              "2  ***SPOILER*** Do not read this, if you think a...          0\n",
              "3  hi for all the people who have seen this wonde...          1\n",
              "4  I recently bought the DVD, forgetting just how...          0\n",
              "5  Leave it to Braik to put on a good show. Final...          1\n",
              "6  Nathan Detroit (Frank Sinatra) is the manager ...          1\n",
              "7  To understand \"Crash Course\" in the right cont...          1\n",
              "8  I've been impressed with Chavez's stance again...          1\n",
              "9  This movie is directed by Renny Harlin the fin...          1"
            ],
            "text/html": [
              "\n",
              "  <div id=\"df-e6315d49-56f3-4eb4-b1ab-242134c4817b\">\n",
              "    <div class=\"colab-df-container\">\n",
              "      <div>\n",
              "<style scoped>\n",
              "    .dataframe tbody tr th:only-of-type {\n",
              "        vertical-align: middle;\n",
              "    }\n",
              "\n",
              "    .dataframe tbody tr th {\n",
              "        vertical-align: top;\n",
              "    }\n",
              "\n",
              "    .dataframe thead th {\n",
              "        text-align: right;\n",
              "    }\n",
              "</style>\n",
              "<table border=\"1\" class=\"dataframe\">\n",
              "  <thead>\n",
              "    <tr style=\"text-align: right;\">\n",
              "      <th></th>\n",
              "      <th>review</th>\n",
              "      <th>sentiment</th>\n",
              "    </tr>\n",
              "  </thead>\n",
              "  <tbody>\n",
              "    <tr>\n",
              "      <th>0</th>\n",
              "      <td>In 1974, the teenager Martha Moxley (Maggie Gr...</td>\n",
              "      <td>1</td>\n",
              "    </tr>\n",
              "    <tr>\n",
              "      <th>1</th>\n",
              "      <td>OK... so... I really like Kris Kristofferson a...</td>\n",
              "      <td>0</td>\n",
              "    </tr>\n",
              "    <tr>\n",
              "      <th>2</th>\n",
              "      <td>***SPOILER*** Do not read this, if you think a...</td>\n",
              "      <td>0</td>\n",
              "    </tr>\n",
              "    <tr>\n",
              "      <th>3</th>\n",
              "      <td>hi for all the people who have seen this wonde...</td>\n",
              "      <td>1</td>\n",
              "    </tr>\n",
              "    <tr>\n",
              "      <th>4</th>\n",
              "      <td>I recently bought the DVD, forgetting just how...</td>\n",
              "      <td>0</td>\n",
              "    </tr>\n",
              "    <tr>\n",
              "      <th>5</th>\n",
              "      <td>Leave it to Braik to put on a good show. Final...</td>\n",
              "      <td>1</td>\n",
              "    </tr>\n",
              "    <tr>\n",
              "      <th>6</th>\n",
              "      <td>Nathan Detroit (Frank Sinatra) is the manager ...</td>\n",
              "      <td>1</td>\n",
              "    </tr>\n",
              "    <tr>\n",
              "      <th>7</th>\n",
              "      <td>To understand \"Crash Course\" in the right cont...</td>\n",
              "      <td>1</td>\n",
              "    </tr>\n",
              "    <tr>\n",
              "      <th>8</th>\n",
              "      <td>I've been impressed with Chavez's stance again...</td>\n",
              "      <td>1</td>\n",
              "    </tr>\n",
              "    <tr>\n",
              "      <th>9</th>\n",
              "      <td>This movie is directed by Renny Harlin the fin...</td>\n",
              "      <td>1</td>\n",
              "    </tr>\n",
              "  </tbody>\n",
              "</table>\n",
              "</div>\n",
              "      <button class=\"colab-df-convert\" onclick=\"convertToInteractive('df-e6315d49-56f3-4eb4-b1ab-242134c4817b')\"\n",
              "              title=\"Convert this dataframe to an interactive table.\"\n",
              "              style=\"display:none;\">\n",
              "        \n",
              "  <svg xmlns=\"http://www.w3.org/2000/svg\" height=\"24px\"viewBox=\"0 0 24 24\"\n",
              "       width=\"24px\">\n",
              "    <path d=\"M0 0h24v24H0V0z\" fill=\"none\"/>\n",
              "    <path d=\"M18.56 5.44l.94 2.06.94-2.06 2.06-.94-2.06-.94-.94-2.06-.94 2.06-2.06.94zm-11 1L8.5 8.5l.94-2.06 2.06-.94-2.06-.94L8.5 2.5l-.94 2.06-2.06.94zm10 10l.94 2.06.94-2.06 2.06-.94-2.06-.94-.94-2.06-.94 2.06-2.06.94z\"/><path d=\"M17.41 7.96l-1.37-1.37c-.4-.4-.92-.59-1.43-.59-.52 0-1.04.2-1.43.59L10.3 9.45l-7.72 7.72c-.78.78-.78 2.05 0 2.83L4 21.41c.39.39.9.59 1.41.59.51 0 1.02-.2 1.41-.59l7.78-7.78 2.81-2.81c.8-.78.8-2.07 0-2.86zM5.41 20L4 18.59l7.72-7.72 1.47 1.35L5.41 20z\"/>\n",
              "  </svg>\n",
              "      </button>\n",
              "      \n",
              "  <style>\n",
              "    .colab-df-container {\n",
              "      display:flex;\n",
              "      flex-wrap:wrap;\n",
              "      gap: 12px;\n",
              "    }\n",
              "\n",
              "    .colab-df-convert {\n",
              "      background-color: #E8F0FE;\n",
              "      border: none;\n",
              "      border-radius: 50%;\n",
              "      cursor: pointer;\n",
              "      display: none;\n",
              "      fill: #1967D2;\n",
              "      height: 32px;\n",
              "      padding: 0 0 0 0;\n",
              "      width: 32px;\n",
              "    }\n",
              "\n",
              "    .colab-df-convert:hover {\n",
              "      background-color: #E2EBFA;\n",
              "      box-shadow: 0px 1px 2px rgba(60, 64, 67, 0.3), 0px 1px 3px 1px rgba(60, 64, 67, 0.15);\n",
              "      fill: #174EA6;\n",
              "    }\n",
              "\n",
              "    [theme=dark] .colab-df-convert {\n",
              "      background-color: #3B4455;\n",
              "      fill: #D2E3FC;\n",
              "    }\n",
              "\n",
              "    [theme=dark] .colab-df-convert:hover {\n",
              "      background-color: #434B5C;\n",
              "      box-shadow: 0px 1px 3px 1px rgba(0, 0, 0, 0.15);\n",
              "      filter: drop-shadow(0px 1px 2px rgba(0, 0, 0, 0.3));\n",
              "      fill: #FFFFFF;\n",
              "    }\n",
              "  </style>\n",
              "\n",
              "      <script>\n",
              "        const buttonEl =\n",
              "          document.querySelector('#df-e6315d49-56f3-4eb4-b1ab-242134c4817b button.colab-df-convert');\n",
              "        buttonEl.style.display =\n",
              "          google.colab.kernel.accessAllowed ? 'block' : 'none';\n",
              "\n",
              "        async function convertToInteractive(key) {\n",
              "          const element = document.querySelector('#df-e6315d49-56f3-4eb4-b1ab-242134c4817b');\n",
              "          const dataTable =\n",
              "            await google.colab.kernel.invokeFunction('convertToInteractive',\n",
              "                                                     [key], {});\n",
              "          if (!dataTable) return;\n",
              "\n",
              "          const docLinkHtml = 'Like what you see? Visit the ' +\n",
              "            '<a target=\"_blank\" href=https://colab.research.google.com/notebooks/data_table.ipynb>data table notebook</a>'\n",
              "            + ' to learn more about interactive tables.';\n",
              "          element.innerHTML = '';\n",
              "          dataTable['output_type'] = 'display_data';\n",
              "          await google.colab.output.renderOutput(dataTable, element);\n",
              "          const docLink = document.createElement('div');\n",
              "          docLink.innerHTML = docLinkHtml;\n",
              "          element.appendChild(docLink);\n",
              "        }\n",
              "      </script>\n",
              "    </div>\n",
              "  </div>\n",
              "  "
            ]
          },
          "metadata": {},
          "execution_count": 33
        }
      ]
    },
    {
      "cell_type": "markdown",
      "metadata": {
        "id": "kjY21LvJn7WX"
      },
      "source": [
        "Now that the class column is as we need it for a classifier we next look at how to clean up the review text content. "
      ]
    },
    {
      "cell_type": "markdown",
      "metadata": {
        "id": "3aYZQhGan7WX"
      },
      "source": [
        "### Cleaning text data with Regular Expressions\n",
        "Execute the code below to view a specific review. \n",
        "You will notice that the text needs cleaned up e.g. due to html markup, punctuation and other non-letter chars. "
      ]
    },
    {
      "cell_type": "code",
      "metadata": {
        "colab": {
          "base_uri": "https://localhost:8080/",
          "height": 125
        },
        "id": "_WMHW4ORn7WX",
        "outputId": "4eb885e4-23e0-4ef0-de00-33596e02eda5"
      },
      "source": [
        "review_num = 5635 #3635\n",
        "df.loc[review_num, 'review']#[-50:]"
      ],
      "execution_count": null,
      "outputs": [
        {
          "output_type": "execute_result",
          "data": {
            "text/plain": [
              "'I really thought this would be a good movie, boy...was I mistaken! For a quick summery: B grade acting C grade special effects D grade for the overall movie. Don\\'t get me wrong, the story was pretty good and not kiddish so an adult too ride along with it, the \"hero\" is good looking so most women will like it :-), not a total chick flick as it contains some fight scenes and some blood<br /><br />but the way it is shot... horrible <br /><br />the special effects->would be better suited for TV->on a kids show <br /><br />and lastly...send some of the actors back to acting school if they ever attended a class there.<br /><br />Trust me there are much better ways to waste 2 hours.<br /><br />You have been warned.'"
            ],
            "application/vnd.google.colaboratory.intrinsic+json": {
              "type": "string"
            }
          },
          "metadata": {},
          "execution_count": 34
        }
      ]
    },
    {
      "cell_type": "markdown",
      "metadata": {
        "id": "smoakLPjUXdP"
      },
      "source": [
        "We can use python's regular expression library to clean up some of this data.\n",
        "For details on the re library goto : https://docs.python.org/2/library/re.html\n",
        "\n",
        "Here is a cheatsheet:"
      ]
    },
    {
      "cell_type": "markdown",
      "metadata": {
        "id": "aDGLISStn7WX"
      },
      "source": [
        "\n",
        "![Screenshot 2021-11-03 at 13.04.00.png](data:image/png;base64,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)"
      ]
    },
    {
      "cell_type": "code",
      "metadata": {
        "id": "PGvyvx5Mn7WY"
      },
      "source": [
        "#import regular expressions to clean up the text\n",
        "import re\n",
        "def preprocessor(text):\n",
        "    text = re.sub('<[^>]*>', '', text) # remove all html markup ; re.sub(A, B, C) will Replace A with B in the string C.\n",
        "    emoticons = re.findall('(?::|;|=)(?:-)?(?:\\)|\\(|D|P)', text) # findall the emoticons re.findall(A, B) | Matches all instances of an expression A in a string B and returns them in a list.\n",
        "    \n",
        "    # remove the non-word chars '[\\W]+'\n",
        "    # append the emoticons to end \n",
        "    # convert all to lowercase\n",
        "    # remove nose char for consistency\n",
        "    text = (re.sub('[\\W]+', ' ', text.lower()) +\n",
        "            ' '.join(emoticons).replace('-', '')) \n",
        "    return text"
      ],
      "execution_count": null,
      "outputs": []
    },
    {
      "cell_type": "code",
      "metadata": {
        "colab": {
          "base_uri": "https://localhost:8080/",
          "height": 160
        },
        "id": "HxOC3wRAV54U",
        "outputId": "cd0c5106-68d2-457d-f566-ee982d9c3806"
      },
      "source": [
        "review_num = 5635 #3635\n",
        "print(\"before \\n\")\n",
        "df.loc[review_num, 'review']"
      ],
      "execution_count": null,
      "outputs": [
        {
          "output_type": "stream",
          "name": "stdout",
          "text": [
            "before \n",
            "\n"
          ]
        },
        {
          "output_type": "execute_result",
          "data": {
            "text/plain": [
              "'I really thought this would be a good movie, boy...was I mistaken! For a quick summery: B grade acting C grade special effects D grade for the overall movie. Don\\'t get me wrong, the story was pretty good and not kiddish so an adult too ride along with it, the \"hero\" is good looking so most women will like it :-), not a total chick flick as it contains some fight scenes and some blood<br /><br />but the way it is shot... horrible <br /><br />the special effects->would be better suited for TV->on a kids show <br /><br />and lastly...send some of the actors back to acting school if they ever attended a class there.<br /><br />Trust me there are much better ways to waste 2 hours.<br /><br />You have been warned.'"
            ],
            "application/vnd.google.colaboratory.intrinsic+json": {
              "type": "string"
            }
          },
          "metadata": {},
          "execution_count": 36
        }
      ]
    },
    {
      "cell_type": "code",
      "metadata": {
        "colab": {
          "base_uri": "https://localhost:8080/",
          "height": 143
        },
        "id": "9iWW6Lb_n7WY",
        "outputId": "00ff3e24-ee35-47ab-dd21-f931ed302171"
      },
      "source": [
        "print(\"\\nAfter\")\n",
        "preprocessor(df.loc[review_num, 'review'])#[-50:]"
      ],
      "execution_count": null,
      "outputs": [
        {
          "output_type": "stream",
          "name": "stdout",
          "text": [
            "\n",
            "After\n"
          ]
        },
        {
          "output_type": "execute_result",
          "data": {
            "text/plain": [
              "'i really thought this would be a good movie boy was i mistaken for a quick summery b grade acting c grade special effects d grade for the overall movie don t get me wrong the story was pretty good and not kiddish so an adult too ride along with it the hero is good looking so most women will like it not a total chick flick as it contains some fight scenes and some bloodbut the way it is shot horrible the special effects would be better suited for tv on a kids show and lastly send some of the actors back to acting school if they ever attended a class there trust me there are much better ways to waste 2 hours you have been warned :)'"
            ],
            "application/vnd.google.colaboratory.intrinsic+json": {
              "type": "string"
            }
          },
          "metadata": {},
          "execution_count": 37
        }
      ]
    },
    {
      "cell_type": "markdown",
      "metadata": {
        "id": "Ad4rJ2iIn7WY"
      },
      "source": [
        "### Apply the clean data preprocessor to the text"
      ]
    },
    {
      "cell_type": "code",
      "metadata": {
        "colab": {
          "base_uri": "https://localhost:8080/",
          "height": 35
        },
        "id": "JQoFWzJPn7WY",
        "outputId": "e2367cc3-123c-460f-df2f-95a418c4a64e"
      },
      "source": [
        "preprocessor(\"</a>This :) is :( a test :-)!\")"
      ],
      "execution_count": null,
      "outputs": [
        {
          "output_type": "execute_result",
          "data": {
            "text/plain": [
              "'this is a test :) :( :)'"
            ],
            "application/vnd.google.colaboratory.intrinsic+json": {
              "type": "string"
            }
          },
          "metadata": {},
          "execution_count": 38
        }
      ]
    },
    {
      "cell_type": "code",
      "metadata": {
        "id": "qUNMBByun7WY"
      },
      "source": [
        "# apply the preprocessor to the entire dataframe (i.e. column review)\n",
        "df['review'] = df['review'].apply(preprocessor)\n",
        "\n"
      ],
      "execution_count": null,
      "outputs": []
    },
    {
      "cell_type": "code",
      "metadata": {
        "colab": {
          "base_uri": "https://localhost:8080/",
          "height": 206
        },
        "id": "yDv-pPSFbtxl",
        "outputId": "b08c1fc9-34cf-4127-cb3b-8e1830ddb816"
      },
      "source": [
        "# check the cleaned df \n",
        "df.head(5)"
      ],
      "execution_count": null,
      "outputs": [
        {
          "output_type": "execute_result",
          "data": {
            "text/plain": [
              "                                              review  sentiment\n",
              "0  in 1974 the teenager martha moxley maggie grac...          1\n",
              "1  ok so i really like kris kristofferson and his...          0\n",
              "2   spoiler do not read this if you think about w...          0\n",
              "3  hi for all the people who have seen this wonde...          1\n",
              "4  i recently bought the dvd forgetting just how ...          0"
            ],
            "text/html": [
              "\n",
              "  <div id=\"df-f1f30366-822a-41ba-abff-cb04e28c3464\">\n",
              "    <div class=\"colab-df-container\">\n",
              "      <div>\n",
              "<style scoped>\n",
              "    .dataframe tbody tr th:only-of-type {\n",
              "        vertical-align: middle;\n",
              "    }\n",
              "\n",
              "    .dataframe tbody tr th {\n",
              "        vertical-align: top;\n",
              "    }\n",
              "\n",
              "    .dataframe thead th {\n",
              "        text-align: right;\n",
              "    }\n",
              "</style>\n",
              "<table border=\"1\" class=\"dataframe\">\n",
              "  <thead>\n",
              "    <tr style=\"text-align: right;\">\n",
              "      <th></th>\n",
              "      <th>review</th>\n",
              "      <th>sentiment</th>\n",
              "    </tr>\n",
              "  </thead>\n",
              "  <tbody>\n",
              "    <tr>\n",
              "      <th>0</th>\n",
              "      <td>in 1974 the teenager martha moxley maggie grac...</td>\n",
              "      <td>1</td>\n",
              "    </tr>\n",
              "    <tr>\n",
              "      <th>1</th>\n",
              "      <td>ok so i really like kris kristofferson and his...</td>\n",
              "      <td>0</td>\n",
              "    </tr>\n",
              "    <tr>\n",
              "      <th>2</th>\n",
              "      <td>spoiler do not read this if you think about w...</td>\n",
              "      <td>0</td>\n",
              "    </tr>\n",
              "    <tr>\n",
              "      <th>3</th>\n",
              "      <td>hi for all the people who have seen this wonde...</td>\n",
              "      <td>1</td>\n",
              "    </tr>\n",
              "    <tr>\n",
              "      <th>4</th>\n",
              "      <td>i recently bought the dvd forgetting just how ...</td>\n",
              "      <td>0</td>\n",
              "    </tr>\n",
              "  </tbody>\n",
              "</table>\n",
              "</div>\n",
              "      <button class=\"colab-df-convert\" onclick=\"convertToInteractive('df-f1f30366-822a-41ba-abff-cb04e28c3464')\"\n",
              "              title=\"Convert this dataframe to an interactive table.\"\n",
              "              style=\"display:none;\">\n",
              "        \n",
              "  <svg xmlns=\"http://www.w3.org/2000/svg\" height=\"24px\"viewBox=\"0 0 24 24\"\n",
              "       width=\"24px\">\n",
              "    <path d=\"M0 0h24v24H0V0z\" fill=\"none\"/>\n",
              "    <path d=\"M18.56 5.44l.94 2.06.94-2.06 2.06-.94-2.06-.94-.94-2.06-.94 2.06-2.06.94zm-11 1L8.5 8.5l.94-2.06 2.06-.94-2.06-.94L8.5 2.5l-.94 2.06-2.06.94zm10 10l.94 2.06.94-2.06 2.06-.94-2.06-.94-.94-2.06-.94 2.06-2.06.94z\"/><path d=\"M17.41 7.96l-1.37-1.37c-.4-.4-.92-.59-1.43-.59-.52 0-1.04.2-1.43.59L10.3 9.45l-7.72 7.72c-.78.78-.78 2.05 0 2.83L4 21.41c.39.39.9.59 1.41.59.51 0 1.02-.2 1.41-.59l7.78-7.78 2.81-2.81c.8-.78.8-2.07 0-2.86zM5.41 20L4 18.59l7.72-7.72 1.47 1.35L5.41 20z\"/>\n",
              "  </svg>\n",
              "      </button>\n",
              "      \n",
              "  <style>\n",
              "    .colab-df-container {\n",
              "      display:flex;\n",
              "      flex-wrap:wrap;\n",
              "      gap: 12px;\n",
              "    }\n",
              "\n",
              "    .colab-df-convert {\n",
              "      background-color: #E8F0FE;\n",
              "      border: none;\n",
              "      border-radius: 50%;\n",
              "      cursor: pointer;\n",
              "      display: none;\n",
              "      fill: #1967D2;\n",
              "      height: 32px;\n",
              "      padding: 0 0 0 0;\n",
              "      width: 32px;\n",
              "    }\n",
              "\n",
              "    .colab-df-convert:hover {\n",
              "      background-color: #E2EBFA;\n",
              "      box-shadow: 0px 1px 2px rgba(60, 64, 67, 0.3), 0px 1px 3px 1px rgba(60, 64, 67, 0.15);\n",
              "      fill: #174EA6;\n",
              "    }\n",
              "\n",
              "    [theme=dark] .colab-df-convert {\n",
              "      background-color: #3B4455;\n",
              "      fill: #D2E3FC;\n",
              "    }\n",
              "\n",
              "    [theme=dark] .colab-df-convert:hover {\n",
              "      background-color: #434B5C;\n",
              "      box-shadow: 0px 1px 3px 1px rgba(0, 0, 0, 0.15);\n",
              "      filter: drop-shadow(0px 1px 2px rgba(0, 0, 0, 0.3));\n",
              "      fill: #FFFFFF;\n",
              "    }\n",
              "  </style>\n",
              "\n",
              "      <script>\n",
              "        const buttonEl =\n",
              "          document.querySelector('#df-f1f30366-822a-41ba-abff-cb04e28c3464 button.colab-df-convert');\n",
              "        buttonEl.style.display =\n",
              "          google.colab.kernel.accessAllowed ? 'block' : 'none';\n",
              "\n",
              "        async function convertToInteractive(key) {\n",
              "          const element = document.querySelector('#df-f1f30366-822a-41ba-abff-cb04e28c3464');\n",
              "          const dataTable =\n",
              "            await google.colab.kernel.invokeFunction('convertToInteractive',\n",
              "                                                     [key], {});\n",
              "          if (!dataTable) return;\n",
              "\n",
              "          const docLinkHtml = 'Like what you see? Visit the ' +\n",
              "            '<a target=\"_blank\" href=https://colab.research.google.com/notebooks/data_table.ipynb>data table notebook</a>'\n",
              "            + ' to learn more about interactive tables.';\n",
              "          element.innerHTML = '';\n",
              "          dataTable['output_type'] = 'display_data';\n",
              "          await google.colab.output.renderOutput(dataTable, element);\n",
              "          const docLink = document.createElement('div');\n",
              "          docLink.innerHTML = docLinkHtml;\n",
              "          element.appendChild(docLink);\n",
              "        }\n",
              "      </script>\n",
              "    </div>\n",
              "  </div>\n",
              "  "
            ]
          },
          "metadata": {},
          "execution_count": 40
        }
      ]
    },
    {
      "cell_type": "markdown",
      "metadata": {
        "id": "mgVl9u3Nn7WY"
      },
      "source": [
        "### Tokenise - break text into tokens"
      ]
    },
    {
      "cell_type": "code",
      "metadata": {
        "id": "IQNjHU1xn7WY"
      },
      "source": [
        "def tokenizer(text):\n",
        "       return text.split()\n"
      ],
      "execution_count": null,
      "outputs": []
    },
    {
      "cell_type": "code",
      "metadata": {
        "colab": {
          "base_uri": "https://localhost:8080/"
        },
        "id": "Zkysck-hn7WY",
        "outputId": "44f380d3-d0ce-4b33-925a-6a3d29300ff2"
      },
      "source": [
        "print(tokenizer(\"Tokenise this sentence into its individual words\"))"
      ],
      "execution_count": null,
      "outputs": [
        {
          "output_type": "stream",
          "name": "stdout",
          "text": [
            "['Tokenise', 'this', 'sentence', 'into', 'its', 'individual', 'words']\n"
          ]
        }
      ]
    },
    {
      "cell_type": "markdown",
      "metadata": {
        "id": "yjjfagXUn7WZ"
      },
      "source": [
        "### Stopwords - Removing stopwords from text\n",
        "We need to down load the stopwords list from nltk.\n",
        "You can do that as follows:\n"
      ]
    },
    {
      "cell_type": "code",
      "metadata": {
        "scrolled": true,
        "colab": {
          "base_uri": "https://localhost:8080/"
        },
        "id": "g8CApRMVn7WZ",
        "outputId": "23ddb1b8-223c-4ae9-e973-936a1d4c9a85"
      },
      "source": [
        "from nltk.corpus import stopwords \n",
        "\n",
        "nltk.download('stopwords')\n",
        "stop = set(stopwords.words('english'))\n",
        "print(\"Number of stopwords:\", len(stop))"
      ],
      "execution_count": null,
      "outputs": [
        {
          "output_type": "stream",
          "name": "stdout",
          "text": [
            "Number of stopwords: 179\n"
          ]
        },
        {
          "output_type": "stream",
          "name": "stderr",
          "text": [
            "[nltk_data] Downloading package stopwords to /root/nltk_data...\n",
            "[nltk_data]   Unzipping corpora/stopwords.zip.\n"
          ]
        }
      ]
    },
    {
      "cell_type": "markdown",
      "metadata": {
        "id": "FDa4h7sgn7WZ"
      },
      "source": [
        "Create a method to accept a piece of tokenised text and return text back without the stopped words"
      ]
    },
    {
      "cell_type": "code",
      "metadata": {
        "id": "fwdx_V8Kn7WZ"
      },
      "source": [
        "def stop_removal(text):\n",
        "       return [w for w in text if not w in stop]"
      ],
      "execution_count": null,
      "outputs": []
    },
    {
      "cell_type": "code",
      "metadata": {
        "colab": {
          "base_uri": "https://localhost:8080/"
        },
        "id": "Pokt2ukmn7WZ",
        "outputId": "111bc519-430a-483d-afe2-fa23bfd1b5db"
      },
      "source": [
        "text = \"This is a sample sentence, demonstrating the removal of stop words.\"\n",
        "stopped_text = stop_removal(tokenizer(text))\n",
        "print(stopped_text) "
      ],
      "execution_count": null,
      "outputs": [
        {
          "output_type": "stream",
          "name": "stdout",
          "text": [
            "['This', 'sample', 'sentence,', 'demonstrating', 'removal', 'stop', 'words.']\n"
          ]
        }
      ]
    },
    {
      "cell_type": "markdown",
      "metadata": {
        "id": "5xM_iNcCn7WZ"
      },
      "source": [
        "### Stemming - Processing tokens into their root form\n",
        "For this purpose we will explore two different stemmers and select one."
      ]
    },
    {
      "cell_type": "code",
      "metadata": {
        "colab": {
          "base_uri": "https://localhost:8080/"
        },
        "id": "q41A-e56n7WZ",
        "outputId": "66641df6-b6b3-410a-9990-1b0d5860394a"
      },
      "source": [
        "from nltk.stem.snowball import SnowballStemmer\n",
        "\n",
        "#See which languages are supported.\n",
        "print(\" \".join(SnowballStemmer.languages))"
      ],
      "execution_count": null,
      "outputs": [
        {
          "output_type": "stream",
          "name": "stdout",
          "text": [
            "arabic danish dutch english finnish french german hungarian italian norwegian porter portuguese romanian russian spanish swedish\n"
          ]
        }
      ]
    },
    {
      "cell_type": "code",
      "metadata": {
        "colab": {
          "base_uri": "https://localhost:8080/"
        },
        "id": "H9qbZxKpn7Wa",
        "outputId": "5d430e2f-7a49-48a2-d611-d582736a36d7"
      },
      "source": [
        "#get the english stemmer\n",
        "stemmer = SnowballStemmer(\"english\")\n",
        "\n",
        "#stem a word\n",
        "print(stemmer.stem(\"progamming\"))"
      ],
      "execution_count": null,
      "outputs": [
        {
          "output_type": "stream",
          "name": "stdout",
          "text": [
            "progam\n"
          ]
        }
      ]
    },
    {
      "cell_type": "code",
      "metadata": {
        "colab": {
          "base_uri": "https://localhost:8080/"
        },
        "id": "nUD2Iq56n7Wa",
        "outputId": "04044422-3107-4a60-b7db-898ef1449e54"
      },
      "source": [
        "#The 'english' stemmer is better than the original 'porter' stemmer.\n",
        "print(SnowballStemmer(\"english\").stem(\"generously\"))\n",
        "\n",
        "print(SnowballStemmer(\"porter\").stem(\"generously\"))"
      ],
      "execution_count": null,
      "outputs": [
        {
          "output_type": "stream",
          "name": "stdout",
          "text": [
            "generous\n",
            "gener\n"
          ]
        }
      ]
    },
    {
      "cell_type": "code",
      "metadata": {
        "colab": {
          "base_uri": "https://localhost:8080/"
        },
        "id": "aTC2SBDVn7Wa",
        "outputId": "82985c96-da5f-425b-ea64-ff0b6fd9b8f1"
      },
      "source": [
        "#Decide not to stem stopwords with ignore_stopwords\n",
        "stemmer2 = SnowballStemmer(\"english\", ignore_stopwords=True)\n",
        "\n",
        "#compare the two versions of the stemmer\n",
        "print(stemmer.stem(\"having\"))\n",
        "\n",
        "print(stemmer2.stem(\"having\"))"
      ],
      "execution_count": null,
      "outputs": [
        {
          "output_type": "stream",
          "name": "stdout",
          "text": [
            "have\n",
            "having\n"
          ]
        }
      ]
    },
    {
      "cell_type": "markdown",
      "metadata": {
        "id": "n4vVYhSGn7Wa"
      },
      "source": [
        "### Tokenise + Stemming \n",
        "Lets create  a method to stem each word / token contained in the piece of text. \n",
        "The text is first tokenised before stemming."
      ]
    },
    {
      "cell_type": "code",
      "metadata": {
        "id": "6r_yEJdQn7Wa"
      },
      "source": [
        "def tokenizer_stemmer(text):\n",
        "    return [stemmer.stem(word) for word in tokenizer(text)]"
      ],
      "execution_count": null,
      "outputs": []
    },
    {
      "cell_type": "code",
      "metadata": {
        "colab": {
          "base_uri": "https://localhost:8080/"
        },
        "id": "mrIvOX6Ln7Wa",
        "outputId": "ca998286-4bd3-4819-d091-4c921b4b6ae5"
      },
      "source": [
        "tokenizer('runners like running and thus they run')"
      ],
      "execution_count": null,
      "outputs": [
        {
          "output_type": "execute_result",
          "data": {
            "text/plain": [
              "['runners', 'like', 'running', 'and', 'thus', 'they', 'run']"
            ]
          },
          "metadata": {},
          "execution_count": 158
        }
      ]
    },
    {
      "cell_type": "code",
      "metadata": {
        "colab": {
          "base_uri": "https://localhost:8080/"
        },
        "id": "MgnWDzecn7Wa",
        "outputId": "186b5306-3c92-449a-a52d-8704b67c8878"
      },
      "source": [
        "tokenizer_stemmer('runners like running and thus they run')"
      ],
      "execution_count": null,
      "outputs": [
        {
          "output_type": "execute_result",
          "data": {
            "text/plain": [
              "['runner', 'like', 'run', 'and', 'thus', 'they', 'run']"
            ]
          },
          "metadata": {},
          "execution_count": 159
        }
      ]
    },
    {
      "cell_type": "markdown",
      "metadata": {
        "id": "jX2Icmu0n7Wb"
      },
      "source": [
        "You can clearly see from the code above the effect of the stemmer on the tokens"
      ]
    },
    {
      "cell_type": "code",
      "metadata": {
        "colab": {
          "base_uri": "https://localhost:8080/"
        },
        "id": "C6d30KvIn7Wb",
        "outputId": "7239dbf6-3d9c-4574-bbd9-36a3fa48c591"
      },
      "source": [
        "# suppose we want to return tokens that are stemmed and are not stop words\n",
        "# using the above tokenizer_stemmer and the stop list\n",
        "# SOLUTION here\n",
        "[w for w in tokenizer_stemmer('A runner likes running and runs a lot') if w.lower() not in stop]\n"
      ],
      "execution_count": null,
      "outputs": [
        {
          "output_type": "execute_result",
          "data": {
            "text/plain": [
              "['runner', 'like', 'run', 'run', 'lot']"
            ]
          },
          "metadata": {},
          "execution_count": 160
        }
      ]
    },
    {
      "cell_type": "markdown",
      "metadata": {
        "id": "I7tEJMF2n7Wb"
      },
      "source": [
        "### <font color='red'>Exercise</font>: method to preprocess text (tokenise, stopword removal and stemming)\n",
        "Write a method that takes a sentence and preprocesses it by first tokenising then removing stop words and finally stemming, beore returing the text.\n",
        "\n",
        "\n",
        "\n",
        "\n"
      ]
    },
    {
      "cell_type": "code",
      "metadata": {
        "id": "Pvg_-HV2n7Wb"
      },
      "source": [
        "#SOLUTION here\n",
        "stop = set(stopwords.words('english'))\n",
        "\n",
        "def tokenizer_stop_stemmer(text):\n",
        "    result = []\n",
        "    for word in tokenizer(text.lower()): #tokenise\n",
        "        if not word.lower() in stop: #remove stops\n",
        "            result.append(stemmer.stem(word)) #stem\n",
        "    return result\n",
        "\n",
        "\n",
        "#####\n",
        "def tokenizer_stop_stemmer2(text):\n",
        "    result = []\n",
        "\n",
        "    pre_stop = preprocessed_stop(text) # stopwords are being stemmed for comparison\n",
        "\n",
        "    #B = list(set(pre_stop)-set(stop))\n",
        "    #print(B)\n",
        "\n",
        "    for word in tokenizer(text.lower()): #tokenise\n",
        "        if not (stemmer.stem(word)) in preprocessed_stop(text): #remove stops\n",
        "            result.append(stemmer.stem(word)) #stem\n",
        "    return result\n",
        "\n",
        "def preprocessed_stop(text):\n",
        "    return [stemmer.stem(word) for word in stop]"
      ],
      "execution_count": null,
      "outputs": []
    },
    {
      "cell_type": "code",
      "metadata": {
        "colab": {
          "base_uri": "https://localhost:8080/"
        },
        "id": "w9m0id_Kn7Wb",
        "outputId": "d4462807-0ed4-4026-9fa9-1cc816f90677"
      },
      "source": [
        "print(tokenizer_stop_stemmer('M runner likes running and having rides a lot'))\n",
        "print(tokenizer_stop_stemmer2('M runner likes running and having rides a lot'))"
      ],
      "execution_count": null,
      "outputs": [
        {
          "output_type": "stream",
          "name": "stdout",
          "text": [
            "['runner', 'like', 'run', 'ride', 'lot']\n",
            "['runner', 'like', 'run', 'ride', 'lot']\n"
          ]
        }
      ]
    },
    {
      "cell_type": "markdown",
      "metadata": {
        "id": "PxEvnB2nG9Z9"
      },
      "source": [
        "## Get the Training and Testing splits"
      ]
    },
    {
      "cell_type": "code",
      "metadata": {
        "id": "qXwJPKWKn7Wb",
        "colab": {
          "base_uri": "https://localhost:8080/"
        },
        "outputId": "8b6a875d-9f59-42db-ef97-93e1dd6b6770"
      },
      "source": [
        "#get a small sample from the 50K data\n",
        "small_df= df.sample(frac=0.01, replace=False, random_state=1)\n",
        "#Strip HTML and punctuation to speed up text processing\n",
        "small_df['review'] = small_df['review'].apply(preprocessor)\n",
        "\n",
        "#get the X and y parts of data\n",
        "X = small_df.loc[:, 'review'].values\n",
        "y = small_df.loc[:, 'sentiment'].values\n",
        "\n",
        "X_train, X_test, y_train, y_test = train_test_split(X, y, \n",
        "                                                          random_state=42,\n",
        "                                                          test_size=0.30, # lets use 30% for testing\n",
        "                                                          stratify=y)\n",
        "print(\"Sample of Training data:\", X_train.shape)\n",
        "print(\"Sample of Test data:\", X_test.shape)"
      ],
      "execution_count": null,
      "outputs": [
        {
          "output_type": "stream",
          "name": "stdout",
          "text": [
            "Sample of Training data: (350,)\n",
            "Sample of Test data: (150,)\n"
          ]
        }
      ]
    },
    {
      "cell_type": "markdown",
      "metadata": {
        "id": "srxPXpB7azdc"
      },
      "source": [
        "### Analyse the imdb frequency distribution"
      ]
    },
    {
      "cell_type": "code",
      "metadata": {
        "colab": {
          "base_uri": "https://localhost:8080/",
          "height": 419
        },
        "id": "iXh-pnX6M8R3",
        "outputId": "deccc31e-9a84-4ad8-f6d4-09644b09a5b4"
      },
      "source": [
        "#Plot a frequency plot for some of our reviews after being stopped and stemmed\n",
        "cleaned_X_train = np.asarray([tokenizer_stop_stemmer(doc) for doc in X_train])\n",
        "\n",
        "\n",
        "# in order to use the previous plot we need to ensure each review is a string (not in a list)\n",
        "new_str = [  ' '.join(x)  for x in cleaned_X_train ]\n",
        "\n",
        "get_frequency_distribution(new_str, 200, 0.5,10) #(docs, max_features max_df, min_df)"
      ],
      "execution_count": null,
      "outputs": [
        {
          "output_type": "stream",
          "name": "stderr",
          "text": [
            "/usr/local/lib/python3.7/dist-packages/ipykernel_launcher.py:2: VisibleDeprecationWarning: Creating an ndarray from ragged nested sequences (which is a list-or-tuple of lists-or-tuples-or ndarrays with different lengths or shapes) is deprecated. If you meant to do this, you must specify 'dtype=object' when creating the ndarray.\n",
            "  \n"
          ]
        },
        {
          "output_type": "stream",
          "name": "stdout",
          "text": [
            "200\n"
          ]
        },
        {
          "output_type": "display_data",
          "data": {
            "text/plain": [
              "<Figure size 1080x288 with 1 Axes>"
            ],
            "image/png": "[encoded data removed]"
          },
          "metadata": {}
        }
      ]
    },
    {
      "cell_type": "markdown",
      "metadata": {
        "id": "WGhSn9TQn7Wb"
      },
      "source": [
        "## Training a model for sentiment classification\n",
        "### <font color='red'>Exercise</font>:\n",
        "* First create a basic classiffier (e.g.  LogisticRegression(solver='lbfgs')) using the Tfidf vectoriser of the text data. \n",
        "* Thereafter we can setup a simple pipeline and \n",
        "* Finally setup a comparative study with grid search. "
      ]
    },
    {
      "cell_type": "code",
      "metadata": {
        "colab": {
          "base_uri": "https://localhost:8080/"
        },
        "id": "pjSD7YcksxxY",
        "outputId": "6e6c68f5-b4d0-4e66-fe06-68b77472216d"
      },
      "source": [
        "# prepare text data for training the model\n",
        "vectorizer_imdb = TfidfVectorizer(max_features=500)\n",
        "vectorizer_imdb.fit(X) # Learn a vocabulary dictionary of all tokens in the raw documents.\n",
        "\n",
        "X_train_vec0 = vectorizer_imdb.transform(X_train)# transform to features for the classifier\n",
        "X_test_vec0 = vectorizer_imdb.transform(X_test)\n",
        "print(\"Sample of Training data:\", X_train_vec0.shape)\n",
        "print(\"Sample of Test data:\", X_test_vec0.shape)\n",
        "\n",
        "# SOLUTION here \n",
        "clf = LogisticRegression(solver='lbfgs')\n",
        "print(clf)\n",
        "\n",
        "clf.fit(X_train_vec0, y_train)\n",
        "# Training accuracy\n",
        "print(\"Train Accuracy :\", clf.score(X_train_vec0, y_train))\n",
        "# Test Accuracy\n",
        "print(\"Test Accuracy :\", clf.score(X_test_vec0, y_test))"
      ],
      "execution_count": null,
      "outputs": [
        {
          "output_type": "stream",
          "name": "stdout",
          "text": [
            "Sample of Training data: (350, 500)\n",
            "Sample of Test data: (150, 500)\n",
            "LogisticRegression(C=1.0, class_weight=None, dual=False, fit_intercept=True,\n",
            "                   intercept_scaling=1, l1_ratio=None, max_iter=100,\n",
            "                   multi_class='auto', n_jobs=None, penalty='l2',\n",
            "                   random_state=None, solver='lbfgs', tol=0.0001, verbose=0,\n",
            "                   warm_start=False)\n",
            "Train Accuracy : 0.9285714285714286\n",
            "Test Accuracy : 0.74\n"
          ]
        }
      ]
    },
    {
      "cell_type": "markdown",
      "metadata": {
        "id": "7D64GiRqxdnP"
      },
      "source": [
        "### Setting up a simple pipline\n",
        "In the above example we used the tfidf vectoriser to transform both the train and test data before fitting a classifier for prediction. \n",
        "This pipeline of transformation steps and the final prediction can be carried out by setting up a pipeline.\n",
        "\n",
        "Instead of using the transformed vectors of X_train and Y_train ; we can use the original train and test which contained the text data i.e. X_train and X_test. \n",
        "These can then be sent through the transformation pipeline steps. "
      ]
    },
    {
      "cell_type": "code",
      "metadata": {
        "colab": {
          "base_uri": "https://localhost:8080/"
        },
        "id": "m2nSe4sqxcHP",
        "outputId": "c0f81a1f-e0a1-4ebc-df0c-193ddec8719f"
      },
      "source": [
        "pipeline = make_pipeline(\n",
        "\n",
        "                        TfidfVectorizer(),\n",
        "                        LogisticRegression(random_state=1, solver='lbfgs')\n",
        "                        )\n",
        "\n",
        "# SOLUTION here fit, predict and show the classification report\n",
        "pipeline.fit(X_train, y_train)\n",
        "y_pred = pipeline.predict(X_test)\n",
        "print('accuracy %s' % pipeline.score(X_test, y_test))\n",
        "\n",
        "\n",
        "# print(classification_report(y_test, y_pred, target_names=[k for k, v in class_mapping.items()]))\n",
        "print(classification_report(y_test, y_pred, target_names=imdb_class_labels))"
      ],
      "execution_count": null,
      "outputs": [
        {
          "output_type": "stream",
          "name": "stdout",
          "text": [
            "accuracy 0.7333333333333333\n",
            "              precision    recall  f1-score   support\n",
            "\n",
            "      review       0.71      0.80      0.75        76\n",
            "   sentiment       0.77      0.66      0.71        74\n",
            "\n",
            "    accuracy                           0.73       150\n",
            "   macro avg       0.74      0.73      0.73       150\n",
            "weighted avg       0.74      0.73      0.73       150\n",
            "\n"
          ]
        }
      ]
    },
    {
      "cell_type": "markdown",
      "metadata": {
        "id": "pdE9mOJqsyc1"
      },
      "source": [
        "### Setting up grid search\n",
        "In the previous cell we calculated results based on a single test-train split. \n",
        "Ideally we want to do this using cross-validation. For this purpose we can use GridSearchCV.\n",
        "Details of the many possible TfidfVectorizer parameters (see the [documentation](http://scikit-learn.org/stable/modules/generated/sklearn.feature_extraction.text.TfidfVectorizer.html)). "
      ]
    },
    {
      "cell_type": "code",
      "metadata": {
        "id": "XwpLQBpnn7Wb"
      },
      "source": [
        "param_grid0 = [{\n",
        "    'clf__solver': [('lbfgs'), ('liblinear')],\n",
        "    'vect__ngram_range': [(1,1)], #can also extract 2-grams of words in addition to the 1-grams (individual words)\n",
        "    'vect__tokenizer': [tokenizer_stemmer], # use a tokeniser and the stemmer \n",
        "    'vect__stop_words': [stop] # use the stop dictionary of stopwords or not\n",
        "              }]\n",
        "\n",
        "#Sentiment classification with a neural net\n",
        "pipe_tfidf = Pipeline([\n",
        "                  ('vect', TfidfVectorizer()),\n",
        "                  ('clf', LogisticRegression())\n",
        "                  ]) \n",
        "                \n",
        "gs_sentiment_classification = GridSearchCV(pipe_tfidf, param_grid0,\n",
        "                           scoring='accuracy',\n",
        "                           cv=5,\n",
        "                           verbose=1,\n",
        "                           n_jobs=1) "
      ],
      "execution_count": null,
      "outputs": []
    },
    {
      "cell_type": "markdown",
      "metadata": {
        "id": "1Ow5o-QTn7Wc"
      },
      "source": [
        "#### <font color='red'>Warning</font>\n",
        "**Important Note about the running time**\n",
        "\n",
        "Executing the following code cell **may take up to 30-60 min** depending on your machine, since based on the parameter grid we defined, there are many models to fit.\n",
        "\n",
        "If you do not wish to wait so long, you could reduce the size of the dataset by decreasing the number of training samples, for example, as follows:\n",
        "\n",
        "    X_train = df.loc[:2500, 'review'].values\n",
        "    y_train = df.loc[:2500, 'sentiment'].values\n",
        "    \n",
        "However, note that decreasing the training set size to such a small number will likely result in poorly performing models. Alternatively, you can delete parameters from the grid above to reduce the number of models to fit -- for example, by using the following:\n",
        "\n",
        "    param_grid = [{'vect__ngram_range': [(1, 1)],\n",
        "                   'vect__stop_words': [stop, None],\n",
        "                   'vect__tokenizer': [tokenizer],\n",
        "                  ]"
      ]
    },
    {
      "cell_type": "code",
      "metadata": {
        "colab": {
          "base_uri": "https://localhost:8080/"
        },
        "id": "pG9ADf7yn7Wc",
        "outputId": "dc96f776-3884-4174-e66f-5dbfcf56d2af"
      },
      "source": [
        "gs_sentiment_classification.fit(X_train, y_train) # Tfidf vectoriser will transform so send the X_train not the vectors"
      ],
      "execution_count": null,
      "outputs": [
        {
          "output_type": "stream",
          "name": "stdout",
          "text": [
            "Fitting 5 folds for each of 2 candidates, totalling 10 fits\n"
          ]
        },
        {
          "output_type": "stream",
          "name": "stderr",
          "text": [
            "[Parallel(n_jobs=1)]: Using backend SequentialBackend with 1 concurrent workers.\n",
            "/usr/local/lib/python3.7/dist-packages/sklearn/feature_extraction/text.py:385: UserWarning: Your stop_words may be inconsistent with your preprocessing. Tokenizing the stop words generated tokens ['abov', 'ani', 'becaus', 'befor', 'doe', 'dure', 'onc', 'onli', 'ourselv', \"should'v\", 'themselv', 'veri', 'whi', \"you'r\", \"you'v\", 'yourselv'] not in stop_words.\n",
            "  'stop_words.' % sorted(inconsistent))\n",
            "/usr/local/lib/python3.7/dist-packages/sklearn/feature_extraction/text.py:385: UserWarning: Your stop_words may be inconsistent with your preprocessing. Tokenizing the stop words generated tokens ['abov', 'ani', 'becaus', 'befor', 'doe', 'dure', 'onc', 'onli', 'ourselv', \"should'v\", 'themselv', 'veri', 'whi', \"you'r\", \"you'v\", 'yourselv'] not in stop_words.\n",
            "  'stop_words.' % sorted(inconsistent))\n",
            "/usr/local/lib/python3.7/dist-packages/sklearn/feature_extraction/text.py:385: UserWarning: Your stop_words may be inconsistent with your preprocessing. Tokenizing the stop words generated tokens ['abov', 'ani', 'becaus', 'befor', 'doe', 'dure', 'onc', 'onli', 'ourselv', \"should'v\", 'themselv', 'veri', 'whi', \"you'r\", \"you'v\", 'yourselv'] not in stop_words.\n",
            "  'stop_words.' % sorted(inconsistent))\n",
            "/usr/local/lib/python3.7/dist-packages/sklearn/feature_extraction/text.py:385: UserWarning: Your stop_words may be inconsistent with your preprocessing. Tokenizing the stop words generated tokens ['abov', 'ani', 'becaus', 'befor', 'doe', 'dure', 'onc', 'onli', 'ourselv', \"should'v\", 'themselv', 'veri', 'whi', \"you'r\", \"you'v\", 'yourselv'] not in stop_words.\n",
            "  'stop_words.' % sorted(inconsistent))\n",
            "/usr/local/lib/python3.7/dist-packages/sklearn/feature_extraction/text.py:385: UserWarning: Your stop_words may be inconsistent with your preprocessing. Tokenizing the stop words generated tokens ['abov', 'ani', 'becaus', 'befor', 'doe', 'dure', 'onc', 'onli', 'ourselv', \"should'v\", 'themselv', 'veri', 'whi', \"you'r\", \"you'v\", 'yourselv'] not in stop_words.\n",
            "  'stop_words.' % sorted(inconsistent))\n",
            "/usr/local/lib/python3.7/dist-packages/sklearn/feature_extraction/text.py:385: UserWarning: Your stop_words may be inconsistent with your preprocessing. Tokenizing the stop words generated tokens ['abov', 'ani', 'becaus', 'befor', 'doe', 'dure', 'onc', 'onli', 'ourselv', \"should'v\", 'themselv', 'veri', 'whi', \"you'r\", \"you'v\", 'yourselv'] not in stop_words.\n",
            "  'stop_words.' % sorted(inconsistent))\n",
            "/usr/local/lib/python3.7/dist-packages/sklearn/feature_extraction/text.py:385: UserWarning: Your stop_words may be inconsistent with your preprocessing. Tokenizing the stop words generated tokens ['abov', 'ani', 'becaus', 'befor', 'doe', 'dure', 'onc', 'onli', 'ourselv', \"should'v\", 'themselv', 'veri', 'whi', \"you'r\", \"you'v\", 'yourselv'] not in stop_words.\n",
            "  'stop_words.' % sorted(inconsistent))\n",
            "/usr/local/lib/python3.7/dist-packages/sklearn/feature_extraction/text.py:385: UserWarning: Your stop_words may be inconsistent with your preprocessing. Tokenizing the stop words generated tokens ['abov', 'ani', 'becaus', 'befor', 'doe', 'dure', 'onc', 'onli', 'ourselv', \"should'v\", 'themselv', 'veri', 'whi', \"you'r\", \"you'v\", 'yourselv'] not in stop_words.\n",
            "  'stop_words.' % sorted(inconsistent))\n",
            "/usr/local/lib/python3.7/dist-packages/sklearn/feature_extraction/text.py:385: UserWarning: Your stop_words may be inconsistent with your preprocessing. Tokenizing the stop words generated tokens ['abov', 'ani', 'becaus', 'befor', 'doe', 'dure', 'onc', 'onli', 'ourselv', \"should'v\", 'themselv', 'veri', 'whi', \"you'r\", \"you'v\", 'yourselv'] not in stop_words.\n",
            "  'stop_words.' % sorted(inconsistent))\n",
            "/usr/local/lib/python3.7/dist-packages/sklearn/feature_extraction/text.py:385: UserWarning: Your stop_words may be inconsistent with your preprocessing. Tokenizing the stop words generated tokens ['abov', 'ani', 'becaus', 'befor', 'doe', 'dure', 'onc', 'onli', 'ourselv', \"should'v\", 'themselv', 'veri', 'whi', \"you'r\", \"you'v\", 'yourselv'] not in stop_words.\n",
            "  'stop_words.' % sorted(inconsistent))\n",
            "[Parallel(n_jobs=1)]: Done  10 out of  10 | elapsed:   11.1s finished\n",
            "/usr/local/lib/python3.7/dist-packages/sklearn/feature_extraction/text.py:385: UserWarning: Your stop_words may be inconsistent with your preprocessing. Tokenizing the stop words generated tokens ['abov', 'ani', 'becaus', 'befor', 'doe', 'dure', 'onc', 'onli', 'ourselv', \"should'v\", 'themselv', 'veri', 'whi', \"you'r\", \"you'v\", 'yourselv'] not in stop_words.\n",
            "  'stop_words.' % sorted(inconsistent))\n"
          ]
        },
        {
          "output_type": "execute_result",
          "data": {
            "text/plain": [
              "GridSearchCV(cv=5, error_score=nan,\n",
              "             estimator=Pipeline(memory=None,\n",
              "                                steps=[('vect',\n",
              "                                        TfidfVectorizer(analyzer='word',\n",
              "                                                        binary=False,\n",
              "                                                        decode_error='strict',\n",
              "                                                        dtype=<class 'numpy.float64'>,\n",
              "                                                        encoding='utf-8',\n",
              "                                                        input='content',\n",
              "                                                        lowercase=True,\n",
              "                                                        max_df=1.0,\n",
              "                                                        max_features=None,\n",
              "                                                        min_df=1,\n",
              "                                                        ngram_range=(1, 1),\n",
              "                                                        norm='l2',\n",
              "                                                        preprocessor=None,\n",
              "                                                        smooth_idf=True,\n",
              "                                                        stop_words=None,\n",
              "                                                        strip_acce...\n",
              "                          'vect__stop_words': [{'a', 'about', 'above', 'after',\n",
              "                                                'again', 'against', 'ain',\n",
              "                                                'all', 'am', 'an', 'and', 'any',\n",
              "                                                'are', 'aren', \"aren't\", 'as',\n",
              "                                                'at', 'be', 'because', 'been',\n",
              "                                                'before', 'being', 'below',\n",
              "                                                'between', 'both', 'but', 'by',\n",
              "                                                'can', 'couldn', \"couldn't\", ...}],\n",
              "                          'vect__tokenizer': [<function tokenizer_stemmer at 0x7fb6ef7045f0>]}],\n",
              "             pre_dispatch='2*n_jobs', refit=True, return_train_score=False,\n",
              "             scoring='accuracy', verbose=1)"
            ]
          },
          "metadata": {},
          "execution_count": 75
        }
      ]
    },
    {
      "cell_type": "code",
      "metadata": {
        "colab": {
          "base_uri": "https://localhost:8080/"
        },
        "id": "AOKfai4Nn7Wc",
        "outputId": "0084b3e9-8e7e-4526-919b-376987fe4623"
      },
      "source": [
        "print('Best parameter set: %s ' % gs_sentiment_classification.best_params_)\n",
        "print('CV Accuracy: %.3f' % gs_sentiment_classification.best_score_)\n"
      ],
      "execution_count": null,
      "outputs": [
        {
          "output_type": "stream",
          "name": "stdout",
          "text": [
            "Best parameter set: {'clf__solver': 'lbfgs', 'vect__ngram_range': (1, 1), 'vect__stop_words': {'by', 'before', 'll', 'its', 'm', 'a', 'won', \"don't\", 'over', 'from', 'did', \"you're\", 'ain', 'of', 'herself', 'don', 'whom', 'they', 'down', 'through', 'y', 'just', \"didn't\", \"shouldn't\", \"you've\", 'wasn', 'in', 'her', 'been', 'as', 'itself', 'this', 't', 'mustn', 'and', \"isn't\", 'hers', 'themselves', 'i', 'ourselves', \"she's\", 'will', 'she', 'not', 'my', 'has', 'any', 'such', 'too', 'me', \"that'll\", 'until', 'himself', 'where', 'that', 'them', 'having', 'above', 'more', 'these', 'do', 'yours', 'while', 'shan', \"wasn't\", 'had', 'shouldn', 'then', 'no', 'own', 's', 'very', 'our', 'into', 'to', 'once', 'wouldn', 'are', 'haven', 'up', \"you'd\", 'weren', 'now', 'their', 'if', 'is', 'you', 'both', 'each', 'being', 'should', 'after', 'ma', 'at', 'the', 'be', 're', 'which', 'most', 'other', \"you'll\", 'mightn', 'about', 'there', 'so', 'for', 'does', 'o', 'doesn', 'same', 'needn', 'we', \"doesn't\", 'he', \"needn't\", 'couldn', 'hasn', 'was', 'aren', \"mustn't\", \"couldn't\", 'on', 'doing', \"aren't\", 'all', 'when', 'but', 'him', 'here', 'ours', 'an', 'nor', 'against', 'it', 'how', 'd', 'during', 'out', 'myself', \"hadn't\", 'your', 'under', \"hasn't\", \"haven't\", 'who', 'why', 'those', \"mightn't\", 'can', 'what', 'than', \"won't\", 'am', \"wouldn't\", 'or', 'few', 'hadn', 've', 'again', \"shan't\", 'theirs', 'were', 'yourselves', 'didn', 'between', 'some', 'further', \"it's\", 'isn', 'his', 'below', 'have', 'because', 'with', \"weren't\", 'off', \"should've\", 'yourself', 'only'}, 'vect__tokenizer': <function tokenizer_stemmer at 0x7fb6ef7045f0>} \n",
            "CV Accuracy: 0.809\n"
          ]
        }
      ]
    },
    {
      "cell_type": "code",
      "metadata": {
        "colab": {
          "base_uri": "https://localhost:8080/"
        },
        "id": "NaYYmTyXn7Wc",
        "outputId": "6ba1da1f-0f49-488c-ec66-cdcd3d39d664"
      },
      "source": [
        "clf = gs_sentiment_classification.best_estimator_\n",
        "print('Test Accuracy: %.3f' % clf.score(X_test, y_test))"
      ],
      "execution_count": null,
      "outputs": [
        {
          "output_type": "stream",
          "name": "stdout",
          "text": [
            "Test Accuracy: 0.747\n"
          ]
        }
      ]
    },
    {
      "cell_type": "markdown",
      "metadata": {
        "id": "8hNVSFDmn7Wc"
      },
      "source": [
        "####  GridSearchCV versus cross_val_score\n",
        "    \n",
        "Please note that **best_score_** is the average k-fold cross-validation score. I.e., if we have a `GridSearchCV` object with 5-fold cross-validation (like the one above), the `best_score_` attribute returns the average score over the 5-folds of the best model. \n",
        "In contrast cross_val_score will return the individual preformance values for each fold. "
      ]
    },
    {
      "cell_type": "code",
      "metadata": {
        "colab": {
          "base_uri": "https://localhost:8080/"
        },
        "id": "Do9ChKZIiPNj",
        "outputId": "21c7e5b8-edda-4022-fe2d-2fa816bb3e2b"
      },
      "source": [
        "cross_val_score(gs_sentiment_classification, X_train, y_train, cv=5)"
      ],
      "execution_count": null,
      "outputs": [
        {
          "output_type": "stream",
          "name": "stdout",
          "text": [
            "Fitting 5 folds for each of 2 candidates, totalling 10 fits\n"
          ]
        },
        {
          "output_type": "stream",
          "name": "stderr",
          "text": [
            "[Parallel(n_jobs=1)]: Using backend SequentialBackend with 1 concurrent workers.\n",
            "/usr/local/lib/python3.7/dist-packages/sklearn/feature_extraction/text.py:385: UserWarning: Your stop_words may be inconsistent with your preprocessing. Tokenizing the stop words generated tokens ['abov', 'ani', 'becaus', 'befor', 'doe', 'dure', 'onc', 'onli', 'ourselv', \"should'v\", 'themselv', 'veri', 'whi', \"you'r\", \"you'v\", 'yourselv'] not in stop_words.\n",
            "  'stop_words.' % sorted(inconsistent))\n",
            "/usr/local/lib/python3.7/dist-packages/sklearn/feature_extraction/text.py:385: UserWarning: Your stop_words may be inconsistent with your preprocessing. Tokenizing the stop words generated tokens ['abov', 'ani', 'becaus', 'befor', 'doe', 'dure', 'onc', 'onli', 'ourselv', \"should'v\", 'themselv', 'veri', 'whi', \"you'r\", \"you'v\", 'yourselv'] not in stop_words.\n",
            "  'stop_words.' % sorted(inconsistent))\n",
            "/usr/local/lib/python3.7/dist-packages/sklearn/feature_extraction/text.py:385: UserWarning: Your stop_words may be inconsistent with your preprocessing. Tokenizing the stop words generated tokens ['abov', 'ani', 'becaus', 'befor', 'doe', 'dure', 'onc', 'onli', 'ourselv', \"should'v\", 'themselv', 'veri', 'whi', \"you'r\", \"you'v\", 'yourselv'] not in stop_words.\n",
            "  'stop_words.' % sorted(inconsistent))\n",
            "/usr/local/lib/python3.7/dist-packages/sklearn/feature_extraction/text.py:385: UserWarning: Your stop_words may be inconsistent with your preprocessing. Tokenizing the stop words generated tokens ['abov', 'ani', 'becaus', 'befor', 'doe', 'dure', 'onc', 'onli', 'ourselv', \"should'v\", 'themselv', 'veri', 'whi', \"you'r\", \"you'v\", 'yourselv'] not in stop_words.\n",
            "  'stop_words.' % sorted(inconsistent))\n",
            "/usr/local/lib/python3.7/dist-packages/sklearn/feature_extraction/text.py:385: UserWarning: Your stop_words may be inconsistent with your preprocessing. Tokenizing the stop words generated tokens ['abov', 'ani', 'becaus', 'befor', 'doe', 'dure', 'onc', 'onli', 'ourselv', \"should'v\", 'themselv', 'veri', 'whi', \"you'r\", \"you'v\", 'yourselv'] not in stop_words.\n",
            "  'stop_words.' % sorted(inconsistent))\n",
            "/usr/local/lib/python3.7/dist-packages/sklearn/feature_extraction/text.py:385: UserWarning: Your stop_words may be inconsistent with your preprocessing. Tokenizing the stop words generated tokens ['abov', 'ani', 'becaus', 'befor', 'doe', 'dure', 'onc', 'onli', 'ourselv', \"should'v\", 'themselv', 'veri', 'whi', \"you'r\", \"you'v\", 'yourselv'] not in stop_words.\n",
            "  'stop_words.' % sorted(inconsistent))\n",
            "/usr/local/lib/python3.7/dist-packages/sklearn/feature_extraction/text.py:385: UserWarning: Your stop_words may be inconsistent with your preprocessing. Tokenizing the stop words generated tokens ['abov', 'ani', 'becaus', 'befor', 'doe', 'dure', 'onc', 'onli', 'ourselv', \"should'v\", 'themselv', 'veri', 'whi', \"you'r\", \"you'v\", 'yourselv'] not in stop_words.\n",
            "  'stop_words.' % sorted(inconsistent))\n",
            "/usr/local/lib/python3.7/dist-packages/sklearn/feature_extraction/text.py:385: UserWarning: Your stop_words may be inconsistent with your preprocessing. Tokenizing the stop words generated tokens ['abov', 'ani', 'becaus', 'befor', 'doe', 'dure', 'onc', 'onli', 'ourselv', \"should'v\", 'themselv', 'veri', 'whi', \"you'r\", \"you'v\", 'yourselv'] not in stop_words.\n",
            "  'stop_words.' % sorted(inconsistent))\n",
            "/usr/local/lib/python3.7/dist-packages/sklearn/feature_extraction/text.py:385: UserWarning: Your stop_words may be inconsistent with your preprocessing. Tokenizing the stop words generated tokens ['abov', 'ani', 'becaus', 'befor', 'doe', 'dure', 'onc', 'onli', 'ourselv', \"should'v\", 'themselv', 'veri', 'whi', \"you'r\", \"you'v\", 'yourselv'] not in stop_words.\n",
            "  'stop_words.' % sorted(inconsistent))\n",
            "/usr/local/lib/python3.7/dist-packages/sklearn/feature_extraction/text.py:385: UserWarning: Your stop_words may be inconsistent with your preprocessing. Tokenizing the stop words generated tokens ['abov', 'ani', 'becaus', 'befor', 'doe', 'dure', 'onc', 'onli', 'ourselv', \"should'v\", 'themselv', 'veri', 'whi', \"you'r\", \"you'v\", 'yourselv'] not in stop_words.\n",
            "  'stop_words.' % sorted(inconsistent))\n",
            "[Parallel(n_jobs=1)]: Done  10 out of  10 | elapsed:    9.2s finished\n",
            "/usr/local/lib/python3.7/dist-packages/sklearn/feature_extraction/text.py:385: UserWarning: Your stop_words may be inconsistent with your preprocessing. Tokenizing the stop words generated tokens ['abov', 'ani', 'becaus', 'befor', 'doe', 'dure', 'onc', 'onli', 'ourselv', \"should'v\", 'themselv', 'veri', 'whi', \"you'r\", \"you'v\", 'yourselv'] not in stop_words.\n",
            "  'stop_words.' % sorted(inconsistent))\n"
          ]
        },
        {
          "output_type": "stream",
          "name": "stdout",
          "text": [
            "Fitting 5 folds for each of 2 candidates, totalling 10 fits\n"
          ]
        },
        {
          "output_type": "stream",
          "name": "stderr",
          "text": [
            "[Parallel(n_jobs=1)]: Using backend SequentialBackend with 1 concurrent workers.\n",
            "/usr/local/lib/python3.7/dist-packages/sklearn/feature_extraction/text.py:385: UserWarning: Your stop_words may be inconsistent with your preprocessing. Tokenizing the stop words generated tokens ['abov', 'ani', 'becaus', 'befor', 'doe', 'dure', 'onc', 'onli', 'ourselv', \"should'v\", 'themselv', 'veri', 'whi', \"you'r\", \"you'v\", 'yourselv'] not in stop_words.\n",
            "  'stop_words.' % sorted(inconsistent))\n",
            "/usr/local/lib/python3.7/dist-packages/sklearn/feature_extraction/text.py:385: UserWarning: Your stop_words may be inconsistent with your preprocessing. Tokenizing the stop words generated tokens ['abov', 'ani', 'becaus', 'befor', 'doe', 'dure', 'onc', 'onli', 'ourselv', \"should'v\", 'themselv', 'veri', 'whi', \"you'r\", \"you'v\", 'yourselv'] not in stop_words.\n",
            "  'stop_words.' % sorted(inconsistent))\n",
            "/usr/local/lib/python3.7/dist-packages/sklearn/feature_extraction/text.py:385: UserWarning: Your stop_words may be inconsistent with your preprocessing. Tokenizing the stop words generated tokens ['abov', 'ani', 'becaus', 'befor', 'doe', 'dure', 'onc', 'onli', 'ourselv', \"should'v\", 'themselv', 'veri', 'whi', \"you'r\", \"you'v\", 'yourselv'] not in stop_words.\n",
            "  'stop_words.' % sorted(inconsistent))\n",
            "/usr/local/lib/python3.7/dist-packages/sklearn/feature_extraction/text.py:385: UserWarning: Your stop_words may be inconsistent with your preprocessing. Tokenizing the stop words generated tokens ['abov', 'ani', 'becaus', 'befor', 'doe', 'dure', 'onc', 'onli', 'ourselv', \"should'v\", 'themselv', 'veri', 'whi', \"you'r\", \"you'v\", 'yourselv'] not in stop_words.\n",
            "  'stop_words.' % sorted(inconsistent))\n",
            "/usr/local/lib/python3.7/dist-packages/sklearn/feature_extraction/text.py:385: UserWarning: Your stop_words may be inconsistent with your preprocessing. Tokenizing the stop words generated tokens ['abov', 'ani', 'becaus', 'befor', 'doe', 'dure', 'onc', 'onli', 'ourselv', \"should'v\", 'themselv', 'veri', 'whi', \"you'r\", \"you'v\", 'yourselv'] not in stop_words.\n",
            "  'stop_words.' % sorted(inconsistent))\n",
            "/usr/local/lib/python3.7/dist-packages/sklearn/feature_extraction/text.py:385: UserWarning: Your stop_words may be inconsistent with your preprocessing. Tokenizing the stop words generated tokens ['abov', 'ani', 'becaus', 'befor', 'doe', 'dure', 'onc', 'onli', 'ourselv', \"should'v\", 'themselv', 'veri', 'whi', \"you'r\", \"you'v\", 'yourselv'] not in stop_words.\n",
            "  'stop_words.' % sorted(inconsistent))\n",
            "/usr/local/lib/python3.7/dist-packages/sklearn/feature_extraction/text.py:385: UserWarning: Your stop_words may be inconsistent with your preprocessing. Tokenizing the stop words generated tokens ['abov', 'ani', 'becaus', 'befor', 'doe', 'dure', 'onc', 'onli', 'ourselv', \"should'v\", 'themselv', 'veri', 'whi', \"you'r\", \"you'v\", 'yourselv'] not in stop_words.\n",
            "  'stop_words.' % sorted(inconsistent))\n",
            "/usr/local/lib/python3.7/dist-packages/sklearn/feature_extraction/text.py:385: UserWarning: Your stop_words may be inconsistent with your preprocessing. Tokenizing the stop words generated tokens ['abov', 'ani', 'becaus', 'befor', 'doe', 'dure', 'onc', 'onli', 'ourselv', \"should'v\", 'themselv', 'veri', 'whi', \"you'r\", \"you'v\", 'yourselv'] not in stop_words.\n",
            "  'stop_words.' % sorted(inconsistent))\n",
            "/usr/local/lib/python3.7/dist-packages/sklearn/feature_extraction/text.py:385: UserWarning: Your stop_words may be inconsistent with your preprocessing. Tokenizing the stop words generated tokens ['abov', 'ani', 'becaus', 'befor', 'doe', 'dure', 'onc', 'onli', 'ourselv', \"should'v\", 'themselv', 'veri', 'whi', \"you'r\", \"you'v\", 'yourselv'] not in stop_words.\n",
            "  'stop_words.' % sorted(inconsistent))\n",
            "/usr/local/lib/python3.7/dist-packages/sklearn/feature_extraction/text.py:385: UserWarning: Your stop_words may be inconsistent with your preprocessing. Tokenizing the stop words generated tokens ['abov', 'ani', 'becaus', 'befor', 'doe', 'dure', 'onc', 'onli', 'ourselv', \"should'v\", 'themselv', 'veri', 'whi', \"you'r\", \"you'v\", 'yourselv'] not in stop_words.\n",
            "  'stop_words.' % sorted(inconsistent))\n",
            "[Parallel(n_jobs=1)]: Done  10 out of  10 | elapsed:    8.8s finished\n",
            "/usr/local/lib/python3.7/dist-packages/sklearn/feature_extraction/text.py:385: UserWarning: Your stop_words may be inconsistent with your preprocessing. Tokenizing the stop words generated tokens ['abov', 'ani', 'becaus', 'befor', 'doe', 'dure', 'onc', 'onli', 'ourselv', \"should'v\", 'themselv', 'veri', 'whi', \"you'r\", \"you'v\", 'yourselv'] not in stop_words.\n",
            "  'stop_words.' % sorted(inconsistent))\n"
          ]
        },
        {
          "output_type": "stream",
          "name": "stdout",
          "text": [
            "Fitting 5 folds for each of 2 candidates, totalling 10 fits\n"
          ]
        },
        {
          "output_type": "stream",
          "name": "stderr",
          "text": [
            "[Parallel(n_jobs=1)]: Using backend SequentialBackend with 1 concurrent workers.\n",
            "/usr/local/lib/python3.7/dist-packages/sklearn/feature_extraction/text.py:385: UserWarning: Your stop_words may be inconsistent with your preprocessing. Tokenizing the stop words generated tokens ['abov', 'ani', 'becaus', 'befor', 'doe', 'dure', 'onc', 'onli', 'ourselv', \"should'v\", 'themselv', 'veri', 'whi', \"you'r\", \"you'v\", 'yourselv'] not in stop_words.\n",
            "  'stop_words.' % sorted(inconsistent))\n",
            "/usr/local/lib/python3.7/dist-packages/sklearn/feature_extraction/text.py:385: UserWarning: Your stop_words may be inconsistent with your preprocessing. Tokenizing the stop words generated tokens ['abov', 'ani', 'becaus', 'befor', 'doe', 'dure', 'onc', 'onli', 'ourselv', \"should'v\", 'themselv', 'veri', 'whi', \"you'r\", \"you'v\", 'yourselv'] not in stop_words.\n",
            "  'stop_words.' % sorted(inconsistent))\n",
            "/usr/local/lib/python3.7/dist-packages/sklearn/feature_extraction/text.py:385: UserWarning: Your stop_words may be inconsistent with your preprocessing. Tokenizing the stop words generated tokens ['abov', 'ani', 'becaus', 'befor', 'doe', 'dure', 'onc', 'onli', 'ourselv', \"should'v\", 'themselv', 'veri', 'whi', \"you'r\", \"you'v\", 'yourselv'] not in stop_words.\n",
            "  'stop_words.' % sorted(inconsistent))\n",
            "/usr/local/lib/python3.7/dist-packages/sklearn/feature_extraction/text.py:385: UserWarning: Your stop_words may be inconsistent with your preprocessing. Tokenizing the stop words generated tokens ['abov', 'ani', 'becaus', 'befor', 'doe', 'dure', 'onc', 'onli', 'ourselv', \"should'v\", 'themselv', 'veri', 'whi', \"you'r\", \"you'v\", 'yourselv'] not in stop_words.\n",
            "  'stop_words.' % sorted(inconsistent))\n",
            "/usr/local/lib/python3.7/dist-packages/sklearn/feature_extraction/text.py:385: UserWarning: Your stop_words may be inconsistent with your preprocessing. Tokenizing the stop words generated tokens ['abov', 'ani', 'becaus', 'befor', 'doe', 'dure', 'onc', 'onli', 'ourselv', \"should'v\", 'themselv', 'veri', 'whi', \"you'r\", \"you'v\", 'yourselv'] not in stop_words.\n",
            "  'stop_words.' % sorted(inconsistent))\n",
            "/usr/local/lib/python3.7/dist-packages/sklearn/feature_extraction/text.py:385: UserWarning: Your stop_words may be inconsistent with your preprocessing. Tokenizing the stop words generated tokens ['abov', 'ani', 'becaus', 'befor', 'doe', 'dure', 'onc', 'onli', 'ourselv', \"should'v\", 'themselv', 'veri', 'whi', \"you'r\", \"you'v\", 'yourselv'] not in stop_words.\n",
            "  'stop_words.' % sorted(inconsistent))\n",
            "/usr/local/lib/python3.7/dist-packages/sklearn/feature_extraction/text.py:385: UserWarning: Your stop_words may be inconsistent with your preprocessing. Tokenizing the stop words generated tokens ['abov', 'ani', 'becaus', 'befor', 'doe', 'dure', 'onc', 'onli', 'ourselv', \"should'v\", 'themselv', 'veri', 'whi', \"you'r\", \"you'v\", 'yourselv'] not in stop_words.\n",
            "  'stop_words.' % sorted(inconsistent))\n",
            "/usr/local/lib/python3.7/dist-packages/sklearn/feature_extraction/text.py:385: UserWarning: Your stop_words may be inconsistent with your preprocessing. Tokenizing the stop words generated tokens ['abov', 'ani', 'becaus', 'befor', 'doe', 'dure', 'onc', 'onli', 'ourselv', \"should'v\", 'themselv', 'veri', 'whi', \"you'r\", \"you'v\", 'yourselv'] not in stop_words.\n",
            "  'stop_words.' % sorted(inconsistent))\n",
            "/usr/local/lib/python3.7/dist-packages/sklearn/feature_extraction/text.py:385: UserWarning: Your stop_words may be inconsistent with your preprocessing. Tokenizing the stop words generated tokens ['abov', 'ani', 'becaus', 'befor', 'doe', 'dure', 'onc', 'onli', 'ourselv', \"should'v\", 'themselv', 'veri', 'whi', \"you'r\", \"you'v\", 'yourselv'] not in stop_words.\n",
            "  'stop_words.' % sorted(inconsistent))\n",
            "/usr/local/lib/python3.7/dist-packages/sklearn/feature_extraction/text.py:385: UserWarning: Your stop_words may be inconsistent with your preprocessing. Tokenizing the stop words generated tokens ['abov', 'ani', 'becaus', 'befor', 'doe', 'dure', 'onc', 'onli', 'ourselv', \"should'v\", 'themselv', 'veri', 'whi', \"you'r\", \"you'v\", 'yourselv'] not in stop_words.\n",
            "  'stop_words.' % sorted(inconsistent))\n",
            "[Parallel(n_jobs=1)]: Done  10 out of  10 | elapsed:    9.0s finished\n",
            "/usr/local/lib/python3.7/dist-packages/sklearn/feature_extraction/text.py:385: UserWarning: Your stop_words may be inconsistent with your preprocessing. Tokenizing the stop words generated tokens ['abov', 'ani', 'becaus', 'befor', 'doe', 'dure', 'onc', 'onli', 'ourselv', \"should'v\", 'themselv', 'veri', 'whi', \"you'r\", \"you'v\", 'yourselv'] not in stop_words.\n",
            "  'stop_words.' % sorted(inconsistent))\n"
          ]
        },
        {
          "output_type": "stream",
          "name": "stdout",
          "text": [
            "Fitting 5 folds for each of 2 candidates, totalling 10 fits\n"
          ]
        },
        {
          "output_type": "stream",
          "name": "stderr",
          "text": [
            "[Parallel(n_jobs=1)]: Using backend SequentialBackend with 1 concurrent workers.\n",
            "/usr/local/lib/python3.7/dist-packages/sklearn/feature_extraction/text.py:385: UserWarning: Your stop_words may be inconsistent with your preprocessing. Tokenizing the stop words generated tokens ['abov', 'ani', 'becaus', 'befor', 'doe', 'dure', 'onc', 'onli', 'ourselv', \"should'v\", 'themselv', 'veri', 'whi', \"you'r\", \"you'v\", 'yourselv'] not in stop_words.\n",
            "  'stop_words.' % sorted(inconsistent))\n",
            "/usr/local/lib/python3.7/dist-packages/sklearn/feature_extraction/text.py:385: UserWarning: Your stop_words may be inconsistent with your preprocessing. Tokenizing the stop words generated tokens ['abov', 'ani', 'becaus', 'befor', 'doe', 'dure', 'onc', 'onli', 'ourselv', \"should'v\", 'themselv', 'veri', 'whi', \"you'r\", \"you'v\", 'yourselv'] not in stop_words.\n",
            "  'stop_words.' % sorted(inconsistent))\n",
            "/usr/local/lib/python3.7/dist-packages/sklearn/feature_extraction/text.py:385: UserWarning: Your stop_words may be inconsistent with your preprocessing. Tokenizing the stop words generated tokens ['abov', 'ani', 'becaus', 'befor', 'doe', 'dure', 'onc', 'onli', 'ourselv', \"should'v\", 'themselv', 'veri', 'whi', \"you'r\", \"you'v\", 'yourselv'] not in stop_words.\n",
            "  'stop_words.' % sorted(inconsistent))\n",
            "/usr/local/lib/python3.7/dist-packages/sklearn/feature_extraction/text.py:385: UserWarning: Your stop_words may be inconsistent with your preprocessing. Tokenizing the stop words generated tokens ['abov', 'ani', 'becaus', 'befor', 'doe', 'dure', 'onc', 'onli', 'ourselv', \"should'v\", 'themselv', 'veri', 'whi', \"you'r\", \"you'v\", 'yourselv'] not in stop_words.\n",
            "  'stop_words.' % sorted(inconsistent))\n",
            "/usr/local/lib/python3.7/dist-packages/sklearn/feature_extraction/text.py:385: UserWarning: Your stop_words may be inconsistent with your preprocessing. Tokenizing the stop words generated tokens ['abov', 'ani', 'becaus', 'befor', 'doe', 'dure', 'onc', 'onli', 'ourselv', \"should'v\", 'themselv', 'veri', 'whi', \"you'r\", \"you'v\", 'yourselv'] not in stop_words.\n",
            "  'stop_words.' % sorted(inconsistent))\n",
            "/usr/local/lib/python3.7/dist-packages/sklearn/feature_extraction/text.py:385: UserWarning: Your stop_words may be inconsistent with your preprocessing. Tokenizing the stop words generated tokens ['abov', 'ani', 'becaus', 'befor', 'doe', 'dure', 'onc', 'onli', 'ourselv', \"should'v\", 'themselv', 'veri', 'whi', \"you'r\", \"you'v\", 'yourselv'] not in stop_words.\n",
            "  'stop_words.' % sorted(inconsistent))\n",
            "/usr/local/lib/python3.7/dist-packages/sklearn/feature_extraction/text.py:385: UserWarning: Your stop_words may be inconsistent with your preprocessing. Tokenizing the stop words generated tokens ['abov', 'ani', 'becaus', 'befor', 'doe', 'dure', 'onc', 'onli', 'ourselv', \"should'v\", 'themselv', 'veri', 'whi', \"you'r\", \"you'v\", 'yourselv'] not in stop_words.\n",
            "  'stop_words.' % sorted(inconsistent))\n",
            "/usr/local/lib/python3.7/dist-packages/sklearn/feature_extraction/text.py:385: UserWarning: Your stop_words may be inconsistent with your preprocessing. Tokenizing the stop words generated tokens ['abov', 'ani', 'becaus', 'befor', 'doe', 'dure', 'onc', 'onli', 'ourselv', \"should'v\", 'themselv', 'veri', 'whi', \"you'r\", \"you'v\", 'yourselv'] not in stop_words.\n",
            "  'stop_words.' % sorted(inconsistent))\n",
            "/usr/local/lib/python3.7/dist-packages/sklearn/feature_extraction/text.py:385: UserWarning: Your stop_words may be inconsistent with your preprocessing. Tokenizing the stop words generated tokens ['abov', 'ani', 'becaus', 'befor', 'doe', 'dure', 'onc', 'onli', 'ourselv', \"should'v\", 'themselv', 'veri', 'whi', \"you'r\", \"you'v\", 'yourselv'] not in stop_words.\n",
            "  'stop_words.' % sorted(inconsistent))\n",
            "/usr/local/lib/python3.7/dist-packages/sklearn/feature_extraction/text.py:385: UserWarning: Your stop_words may be inconsistent with your preprocessing. Tokenizing the stop words generated tokens ['abov', 'ani', 'becaus', 'befor', 'doe', 'dure', 'onc', 'onli', 'ourselv', \"should'v\", 'themselv', 'veri', 'whi', \"you'r\", \"you'v\", 'yourselv'] not in stop_words.\n",
            "  'stop_words.' % sorted(inconsistent))\n",
            "[Parallel(n_jobs=1)]: Done  10 out of  10 | elapsed:    8.8s finished\n",
            "/usr/local/lib/python3.7/dist-packages/sklearn/feature_extraction/text.py:385: UserWarning: Your stop_words may be inconsistent with your preprocessing. Tokenizing the stop words generated tokens ['abov', 'ani', 'becaus', 'befor', 'doe', 'dure', 'onc', 'onli', 'ourselv', \"should'v\", 'themselv', 'veri', 'whi', \"you'r\", \"you'v\", 'yourselv'] not in stop_words.\n",
            "  'stop_words.' % sorted(inconsistent))\n"
          ]
        },
        {
          "output_type": "stream",
          "name": "stdout",
          "text": [
            "Fitting 5 folds for each of 2 candidates, totalling 10 fits\n"
          ]
        },
        {
          "output_type": "stream",
          "name": "stderr",
          "text": [
            "[Parallel(n_jobs=1)]: Using backend SequentialBackend with 1 concurrent workers.\n",
            "/usr/local/lib/python3.7/dist-packages/sklearn/feature_extraction/text.py:385: UserWarning: Your stop_words may be inconsistent with your preprocessing. Tokenizing the stop words generated tokens ['abov', 'ani', 'becaus', 'befor', 'doe', 'dure', 'onc', 'onli', 'ourselv', \"should'v\", 'themselv', 'veri', 'whi', \"you'r\", \"you'v\", 'yourselv'] not in stop_words.\n",
            "  'stop_words.' % sorted(inconsistent))\n",
            "/usr/local/lib/python3.7/dist-packages/sklearn/feature_extraction/text.py:385: UserWarning: Your stop_words may be inconsistent with your preprocessing. Tokenizing the stop words generated tokens ['abov', 'ani', 'becaus', 'befor', 'doe', 'dure', 'onc', 'onli', 'ourselv', \"should'v\", 'themselv', 'veri', 'whi', \"you'r\", \"you'v\", 'yourselv'] not in stop_words.\n",
            "  'stop_words.' % sorted(inconsistent))\n",
            "/usr/local/lib/python3.7/dist-packages/sklearn/feature_extraction/text.py:385: UserWarning: Your stop_words may be inconsistent with your preprocessing. Tokenizing the stop words generated tokens ['abov', 'ani', 'becaus', 'befor', 'doe', 'dure', 'onc', 'onli', 'ourselv', \"should'v\", 'themselv', 'veri', 'whi', \"you'r\", \"you'v\", 'yourselv'] not in stop_words.\n",
            "  'stop_words.' % sorted(inconsistent))\n",
            "/usr/local/lib/python3.7/dist-packages/sklearn/feature_extraction/text.py:385: UserWarning: Your stop_words may be inconsistent with your preprocessing. Tokenizing the stop words generated tokens ['abov', 'ani', 'becaus', 'befor', 'doe', 'dure', 'onc', 'onli', 'ourselv', \"should'v\", 'themselv', 'veri', 'whi', \"you'r\", \"you'v\", 'yourselv'] not in stop_words.\n",
            "  'stop_words.' % sorted(inconsistent))\n",
            "/usr/local/lib/python3.7/dist-packages/sklearn/feature_extraction/text.py:385: UserWarning: Your stop_words may be inconsistent with your preprocessing. Tokenizing the stop words generated tokens ['abov', 'ani', 'becaus', 'befor', 'doe', 'dure', 'onc', 'onli', 'ourselv', \"should'v\", 'themselv', 'veri', 'whi', \"you'r\", \"you'v\", 'yourselv'] not in stop_words.\n",
            "  'stop_words.' % sorted(inconsistent))\n",
            "/usr/local/lib/python3.7/dist-packages/sklearn/feature_extraction/text.py:385: UserWarning: Your stop_words may be inconsistent with your preprocessing. Tokenizing the stop words generated tokens ['abov', 'ani', 'becaus', 'befor', 'doe', 'dure', 'onc', 'onli', 'ourselv', \"should'v\", 'themselv', 'veri', 'whi', \"you'r\", \"you'v\", 'yourselv'] not in stop_words.\n",
            "  'stop_words.' % sorted(inconsistent))\n",
            "/usr/local/lib/python3.7/dist-packages/sklearn/feature_extraction/text.py:385: UserWarning: Your stop_words may be inconsistent with your preprocessing. Tokenizing the stop words generated tokens ['abov', 'ani', 'becaus', 'befor', 'doe', 'dure', 'onc', 'onli', 'ourselv', \"should'v\", 'themselv', 'veri', 'whi', \"you'r\", \"you'v\", 'yourselv'] not in stop_words.\n",
            "  'stop_words.' % sorted(inconsistent))\n",
            "/usr/local/lib/python3.7/dist-packages/sklearn/feature_extraction/text.py:385: UserWarning: Your stop_words may be inconsistent with your preprocessing. Tokenizing the stop words generated tokens ['abov', 'ani', 'becaus', 'befor', 'doe', 'dure', 'onc', 'onli', 'ourselv', \"should'v\", 'themselv', 'veri', 'whi', \"you'r\", \"you'v\", 'yourselv'] not in stop_words.\n",
            "  'stop_words.' % sorted(inconsistent))\n",
            "/usr/local/lib/python3.7/dist-packages/sklearn/feature_extraction/text.py:385: UserWarning: Your stop_words may be inconsistent with your preprocessing. Tokenizing the stop words generated tokens ['abov', 'ani', 'becaus', 'befor', 'doe', 'dure', 'onc', 'onli', 'ourselv', \"should'v\", 'themselv', 'veri', 'whi', \"you'r\", \"you'v\", 'yourselv'] not in stop_words.\n",
            "  'stop_words.' % sorted(inconsistent))\n",
            "/usr/local/lib/python3.7/dist-packages/sklearn/feature_extraction/text.py:385: UserWarning: Your stop_words may be inconsistent with your preprocessing. Tokenizing the stop words generated tokens ['abov', 'ani', 'becaus', 'befor', 'doe', 'dure', 'onc', 'onli', 'ourselv', \"should'v\", 'themselv', 'veri', 'whi', \"you'r\", \"you'v\", 'yourselv'] not in stop_words.\n",
            "  'stop_words.' % sorted(inconsistent))\n",
            "[Parallel(n_jobs=1)]: Done  10 out of  10 | elapsed:    9.0s finished\n",
            "/usr/local/lib/python3.7/dist-packages/sklearn/feature_extraction/text.py:385: UserWarning: Your stop_words may be inconsistent with your preprocessing. Tokenizing the stop words generated tokens ['abov', 'ani', 'becaus', 'befor', 'doe', 'dure', 'onc', 'onli', 'ourselv', \"should'v\", 'themselv', 'veri', 'whi', \"you'r\", \"you'v\", 'yourselv'] not in stop_words.\n",
            "  'stop_words.' % sorted(inconsistent))\n"
          ]
        },
        {
          "output_type": "execute_result",
          "data": {
            "text/plain": [
              "array([0.77, 0.8 , 0.86, 0.81, 0.8 ])"
            ]
          },
          "metadata": {},
          "execution_count": 78
        }
      ]
    },
    {
      "cell_type": "markdown",
      "metadata": {
        "id": "NHXrXfg3n7Wc"
      },
      "source": [
        "## <font color='red'>Exercise</font>: Exploring text classifier alternatives with grid search\n",
        "In the previous code you saw that having the stopword remover (i.e. stop ) was better than None (not having stopword removal). You can now explore other alternatives. Change the param_grid0  values to explore the following:\n",
        "1.  Does having Tokenizer_stemmer result in better accuracy compared to just the tokenizer (with no stemmer)?\n",
        "2. What happens if you consider both unigrams and bigrams? Is there a benfit to analysing bigrams?\n",
        "3. Include comparisons for different tfidf parameter values such as min_df, max_df, mac_features\n",
        "4. How can you modify the classifier 'clf' to a different learner such as the MLPClassifier  - MLPClassifier(activation='relu', solver='adam', max_iter=2000, hidden_layer_sizes=(100,)) ; \n",
        "or any of the learners you have tried in the previous lab ; e.g. SVC(kernel='linear', gamma=0.7, C=1.0)."
      ]
    },
    {
      "cell_type": "code",
      "metadata": {
        "colab": {
          "base_uri": "https://localhost:8080/"
        },
        "id": "1QPY9HDASaMy",
        "outputId": "b12828e8-e7f6-4f5a-df85-07a4a88710bd"
      },
      "source": [
        "#SOLUTION 1 stemmer versus no stemmer\n",
        "param_grid1 = [{\n",
        "\n",
        "    'vect__ngram_range': [(1,1),(1,2)], #can also extract 2-grams of words in addition to the 1-grams (individual words)\n",
        "    'vect__tokenizer': [tokenizer, tokenizer_stemmer], # to use a stemmer or not \n",
        "    'vect__stop_words': [stop] # use the stop dictionary of stopwords or not\n",
        "                }]\n",
        "\n",
        "#Sentiment classification \n",
        "pipe_tfidf = Pipeline([\n",
        "                  ('vect', TfidfVectorizer()),\n",
        "                  ('cls', SVC(kernel='linear', gamma=0.7, C=1.0)) # SVM classifier\n",
        "                  ]) \n",
        "                  \n",
        "gs_sentiment_classification1 = GridSearchCV(pipe_tfidf, param_grid1,\n",
        "                           scoring='accuracy',\n",
        "                           cv=5,\n",
        "                           verbose=1,\n",
        "                           n_jobs=1) \n",
        "\n",
        "gs_sentiment_classification1.fit(X_train, y_train)\n",
        "print('Best parameter set: %s ' % gs_sentiment_classification1.best_params_)\n",
        "print('CV Accuracy: %.3f' % gs_sentiment_classification1.best_score_)\n",
        "\n",
        "clf1 = gs_sentiment_classification1.best_estimator_\n",
        "print('Test Accuracy: %.3f' % clf1.score(X_test, y_test))"
      ],
      "execution_count": null,
      "outputs": [
        {
          "output_type": "stream",
          "name": "stdout",
          "text": [
            "Fitting 5 folds for each of 4 candidates, totalling 20 fits\n"
          ]
        },
        {
          "output_type": "stream",
          "name": "stderr",
          "text": [
            "[Parallel(n_jobs=1)]: Using backend SequentialBackend with 1 concurrent workers.\n",
            "/usr/local/lib/python3.7/dist-packages/sklearn/feature_extraction/text.py:385: UserWarning: Your stop_words may be inconsistent with your preprocessing. Tokenizing the stop words generated tokens ['abov', 'ani', 'becaus', 'befor', 'doe', 'dure', 'onc', 'onli', 'ourselv', \"should'v\", 'themselv', 'veri', 'whi', \"you'r\", \"you'v\", 'yourselv'] not in stop_words.\n",
            "  'stop_words.' % sorted(inconsistent))\n",
            "/usr/local/lib/python3.7/dist-packages/sklearn/feature_extraction/text.py:385: UserWarning: Your stop_words may be inconsistent with your preprocessing. Tokenizing the stop words generated tokens ['abov', 'ani', 'becaus', 'befor', 'doe', 'dure', 'onc', 'onli', 'ourselv', \"should'v\", 'themselv', 'veri', 'whi', \"you'r\", \"you'v\", 'yourselv'] not in stop_words.\n",
            "  'stop_words.' % sorted(inconsistent))\n",
            "/usr/local/lib/python3.7/dist-packages/sklearn/feature_extraction/text.py:385: UserWarning: Your stop_words may be inconsistent with your preprocessing. Tokenizing the stop words generated tokens ['abov', 'ani', 'becaus', 'befor', 'doe', 'dure', 'onc', 'onli', 'ourselv', \"should'v\", 'themselv', 'veri', 'whi', \"you'r\", \"you'v\", 'yourselv'] not in stop_words.\n",
            "  'stop_words.' % sorted(inconsistent))\n",
            "/usr/local/lib/python3.7/dist-packages/sklearn/feature_extraction/text.py:385: UserWarning: Your stop_words may be inconsistent with your preprocessing. Tokenizing the stop words generated tokens ['abov', 'ani', 'becaus', 'befor', 'doe', 'dure', 'onc', 'onli', 'ourselv', \"should'v\", 'themselv', 'veri', 'whi', \"you'r\", \"you'v\", 'yourselv'] not in stop_words.\n",
            "  'stop_words.' % sorted(inconsistent))\n",
            "/usr/local/lib/python3.7/dist-packages/sklearn/feature_extraction/text.py:385: UserWarning: Your stop_words may be inconsistent with your preprocessing. Tokenizing the stop words generated tokens ['abov', 'ani', 'becaus', 'befor', 'doe', 'dure', 'onc', 'onli', 'ourselv', \"should'v\", 'themselv', 'veri', 'whi', \"you'r\", \"you'v\", 'yourselv'] not in stop_words.\n",
            "  'stop_words.' % sorted(inconsistent))\n",
            "/usr/local/lib/python3.7/dist-packages/sklearn/feature_extraction/text.py:385: UserWarning: Your stop_words may be inconsistent with your preprocessing. Tokenizing the stop words generated tokens ['abov', 'ani', 'becaus', 'befor', 'doe', 'dure', 'onc', 'onli', 'ourselv', \"should'v\", 'themselv', 'veri', 'whi', \"you'r\", \"you'v\", 'yourselv'] not in stop_words.\n",
            "  'stop_words.' % sorted(inconsistent))\n",
            "/usr/local/lib/python3.7/dist-packages/sklearn/feature_extraction/text.py:385: UserWarning: Your stop_words may be inconsistent with your preprocessing. Tokenizing the stop words generated tokens ['abov', 'ani', 'becaus', 'befor', 'doe', 'dure', 'onc', 'onli', 'ourselv', \"should'v\", 'themselv', 'veri', 'whi', \"you'r\", \"you'v\", 'yourselv'] not in stop_words.\n",
            "  'stop_words.' % sorted(inconsistent))\n",
            "/usr/local/lib/python3.7/dist-packages/sklearn/feature_extraction/text.py:385: UserWarning: Your stop_words may be inconsistent with your preprocessing. Tokenizing the stop words generated tokens ['abov', 'ani', 'becaus', 'befor', 'doe', 'dure', 'onc', 'onli', 'ourselv', \"should'v\", 'themselv', 'veri', 'whi', \"you'r\", \"you'v\", 'yourselv'] not in stop_words.\n",
            "  'stop_words.' % sorted(inconsistent))\n",
            "/usr/local/lib/python3.7/dist-packages/sklearn/feature_extraction/text.py:385: UserWarning: Your stop_words may be inconsistent with your preprocessing. Tokenizing the stop words generated tokens ['abov', 'ani', 'becaus', 'befor', 'doe', 'dure', 'onc', 'onli', 'ourselv', \"should'v\", 'themselv', 'veri', 'whi', \"you'r\", \"you'v\", 'yourselv'] not in stop_words.\n",
            "  'stop_words.' % sorted(inconsistent))\n",
            "/usr/local/lib/python3.7/dist-packages/sklearn/feature_extraction/text.py:385: UserWarning: Your stop_words may be inconsistent with your preprocessing. Tokenizing the stop words generated tokens ['abov', 'ani', 'becaus', 'befor', 'doe', 'dure', 'onc', 'onli', 'ourselv', \"should'v\", 'themselv', 'veri', 'whi', \"you'r\", \"you'v\", 'yourselv'] not in stop_words.\n",
            "  'stop_words.' % sorted(inconsistent))\n",
            "[Parallel(n_jobs=1)]: Done  20 out of  20 | elapsed:   15.5s finished\n",
            "/usr/local/lib/python3.7/dist-packages/sklearn/feature_extraction/text.py:385: UserWarning: Your stop_words may be inconsistent with your preprocessing. Tokenizing the stop words generated tokens ['abov', 'ani', 'becaus', 'befor', 'doe', 'dure', 'onc', 'onli', 'ourselv', \"should'v\", 'themselv', 'veri', 'whi', \"you'r\", \"you'v\", 'yourselv'] not in stop_words.\n",
            "  'stop_words.' % sorted(inconsistent))\n"
          ]
        },
        {
          "output_type": "stream",
          "name": "stdout",
          "text": [
            "Best parameter set: {'vect__ngram_range': (1, 2), 'vect__stop_words': {'by', 'before', 'll', 'its', 'm', 'a', 'won', \"don't\", 'over', 'from', 'did', \"you're\", 'ain', 'of', 'herself', 'don', 'whom', 'they', 'down', 'through', 'y', 'just', \"didn't\", \"shouldn't\", \"you've\", 'wasn', 'in', 'her', 'been', 'as', 'itself', 'this', 't', 'mustn', 'and', \"isn't\", 'hers', 'themselves', 'i', 'ourselves', \"she's\", 'will', 'she', 'not', 'my', 'has', 'any', 'such', 'too', 'me', \"that'll\", 'until', 'himself', 'where', 'that', 'them', 'having', 'above', 'more', 'these', 'do', 'yours', 'while', 'shan', \"wasn't\", 'had', 'shouldn', 'then', 'no', 'own', 's', 'very', 'our', 'into', 'to', 'once', 'wouldn', 'are', 'haven', 'up', \"you'd\", 'weren', 'now', 'their', 'if', 'is', 'you', 'both', 'each', 'being', 'should', 'after', 'ma', 'at', 'the', 'be', 're', 'which', 'most', 'other', \"you'll\", 'mightn', 'about', 'there', 'so', 'for', 'does', 'o', 'doesn', 'same', 'needn', 'we', \"doesn't\", 'he', \"needn't\", 'couldn', 'hasn', 'was', 'aren', \"mustn't\", \"couldn't\", 'on', 'doing', \"aren't\", 'all', 'when', 'but', 'him', 'here', 'ours', 'an', 'nor', 'against', 'it', 'how', 'd', 'during', 'out', 'myself', \"hadn't\", 'your', 'under', \"hasn't\", \"haven't\", 'who', 'why', 'those', \"mightn't\", 'can', 'what', 'than', \"won't\", 'am', \"wouldn't\", 'or', 'few', 'hadn', 've', 'again', \"shan't\", 'theirs', 'were', 'yourselves', 'didn', 'between', 'some', 'further', \"it's\", 'isn', 'his', 'below', 'have', 'because', 'with', \"weren't\", 'off', \"should've\", 'yourself', 'only'}, 'vect__tokenizer': <function tokenizer_stemmer at 0x7fb6ef7045f0>} \n",
            "CV Accuracy: 0.826\n",
            "Test Accuracy: 0.780\n"
          ]
        }
      ]
    },
    {
      "cell_type": "code",
      "metadata": {
        "colab": {
          "base_uri": "https://localhost:8080/"
        },
        "id": "BJV1ZSZSbMT1",
        "outputId": "360ee01a-d0f5-4139-eeed-10a219f0cb9c"
      },
      "source": [
        " #SOLUTION 2 unigram versus bigram\n",
        "param_grid2 = [{\n",
        "    'clf__hidden_layer_sizes': [(50),(100)],\n",
        "    'vect__ngram_range': [(1,2)], #can also extract 2-grams of words in addition to the 1-grams (individual words)\n",
        "\n",
        "    'vect__tokenizer': [tokenizer_stemmer], # use a tokeniser and the stemmer \n",
        "    'vect__stop_words': [stop], # use the stop dictionary of stopwords or not\n",
        "    }]\n",
        "\n",
        "#Sentiment classification with a neural net\n",
        "pipe_tfidf = Pipeline([\n",
        "                  ('vect', TfidfVectorizer()),\n",
        "                  ('clf',  MLPClassifier(max_iter=2048))\n",
        "                  ]) \n",
        "                  \n",
        "gs_sentiment_classification2 = GridSearchCV(pipe_tfidf, param_grid2,\n",
        "                           scoring='accuracy',\n",
        "                           cv=5,\n",
        "                           verbose=1,\n",
        "                           n_jobs=1) \n",
        "\n",
        "gs_sentiment_classification2.fit(X_train, y_train)\n",
        "print('Best parameter set: %s ' % gs_sentiment_classification2.best_params_)\n",
        "print('CV Accuracy: %.3f' % gs_sentiment_classification2.best_score_)\n",
        "\n",
        "clf2 = gs_sentiment_classification2.best_estimator_\n",
        "print('Test Accuracy: %.3f' % clf2.score(X_test, y_test))"
      ],
      "execution_count": null,
      "outputs": [
        {
          "output_type": "stream",
          "name": "stdout",
          "text": [
            "Fitting 5 folds for each of 2 candidates, totalling 10 fits\n"
          ]
        },
        {
          "output_type": "stream",
          "name": "stderr",
          "text": [
            "[Parallel(n_jobs=1)]: Using backend SequentialBackend with 1 concurrent workers.\n",
            "/usr/local/lib/python3.7/dist-packages/sklearn/feature_extraction/text.py:385: UserWarning: Your stop_words may be inconsistent with your preprocessing. Tokenizing the stop words generated tokens ['abov', 'ani', 'becaus', 'befor', 'doe', 'dure', 'onc', 'onli', 'ourselv', \"should'v\", 'themselv', 'veri', 'whi', \"you'r\", \"you'v\", 'yourselv'] not in stop_words.\n",
            "  'stop_words.' % sorted(inconsistent))\n",
            "/usr/local/lib/python3.7/dist-packages/sklearn/feature_extraction/text.py:385: UserWarning: Your stop_words may be inconsistent with your preprocessing. Tokenizing the stop words generated tokens ['abov', 'ani', 'becaus', 'befor', 'doe', 'dure', 'onc', 'onli', 'ourselv', \"should'v\", 'themselv', 'veri', 'whi', \"you'r\", \"you'v\", 'yourselv'] not in stop_words.\n",
            "  'stop_words.' % sorted(inconsistent))\n",
            "/usr/local/lib/python3.7/dist-packages/sklearn/feature_extraction/text.py:385: UserWarning: Your stop_words may be inconsistent with your preprocessing. Tokenizing the stop words generated tokens ['abov', 'ani', 'becaus', 'befor', 'doe', 'dure', 'onc', 'onli', 'ourselv', \"should'v\", 'themselv', 'veri', 'whi', \"you'r\", \"you'v\", 'yourselv'] not in stop_words.\n",
            "  'stop_words.' % sorted(inconsistent))\n",
            "/usr/local/lib/python3.7/dist-packages/sklearn/feature_extraction/text.py:385: UserWarning: Your stop_words may be inconsistent with your preprocessing. Tokenizing the stop words generated tokens ['abov', 'ani', 'becaus', 'befor', 'doe', 'dure', 'onc', 'onli', 'ourselv', \"should'v\", 'themselv', 'veri', 'whi', \"you'r\", \"you'v\", 'yourselv'] not in stop_words.\n",
            "  'stop_words.' % sorted(inconsistent))\n",
            "/usr/local/lib/python3.7/dist-packages/sklearn/feature_extraction/text.py:385: UserWarning: Your stop_words may be inconsistent with your preprocessing. Tokenizing the stop words generated tokens ['abov', 'ani', 'becaus', 'befor', 'doe', 'dure', 'onc', 'onli', 'ourselv', \"should'v\", 'themselv', 'veri', 'whi', \"you'r\", \"you'v\", 'yourselv'] not in stop_words.\n",
            "  'stop_words.' % sorted(inconsistent))\n",
            "/usr/local/lib/python3.7/dist-packages/sklearn/feature_extraction/text.py:385: UserWarning: Your stop_words may be inconsistent with your preprocessing. Tokenizing the stop words generated tokens ['abov', 'ani', 'becaus', 'befor', 'doe', 'dure', 'onc', 'onli', 'ourselv', \"should'v\", 'themselv', 'veri', 'whi', \"you'r\", \"you'v\", 'yourselv'] not in stop_words.\n",
            "  'stop_words.' % sorted(inconsistent))\n",
            "/usr/local/lib/python3.7/dist-packages/sklearn/feature_extraction/text.py:385: UserWarning: Your stop_words may be inconsistent with your preprocessing. Tokenizing the stop words generated tokens ['abov', 'ani', 'becaus', 'befor', 'doe', 'dure', 'onc', 'onli', 'ourselv', \"should'v\", 'themselv', 'veri', 'whi', \"you'r\", \"you'v\", 'yourselv'] not in stop_words.\n",
            "  'stop_words.' % sorted(inconsistent))\n",
            "/usr/local/lib/python3.7/dist-packages/sklearn/feature_extraction/text.py:385: UserWarning: Your stop_words may be inconsistent with your preprocessing. Tokenizing the stop words generated tokens ['abov', 'ani', 'becaus', 'befor', 'doe', 'dure', 'onc', 'onli', 'ourselv', \"should'v\", 'themselv', 'veri', 'whi', \"you'r\", \"you'v\", 'yourselv'] not in stop_words.\n",
            "  'stop_words.' % sorted(inconsistent))\n",
            "/usr/local/lib/python3.7/dist-packages/sklearn/feature_extraction/text.py:385: UserWarning: Your stop_words may be inconsistent with your preprocessing. Tokenizing the stop words generated tokens ['abov', 'ani', 'becaus', 'befor', 'doe', 'dure', 'onc', 'onli', 'ourselv', \"should'v\", 'themselv', 'veri', 'whi', \"you'r\", \"you'v\", 'yourselv'] not in stop_words.\n",
            "  'stop_words.' % sorted(inconsistent))\n",
            "/usr/local/lib/python3.7/dist-packages/sklearn/feature_extraction/text.py:385: UserWarning: Your stop_words may be inconsistent with your preprocessing. Tokenizing the stop words generated tokens ['abov', 'ani', 'becaus', 'befor', 'doe', 'dure', 'onc', 'onli', 'ourselv', \"should'v\", 'themselv', 'veri', 'whi', \"you'r\", \"you'v\", 'yourselv'] not in stop_words.\n",
            "  'stop_words.' % sorted(inconsistent))\n",
            "[Parallel(n_jobs=1)]: Done  10 out of  10 | elapsed:  3.6min finished\n",
            "/usr/local/lib/python3.7/dist-packages/sklearn/feature_extraction/text.py:385: UserWarning: Your stop_words may be inconsistent with your preprocessing. Tokenizing the stop words generated tokens ['abov', 'ani', 'becaus', 'befor', 'doe', 'dure', 'onc', 'onli', 'ourselv', \"should'v\", 'themselv', 'veri', 'whi', \"you'r\", \"you'v\", 'yourselv'] not in stop_words.\n",
            "  'stop_words.' % sorted(inconsistent))\n"
          ]
        },
        {
          "output_type": "stream",
          "name": "stdout",
          "text": [
            "Best parameter set: {'clf__hidden_layer_sizes': 100, 'vect__ngram_range': (1, 2), 'vect__stop_words': {'by', 'before', 'll', 'its', 'm', 'a', 'won', \"don't\", 'over', 'from', 'did', \"you're\", 'ain', 'of', 'herself', 'don', 'whom', 'they', 'down', 'through', 'y', 'just', \"didn't\", \"shouldn't\", \"you've\", 'wasn', 'in', 'her', 'been', 'as', 'itself', 'this', 't', 'mustn', 'and', \"isn't\", 'hers', 'themselves', 'i', 'ourselves', \"she's\", 'will', 'she', 'not', 'my', 'has', 'any', 'such', 'too', 'me', \"that'll\", 'until', 'himself', 'where', 'that', 'them', 'having', 'above', 'more', 'these', 'do', 'yours', 'while', 'shan', \"wasn't\", 'had', 'shouldn', 'then', 'no', 'own', 's', 'very', 'our', 'into', 'to', 'once', 'wouldn', 'are', 'haven', 'up', \"you'd\", 'weren', 'now', 'their', 'if', 'is', 'you', 'both', 'each', 'being', 'should', 'after', 'ma', 'at', 'the', 'be', 're', 'which', 'most', 'other', \"you'll\", 'mightn', 'about', 'there', 'so', 'for', 'does', 'o', 'doesn', 'same', 'needn', 'we', \"doesn't\", 'he', \"needn't\", 'couldn', 'hasn', 'was', 'aren', \"mustn't\", \"couldn't\", 'on', 'doing', \"aren't\", 'all', 'when', 'but', 'him', 'here', 'ours', 'an', 'nor', 'against', 'it', 'how', 'd', 'during', 'out', 'myself', \"hadn't\", 'your', 'under', \"hasn't\", \"haven't\", 'who', 'why', 'those', \"mightn't\", 'can', 'what', 'than', \"won't\", 'am', \"wouldn't\", 'or', 'few', 'hadn', 've', 'again', \"shan't\", 'theirs', 'were', 'yourselves', 'didn', 'between', 'some', 'further', \"it's\", 'isn', 'his', 'below', 'have', 'because', 'with', \"weren't\", 'off', \"should've\", 'yourself', 'only'}, 'vect__tokenizer': <function tokenizer_stemmer at 0x7fb6ef7045f0>} \n",
            "CV Accuracy: 0.766\n",
            "Test Accuracy: 0.760\n"
          ]
        }
      ]
    },
    {
      "cell_type": "code",
      "metadata": {
        "colab": {
          "base_uri": "https://localhost:8080/"
        },
        "id": "CiUY-7kxeNlK",
        "outputId": "37fb1cbf-0cfc-43f7-8988-7d111790939d"
      },
      "source": [
        "#SOLUTION 3 compairing Tfidf parameters\n",
        "param_grid3 = [{\n",
        "    'cls__kernel':[('linear'), ('rbf')],\n",
        "    'vect__ngram_range': [(1,2)], #can also extract 2-grams of words in addition to the 1-grams (individual words)\n",
        "    'vect__max_features': (500, 1000, None), # a vocabulary that only consider the top max_features ordered by term frequency\n",
        "    'vect__min_df': (7, 10), # ignore terms that have a document frequency strictly lower than )\n",
        "    'vect__max_df': (0.75, 0.95), #ignore terms that have a document frequency strictly higher \n",
        "    'vect__tokenizer': [tokenizer_stemmer], # use a tokeniser and the stemmer \n",
        "    'vect__stop_words': [stop] # use the stop dictionary of stopwords or not\n",
        "                 }]\n",
        "\n",
        "#Sentiment classification\n",
        "pipe_tfidf = Pipeline([\n",
        "                  ('vect', TfidfVectorizer()),\n",
        "                  ('cls', SVC(gamma=0.7, C=1.0)) # SVM classifier\n",
        "                  ]) \n",
        "                  \n",
        "gs_sentiment_classification3 = GridSearchCV(pipe_tfidf, param_grid3,\n",
        "                           scoring='accuracy',\n",
        "                           cv=5,\n",
        "                           verbose=1,\n",
        "                           n_jobs=1) \n",
        "\n",
        "gs_sentiment_classification3.fit(X_train, y_train)\n",
        "print('Best parameter set: %s ' % gs_sentiment_classification3.best_params_)\n",
        "print('CV Accuracy: %.3f' % gs_sentiment_classification3.best_score_)\n",
        "\n",
        "clf3 = gs_sentiment_classification3.best_estimator_\n",
        "print('Test Accuracy: %.3f' % clf3.score(X_test, y_test))"
      ],
      "execution_count": null,
      "outputs": [
        {
          "output_type": "stream",
          "name": "stdout",
          "text": [
            "Fitting 5 folds for each of 24 candidates, totalling 120 fits\n"
          ]
        },
        {
          "output_type": "stream",
          "name": "stderr",
          "text": [
            "[Parallel(n_jobs=1)]: Using backend SequentialBackend with 1 concurrent workers.\n",
            "/usr/local/lib/python3.7/dist-packages/sklearn/feature_extraction/text.py:385: UserWarning: Your stop_words may be inconsistent with your preprocessing. Tokenizing the stop words generated tokens ['abov', 'ani', 'becaus', 'befor', 'doe', 'dure', 'onc', 'onli', 'ourselv', \"should'v\", 'themselv', 'veri', 'whi', \"you'r\", \"you'v\", 'yourselv'] not in stop_words.\n",
            "  'stop_words.' % sorted(inconsistent))\n",
            "/usr/local/lib/python3.7/dist-packages/sklearn/feature_extraction/text.py:385: UserWarning: Your stop_words may be inconsistent with your preprocessing. Tokenizing the stop words generated tokens ['abov', 'ani', 'becaus', 'befor', 'doe', 'dure', 'onc', 'onli', 'ourselv', \"should'v\", 'themselv', 'veri', 'whi', \"you'r\", \"you'v\", 'yourselv'] not in stop_words.\n",
            "  'stop_words.' % sorted(inconsistent))\n",
            "/usr/local/lib/python3.7/dist-packages/sklearn/feature_extraction/text.py:385: UserWarning: Your stop_words may be inconsistent with your preprocessing. Tokenizing the stop words generated tokens ['abov', 'ani', 'becaus', 'befor', 'doe', 'dure', 'onc', 'onli', 'ourselv', \"should'v\", 'themselv', 'veri', 'whi', \"you'r\", \"you'v\", 'yourselv'] not in stop_words.\n",
            "  'stop_words.' % sorted(inconsistent))\n",
            "/usr/local/lib/python3.7/dist-packages/sklearn/feature_extraction/text.py:385: UserWarning: Your stop_words may be inconsistent with your preprocessing. Tokenizing the stop words generated tokens ['abov', 'ani', 'becaus', 'befor', 'doe', 'dure', 'onc', 'onli', 'ourselv', \"should'v\", 'themselv', 'veri', 'whi', \"you'r\", \"you'v\", 'yourselv'] not in stop_words.\n",
            "  'stop_words.' % sorted(inconsistent))\n",
            "/usr/local/lib/python3.7/dist-packages/sklearn/feature_extraction/text.py:385: UserWarning: Your stop_words may be inconsistent with your preprocessing. Tokenizing the stop words generated tokens ['abov', 'ani', 'becaus', 'befor', 'doe', 'dure', 'onc', 'onli', 'ourselv', \"should'v\", 'themselv', 'veri', 'whi', \"you'r\", \"you'v\", 'yourselv'] not in stop_words.\n",
            "  'stop_words.' % sorted(inconsistent))\n",
            "/usr/local/lib/python3.7/dist-packages/sklearn/feature_extraction/text.py:385: UserWarning: Your stop_words may be inconsistent with your preprocessing. Tokenizing the stop words generated tokens ['abov', 'ani', 'becaus', 'befor', 'doe', 'dure', 'onc', 'onli', 'ourselv', \"should'v\", 'themselv', 'veri', 'whi', \"you'r\", \"you'v\", 'yourselv'] not in stop_words.\n",
            "  'stop_words.' % sorted(inconsistent))\n",
            "/usr/local/lib/python3.7/dist-packages/sklearn/feature_extraction/text.py:385: UserWarning: Your stop_words may be inconsistent with your preprocessing. Tokenizing the stop words generated tokens ['abov', 'ani', 'becaus', 'befor', 'doe', 'dure', 'onc', 'onli', 'ourselv', \"should'v\", 'themselv', 'veri', 'whi', \"you'r\", \"you'v\", 'yourselv'] not in stop_words.\n",
            "  'stop_words.' % sorted(inconsistent))\n",
            "/usr/local/lib/python3.7/dist-packages/sklearn/feature_extraction/text.py:385: UserWarning: Your stop_words may be inconsistent with your preprocessing. Tokenizing the stop words generated tokens ['abov', 'ani', 'becaus', 'befor', 'doe', 'dure', 'onc', 'onli', 'ourselv', \"should'v\", 'themselv', 'veri', 'whi', \"you'r\", \"you'v\", 'yourselv'] not in stop_words.\n",
            "  'stop_words.' % sorted(inconsistent))\n",
            "/usr/local/lib/python3.7/dist-packages/sklearn/feature_extraction/text.py:385: UserWarning: Your stop_words may be inconsistent with your preprocessing. Tokenizing the stop words generated tokens ['abov', 'ani', 'becaus', 'befor', 'doe', 'dure', 'onc', 'onli', 'ourselv', \"should'v\", 'themselv', 'veri', 'whi', \"you'r\", \"you'v\", 'yourselv'] not in stop_words.\n",
            "  'stop_words.' % sorted(inconsistent))\n",
            "/usr/local/lib/python3.7/dist-packages/sklearn/feature_extraction/text.py:385: UserWarning: Your stop_words may be inconsistent with your preprocessing. Tokenizing the stop words generated tokens ['abov', 'ani', 'becaus', 'befor', 'doe', 'dure', 'onc', 'onli', 'ourselv', \"should'v\", 'themselv', 'veri', 'whi', \"you'r\", \"you'v\", 'yourselv'] not in stop_words.\n",
            "  'stop_words.' % sorted(inconsistent))\n",
            "/usr/local/lib/python3.7/dist-packages/sklearn/feature_extraction/text.py:385: UserWarning: Your stop_words may be inconsistent with your preprocessing. Tokenizing the stop words generated tokens ['abov', 'ani', 'becaus', 'befor', 'doe', 'dure', 'onc', 'onli', 'ourselv', \"should'v\", 'themselv', 'veri', 'whi', \"you'r\", \"you'v\", 'yourselv'] not in stop_words.\n",
            "  'stop_words.' % sorted(inconsistent))\n",
            "/usr/local/lib/python3.7/dist-packages/sklearn/feature_extraction/text.py:385: UserWarning: Your stop_words may be inconsistent with your preprocessing. Tokenizing the stop words generated tokens ['abov', 'ani', 'becaus', 'befor', 'doe', 'dure', 'onc', 'onli', 'ourselv', \"should'v\", 'themselv', 'veri', 'whi', \"you'r\", \"you'v\", 'yourselv'] not in stop_words.\n",
            "  'stop_words.' % sorted(inconsistent))\n",
            "/usr/local/lib/python3.7/dist-packages/sklearn/feature_extraction/text.py:385: UserWarning: Your stop_words may be inconsistent with your preprocessing. Tokenizing the stop words generated tokens ['abov', 'ani', 'becaus', 'befor', 'doe', 'dure', 'onc', 'onli', 'ourselv', \"should'v\", 'themselv', 'veri', 'whi', \"you'r\", \"you'v\", 'yourselv'] not in stop_words.\n",
            "  'stop_words.' % sorted(inconsistent))\n",
            "/usr/local/lib/python3.7/dist-packages/sklearn/feature_extraction/text.py:385: UserWarning: Your stop_words may be inconsistent with your preprocessing. Tokenizing the stop words generated tokens ['abov', 'ani', 'becaus', 'befor', 'doe', 'dure', 'onc', 'onli', 'ourselv', \"should'v\", 'themselv', 'veri', 'whi', \"you'r\", \"you'v\", 'yourselv'] not in stop_words.\n",
            "  'stop_words.' % sorted(inconsistent))\n",
            "/usr/local/lib/python3.7/dist-packages/sklearn/feature_extraction/text.py:385: UserWarning: Your stop_words may be inconsistent with your preprocessing. Tokenizing the stop words generated tokens ['abov', 'ani', 'becaus', 'befor', 'doe', 'dure', 'onc', 'onli', 'ourselv', \"should'v\", 'themselv', 'veri', 'whi', \"you'r\", \"you'v\", 'yourselv'] not in stop_words.\n",
            "  'stop_words.' % sorted(inconsistent))\n",
            "/usr/local/lib/python3.7/dist-packages/sklearn/feature_extraction/text.py:385: UserWarning: Your stop_words may be inconsistent with your preprocessing. Tokenizing the stop words generated tokens ['abov', 'ani', 'becaus', 'befor', 'doe', 'dure', 'onc', 'onli', 'ourselv', \"should'v\", 'themselv', 'veri', 'whi', \"you'r\", \"you'v\", 'yourselv'] not in stop_words.\n",
            "  'stop_words.' % sorted(inconsistent))\n",
            "/usr/local/lib/python3.7/dist-packages/sklearn/feature_extraction/text.py:385: UserWarning: Your stop_words may be inconsistent with your preprocessing. Tokenizing the stop words generated tokens ['abov', 'ani', 'becaus', 'befor', 'doe', 'dure', 'onc', 'onli', 'ourselv', \"should'v\", 'themselv', 'veri', 'whi', \"you'r\", \"you'v\", 'yourselv'] not in stop_words.\n",
            "  'stop_words.' % sorted(inconsistent))\n",
            "/usr/local/lib/python3.7/dist-packages/sklearn/feature_extraction/text.py:385: UserWarning: Your stop_words may be inconsistent with your preprocessing. Tokenizing the stop words generated tokens ['abov', 'ani', 'becaus', 'befor', 'doe', 'dure', 'onc', 'onli', 'ourselv', \"should'v\", 'themselv', 'veri', 'whi', \"you'r\", \"you'v\", 'yourselv'] not in stop_words.\n",
            "  'stop_words.' % sorted(inconsistent))\n",
            "/usr/local/lib/python3.7/dist-packages/sklearn/feature_extraction/text.py:385: UserWarning: Your stop_words may be inconsistent with your preprocessing. Tokenizing the stop words generated tokens ['abov', 'ani', 'becaus', 'befor', 'doe', 'dure', 'onc', 'onli', 'ourselv', \"should'v\", 'themselv', 'veri', 'whi', \"you'r\", \"you'v\", 'yourselv'] not in stop_words.\n",
            "  'stop_words.' % sorted(inconsistent))\n",
            "/usr/local/lib/python3.7/dist-packages/sklearn/feature_extraction/text.py:385: UserWarning: Your stop_words may be inconsistent with your preprocessing. Tokenizing the stop words generated tokens ['abov', 'ani', 'becaus', 'befor', 'doe', 'dure', 'onc', 'onli', 'ourselv', \"should'v\", 'themselv', 'veri', 'whi', \"you'r\", \"you'v\", 'yourselv'] not in stop_words.\n",
            "  'stop_words.' % sorted(inconsistent))\n",
            "/usr/local/lib/python3.7/dist-packages/sklearn/feature_extraction/text.py:385: UserWarning: Your stop_words may be inconsistent with your preprocessing. Tokenizing the stop words generated tokens ['abov', 'ani', 'becaus', 'befor', 'doe', 'dure', 'onc', 'onli', 'ourselv', \"should'v\", 'themselv', 'veri', 'whi', \"you'r\", \"you'v\", 'yourselv'] not in stop_words.\n",
            "  'stop_words.' % sorted(inconsistent))\n",
            "/usr/local/lib/python3.7/dist-packages/sklearn/feature_extraction/text.py:385: UserWarning: Your stop_words may be inconsistent with your preprocessing. Tokenizing the stop words generated tokens ['abov', 'ani', 'becaus', 'befor', 'doe', 'dure', 'onc', 'onli', 'ourselv', \"should'v\", 'themselv', 'veri', 'whi', \"you'r\", \"you'v\", 'yourselv'] not in stop_words.\n",
            "  'stop_words.' % sorted(inconsistent))\n",
            "/usr/local/lib/python3.7/dist-packages/sklearn/feature_extraction/text.py:385: UserWarning: Your stop_words may be inconsistent with your preprocessing. Tokenizing the stop words generated tokens ['abov', 'ani', 'becaus', 'befor', 'doe', 'dure', 'onc', 'onli', 'ourselv', \"should'v\", 'themselv', 'veri', 'whi', \"you'r\", \"you'v\", 'yourselv'] not in stop_words.\n",
            "  'stop_words.' % sorted(inconsistent))\n",
            "/usr/local/lib/python3.7/dist-packages/sklearn/feature_extraction/text.py:385: UserWarning: Your stop_words may be inconsistent with your preprocessing. Tokenizing the stop words generated tokens ['abov', 'ani', 'becaus', 'befor', 'doe', 'dure', 'onc', 'onli', 'ourselv', \"should'v\", 'themselv', 'veri', 'whi', \"you'r\", \"you'v\", 'yourselv'] not in stop_words.\n",
            "  'stop_words.' % sorted(inconsistent))\n",
            "/usr/local/lib/python3.7/dist-packages/sklearn/feature_extraction/text.py:385: UserWarning: Your stop_words may be inconsistent with your preprocessing. Tokenizing the stop words generated tokens ['abov', 'ani', 'becaus', 'befor', 'doe', 'dure', 'onc', 'onli', 'ourselv', \"should'v\", 'themselv', 'veri', 'whi', \"you'r\", \"you'v\", 'yourselv'] not in stop_words.\n",
            "  'stop_words.' % sorted(inconsistent))\n",
            "/usr/local/lib/python3.7/dist-packages/sklearn/feature_extraction/text.py:385: UserWarning: Your stop_words may be inconsistent with your preprocessing. Tokenizing the stop words generated tokens ['abov', 'ani', 'becaus', 'befor', 'doe', 'dure', 'onc', 'onli', 'ourselv', \"should'v\", 'themselv', 'veri', 'whi', \"you'r\", \"you'v\", 'yourselv'] not in stop_words.\n",
            "  'stop_words.' % sorted(inconsistent))\n",
            "/usr/local/lib/python3.7/dist-packages/sklearn/feature_extraction/text.py:385: UserWarning: Your stop_words may be inconsistent with your preprocessing. Tokenizing the stop words generated tokens ['abov', 'ani', 'becaus', 'befor', 'doe', 'dure', 'onc', 'onli', 'ourselv', \"should'v\", 'themselv', 'veri', 'whi', \"you'r\", \"you'v\", 'yourselv'] not in stop_words.\n",
            "  'stop_words.' % sorted(inconsistent))\n",
            "/usr/local/lib/python3.7/dist-packages/sklearn/feature_extraction/text.py:385: UserWarning: Your stop_words may be inconsistent with your preprocessing. Tokenizing the stop words generated tokens ['abov', 'ani', 'becaus', 'befor', 'doe', 'dure', 'onc', 'onli', 'ourselv', \"should'v\", 'themselv', 'veri', 'whi', \"you'r\", \"you'v\", 'yourselv'] not in stop_words.\n",
            "  'stop_words.' % sorted(inconsistent))\n",
            "/usr/local/lib/python3.7/dist-packages/sklearn/feature_extraction/text.py:385: UserWarning: Your stop_words may be inconsistent with your preprocessing. Tokenizing the stop words generated tokens ['abov', 'ani', 'becaus', 'befor', 'doe', 'dure', 'onc', 'onli', 'ourselv', \"should'v\", 'themselv', 'veri', 'whi', \"you'r\", \"you'v\", 'yourselv'] not in stop_words.\n",
            "  'stop_words.' % sorted(inconsistent))\n",
            "/usr/local/lib/python3.7/dist-packages/sklearn/feature_extraction/text.py:385: UserWarning: Your stop_words may be inconsistent with your preprocessing. Tokenizing the stop words generated tokens ['abov', 'ani', 'becaus', 'befor', 'doe', 'dure', 'onc', 'onli', 'ourselv', \"should'v\", 'themselv', 'veri', 'whi', \"you'r\", \"you'v\", 'yourselv'] not in stop_words.\n",
            "  'stop_words.' % sorted(inconsistent))\n",
            "/usr/local/lib/python3.7/dist-packages/sklearn/feature_extraction/text.py:385: UserWarning: Your stop_words may be inconsistent with your preprocessing. Tokenizing the stop words generated tokens ['abov', 'ani', 'becaus', 'befor', 'doe', 'dure', 'onc', 'onli', 'ourselv', \"should'v\", 'themselv', 'veri', 'whi', \"you'r\", \"you'v\", 'yourselv'] not in stop_words.\n",
            "  'stop_words.' % sorted(inconsistent))\n",
            "/usr/local/lib/python3.7/dist-packages/sklearn/feature_extraction/text.py:385: UserWarning: Your stop_words may be inconsistent with your preprocessing. Tokenizing the stop words generated tokens ['abov', 'ani', 'becaus', 'befor', 'doe', 'dure', 'onc', 'onli', 'ourselv', \"should'v\", 'themselv', 'veri', 'whi', \"you'r\", \"you'v\", 'yourselv'] not in stop_words.\n",
            "  'stop_words.' % sorted(inconsistent))\n",
            "/usr/local/lib/python3.7/dist-packages/sklearn/feature_extraction/text.py:385: UserWarning: Your stop_words may be inconsistent with your preprocessing. Tokenizing the stop words generated tokens ['abov', 'ani', 'becaus', 'befor', 'doe', 'dure', 'onc', 'onli', 'ourselv', \"should'v\", 'themselv', 'veri', 'whi', \"you'r\", \"you'v\", 'yourselv'] not in stop_words.\n",
            "  'stop_words.' % sorted(inconsistent))\n",
            "/usr/local/lib/python3.7/dist-packages/sklearn/feature_extraction/text.py:385: UserWarning: Your stop_words may be inconsistent with your preprocessing. Tokenizing the stop words generated tokens ['abov', 'ani', 'becaus', 'befor', 'doe', 'dure', 'onc', 'onli', 'ourselv', \"should'v\", 'themselv', 'veri', 'whi', \"you'r\", \"you'v\", 'yourselv'] not in stop_words.\n",
            "  'stop_words.' % sorted(inconsistent))\n",
            "/usr/local/lib/python3.7/dist-packages/sklearn/feature_extraction/text.py:385: UserWarning: Your stop_words may be inconsistent with your preprocessing. Tokenizing the stop words generated tokens ['abov', 'ani', 'becaus', 'befor', 'doe', 'dure', 'onc', 'onli', 'ourselv', \"should'v\", 'themselv', 'veri', 'whi', \"you'r\", \"you'v\", 'yourselv'] not in stop_words.\n",
            "  'stop_words.' % sorted(inconsistent))\n",
            "/usr/local/lib/python3.7/dist-packages/sklearn/feature_extraction/text.py:385: UserWarning: Your stop_words may be inconsistent with your preprocessing. Tokenizing the stop words generated tokens ['abov', 'ani', 'becaus', 'befor', 'doe', 'dure', 'onc', 'onli', 'ourselv', \"should'v\", 'themselv', 'veri', 'whi', \"you'r\", \"you'v\", 'yourselv'] not in stop_words.\n",
            "  'stop_words.' % sorted(inconsistent))\n",
            "/usr/local/lib/python3.7/dist-packages/sklearn/feature_extraction/text.py:385: UserWarning: Your stop_words may be inconsistent with your preprocessing. Tokenizing the stop words generated tokens ['abov', 'ani', 'becaus', 'befor', 'doe', 'dure', 'onc', 'onli', 'ourselv', \"should'v\", 'themselv', 'veri', 'whi', \"you'r\", \"you'v\", 'yourselv'] not in stop_words.\n",
            "  'stop_words.' % sorted(inconsistent))\n",
            "/usr/local/lib/python3.7/dist-packages/sklearn/feature_extraction/text.py:385: UserWarning: Your stop_words may be inconsistent with your preprocessing. Tokenizing the stop words generated tokens ['abov', 'ani', 'becaus', 'befor', 'doe', 'dure', 'onc', 'onli', 'ourselv', \"should'v\", 'themselv', 'veri', 'whi', \"you'r\", \"you'v\", 'yourselv'] not in stop_words.\n",
            "  'stop_words.' % sorted(inconsistent))\n",
            "/usr/local/lib/python3.7/dist-packages/sklearn/feature_extraction/text.py:385: UserWarning: Your stop_words may be inconsistent with your preprocessing. Tokenizing the stop words generated tokens ['abov', 'ani', 'becaus', 'befor', 'doe', 'dure', 'onc', 'onli', 'ourselv', \"should'v\", 'themselv', 'veri', 'whi', \"you'r\", \"you'v\", 'yourselv'] not in stop_words.\n",
            "  'stop_words.' % sorted(inconsistent))\n",
            "/usr/local/lib/python3.7/dist-packages/sklearn/feature_extraction/text.py:385: UserWarning: Your stop_words may be inconsistent with your preprocessing. Tokenizing the stop words generated tokens ['abov', 'ani', 'becaus', 'befor', 'doe', 'dure', 'onc', 'onli', 'ourselv', \"should'v\", 'themselv', 'veri', 'whi', \"you'r\", \"you'v\", 'yourselv'] not in stop_words.\n",
            "  'stop_words.' % sorted(inconsistent))\n",
            "/usr/local/lib/python3.7/dist-packages/sklearn/feature_extraction/text.py:385: UserWarning: Your stop_words may be inconsistent with your preprocessing. Tokenizing the stop words generated tokens ['abov', 'ani', 'becaus', 'befor', 'doe', 'dure', 'onc', 'onli', 'ourselv', \"should'v\", 'themselv', 'veri', 'whi', \"you'r\", \"you'v\", 'yourselv'] not in stop_words.\n",
            "  'stop_words.' % sorted(inconsistent))\n",
            "/usr/local/lib/python3.7/dist-packages/sklearn/feature_extraction/text.py:385: UserWarning: Your stop_words may be inconsistent with your preprocessing. Tokenizing the stop words generated tokens ['abov', 'ani', 'becaus', 'befor', 'doe', 'dure', 'onc', 'onli', 'ourselv', \"should'v\", 'themselv', 'veri', 'whi', \"you'r\", \"you'v\", 'yourselv'] not in stop_words.\n",
            "  'stop_words.' % sorted(inconsistent))\n",
            "/usr/local/lib/python3.7/dist-packages/sklearn/feature_extraction/text.py:385: UserWarning: Your stop_words may be inconsistent with your preprocessing. Tokenizing the stop words generated tokens ['abov', 'ani', 'becaus', 'befor', 'doe', 'dure', 'onc', 'onli', 'ourselv', \"should'v\", 'themselv', 'veri', 'whi', \"you'r\", \"you'v\", 'yourselv'] not in stop_words.\n",
            "  'stop_words.' % sorted(inconsistent))\n",
            "/usr/local/lib/python3.7/dist-packages/sklearn/feature_extraction/text.py:385: UserWarning: Your stop_words may be inconsistent with your preprocessing. Tokenizing the stop words generated tokens ['abov', 'ani', 'becaus', 'befor', 'doe', 'dure', 'onc', 'onli', 'ourselv', \"should'v\", 'themselv', 'veri', 'whi', \"you'r\", \"you'v\", 'yourselv'] not in stop_words.\n",
            "  'stop_words.' % sorted(inconsistent))\n",
            "/usr/local/lib/python3.7/dist-packages/sklearn/feature_extraction/text.py:385: UserWarning: Your stop_words may be inconsistent with your preprocessing. Tokenizing the stop words generated tokens ['abov', 'ani', 'becaus', 'befor', 'doe', 'dure', 'onc', 'onli', 'ourselv', \"should'v\", 'themselv', 'veri', 'whi', \"you'r\", \"you'v\", 'yourselv'] not in stop_words.\n",
            "  'stop_words.' % sorted(inconsistent))\n",
            "/usr/local/lib/python3.7/dist-packages/sklearn/feature_extraction/text.py:385: UserWarning: Your stop_words may be inconsistent with your preprocessing. Tokenizing the stop words generated tokens ['abov', 'ani', 'becaus', 'befor', 'doe', 'dure', 'onc', 'onli', 'ourselv', \"should'v\", 'themselv', 'veri', 'whi', \"you'r\", \"you'v\", 'yourselv'] not in stop_words.\n",
            "  'stop_words.' % sorted(inconsistent))\n",
            "/usr/local/lib/python3.7/dist-packages/sklearn/feature_extraction/text.py:385: UserWarning: Your stop_words may be inconsistent with your preprocessing. Tokenizing the stop words generated tokens ['abov', 'ani', 'becaus', 'befor', 'doe', 'dure', 'onc', 'onli', 'ourselv', \"should'v\", 'themselv', 'veri', 'whi', \"you'r\", \"you'v\", 'yourselv'] not in stop_words.\n",
            "  'stop_words.' % sorted(inconsistent))\n",
            "/usr/local/lib/python3.7/dist-packages/sklearn/feature_extraction/text.py:385: UserWarning: Your stop_words may be inconsistent with your preprocessing. Tokenizing the stop words generated tokens ['abov', 'ani', 'becaus', 'befor', 'doe', 'dure', 'onc', 'onli', 'ourselv', \"should'v\", 'themselv', 'veri', 'whi', \"you'r\", \"you'v\", 'yourselv'] not in stop_words.\n",
            "  'stop_words.' % sorted(inconsistent))\n",
            "/usr/local/lib/python3.7/dist-packages/sklearn/feature_extraction/text.py:385: UserWarning: Your stop_words may be inconsistent with your preprocessing. Tokenizing the stop words generated tokens ['abov', 'ani', 'becaus', 'befor', 'doe', 'dure', 'onc', 'onli', 'ourselv', \"should'v\", 'themselv', 'veri', 'whi', \"you'r\", \"you'v\", 'yourselv'] not in stop_words.\n",
            "  'stop_words.' % sorted(inconsistent))\n",
            "/usr/local/lib/python3.7/dist-packages/sklearn/feature_extraction/text.py:385: UserWarning: Your stop_words may be inconsistent with your preprocessing. Tokenizing the stop words generated tokens ['abov', 'ani', 'becaus', 'befor', 'doe', 'dure', 'onc', 'onli', 'ourselv', \"should'v\", 'themselv', 'veri', 'whi', \"you'r\", \"you'v\", 'yourselv'] not in stop_words.\n",
            "  'stop_words.' % sorted(inconsistent))\n",
            "/usr/local/lib/python3.7/dist-packages/sklearn/feature_extraction/text.py:385: UserWarning: Your stop_words may be inconsistent with your preprocessing. Tokenizing the stop words generated tokens ['abov', 'ani', 'becaus', 'befor', 'doe', 'dure', 'onc', 'onli', 'ourselv', \"should'v\", 'themselv', 'veri', 'whi', \"you'r\", \"you'v\", 'yourselv'] not in stop_words.\n",
            "  'stop_words.' % sorted(inconsistent))\n",
            "/usr/local/lib/python3.7/dist-packages/sklearn/feature_extraction/text.py:385: UserWarning: Your stop_words may be inconsistent with your preprocessing. Tokenizing the stop words generated tokens ['abov', 'ani', 'becaus', 'befor', 'doe', 'dure', 'onc', 'onli', 'ourselv', \"should'v\", 'themselv', 'veri', 'whi', \"you'r\", \"you'v\", 'yourselv'] not in stop_words.\n",
            "  'stop_words.' % sorted(inconsistent))\n",
            "/usr/local/lib/python3.7/dist-packages/sklearn/feature_extraction/text.py:385: UserWarning: Your stop_words may be inconsistent with your preprocessing. Tokenizing the stop words generated tokens ['abov', 'ani', 'becaus', 'befor', 'doe', 'dure', 'onc', 'onli', 'ourselv', \"should'v\", 'themselv', 'veri', 'whi', \"you'r\", \"you'v\", 'yourselv'] not in stop_words.\n",
            "  'stop_words.' % sorted(inconsistent))\n",
            "/usr/local/lib/python3.7/dist-packages/sklearn/feature_extraction/text.py:385: UserWarning: Your stop_words may be inconsistent with your preprocessing. Tokenizing the stop words generated tokens ['abov', 'ani', 'becaus', 'befor', 'doe', 'dure', 'onc', 'onli', 'ourselv', \"should'v\", 'themselv', 'veri', 'whi', \"you'r\", \"you'v\", 'yourselv'] not in stop_words.\n",
            "  'stop_words.' % sorted(inconsistent))\n",
            "/usr/local/lib/python3.7/dist-packages/sklearn/feature_extraction/text.py:385: UserWarning: Your stop_words may be inconsistent with your preprocessing. Tokenizing the stop words generated tokens ['abov', 'ani', 'becaus', 'befor', 'doe', 'dure', 'onc', 'onli', 'ourselv', \"should'v\", 'themselv', 'veri', 'whi', \"you'r\", \"you'v\", 'yourselv'] not in stop_words.\n",
            "  'stop_words.' % sorted(inconsistent))\n",
            "/usr/local/lib/python3.7/dist-packages/sklearn/feature_extraction/text.py:385: UserWarning: Your stop_words may be inconsistent with your preprocessing. Tokenizing the stop words generated tokens ['abov', 'ani', 'becaus', 'befor', 'doe', 'dure', 'onc', 'onli', 'ourselv', \"should'v\", 'themselv', 'veri', 'whi', \"you'r\", \"you'v\", 'yourselv'] not in stop_words.\n",
            "  'stop_words.' % sorted(inconsistent))\n",
            "/usr/local/lib/python3.7/dist-packages/sklearn/feature_extraction/text.py:385: UserWarning: Your stop_words may be inconsistent with your preprocessing. Tokenizing the stop words generated tokens ['abov', 'ani', 'becaus', 'befor', 'doe', 'dure', 'onc', 'onli', 'ourselv', \"should'v\", 'themselv', 'veri', 'whi', \"you'r\", \"you'v\", 'yourselv'] not in stop_words.\n",
            "  'stop_words.' % sorted(inconsistent))\n",
            "/usr/local/lib/python3.7/dist-packages/sklearn/feature_extraction/text.py:385: UserWarning: Your stop_words may be inconsistent with your preprocessing. Tokenizing the stop words generated tokens ['abov', 'ani', 'becaus', 'befor', 'doe', 'dure', 'onc', 'onli', 'ourselv', \"should'v\", 'themselv', 'veri', 'whi', \"you'r\", \"you'v\", 'yourselv'] not in stop_words.\n",
            "  'stop_words.' % sorted(inconsistent))\n",
            "/usr/local/lib/python3.7/dist-packages/sklearn/feature_extraction/text.py:385: UserWarning: Your stop_words may be inconsistent with your preprocessing. Tokenizing the stop words generated tokens ['abov', 'ani', 'becaus', 'befor', 'doe', 'dure', 'onc', 'onli', 'ourselv', \"should'v\", 'themselv', 'veri', 'whi', \"you'r\", \"you'v\", 'yourselv'] not in stop_words.\n",
            "  'stop_words.' % sorted(inconsistent))\n",
            "/usr/local/lib/python3.7/dist-packages/sklearn/feature_extraction/text.py:385: UserWarning: Your stop_words may be inconsistent with your preprocessing. Tokenizing the stop words generated tokens ['abov', 'ani', 'becaus', 'befor', 'doe', 'dure', 'onc', 'onli', 'ourselv', \"should'v\", 'themselv', 'veri', 'whi', \"you'r\", \"you'v\", 'yourselv'] not in stop_words.\n",
            "  'stop_words.' % sorted(inconsistent))\n",
            "/usr/local/lib/python3.7/dist-packages/sklearn/feature_extraction/text.py:385: UserWarning: Your stop_words may be inconsistent with your preprocessing. Tokenizing the stop words generated tokens ['abov', 'ani', 'becaus', 'befor', 'doe', 'dure', 'onc', 'onli', 'ourselv', \"should'v\", 'themselv', 'veri', 'whi', \"you'r\", \"you'v\", 'yourselv'] not in stop_words.\n",
            "  'stop_words.' % sorted(inconsistent))\n",
            "/usr/local/lib/python3.7/dist-packages/sklearn/feature_extraction/text.py:385: UserWarning: Your stop_words may be inconsistent with your preprocessing. Tokenizing the stop words generated tokens ['abov', 'ani', 'becaus', 'befor', 'doe', 'dure', 'onc', 'onli', 'ourselv', \"should'v\", 'themselv', 'veri', 'whi', \"you'r\", \"you'v\", 'yourselv'] not in stop_words.\n",
            "  'stop_words.' % sorted(inconsistent))\n",
            "/usr/local/lib/python3.7/dist-packages/sklearn/feature_extraction/text.py:385: UserWarning: Your stop_words may be inconsistent with your preprocessing. Tokenizing the stop words generated tokens ['abov', 'ani', 'becaus', 'befor', 'doe', 'dure', 'onc', 'onli', 'ourselv', \"should'v\", 'themselv', 'veri', 'whi', \"you'r\", \"you'v\", 'yourselv'] not in stop_words.\n",
            "  'stop_words.' % sorted(inconsistent))\n",
            "/usr/local/lib/python3.7/dist-packages/sklearn/feature_extraction/text.py:385: UserWarning: Your stop_words may be inconsistent with your preprocessing. Tokenizing the stop words generated tokens ['abov', 'ani', 'becaus', 'befor', 'doe', 'dure', 'onc', 'onli', 'ourselv', \"should'v\", 'themselv', 'veri', 'whi', \"you'r\", \"you'v\", 'yourselv'] not in stop_words.\n",
            "  'stop_words.' % sorted(inconsistent))\n",
            "/usr/local/lib/python3.7/dist-packages/sklearn/feature_extraction/text.py:385: UserWarning: Your stop_words may be inconsistent with your preprocessing. Tokenizing the stop words generated tokens ['abov', 'ani', 'becaus', 'befor', 'doe', 'dure', 'onc', 'onli', 'ourselv', \"should'v\", 'themselv', 'veri', 'whi', \"you'r\", \"you'v\", 'yourselv'] not in stop_words.\n",
            "  'stop_words.' % sorted(inconsistent))\n",
            "/usr/local/lib/python3.7/dist-packages/sklearn/feature_extraction/text.py:385: UserWarning: Your stop_words may be inconsistent with your preprocessing. Tokenizing the stop words generated tokens ['abov', 'ani', 'becaus', 'befor', 'doe', 'dure', 'onc', 'onli', 'ourselv', \"should'v\", 'themselv', 'veri', 'whi', \"you'r\", \"you'v\", 'yourselv'] not in stop_words.\n",
            "  'stop_words.' % sorted(inconsistent))\n",
            "/usr/local/lib/python3.7/dist-packages/sklearn/feature_extraction/text.py:385: UserWarning: Your stop_words may be inconsistent with your preprocessing. Tokenizing the stop words generated tokens ['abov', 'ani', 'becaus', 'befor', 'doe', 'dure', 'onc', 'onli', 'ourselv', \"should'v\", 'themselv', 'veri', 'whi', \"you'r\", \"you'v\", 'yourselv'] not in stop_words.\n",
            "  'stop_words.' % sorted(inconsistent))\n",
            "/usr/local/lib/python3.7/dist-packages/sklearn/feature_extraction/text.py:385: UserWarning: Your stop_words may be inconsistent with your preprocessing. Tokenizing the stop words generated tokens ['abov', 'ani', 'becaus', 'befor', 'doe', 'dure', 'onc', 'onli', 'ourselv', \"should'v\", 'themselv', 'veri', 'whi', \"you'r\", \"you'v\", 'yourselv'] not in stop_words.\n",
            "  'stop_words.' % sorted(inconsistent))\n",
            "/usr/local/lib/python3.7/dist-packages/sklearn/feature_extraction/text.py:385: UserWarning: Your stop_words may be inconsistent with your preprocessing. Tokenizing the stop words generated tokens ['abov', 'ani', 'becaus', 'befor', 'doe', 'dure', 'onc', 'onli', 'ourselv', \"should'v\", 'themselv', 'veri', 'whi', \"you'r\", \"you'v\", 'yourselv'] not in stop_words.\n",
            "  'stop_words.' % sorted(inconsistent))\n",
            "/usr/local/lib/python3.7/dist-packages/sklearn/feature_extraction/text.py:385: UserWarning: Your stop_words may be inconsistent with your preprocessing. Tokenizing the stop words generated tokens ['abov', 'ani', 'becaus', 'befor', 'doe', 'dure', 'onc', 'onli', 'ourselv', \"should'v\", 'themselv', 'veri', 'whi', \"you'r\", \"you'v\", 'yourselv'] not in stop_words.\n",
            "  'stop_words.' % sorted(inconsistent))\n",
            "/usr/local/lib/python3.7/dist-packages/sklearn/feature_extraction/text.py:385: UserWarning: Your stop_words may be inconsistent with your preprocessing. Tokenizing the stop words generated tokens ['abov', 'ani', 'becaus', 'befor', 'doe', 'dure', 'onc', 'onli', 'ourselv', \"should'v\", 'themselv', 'veri', 'whi', \"you'r\", \"you'v\", 'yourselv'] not in stop_words.\n",
            "  'stop_words.' % sorted(inconsistent))\n",
            "/usr/local/lib/python3.7/dist-packages/sklearn/feature_extraction/text.py:385: UserWarning: Your stop_words may be inconsistent with your preprocessing. Tokenizing the stop words generated tokens ['abov', 'ani', 'becaus', 'befor', 'doe', 'dure', 'onc', 'onli', 'ourselv', \"should'v\", 'themselv', 'veri', 'whi', \"you'r\", \"you'v\", 'yourselv'] not in stop_words.\n",
            "  'stop_words.' % sorted(inconsistent))\n",
            "/usr/local/lib/python3.7/dist-packages/sklearn/feature_extraction/text.py:385: UserWarning: Your stop_words may be inconsistent with your preprocessing. Tokenizing the stop words generated tokens ['abov', 'ani', 'becaus', 'befor', 'doe', 'dure', 'onc', 'onli', 'ourselv', \"should'v\", 'themselv', 'veri', 'whi', \"you'r\", \"you'v\", 'yourselv'] not in stop_words.\n",
            "  'stop_words.' % sorted(inconsistent))\n",
            "/usr/local/lib/python3.7/dist-packages/sklearn/feature_extraction/text.py:385: UserWarning: Your stop_words may be inconsistent with your preprocessing. Tokenizing the stop words generated tokens ['abov', 'ani', 'becaus', 'befor', 'doe', 'dure', 'onc', 'onli', 'ourselv', \"should'v\", 'themselv', 'veri', 'whi', \"you'r\", \"you'v\", 'yourselv'] not in stop_words.\n",
            "  'stop_words.' % sorted(inconsistent))\n",
            "/usr/local/lib/python3.7/dist-packages/sklearn/feature_extraction/text.py:385: UserWarning: Your stop_words may be inconsistent with your preprocessing. Tokenizing the stop words generated tokens ['abov', 'ani', 'becaus', 'befor', 'doe', 'dure', 'onc', 'onli', 'ourselv', \"should'v\", 'themselv', 'veri', 'whi', \"you'r\", \"you'v\", 'yourselv'] not in stop_words.\n",
            "  'stop_words.' % sorted(inconsistent))\n",
            "/usr/local/lib/python3.7/dist-packages/sklearn/feature_extraction/text.py:385: UserWarning: Your stop_words may be inconsistent with your preprocessing. Tokenizing the stop words generated tokens ['abov', 'ani', 'becaus', 'befor', 'doe', 'dure', 'onc', 'onli', 'ourselv', \"should'v\", 'themselv', 'veri', 'whi', \"you'r\", \"you'v\", 'yourselv'] not in stop_words.\n",
            "  'stop_words.' % sorted(inconsistent))\n",
            "/usr/local/lib/python3.7/dist-packages/sklearn/feature_extraction/text.py:385: UserWarning: Your stop_words may be inconsistent with your preprocessing. Tokenizing the stop words generated tokens ['abov', 'ani', 'becaus', 'befor', 'doe', 'dure', 'onc', 'onli', 'ourselv', \"should'v\", 'themselv', 'veri', 'whi', \"you'r\", \"you'v\", 'yourselv'] not in stop_words.\n",
            "  'stop_words.' % sorted(inconsistent))\n",
            "/usr/local/lib/python3.7/dist-packages/sklearn/feature_extraction/text.py:385: UserWarning: Your stop_words may be inconsistent with your preprocessing. Tokenizing the stop words generated tokens ['abov', 'ani', 'becaus', 'befor', 'doe', 'dure', 'onc', 'onli', 'ourselv', \"should'v\", 'themselv', 'veri', 'whi', \"you'r\", \"you'v\", 'yourselv'] not in stop_words.\n",
            "  'stop_words.' % sorted(inconsistent))\n",
            "/usr/local/lib/python3.7/dist-packages/sklearn/feature_extraction/text.py:385: UserWarning: Your stop_words may be inconsistent with your preprocessing. Tokenizing the stop words generated tokens ['abov', 'ani', 'becaus', 'befor', 'doe', 'dure', 'onc', 'onli', 'ourselv', \"should'v\", 'themselv', 'veri', 'whi', \"you'r\", \"you'v\", 'yourselv'] not in stop_words.\n",
            "  'stop_words.' % sorted(inconsistent))\n",
            "/usr/local/lib/python3.7/dist-packages/sklearn/feature_extraction/text.py:385: UserWarning: Your stop_words may be inconsistent with your preprocessing. Tokenizing the stop words generated tokens ['abov', 'ani', 'becaus', 'befor', 'doe', 'dure', 'onc', 'onli', 'ourselv', \"should'v\", 'themselv', 'veri', 'whi', \"you'r\", \"you'v\", 'yourselv'] not in stop_words.\n",
            "  'stop_words.' % sorted(inconsistent))\n",
            "/usr/local/lib/python3.7/dist-packages/sklearn/feature_extraction/text.py:385: UserWarning: Your stop_words may be inconsistent with your preprocessing. Tokenizing the stop words generated tokens ['abov', 'ani', 'becaus', 'befor', 'doe', 'dure', 'onc', 'onli', 'ourselv', \"should'v\", 'themselv', 'veri', 'whi', \"you'r\", \"you'v\", 'yourselv'] not in stop_words.\n",
            "  'stop_words.' % sorted(inconsistent))\n",
            "/usr/local/lib/python3.7/dist-packages/sklearn/feature_extraction/text.py:385: UserWarning: Your stop_words may be inconsistent with your preprocessing. Tokenizing the stop words generated tokens ['abov', 'ani', 'becaus', 'befor', 'doe', 'dure', 'onc', 'onli', 'ourselv', \"should'v\", 'themselv', 'veri', 'whi', \"you'r\", \"you'v\", 'yourselv'] not in stop_words.\n",
            "  'stop_words.' % sorted(inconsistent))\n",
            "/usr/local/lib/python3.7/dist-packages/sklearn/feature_extraction/text.py:385: UserWarning: Your stop_words may be inconsistent with your preprocessing. Tokenizing the stop words generated tokens ['abov', 'ani', 'becaus', 'befor', 'doe', 'dure', 'onc', 'onli', 'ourselv', \"should'v\", 'themselv', 'veri', 'whi', \"you'r\", \"you'v\", 'yourselv'] not in stop_words.\n",
            "  'stop_words.' % sorted(inconsistent))\n",
            "/usr/local/lib/python3.7/dist-packages/sklearn/feature_extraction/text.py:385: UserWarning: Your stop_words may be inconsistent with your preprocessing. Tokenizing the stop words generated tokens ['abov', 'ani', 'becaus', 'befor', 'doe', 'dure', 'onc', 'onli', 'ourselv', \"should'v\", 'themselv', 'veri', 'whi', \"you'r\", \"you'v\", 'yourselv'] not in stop_words.\n",
            "  'stop_words.' % sorted(inconsistent))\n",
            "/usr/local/lib/python3.7/dist-packages/sklearn/feature_extraction/text.py:385: UserWarning: Your stop_words may be inconsistent with your preprocessing. Tokenizing the stop words generated tokens ['abov', 'ani', 'becaus', 'befor', 'doe', 'dure', 'onc', 'onli', 'ourselv', \"should'v\", 'themselv', 'veri', 'whi', \"you'r\", \"you'v\", 'yourselv'] not in stop_words.\n",
            "  'stop_words.' % sorted(inconsistent))\n",
            "/usr/local/lib/python3.7/dist-packages/sklearn/feature_extraction/text.py:385: UserWarning: Your stop_words may be inconsistent with your preprocessing. Tokenizing the stop words generated tokens ['abov', 'ani', 'becaus', 'befor', 'doe', 'dure', 'onc', 'onli', 'ourselv', \"should'v\", 'themselv', 'veri', 'whi', \"you'r\", \"you'v\", 'yourselv'] not in stop_words.\n",
            "  'stop_words.' % sorted(inconsistent))\n",
            "/usr/local/lib/python3.7/dist-packages/sklearn/feature_extraction/text.py:385: UserWarning: Your stop_words may be inconsistent with your preprocessing. Tokenizing the stop words generated tokens ['abov', 'ani', 'becaus', 'befor', 'doe', 'dure', 'onc', 'onli', 'ourselv', \"should'v\", 'themselv', 'veri', 'whi', \"you'r\", \"you'v\", 'yourselv'] not in stop_words.\n",
            "  'stop_words.' % sorted(inconsistent))\n",
            "/usr/local/lib/python3.7/dist-packages/sklearn/feature_extraction/text.py:385: UserWarning: Your stop_words may be inconsistent with your preprocessing. Tokenizing the stop words generated tokens ['abov', 'ani', 'becaus', 'befor', 'doe', 'dure', 'onc', 'onli', 'ourselv', \"should'v\", 'themselv', 'veri', 'whi', \"you'r\", \"you'v\", 'yourselv'] not in stop_words.\n",
            "  'stop_words.' % sorted(inconsistent))\n",
            "/usr/local/lib/python3.7/dist-packages/sklearn/feature_extraction/text.py:385: UserWarning: Your stop_words may be inconsistent with your preprocessing. Tokenizing the stop words generated tokens ['abov', 'ani', 'becaus', 'befor', 'doe', 'dure', 'onc', 'onli', 'ourselv', \"should'v\", 'themselv', 'veri', 'whi', \"you'r\", \"you'v\", 'yourselv'] not in stop_words.\n",
            "  'stop_words.' % sorted(inconsistent))\n",
            "/usr/local/lib/python3.7/dist-packages/sklearn/feature_extraction/text.py:385: UserWarning: Your stop_words may be inconsistent with your preprocessing. Tokenizing the stop words generated tokens ['abov', 'ani', 'becaus', 'befor', 'doe', 'dure', 'onc', 'onli', 'ourselv', \"should'v\", 'themselv', 'veri', 'whi', \"you'r\", \"you'v\", 'yourselv'] not in stop_words.\n",
            "  'stop_words.' % sorted(inconsistent))\n",
            "/usr/local/lib/python3.7/dist-packages/sklearn/feature_extraction/text.py:385: UserWarning: Your stop_words may be inconsistent with your preprocessing. Tokenizing the stop words generated tokens ['abov', 'ani', 'becaus', 'befor', 'doe', 'dure', 'onc', 'onli', 'ourselv', \"should'v\", 'themselv', 'veri', 'whi', \"you'r\", \"you'v\", 'yourselv'] not in stop_words.\n",
            "  'stop_words.' % sorted(inconsistent))\n",
            "/usr/local/lib/python3.7/dist-packages/sklearn/feature_extraction/text.py:385: UserWarning: Your stop_words may be inconsistent with your preprocessing. Tokenizing the stop words generated tokens ['abov', 'ani', 'becaus', 'befor', 'doe', 'dure', 'onc', 'onli', 'ourselv', \"should'v\", 'themselv', 'veri', 'whi', \"you'r\", \"you'v\", 'yourselv'] not in stop_words.\n",
            "  'stop_words.' % sorted(inconsistent))\n",
            "/usr/local/lib/python3.7/dist-packages/sklearn/feature_extraction/text.py:385: UserWarning: Your stop_words may be inconsistent with your preprocessing. Tokenizing the stop words generated tokens ['abov', 'ani', 'becaus', 'befor', 'doe', 'dure', 'onc', 'onli', 'ourselv', \"should'v\", 'themselv', 'veri', 'whi', \"you'r\", \"you'v\", 'yourselv'] not in stop_words.\n",
            "  'stop_words.' % sorted(inconsistent))\n",
            "/usr/local/lib/python3.7/dist-packages/sklearn/feature_extraction/text.py:385: UserWarning: Your stop_words may be inconsistent with your preprocessing. Tokenizing the stop words generated tokens ['abov', 'ani', 'becaus', 'befor', 'doe', 'dure', 'onc', 'onli', 'ourselv', \"should'v\", 'themselv', 'veri', 'whi', \"you'r\", \"you'v\", 'yourselv'] not in stop_words.\n",
            "  'stop_words.' % sorted(inconsistent))\n",
            "/usr/local/lib/python3.7/dist-packages/sklearn/feature_extraction/text.py:385: UserWarning: Your stop_words may be inconsistent with your preprocessing. Tokenizing the stop words generated tokens ['abov', 'ani', 'becaus', 'befor', 'doe', 'dure', 'onc', 'onli', 'ourselv', \"should'v\", 'themselv', 'veri', 'whi', \"you'r\", \"you'v\", 'yourselv'] not in stop_words.\n",
            "  'stop_words.' % sorted(inconsistent))\n",
            "/usr/local/lib/python3.7/dist-packages/sklearn/feature_extraction/text.py:385: UserWarning: Your stop_words may be inconsistent with your preprocessing. Tokenizing the stop words generated tokens ['abov', 'ani', 'becaus', 'befor', 'doe', 'dure', 'onc', 'onli', 'ourselv', \"should'v\", 'themselv', 'veri', 'whi', \"you'r\", \"you'v\", 'yourselv'] not in stop_words.\n",
            "  'stop_words.' % sorted(inconsistent))\n",
            "/usr/local/lib/python3.7/dist-packages/sklearn/feature_extraction/text.py:385: UserWarning: Your stop_words may be inconsistent with your preprocessing. Tokenizing the stop words generated tokens ['abov', 'ani', 'becaus', 'befor', 'doe', 'dure', 'onc', 'onli', 'ourselv', \"should'v\", 'themselv', 'veri', 'whi', \"you'r\", \"you'v\", 'yourselv'] not in stop_words.\n",
            "  'stop_words.' % sorted(inconsistent))\n",
            "/usr/local/lib/python3.7/dist-packages/sklearn/feature_extraction/text.py:385: UserWarning: Your stop_words may be inconsistent with your preprocessing. Tokenizing the stop words generated tokens ['abov', 'ani', 'becaus', 'befor', 'doe', 'dure', 'onc', 'onli', 'ourselv', \"should'v\", 'themselv', 'veri', 'whi', \"you'r\", \"you'v\", 'yourselv'] not in stop_words.\n",
            "  'stop_words.' % sorted(inconsistent))\n",
            "/usr/local/lib/python3.7/dist-packages/sklearn/feature_extraction/text.py:385: UserWarning: Your stop_words may be inconsistent with your preprocessing. Tokenizing the stop words generated tokens ['abov', 'ani', 'becaus', 'befor', 'doe', 'dure', 'onc', 'onli', 'ourselv', \"should'v\", 'themselv', 'veri', 'whi', \"you'r\", \"you'v\", 'yourselv'] not in stop_words.\n",
            "  'stop_words.' % sorted(inconsistent))\n",
            "/usr/local/lib/python3.7/dist-packages/sklearn/feature_extraction/text.py:385: UserWarning: Your stop_words may be inconsistent with your preprocessing. Tokenizing the stop words generated tokens ['abov', 'ani', 'becaus', 'befor', 'doe', 'dure', 'onc', 'onli', 'ourselv', \"should'v\", 'themselv', 'veri', 'whi', \"you'r\", \"you'v\", 'yourselv'] not in stop_words.\n",
            "  'stop_words.' % sorted(inconsistent))\n",
            "/usr/local/lib/python3.7/dist-packages/sklearn/feature_extraction/text.py:385: UserWarning: Your stop_words may be inconsistent with your preprocessing. Tokenizing the stop words generated tokens ['abov', 'ani', 'becaus', 'befor', 'doe', 'dure', 'onc', 'onli', 'ourselv', \"should'v\", 'themselv', 'veri', 'whi', \"you'r\", \"you'v\", 'yourselv'] not in stop_words.\n",
            "  'stop_words.' % sorted(inconsistent))\n",
            "/usr/local/lib/python3.7/dist-packages/sklearn/feature_extraction/text.py:385: UserWarning: Your stop_words may be inconsistent with your preprocessing. Tokenizing the stop words generated tokens ['abov', 'ani', 'becaus', 'befor', 'doe', 'dure', 'onc', 'onli', 'ourselv', \"should'v\", 'themselv', 'veri', 'whi', \"you'r\", \"you'v\", 'yourselv'] not in stop_words.\n",
            "  'stop_words.' % sorted(inconsistent))\n",
            "/usr/local/lib/python3.7/dist-packages/sklearn/feature_extraction/text.py:385: UserWarning: Your stop_words may be inconsistent with your preprocessing. Tokenizing the stop words generated tokens ['abov', 'ani', 'becaus', 'befor', 'doe', 'dure', 'onc', 'onli', 'ourselv', \"should'v\", 'themselv', 'veri', 'whi', \"you'r\", \"you'v\", 'yourselv'] not in stop_words.\n",
            "  'stop_words.' % sorted(inconsistent))\n",
            "/usr/local/lib/python3.7/dist-packages/sklearn/feature_extraction/text.py:385: UserWarning: Your stop_words may be inconsistent with your preprocessing. Tokenizing the stop words generated tokens ['abov', 'ani', 'becaus', 'befor', 'doe', 'dure', 'onc', 'onli', 'ourselv', \"should'v\", 'themselv', 'veri', 'whi', \"you'r\", \"you'v\", 'yourselv'] not in stop_words.\n",
            "  'stop_words.' % sorted(inconsistent))\n",
            "/usr/local/lib/python3.7/dist-packages/sklearn/feature_extraction/text.py:385: UserWarning: Your stop_words may be inconsistent with your preprocessing. Tokenizing the stop words generated tokens ['abov', 'ani', 'becaus', 'befor', 'doe', 'dure', 'onc', 'onli', 'ourselv', \"should'v\", 'themselv', 'veri', 'whi', \"you'r\", \"you'v\", 'yourselv'] not in stop_words.\n",
            "  'stop_words.' % sorted(inconsistent))\n",
            "/usr/local/lib/python3.7/dist-packages/sklearn/feature_extraction/text.py:385: UserWarning: Your stop_words may be inconsistent with your preprocessing. Tokenizing the stop words generated tokens ['abov', 'ani', 'becaus', 'befor', 'doe', 'dure', 'onc', 'onli', 'ourselv', \"should'v\", 'themselv', 'veri', 'whi', \"you'r\", \"you'v\", 'yourselv'] not in stop_words.\n",
            "  'stop_words.' % sorted(inconsistent))\n",
            "/usr/local/lib/python3.7/dist-packages/sklearn/feature_extraction/text.py:385: UserWarning: Your stop_words may be inconsistent with your preprocessing. Tokenizing the stop words generated tokens ['abov', 'ani', 'becaus', 'befor', 'doe', 'dure', 'onc', 'onli', 'ourselv', \"should'v\", 'themselv', 'veri', 'whi', \"you'r\", \"you'v\", 'yourselv'] not in stop_words.\n",
            "  'stop_words.' % sorted(inconsistent))\n",
            "/usr/local/lib/python3.7/dist-packages/sklearn/feature_extraction/text.py:385: UserWarning: Your stop_words may be inconsistent with your preprocessing. Tokenizing the stop words generated tokens ['abov', 'ani', 'becaus', 'befor', 'doe', 'dure', 'onc', 'onli', 'ourselv', \"should'v\", 'themselv', 'veri', 'whi', \"you'r\", \"you'v\", 'yourselv'] not in stop_words.\n",
            "  'stop_words.' % sorted(inconsistent))\n",
            "/usr/local/lib/python3.7/dist-packages/sklearn/feature_extraction/text.py:385: UserWarning: Your stop_words may be inconsistent with your preprocessing. Tokenizing the stop words generated tokens ['abov', 'ani', 'becaus', 'befor', 'doe', 'dure', 'onc', 'onli', 'ourselv', \"should'v\", 'themselv', 'veri', 'whi', \"you'r\", \"you'v\", 'yourselv'] not in stop_words.\n",
            "  'stop_words.' % sorted(inconsistent))\n",
            "/usr/local/lib/python3.7/dist-packages/sklearn/feature_extraction/text.py:385: UserWarning: Your stop_words may be inconsistent with your preprocessing. Tokenizing the stop words generated tokens ['abov', 'ani', 'becaus', 'befor', 'doe', 'dure', 'onc', 'onli', 'ourselv', \"should'v\", 'themselv', 'veri', 'whi', \"you'r\", \"you'v\", 'yourselv'] not in stop_words.\n",
            "  'stop_words.' % sorted(inconsistent))\n",
            "/usr/local/lib/python3.7/dist-packages/sklearn/feature_extraction/text.py:385: UserWarning: Your stop_words may be inconsistent with your preprocessing. Tokenizing the stop words generated tokens ['abov', 'ani', 'becaus', 'befor', 'doe', 'dure', 'onc', 'onli', 'ourselv', \"should'v\", 'themselv', 'veri', 'whi', \"you'r\", \"you'v\", 'yourselv'] not in stop_words.\n",
            "  'stop_words.' % sorted(inconsistent))\n",
            "/usr/local/lib/python3.7/dist-packages/sklearn/feature_extraction/text.py:385: UserWarning: Your stop_words may be inconsistent with your preprocessing. Tokenizing the stop words generated tokens ['abov', 'ani', 'becaus', 'befor', 'doe', 'dure', 'onc', 'onli', 'ourselv', \"should'v\", 'themselv', 'veri', 'whi', \"you'r\", \"you'v\", 'yourselv'] not in stop_words.\n",
            "  'stop_words.' % sorted(inconsistent))\n",
            "/usr/local/lib/python3.7/dist-packages/sklearn/feature_extraction/text.py:385: UserWarning: Your stop_words may be inconsistent with your preprocessing. Tokenizing the stop words generated tokens ['abov', 'ani', 'becaus', 'befor', 'doe', 'dure', 'onc', 'onli', 'ourselv', \"should'v\", 'themselv', 'veri', 'whi', \"you'r\", \"you'v\", 'yourselv'] not in stop_words.\n",
            "  'stop_words.' % sorted(inconsistent))\n",
            "/usr/local/lib/python3.7/dist-packages/sklearn/feature_extraction/text.py:385: UserWarning: Your stop_words may be inconsistent with your preprocessing. Tokenizing the stop words generated tokens ['abov', 'ani', 'becaus', 'befor', 'doe', 'dure', 'onc', 'onli', 'ourselv', \"should'v\", 'themselv', 'veri', 'whi', \"you'r\", \"you'v\", 'yourselv'] not in stop_words.\n",
            "  'stop_words.' % sorted(inconsistent))\n",
            "/usr/local/lib/python3.7/dist-packages/sklearn/feature_extraction/text.py:385: UserWarning: Your stop_words may be inconsistent with your preprocessing. Tokenizing the stop words generated tokens ['abov', 'ani', 'becaus', 'befor', 'doe', 'dure', 'onc', 'onli', 'ourselv', \"should'v\", 'themselv', 'veri', 'whi', \"you'r\", \"you'v\", 'yourselv'] not in stop_words.\n",
            "  'stop_words.' % sorted(inconsistent))\n",
            "/usr/local/lib/python3.7/dist-packages/sklearn/feature_extraction/text.py:385: UserWarning: Your stop_words may be inconsistent with your preprocessing. Tokenizing the stop words generated tokens ['abov', 'ani', 'becaus', 'befor', 'doe', 'dure', 'onc', 'onli', 'ourselv', \"should'v\", 'themselv', 'veri', 'whi', \"you'r\", \"you'v\", 'yourselv'] not in stop_words.\n",
            "  'stop_words.' % sorted(inconsistent))\n",
            "/usr/local/lib/python3.7/dist-packages/sklearn/feature_extraction/text.py:385: UserWarning: Your stop_words may be inconsistent with your preprocessing. Tokenizing the stop words generated tokens ['abov', 'ani', 'becaus', 'befor', 'doe', 'dure', 'onc', 'onli', 'ourselv', \"should'v\", 'themselv', 'veri', 'whi', \"you'r\", \"you'v\", 'yourselv'] not in stop_words.\n",
            "  'stop_words.' % sorted(inconsistent))\n",
            "/usr/local/lib/python3.7/dist-packages/sklearn/feature_extraction/text.py:385: UserWarning: Your stop_words may be inconsistent with your preprocessing. Tokenizing the stop words generated tokens ['abov', 'ani', 'becaus', 'befor', 'doe', 'dure', 'onc', 'onli', 'ourselv', \"should'v\", 'themselv', 'veri', 'whi', \"you'r\", \"you'v\", 'yourselv'] not in stop_words.\n",
            "  'stop_words.' % sorted(inconsistent))\n",
            "/usr/local/lib/python3.7/dist-packages/sklearn/feature_extraction/text.py:385: UserWarning: Your stop_words may be inconsistent with your preprocessing. Tokenizing the stop words generated tokens ['abov', 'ani', 'becaus', 'befor', 'doe', 'dure', 'onc', 'onli', 'ourselv', \"should'v\", 'themselv', 'veri', 'whi', \"you'r\", \"you'v\", 'yourselv'] not in stop_words.\n",
            "  'stop_words.' % sorted(inconsistent))\n",
            "/usr/local/lib/python3.7/dist-packages/sklearn/feature_extraction/text.py:385: UserWarning: Your stop_words may be inconsistent with your preprocessing. Tokenizing the stop words generated tokens ['abov', 'ani', 'becaus', 'befor', 'doe', 'dure', 'onc', 'onli', 'ourselv', \"should'v\", 'themselv', 'veri', 'whi', \"you'r\", \"you'v\", 'yourselv'] not in stop_words.\n",
            "  'stop_words.' % sorted(inconsistent))\n",
            "[Parallel(n_jobs=1)]: Done 120 out of 120 | elapsed:  2.6min finished\n",
            "/usr/local/lib/python3.7/dist-packages/sklearn/feature_extraction/text.py:385: UserWarning: Your stop_words may be inconsistent with your preprocessing. Tokenizing the stop words generated tokens ['abov', 'ani', 'becaus', 'befor', 'doe', 'dure', 'onc', 'onli', 'ourselv', \"should'v\", 'themselv', 'veri', 'whi', \"you'r\", \"you'v\", 'yourselv'] not in stop_words.\n",
            "  'stop_words.' % sorted(inconsistent))\n"
          ]
        },
        {
          "output_type": "stream",
          "name": "stdout",
          "text": [
            "Best parameter set: {'cls__kernel': 'rbf', 'vect__max_df': 0.75, 'vect__max_features': 1000, 'vect__min_df': 7, 'vect__ngram_range': (1, 2), 'vect__stop_words': {'by', 'before', 'll', 'its', 'm', 'a', 'won', \"don't\", 'over', 'from', 'did', \"you're\", 'ain', 'of', 'herself', 'don', 'whom', 'they', 'down', 'through', 'y', 'just', \"didn't\", \"shouldn't\", \"you've\", 'wasn', 'in', 'her', 'been', 'as', 'itself', 'this', 't', 'mustn', 'and', \"isn't\", 'hers', 'themselves', 'i', 'ourselves', \"she's\", 'will', 'she', 'not', 'my', 'has', 'any', 'such', 'too', 'me', \"that'll\", 'until', 'himself', 'where', 'that', 'them', 'having', 'above', 'more', 'these', 'do', 'yours', 'while', 'shan', \"wasn't\", 'had', 'shouldn', 'then', 'no', 'own', 's', 'very', 'our', 'into', 'to', 'once', 'wouldn', 'are', 'haven', 'up', \"you'd\", 'weren', 'now', 'their', 'if', 'is', 'you', 'both', 'each', 'being', 'should', 'after', 'ma', 'at', 'the', 'be', 're', 'which', 'most', 'other', \"you'll\", 'mightn', 'about', 'there', 'so', 'for', 'does', 'o', 'doesn', 'same', 'needn', 'we', \"doesn't\", 'he', \"needn't\", 'couldn', 'hasn', 'was', 'aren', \"mustn't\", \"couldn't\", 'on', 'doing', \"aren't\", 'all', 'when', 'but', 'him', 'here', 'ours', 'an', 'nor', 'against', 'it', 'how', 'd', 'during', 'out', 'myself', \"hadn't\", 'your', 'under', \"hasn't\", \"haven't\", 'who', 'why', 'those', \"mightn't\", 'can', 'what', 'than', \"won't\", 'am', \"wouldn't\", 'or', 'few', 'hadn', 've', 'again', \"shan't\", 'theirs', 'were', 'yourselves', 'didn', 'between', 'some', 'further', \"it's\", 'isn', 'his', 'below', 'have', 'because', 'with', \"weren't\", 'off', \"should've\", 'yourself', 'only'}, 'vect__tokenizer': <function tokenizer_stemmer at 0x7fb6ef7045f0>} \n",
            "CV Accuracy: 0.829\n",
            "Test Accuracy: 0.793\n"
          ]
        }
      ]
    },
    {
      "cell_type": "code",
      "metadata": {
        "id": "CxJZBrx9L12h",
        "colab": {
          "base_uri": "https://localhost:8080/"
        },
        "outputId": "75b21b1a-c229-4700-d124-6f4912ac6aeb"
      },
      "source": [
        "# SOLUTION 4 with Naive bayes classiffier \n",
        "param_grid4 = [{\n",
        "    'vect__max_features': [(1000)], # a vocabulary that only consider the top max_features ordered by term frequency\n",
        "    'vect__min_df': [(7)], # ignore terms that have a document frequency strictly lower than )\n",
        "    'vect__max_df': [(0.75)], #ignore terms that have a document frequency strictly higher \n",
        "    'vect__ngram_range': [(1,2)], #can also extract 2-grams of words in addition to the 1-grams (individual words)               \n",
        "    'vect__tokenizer': [tokenizer_stemmer], # use a tokeniser and the stemmer \n",
        "    'vect__stop_words': [stop] # use the stop dictionary of stopwords or not\n",
        "             }]\n",
        "\n",
        "#Sentiment classification with a NB\n",
        "pipe_tfidf = Pipeline([\n",
        "                  ('vect', TfidfVectorizer()),\n",
        "                  ('clf',  MultinomialNB(alpha=1.0, class_prior=None)) # naive bayes with default settings\n",
        "                  ]) \n",
        "                  \n",
        "gs_sentiment_classification4 = GridSearchCV(pipe_tfidf, param_grid4,\n",
        "                           scoring='accuracy',\n",
        "                           cv=5,\n",
        "                           verbose=1,\n",
        "                           n_jobs=1) \n",
        "\n",
        "gs_sentiment_classification4.fit(X_train, y_train)\n",
        "print('Best parameter set: %s ' % gs_sentiment_classification4.best_params_)\n",
        "print('CV Accuracy: %.3f' % gs_sentiment_classification4.best_score_)\n",
        "\n",
        "clf4 = gs_sentiment_classification4.best_estimator_\n",
        "print('Test Accuracy: %.3f' % clf4.score(X_test, y_test))\n"
      ],
      "execution_count": null,
      "outputs": [
        {
          "output_type": "stream",
          "name": "stdout",
          "text": [
            "Fitting 5 folds for each of 1 candidates, totalling 5 fits\n"
          ]
        },
        {
          "output_type": "stream",
          "name": "stderr",
          "text": [
            "[Parallel(n_jobs=1)]: Using backend SequentialBackend with 1 concurrent workers.\n",
            "/usr/local/lib/python3.7/dist-packages/sklearn/feature_extraction/text.py:385: UserWarning: Your stop_words may be inconsistent with your preprocessing. Tokenizing the stop words generated tokens ['abov', 'ani', 'becaus', 'befor', 'doe', 'dure', 'onc', 'onli', 'ourselv', \"should'v\", 'themselv', 'veri', 'whi', \"you'r\", \"you'v\", 'yourselv'] not in stop_words.\n",
            "  'stop_words.' % sorted(inconsistent))\n",
            "/usr/local/lib/python3.7/dist-packages/sklearn/feature_extraction/text.py:385: UserWarning: Your stop_words may be inconsistent with your preprocessing. Tokenizing the stop words generated tokens ['abov', 'ani', 'becaus', 'befor', 'doe', 'dure', 'onc', 'onli', 'ourselv', \"should'v\", 'themselv', 'veri', 'whi', \"you'r\", \"you'v\", 'yourselv'] not in stop_words.\n",
            "  'stop_words.' % sorted(inconsistent))\n",
            "/usr/local/lib/python3.7/dist-packages/sklearn/feature_extraction/text.py:385: UserWarning: Your stop_words may be inconsistent with your preprocessing. Tokenizing the stop words generated tokens ['abov', 'ani', 'becaus', 'befor', 'doe', 'dure', 'onc', 'onli', 'ourselv', \"should'v\", 'themselv', 'veri', 'whi', \"you'r\", \"you'v\", 'yourselv'] not in stop_words.\n",
            "  'stop_words.' % sorted(inconsistent))\n",
            "/usr/local/lib/python3.7/dist-packages/sklearn/feature_extraction/text.py:385: UserWarning: Your stop_words may be inconsistent with your preprocessing. Tokenizing the stop words generated tokens ['abov', 'ani', 'becaus', 'befor', 'doe', 'dure', 'onc', 'onli', 'ourselv', \"should'v\", 'themselv', 'veri', 'whi', \"you'r\", \"you'v\", 'yourselv'] not in stop_words.\n",
            "  'stop_words.' % sorted(inconsistent))\n",
            "/usr/local/lib/python3.7/dist-packages/sklearn/feature_extraction/text.py:385: UserWarning: Your stop_words may be inconsistent with your preprocessing. Tokenizing the stop words generated tokens ['abov', 'ani', 'becaus', 'befor', 'doe', 'dure', 'onc', 'onli', 'ourselv', \"should'v\", 'themselv', 'veri', 'whi', \"you'r\", \"you'v\", 'yourselv'] not in stop_words.\n",
            "  'stop_words.' % sorted(inconsistent))\n",
            "[Parallel(n_jobs=1)]: Done   5 out of   5 | elapsed:    6.3s finished\n",
            "/usr/local/lib/python3.7/dist-packages/sklearn/feature_extraction/text.py:385: UserWarning: Your stop_words may be inconsistent with your preprocessing. Tokenizing the stop words generated tokens ['abov', 'ani', 'becaus', 'befor', 'doe', 'dure', 'onc', 'onli', 'ourselv', \"should'v\", 'themselv', 'veri', 'whi', \"you'r\", \"you'v\", 'yourselv'] not in stop_words.\n",
            "  'stop_words.' % sorted(inconsistent))\n"
          ]
        },
        {
          "output_type": "stream",
          "name": "stdout",
          "text": [
            "Best parameter set: {'vect__max_df': 0.75, 'vect__max_features': 1000, 'vect__min_df': 7, 'vect__ngram_range': (1, 2), 'vect__stop_words': {'by', 'before', 'll', 'its', 'm', 'a', 'won', \"don't\", 'over', 'from', 'did', \"you're\", 'ain', 'of', 'herself', 'don', 'whom', 'they', 'down', 'through', 'y', 'just', \"didn't\", \"shouldn't\", \"you've\", 'wasn', 'in', 'her', 'been', 'as', 'itself', 'this', 't', 'mustn', 'and', \"isn't\", 'hers', 'themselves', 'i', 'ourselves', \"she's\", 'will', 'she', 'not', 'my', 'has', 'any', 'such', 'too', 'me', \"that'll\", 'until', 'himself', 'where', 'that', 'them', 'having', 'above', 'more', 'these', 'do', 'yours', 'while', 'shan', \"wasn't\", 'had', 'shouldn', 'then', 'no', 'own', 's', 'very', 'our', 'into', 'to', 'once', 'wouldn', 'are', 'haven', 'up', \"you'd\", 'weren', 'now', 'their', 'if', 'is', 'you', 'both', 'each', 'being', 'should', 'after', 'ma', 'at', 'the', 'be', 're', 'which', 'most', 'other', \"you'll\", 'mightn', 'about', 'there', 'so', 'for', 'does', 'o', 'doesn', 'same', 'needn', 'we', \"doesn't\", 'he', \"needn't\", 'couldn', 'hasn', 'was', 'aren', \"mustn't\", \"couldn't\", 'on', 'doing', \"aren't\", 'all', 'when', 'but', 'him', 'here', 'ours', 'an', 'nor', 'against', 'it', 'how', 'd', 'during', 'out', 'myself', \"hadn't\", 'your', 'under', \"hasn't\", \"haven't\", 'who', 'why', 'those', \"mightn't\", 'can', 'what', 'than', \"won't\", 'am', \"wouldn't\", 'or', 'few', 'hadn', 've', 'again', \"shan't\", 'theirs', 'were', 'yourselves', 'didn', 'between', 'some', 'further', \"it's\", 'isn', 'his', 'below', 'have', 'because', 'with', \"weren't\", 'off', \"should've\", 'yourself', 'only'}, 'vect__tokenizer': <function tokenizer_stemmer at 0x7fb6ef7045f0>} \n",
            "CV Accuracy: 0.814\n",
            "Test Accuracy: 0.767\n"
          ]
        }
      ]
    },
    {
      "cell_type": "markdown",
      "metadata": {
        "id": "9Y0JqzO_5WyK"
      },
      "source": [
        "# 3.0 Text Classification Case Studies \n"
      ]
    },
    {
      "cell_type": "markdown",
      "metadata": {
        "id": "Yyk0Of-D5WyM"
      },
      "source": [
        "## <font color='red'>Exercise</font>: SMS Spam filter as a classification task\n",
        "We first load the text data  \"SMSSpamCollection\"\n",
        "\n",
        "Furthermore, we perform some simple preprocessing and split the data array into two parts:\n",
        "\n",
        "1. `text`: A list of lists, where each sublists contains the contents of our emails\n",
        "2. `y`: our SPAM vs HAM labels stored in binary; a 1 represents a spam message, and a 0 represnts a ham (non-spam) message. \n",
        "1. Use the Tfidf vectoriser to transofrm the email content. \n",
        "2. Setup a gridsearch with pipelines to identify a good model for SMS message classification\n",
        "\n",
        "NOTE: the class labels column is categorical. This means that we need a class mapping. "
      ]
    },
    {
      "cell_type": "code",
      "metadata": {
        "id": "qC9lGaqe5WyL"
      },
      "source": [
        "sms_filename = \"https://raw.githubusercontent.com/nirmalie/CM4107/main/SMSSpamData.csv\"\n",
        "df_sms = pd.read_csv(sms_filename) "
      ],
      "execution_count": null,
      "outputs": []
    },
    {
      "cell_type": "code",
      "metadata": {
        "colab": {
          "base_uri": "https://localhost:8080/",
          "height": 376
        },
        "id": "mYYSk3ut5WyM",
        "outputId": "9f3901af-ac22-458e-eaa7-48a9cd951581"
      },
      "source": [
        "print(\"length of the dataset:\", len(df_sms))\n",
        "df_sms.head(10)"
      ],
      "execution_count": null,
      "outputs": [
        {
          "output_type": "stream",
          "name": "stdout",
          "text": [
            "length of the dataset: 5574\n"
          ]
        },
        {
          "output_type": "execute_result",
          "data": {
            "text/html": [
              "<div>\n",
              "<style scoped>\n",
              "    .dataframe tbody tr th:only-of-type {\n",
              "        vertical-align: middle;\n",
              "    }\n",
              "\n",
              "    .dataframe tbody tr th {\n",
              "        vertical-align: top;\n",
              "    }\n",
              "\n",
              "    .dataframe thead th {\n",
              "        text-align: right;\n",
              "    }\n",
              "</style>\n",
              "<table border=\"1\" class=\"dataframe\">\n",
              "  <thead>\n",
              "    <tr style=\"text-align: right;\">\n",
              "      <th></th>\n",
              "      <th>class</th>\n",
              "      <th>sms_msg</th>\n",
              "    </tr>\n",
              "  </thead>\n",
              "  <tbody>\n",
              "    <tr>\n",
              "      <th>0</th>\n",
              "      <td>ham</td>\n",
              "      <td>Go until jurong point, crazy.. Available only ...</td>\n",
              "    </tr>\n",
              "    <tr>\n",
              "      <th>1</th>\n",
              "      <td>ham</td>\n",
              "      <td>Ok lar... Joking wif u oni...</td>\n",
              "    </tr>\n",
              "    <tr>\n",
              "      <th>2</th>\n",
              "      <td>spam</td>\n",
              "      <td>Free entry in 2 a wkly comp to win FA Cup fina...</td>\n",
              "    </tr>\n",
              "    <tr>\n",
              "      <th>3</th>\n",
              "      <td>ham</td>\n",
              "      <td>U dun say so early hor... U c already then say...</td>\n",
              "    </tr>\n",
              "    <tr>\n",
              "      <th>4</th>\n",
              "      <td>ham</td>\n",
              "      <td>Nah I don't think he goes to usf, he lives aro...</td>\n",
              "    </tr>\n",
              "    <tr>\n",
              "      <th>5</th>\n",
              "      <td>spam</td>\n",
              "      <td>FreeMsg Hey there darling it's been 3 week's n...</td>\n",
              "    </tr>\n",
              "    <tr>\n",
              "      <th>6</th>\n",
              "      <td>ham</td>\n",
              "      <td>Even my brother is not like to speak with me. ...</td>\n",
              "    </tr>\n",
              "    <tr>\n",
              "      <th>7</th>\n",
              "      <td>ham</td>\n",
              "      <td>As per your request 'Melle Melle (Oru Minnamin...</td>\n",
              "    </tr>\n",
              "    <tr>\n",
              "      <th>8</th>\n",
              "      <td>spam</td>\n",
              "      <td>WINNER!! As a valued network customer you have...</td>\n",
              "    </tr>\n",
              "    <tr>\n",
              "      <th>9</th>\n",
              "      <td>spam</td>\n",
              "      <td>Had your mobile 11 months or more? U R entitle...</td>\n",
              "    </tr>\n",
              "  </tbody>\n",
              "</table>\n",
              "</div>"
            ],
            "text/plain": [
              "  class                                            sms_msg\n",
              "0   ham  Go until jurong point, crazy.. Available only ...\n",
              "1   ham                      Ok lar... Joking wif u oni...\n",
              "2  spam  Free entry in 2 a wkly comp to win FA Cup fina...\n",
              "3   ham  U dun say so early hor... U c already then say...\n",
              "4   ham  Nah I don't think he goes to usf, he lives aro...\n",
              "5  spam  FreeMsg Hey there darling it's been 3 week's n...\n",
              "6   ham  Even my brother is not like to speak with me. ...\n",
              "7   ham  As per your request 'Melle Melle (Oru Minnamin...\n",
              "8  spam  WINNER!! As a valued network customer you have...\n",
              "9  spam  Had your mobile 11 months or more? U R entitle..."
            ]
          },
          "metadata": {},
          "execution_count": 84
        }
      ]
    },
    {
      "cell_type": "code",
      "metadata": {
        "colab": {
          "base_uri": "https://localhost:8080/",
          "height": 159
        },
        "id": "8wOxm_Yf5WyM",
        "outputId": "ac2ef0a5-a0c4-436e-99ff-fc1ca726852d"
      },
      "source": [
        "#SOLUTION\n",
        "# Get the classes mapped to 0 and 1\n",
        "class_labels = (np.unique(df_sms['class'])) # get the unique class labels\n",
        "print(\"Mapping class labels:\", class_labels)\n",
        "sms_class_mapping = {label:idx for idx,label in enumerate(class_labels)}\n",
        "\n",
        "sms_class_labels = [x for x in sms_class_mapping] # store the class labels for later\n",
        "\n",
        "df_sms[\"class\"] = df_sms[\"class\"].map(sms_class_mapping)\n",
        "df_sms.head(3)"
      ],
      "execution_count": null,
      "outputs": [
        {
          "output_type": "stream",
          "name": "stdout",
          "text": [
            "Mapping class labels: ['ham' 'spam']\n"
          ]
        },
        {
          "output_type": "execute_result",
          "data": {
            "text/html": [
              "<div>\n",
              "<style scoped>\n",
              "    .dataframe tbody tr th:only-of-type {\n",
              "        vertical-align: middle;\n",
              "    }\n",
              "\n",
              "    .dataframe tbody tr th {\n",
              "        vertical-align: top;\n",
              "    }\n",
              "\n",
              "    .dataframe thead th {\n",
              "        text-align: right;\n",
              "    }\n",
              "</style>\n",
              "<table border=\"1\" class=\"dataframe\">\n",
              "  <thead>\n",
              "    <tr style=\"text-align: right;\">\n",
              "      <th></th>\n",
              "      <th>class</th>\n",
              "      <th>sms_msg</th>\n",
              "    </tr>\n",
              "  </thead>\n",
              "  <tbody>\n",
              "    <tr>\n",
              "      <th>0</th>\n",
              "      <td>0</td>\n",
              "      <td>Go until jurong point, crazy.. Available only ...</td>\n",
              "    </tr>\n",
              "    <tr>\n",
              "      <th>1</th>\n",
              "      <td>0</td>\n",
              "      <td>Ok lar... Joking wif u oni...</td>\n",
              "    </tr>\n",
              "    <tr>\n",
              "      <th>2</th>\n",
              "      <td>1</td>\n",
              "      <td>Free entry in 2 a wkly comp to win FA Cup fina...</td>\n",
              "    </tr>\n",
              "  </tbody>\n",
              "</table>\n",
              "</div>"
            ],
            "text/plain": [
              "   class                                            sms_msg\n",
              "0      0  Go until jurong point, crazy.. Available only ...\n",
              "1      0                      Ok lar... Joking wif u oni...\n",
              "2      1  Free entry in 2 a wkly comp to win FA Cup fina..."
            ]
          },
          "metadata": {},
          "execution_count": 85
        }
      ]
    },
    {
      "cell_type": "code",
      "metadata": {
        "colab": {
          "base_uri": "https://localhost:8080/"
        },
        "id": "7KOxTUmjh8WL",
        "outputId": "0d02d8a9-7d5f-4d99-c642-5e5d2ee6dea2"
      },
      "source": [
        "# SOLUTION\n",
        "# get the data\n",
        "X = df_sms.loc[:, 'sms_msg'].values\n",
        "y = df_sms.loc[:, 'class'].values\n",
        "text_train, text_test, y_train, y_test = train_test_split(X, y, \n",
        "                                                          random_state=42,\n",
        "                                                          test_size=0.30, # lets use 30% for testing\n",
        "                                                          stratify=y)\n",
        "\n",
        "small_df= df_sms.sample(frac=0.4, replace=False, random_state=1)\n",
        "\n",
        "#preprocessing step needed\n",
        "small_df['sms_msg'] = small_df['sms_msg'].apply(preprocessor) #remove html tags and regular expressions\n",
        "# form X and y\n",
        "X = small_df.loc[:, 'sms_msg'].values\n",
        "y = small_df.loc[:, 'class'].values\n",
        "# get the split\n",
        "X_train, X_test, y_train, y_test = train_test_split(X, y, \n",
        "                                                          random_state=42,\n",
        "                                                          test_size=0.30, # lets use 30% for testing\n",
        "                                                          stratify=y)\n",
        "print(\"Sample of Training data:\", X_train.shape)\n",
        "print(\"Sample of Test data:\", X_test.shape)\n",
        "\n"
      ],
      "execution_count": null,
      "outputs": [
        {
          "output_type": "stream",
          "name": "stdout",
          "text": [
            "Sample of Training data: (1561,)\n",
            "Sample of Test data: (669,)\n"
          ]
        }
      ]
    },
    {
      "cell_type": "code",
      "metadata": {
        "id": "0nyxwKG45Wye"
      },
      "source": [
        "# SOLUTION\n",
        "# set the pipelines and grid search\n",
        "param_grid_sms = [{\n",
        "    'vect__ngram_range': [(1,2)], #can also extract 2-grams of words in addition to the 1-grams (individual words)\n",
        "    'vect__tokenizer': [tokenizer_stemmer], # use a tokeniser and the stemmer \n",
        "    'vect__max_features': [1000, 4000], # set the vocabulary size'\n",
        "    'vect__stop_words': [None] # use the stop dictionary of stopwords or not\n",
        "              }]\n",
        "\n",
        "#Sentiment classification with a neural net\n",
        "pipe_tfidf_sms = Pipeline([\n",
        "                  ('vect', TfidfVectorizer( min_df=7)),      \n",
        "                  ('cls', SVC(kernel='rbf', gamma=0.7, C=1.0)) # SVM classifier\n",
        "                  ]) \n",
        "                \n",
        "gs_sms_classification = GridSearchCV(pipe_tfidf_sms, param_grid_sms,\n",
        "                           scoring='accuracy',\n",
        "                           cv=5,\n",
        "                           verbose=1,\n",
        "                           n_jobs=1) "
      ],
      "execution_count": null,
      "outputs": []
    },
    {
      "cell_type": "code",
      "metadata": {
        "colab": {
          "base_uri": "https://localhost:8080/"
        },
        "id": "gRc_Ia2Y6zFM",
        "outputId": "a85323a2-06b0-4a59-d13f-e5f9f368c13b"
      },
      "source": [
        "# SOLUTION use cross validation to carryout the grid search\n",
        "gs_sms_classification.fit(X_train, y_train) \n",
        "print('Best parameter set: %s ' % gs_sms_classification.best_params_)\n",
        "print('CV Accuracy: %.3f' % gs_sms_classification.best_score_)\n",
        "clf = gs_sms_classification.best_estimator_\n",
        "\n",
        "#use the test data to evaluate\n",
        "print('Test Accuracy: %.3f' % clf.score(X_test, y_test))\n",
        "\n",
        "y_pred = clf.predict(X_test)\n",
        "print(classification_report(y_test, y_pred, target_names=class_labels))"
      ],
      "execution_count": null,
      "outputs": [
        {
          "output_type": "stream",
          "name": "stdout",
          "text": [
            "Fitting 5 folds for each of 2 candidates, totalling 10 fits\n"
          ]
        },
        {
          "output_type": "stream",
          "name": "stderr",
          "text": [
            "[Parallel(n_jobs=1)]: Using backend SequentialBackend with 1 concurrent workers.\n",
            "[Parallel(n_jobs=1)]: Done  10 out of  10 | elapsed:    5.2s finished\n"
          ]
        },
        {
          "output_type": "stream",
          "name": "stdout",
          "text": [
            "Best parameter set: {'vect__max_features': 1000, 'vect__ngram_range': (1, 2), 'vect__stop_words': None, 'vect__tokenizer': <function tokenizer_stemmer at 0x7fb6ef7045f0>} \n",
            "CV Accuracy: 0.977\n",
            "Test Accuracy: 0.988\n",
            "              precision    recall  f1-score   support\n",
            "\n",
            "         ham       0.99      1.00      0.99       581\n",
            "        spam       1.00      0.91      0.95        88\n",
            "\n",
            "    accuracy                           0.99       669\n",
            "   macro avg       0.99      0.95      0.97       669\n",
            "weighted avg       0.99      0.99      0.99       669\n",
            "\n"
          ]
        }
      ]
    },
    {
      "cell_type": "markdown",
      "metadata": {
        "id": "tCGOLzx1vd4u"
      },
      "source": [
        "## <font color='red'>Exercise</font>: Carry out text classification on the Newsgroup dataset\n",
        "The 20 newsgroups dataset comprises around 18000 newsgroups posts on 20 topics split in two subsets: one for training (or development) and the other one for testing (or for performance evaluation). The split between the train and test set is based upon a messages posted before and after a specific date.\n",
        "You can find out more about the dataset from here [(https://scikit-learn.org/0.19/datasets/twenty_newsgroups.html)]\n",
        "\n",
        "Build a text classifier for this dataset by following these steps:\n",
        "1.   Load the data an examine structure \n",
        "2.   Set the pipelines\n",
        "3.   Specify the grid search\n",
        "4.   Analyse the results\n",
        "\n"
      ]
    },
    {
      "cell_type": "code",
      "metadata": {
        "id": "dyvwCmNg9EFF",
        "colab": {
          "base_uri": "https://localhost:8080/"
        },
        "outputId": "2e41e1cd-c63b-4f3c-a8a9-a189bdf3c763"
      },
      "source": [
        "from sklearn.datasets import fetch_20newsgroups\n",
        "from pprint import pprint\n",
        "\n",
        "# please refer to sklearn documentation about the full dataset\n",
        "# here we will work on a small sample of categories instead of the 20 categories\n",
        "cats = ['sci.crypt','sci.electronics','sci.med','sci.space']\n",
        "newsgroups_train = fetch_20newsgroups(subset='train', categories=cats)\n",
        "newsgroups_test = fetch_20newsgroups(subset='test', categories=cats)\n",
        "\n",
        "pprint(list(newsgroups_train.target_names))\n",
        "news_class_labels = list(newsgroups_train.target_names)"
      ],
      "execution_count": null,
      "outputs": [
        {
          "output_type": "stream",
          "name": "stderr",
          "text": [
            "Downloading 20news dataset. This may take a few minutes.\n",
            "Downloading dataset from https://ndownloader.figshare.com/files/5975967 (14 MB)\n"
          ]
        },
        {
          "output_type": "stream",
          "name": "stdout",
          "text": [
            "['sci.crypt', 'sci.electronics', 'sci.med', 'sci.space']\n"
          ]
        }
      ]
    },
    {
      "cell_type": "code",
      "metadata": {
        "colab": {
          "base_uri": "https://localhost:8080/",
          "height": 314
        },
        "id": "kutz9GVYDMoV",
        "outputId": "7547f0d9-4cec-4188-c7cf-4abe3f42a242"
      },
      "source": [
        "train_data= pd.Series(newsgroups_train.data) \n",
        "\n",
        "\n",
        "train_df=pd.DataFrame(train_data) \n",
        "train_df.columns = ['Data'] + train_df.columns.tolist()[1:] \n",
        "train_df['target'] = pd.Series(newsgroups_train.target)\n",
        "print(\"Size of the corpus:\", len(train_df))\n",
        "train_df.head(8)"
      ],
      "execution_count": null,
      "outputs": [
        {
          "output_type": "stream",
          "name": "stdout",
          "text": [
            "Size of the corpus: 2373\n"
          ]
        },
        {
          "output_type": "execute_result",
          "data": {
            "text/html": [
              "<div>\n",
              "<style scoped>\n",
              "    .dataframe tbody tr th:only-of-type {\n",
              "        vertical-align: middle;\n",
              "    }\n",
              "\n",
              "    .dataframe tbody tr th {\n",
              "        vertical-align: top;\n",
              "    }\n",
              "\n",
              "    .dataframe thead th {\n",
              "        text-align: right;\n",
              "    }\n",
              "</style>\n",
              "<table border=\"1\" class=\"dataframe\">\n",
              "  <thead>\n",
              "    <tr style=\"text-align: right;\">\n",
              "      <th></th>\n",
              "      <th>Data</th>\n",
              "      <th>target</th>\n",
              "    </tr>\n",
              "  </thead>\n",
              "  <tbody>\n",
              "    <tr>\n",
              "      <th>0</th>\n",
              "      <td>From: al@escom.com (Al Donaldson)\\nSubject: Re...</td>\n",
              "      <td>0</td>\n",
              "    </tr>\n",
              "    <tr>\n",
              "      <th>1</th>\n",
              "      <td>From: harpe@netnews.louisville.edu (Mike Harpe...</td>\n",
              "      <td>1</td>\n",
              "    </tr>\n",
              "    <tr>\n",
              "      <th>2</th>\n",
              "      <td>From: henry@zoo.toronto.edu (Henry Spencer)\\nS...</td>\n",
              "      <td>3</td>\n",
              "    </tr>\n",
              "    <tr>\n",
              "      <th>3</th>\n",
              "      <td>From: geva@concave.cs.wits.ac.za (Geva Patz)\\n...</td>\n",
              "      <td>1</td>\n",
              "    </tr>\n",
              "    <tr>\n",
              "      <th>4</th>\n",
              "      <td>From: rdl1@ukc.ac.uk (R.D.Lorenz)\\nSubject: Co...</td>\n",
              "      <td>3</td>\n",
              "    </tr>\n",
              "    <tr>\n",
              "      <th>5</th>\n",
              "      <td>From: redsonja@olias.linet.org (Red Sonja)\\nSu...</td>\n",
              "      <td>0</td>\n",
              "    </tr>\n",
              "    <tr>\n",
              "      <th>6</th>\n",
              "      <td>From: ron.roth@rose.com (ron roth)\\nSubject: S...</td>\n",
              "      <td>2</td>\n",
              "    </tr>\n",
              "    <tr>\n",
              "      <th>7</th>\n",
              "      <td>From: alung@megatest.com (Aaron Lung)\\nSubject...</td>\n",
              "      <td>1</td>\n",
              "    </tr>\n",
              "  </tbody>\n",
              "</table>\n",
              "</div>"
            ],
            "text/plain": [
              "                                                Data  target\n",
              "0  From: al@escom.com (Al Donaldson)\\nSubject: Re...       0\n",
              "1  From: harpe@netnews.louisville.edu (Mike Harpe...       1\n",
              "2  From: henry@zoo.toronto.edu (Henry Spencer)\\nS...       3\n",
              "3  From: geva@concave.cs.wits.ac.za (Geva Patz)\\n...       1\n",
              "4  From: rdl1@ukc.ac.uk (R.D.Lorenz)\\nSubject: Co...       3\n",
              "5  From: redsonja@olias.linet.org (Red Sonja)\\nSu...       0\n",
              "6  From: ron.roth@rose.com (ron roth)\\nSubject: S...       2\n",
              "7  From: alung@megatest.com (Aaron Lung)\\nSubject...       1"
            ]
          },
          "metadata": {},
          "execution_count": 90
        }
      ]
    },
    {
      "cell_type": "code",
      "metadata": {
        "colab": {
          "base_uri": "https://localhost:8080/",
          "height": 314
        },
        "id": "eWMiqLezycD0",
        "outputId": "8caf0088-a576-4a8b-89de-50b4bde64494"
      },
      "source": [
        "# get the test data\n",
        "test_data= pd.Series(newsgroups_test.data) \n",
        "\n",
        "test_df=pd.DataFrame(test_data) \n",
        "test_df.columns = ['Data'] + test_df.columns.tolist()[1:] # add the 'target' to the list of columns\n",
        "test_df['target'] = pd.Series(newsgroups_test.target)\n",
        "\n",
        "#Strip HTML and punctuation to speed up text processing\n",
        "test_df['Data'] = test_df['Data'].apply(preprocessor)\n",
        "\n",
        "print(\"Size of the test data:\", len(test_df))\n",
        "test_df.head(8)"
      ],
      "execution_count": null,
      "outputs": [
        {
          "output_type": "stream",
          "name": "stdout",
          "text": [
            "Size of the test data: 1579\n"
          ]
        },
        {
          "output_type": "execute_result",
          "data": {
            "text/html": [
              "<div>\n",
              "<style scoped>\n",
              "    .dataframe tbody tr th:only-of-type {\n",
              "        vertical-align: middle;\n",
              "    }\n",
              "\n",
              "    .dataframe tbody tr th {\n",
              "        vertical-align: top;\n",
              "    }\n",
              "\n",
              "    .dataframe thead th {\n",
              "        text-align: right;\n",
              "    }\n",
              "</style>\n",
              "<table border=\"1\" class=\"dataframe\">\n",
              "  <thead>\n",
              "    <tr style=\"text-align: right;\">\n",
              "      <th></th>\n",
              "      <th>Data</th>\n",
              "      <th>target</th>\n",
              "    </tr>\n",
              "  </thead>\n",
              "  <tbody>\n",
              "    <tr>\n",
              "      <th>0</th>\n",
              "      <td>from rousself cicb fr frank roussel subject ft...</td>\n",
              "      <td>3</td>\n",
              "    </tr>\n",
              "    <tr>\n",
              "      <th>1</th>\n",
              "      <td>from mccall mksol dseg ti com fred j mccall 57...</td>\n",
              "      <td>3</td>\n",
              "    </tr>\n",
              "    <tr>\n",
              "      <th>2</th>\n",
              "      <td>from mavmav mksol dseg ti com michael a vincze...</td>\n",
              "      <td>2</td>\n",
              "    </tr>\n",
              "    <tr>\n",
              "      <th>3</th>\n",
              "      <td>from david stat com david dodell subject hicn6...</td>\n",
              "      <td>2</td>\n",
              "    </tr>\n",
              "    <tr>\n",
              "      <th>4</th>\n",
              "      <td>from mkrajci wilkes1 wilkes edu martin k subje...</td>\n",
              "      <td>1</td>\n",
              "    </tr>\n",
              "    <tr>\n",
              "      <th>5</th>\n",
              "      <td>from uabdpo dpo uab edu gila005 stephen hollan...</td>\n",
              "      <td>2</td>\n",
              "    </tr>\n",
              "    <tr>\n",
              "      <th>6</th>\n",
              "      <td>from levin bbn com joel b levin subject re doe...</td>\n",
              "      <td>0</td>\n",
              "    </tr>\n",
              "    <tr>\n",
              "      <th>7</th>\n",
              "      <td>from cme ellisun sw stratus com carl ellison s...</td>\n",
              "      <td>0</td>\n",
              "    </tr>\n",
              "  </tbody>\n",
              "</table>\n",
              "</div>"
            ],
            "text/plain": [
              "                                                Data  target\n",
              "0  from rousself cicb fr frank roussel subject ft...       3\n",
              "1  from mccall mksol dseg ti com fred j mccall 57...       3\n",
              "2  from mavmav mksol dseg ti com michael a vincze...       2\n",
              "3  from david stat com david dodell subject hicn6...       2\n",
              "4  from mkrajci wilkes1 wilkes edu martin k subje...       1\n",
              "5  from uabdpo dpo uab edu gila005 stephen hollan...       2\n",
              "6  from levin bbn com joel b levin subject re doe...       0\n",
              "7  from cme ellisun sw stratus com carl ellison s...       0"
            ]
          },
          "metadata": {},
          "execution_count": 91
        }
      ]
    },
    {
      "cell_type": "code",
      "metadata": {
        "id": "PImUO0xO89ak",
        "colab": {
          "base_uri": "https://localhost:8080/"
        },
        "outputId": "89f26a74-9a77-42c8-a3db-dad53d18bb9e"
      },
      "source": [
        "#get a small sample from the 50K data\n",
        "small_df= train_df.sample(frac=0.5, replace=False, random_state=1)\n",
        "\n",
        "#Strip HTML and punctuation to speed up text processing\n",
        "small_df['Data'] = small_df['Data'].apply(preprocessor)\n",
        "\n",
        "X_train = small_df.loc[:, 'Data'].values\n",
        "y_train = small_df.loc[:, 'target'].values\n",
        "\n",
        "\n",
        "print(\"Sample of Training data:\", X_train.shape)\n",
        "\n",
        "\n",
        "#Test data\n",
        "X_test = test_df.loc[:, 'Data'].values\n",
        "y_test = test_df.loc[:, 'target'].values\n",
        "print(\"Test data:\", X_test.shape)"
      ],
      "execution_count": null,
      "outputs": [
        {
          "output_type": "stream",
          "name": "stdout",
          "text": [
            "Sample of Training data: (1186,)\n",
            "Test data: (1579,)\n"
          ]
        }
      ]
    },
    {
      "cell_type": "code",
      "metadata": {
        "colab": {
          "base_uri": "https://localhost:8080/"
        },
        "id": "7nyn5ucCnI8-",
        "outputId": "0d40a4c3-fbcc-44c1-e6a8-2fa48f41de3b"
      },
      "source": [
        "news_param_grid = [{\n",
        "\n",
        "    'vect__ngram_range': [(1,2)], #can also extract 2-grams of words in addition to the 1-grams (individual words)\n",
        "    'vect__tokenizer': [tokenizer], # to use a stemmer or not \n",
        "    'vect__stop_words': [stop] # use the stop dictionary of stopwords or not\n",
        "                }]\n",
        "\n",
        "#News group classification \n",
        "news_pipe_tfidf = Pipeline([\n",
        "                  ('vect', TfidfVectorizer()),\n",
        "                  ('cls', SVC(kernel='rbf', gamma=0.7, C=1.0)) \n",
        "                  ]) \n",
        "                  \n",
        "gs_news_classification = GridSearchCV(news_pipe_tfidf, news_param_grid,\n",
        "                           scoring='accuracy',\n",
        "                           cv=5,\n",
        "                           verbose=1,\n",
        "                           n_jobs=1) \n",
        "\n",
        "gs_news_classification.fit(X_train, y_train)\n",
        "print('Best parameter set: %s ' % gs_news_classification.best_params_)\n",
        "print('CV Accuracy: %.3f' % gs_news_classification.best_score_)\n",
        "\n",
        "news_clf = gs_news_classification.best_estimator_\n",
        "print('Test Accuracy: %.3f' % news_clf.score(X_test, y_test))\n",
        "\n",
        "# detailed report on test data\n",
        "y_pred = news_clf.predict(X_test)\n",
        "print(classification_report(y_test, y_pred, target_names=news_class_labels))"
      ],
      "execution_count": null,
      "outputs": [
        {
          "output_type": "stream",
          "name": "stdout",
          "text": [
            "Fitting 5 folds for each of 1 candidates, totalling 5 fits\n"
          ]
        },
        {
          "output_type": "stream",
          "name": "stderr",
          "text": [
            "[Parallel(n_jobs=1)]: Using backend SequentialBackend with 1 concurrent workers.\n",
            "[Parallel(n_jobs=1)]: Done   5 out of   5 | elapsed:   18.6s finished\n"
          ]
        },
        {
          "output_type": "stream",
          "name": "stdout",
          "text": [
            "Best parameter set: {'vect__ngram_range': (1, 2), 'vect__stop_words': {'by', 'before', 'll', 'its', 'm', 'a', 'won', \"don't\", 'over', 'from', 'did', \"you're\", 'ain', 'of', 'herself', 'don', 'whom', 'they', 'down', 'through', 'y', 'just', \"didn't\", \"shouldn't\", \"you've\", 'wasn', 'in', 'her', 'been', 'as', 'itself', 'this', 't', 'mustn', 'and', \"isn't\", 'hers', 'themselves', 'i', 'ourselves', \"she's\", 'will', 'she', 'not', 'my', 'has', 'any', 'such', 'too', 'me', \"that'll\", 'until', 'himself', 'where', 'that', 'them', 'having', 'above', 'more', 'these', 'do', 'yours', 'while', 'shan', \"wasn't\", 'had', 'shouldn', 'then', 'no', 'own', 's', 'very', 'our', 'into', 'to', 'once', 'wouldn', 'are', 'haven', 'up', \"you'd\", 'weren', 'now', 'their', 'if', 'is', 'you', 'both', 'each', 'being', 'should', 'after', 'ma', 'at', 'the', 'be', 're', 'which', 'most', 'other', \"you'll\", 'mightn', 'about', 'there', 'so', 'for', 'does', 'o', 'doesn', 'same', 'needn', 'we', \"doesn't\", 'he', \"needn't\", 'couldn', 'hasn', 'was', 'aren', \"mustn't\", \"couldn't\", 'on', 'doing', \"aren't\", 'all', 'when', 'but', 'him', 'here', 'ours', 'an', 'nor', 'against', 'it', 'how', 'd', 'during', 'out', 'myself', \"hadn't\", 'your', 'under', \"hasn't\", \"haven't\", 'who', 'why', 'those', \"mightn't\", 'can', 'what', 'than', \"won't\", 'am', \"wouldn't\", 'or', 'few', 'hadn', 've', 'again', \"shan't\", 'theirs', 'were', 'yourselves', 'didn', 'between', 'some', 'further', \"it's\", 'isn', 'his', 'below', 'have', 'because', 'with', \"weren't\", 'off', \"should've\", 'yourself', 'only'}, 'vect__tokenizer': <function tokenizer at 0x7fb6ef8f5710>} \n",
            "CV Accuracy: 0.920\n",
            "Test Accuracy: 0.868\n",
            "                 precision    recall  f1-score   support\n",
            "\n",
            "      sci.crypt       0.98      0.90      0.94       396\n",
            "sci.electronics       0.68      0.97      0.80       393\n",
            "        sci.med       0.96      0.70      0.81       396\n",
            "      sci.space       0.97      0.91      0.94       394\n",
            "\n",
            "       accuracy                           0.87      1579\n",
            "      macro avg       0.90      0.87      0.87      1579\n",
            "   weighted avg       0.90      0.87      0.87      1579\n",
            "\n"
          ]
        }
      ]
    },
    {
      "cell_type": "markdown",
      "metadata": {
        "id": "RNqh1uT1Nx5D"
      },
      "source": [
        "# MISC"
      ]
    },
    {
      "cell_type": "code",
      "metadata": {
        "colab": {
          "base_uri": "https://localhost:8080/"
        },
        "id": "xrDuJvFzNxRq",
        "outputId": "db336381-5b40-44f3-fb0a-254c93717b3a"
      },
      "source": [
        "!wget 'http://cs.stanford.edu/people/alecmgo/trainingandtestdata.zip'\n",
        "!unzip trainingandtestdata.zip"
      ],
      "execution_count": null,
      "outputs": [
        {
          "output_type": "stream",
          "name": "stdout",
          "text": [
            "--2021-11-08 11:03:40--  http://cs.stanford.edu/people/alecmgo/trainingandtestdata.zip\n",
            "Resolving cs.stanford.edu (cs.stanford.edu)... 171.64.64.64\n",
            "Connecting to cs.stanford.edu (cs.stanford.edu)|171.64.64.64|:80... connected.\n",
            "HTTP request sent, awaiting response... 301 Moved Permanently\n",
            "Location: https://cs.stanford.edu/people/alecmgo/trainingandtestdata.zip [following]\n",
            "--2021-11-08 11:03:40--  https://cs.stanford.edu/people/alecmgo/trainingandtestdata.zip\n",
            "Connecting to cs.stanford.edu (cs.stanford.edu)|171.64.64.64|:443... connected.\n",
            "HTTP request sent, awaiting response... 200 OK\n",
            "Length: 81363704 (78M) [application/zip]\n",
            "Saving to: ‘trainingandtestdata.zip’\n",
            "\n",
            "trainingandtestdata 100%[===================>]  77.59M  12.7MB/s    in 7.0s    \n",
            "\n",
            "2021-11-08 11:03:47 (11.0 MB/s) - ‘trainingandtestdata.zip’ saved [81363704/81363704]\n",
            "\n",
            "Archive:  trainingandtestdata.zip\n",
            "  inflating: testdata.manual.2009.06.14.csv  \n",
            "  inflating: training.1600000.processed.noemoticon.csv  \n"
          ]
        }
      ]
    },
    {
      "cell_type": "code",
      "metadata": {
        "id": "egJj8D3PN8H1"
      },
      "source": [
        "csv_file_name = \"training.1600000.processed.noemoticon.csv\""
      ],
      "execution_count": null,
      "outputs": []
    },
    {
      "cell_type": "code",
      "metadata": {
        "id": "3BdEaLxqOFF7"
      },
      "source": [
        "df_senti140 = pd.read_csv(csv_file_name,  encoding='latin-1') \n",
        "df_senti140 = pd.read_csv(csv_file_name,  encoding='latin-1', usecols=[0,5], names=['class', 'review'], header=None)"
      ],
      "execution_count": null,
      "outputs": []
    },
    {
      "cell_type": "code",
      "metadata": {
        "colab": {
          "base_uri": "https://localhost:8080/",
          "height": 204
        },
        "id": "KEksTSajO_EX",
        "outputId": "e54bf2b1-b4c4-4aac-abbe-a4181361d171"
      },
      "source": [
        "df_senti140.head(5)"
      ],
      "execution_count": null,
      "outputs": [
        {
          "output_type": "execute_result",
          "data": {
            "text/html": [
              "<div>\n",
              "<style scoped>\n",
              "    .dataframe tbody tr th:only-of-type {\n",
              "        vertical-align: middle;\n",
              "    }\n",
              "\n",
              "    .dataframe tbody tr th {\n",
              "        vertical-align: top;\n",
              "    }\n",
              "\n",
              "    .dataframe thead th {\n",
              "        text-align: right;\n",
              "    }\n",
              "</style>\n",
              "<table border=\"1\" class=\"dataframe\">\n",
              "  <thead>\n",
              "    <tr style=\"text-align: right;\">\n",
              "      <th></th>\n",
              "      <th>class</th>\n",
              "      <th>review</th>\n",
              "    </tr>\n",
              "  </thead>\n",
              "  <tbody>\n",
              "    <tr>\n",
              "      <th>0</th>\n",
              "      <td>0</td>\n",
              "      <td>@switchfoot http://twitpic.com/2y1zl - Awww, t...</td>\n",
              "    </tr>\n",
              "    <tr>\n",
              "      <th>1</th>\n",
              "      <td>0</td>\n",
              "      <td>is upset that he can't update his Facebook by ...</td>\n",
              "    </tr>\n",
              "    <tr>\n",
              "      <th>2</th>\n",
              "      <td>0</td>\n",
              "      <td>@Kenichan I dived many times for the ball. Man...</td>\n",
              "    </tr>\n",
              "    <tr>\n",
              "      <th>3</th>\n",
              "      <td>0</td>\n",
              "      <td>my whole body feels itchy and like its on fire</td>\n",
              "    </tr>\n",
              "    <tr>\n",
              "      <th>4</th>\n",
              "      <td>0</td>\n",
              "      <td>@nationwideclass no, it's not behaving at all....</td>\n",
              "    </tr>\n",
              "  </tbody>\n",
              "</table>\n",
              "</div>"
            ],
            "text/plain": [
              "   class                                             review\n",
              "0      0  @switchfoot http://twitpic.com/2y1zl - Awww, t...\n",
              "1      0  is upset that he can't update his Facebook by ...\n",
              "2      0  @Kenichan I dived many times for the ball. Man...\n",
              "3      0    my whole body feels itchy and like its on fire \n",
              "4      0  @nationwideclass no, it's not behaving at all...."
            ]
          },
          "metadata": {},
          "execution_count": 104
        }
      ]
    },
    {
      "cell_type": "code",
      "metadata": {
        "colab": {
          "base_uri": "https://localhost:8080/",
          "height": 436
        },
        "id": "Zo1O6KAhPUV8",
        "outputId": "1dc70471-b69b-40e1-db6c-61fa2003e7fe"
      },
      "source": [
        "# Get the classes mapped to 0 and 1\n",
        "class_labels = (np.unique(df_senti140['class'])) # get the unique class labels\n",
        "print(\"Mapping class labels:\", class_labels)\n",
        "s140_class_mapping = {label:idx for idx,label in enumerate(class_labels)}\n",
        "\n",
        "s140_class_labels = [x for x in s140_class_mapping] # store the class labels for later\n",
        "\n",
        "df_senti140[\"class\"] = df_senti140[\"class\"].map(s140_class_mapping)\n",
        "df_senti140.head(-3)"
      ],
      "execution_count": null,
      "outputs": [
        {
          "output_type": "stream",
          "name": "stdout",
          "text": [
            "Mapping class labels: [0 1]\n"
          ]
        },
        {
          "output_type": "execute_result",
          "data": {
            "text/html": [
              "<div>\n",
              "<style scoped>\n",
              "    .dataframe tbody tr th:only-of-type {\n",
              "        vertical-align: middle;\n",
              "    }\n",
              "\n",
              "    .dataframe tbody tr th {\n",
              "        vertical-align: top;\n",
              "    }\n",
              "\n",
              "    .dataframe thead th {\n",
              "        text-align: right;\n",
              "    }\n",
              "</style>\n",
              "<table border=\"1\" class=\"dataframe\">\n",
              "  <thead>\n",
              "    <tr style=\"text-align: right;\">\n",
              "      <th></th>\n",
              "      <th>class</th>\n",
              "      <th>review</th>\n",
              "    </tr>\n",
              "  </thead>\n",
              "  <tbody>\n",
              "    <tr>\n",
              "      <th>0</th>\n",
              "      <td>0</td>\n",
              "      <td>@switchfoot http://twitpic.com/2y1zl - Awww, t...</td>\n",
              "    </tr>\n",
              "    <tr>\n",
              "      <th>1</th>\n",
              "      <td>0</td>\n",
              "      <td>is upset that he can't update his Facebook by ...</td>\n",
              "    </tr>\n",
              "    <tr>\n",
              "      <th>2</th>\n",
              "      <td>0</td>\n",
              "      <td>@Kenichan I dived many times for the ball. Man...</td>\n",
              "    </tr>\n",
              "    <tr>\n",
              "      <th>3</th>\n",
              "      <td>0</td>\n",
              "      <td>my whole body feels itchy and like its on fire</td>\n",
              "    </tr>\n",
              "    <tr>\n",
              "      <th>4</th>\n",
              "      <td>0</td>\n",
              "      <td>@nationwideclass no, it's not behaving at all....</td>\n",
              "    </tr>\n",
              "    <tr>\n",
              "      <th>...</th>\n",
              "      <td>...</td>\n",
              "      <td>...</td>\n",
              "    </tr>\n",
              "    <tr>\n",
              "      <th>1599992</th>\n",
              "      <td>1</td>\n",
              "      <td>ReCoVeRiNg FrOm ThE lOnG wEeKeNd</td>\n",
              "    </tr>\n",
              "    <tr>\n",
              "      <th>1599993</th>\n",
              "      <td>1</td>\n",
              "      <td>@SCOOBY_GRITBOYS</td>\n",
              "    </tr>\n",
              "    <tr>\n",
              "      <th>1599994</th>\n",
              "      <td>1</td>\n",
              "      <td>@Cliff_Forster Yeah, that does work better tha...</td>\n",
              "    </tr>\n",
              "    <tr>\n",
              "      <th>1599995</th>\n",
              "      <td>1</td>\n",
              "      <td>Just woke up. Having no school is the best fee...</td>\n",
              "    </tr>\n",
              "    <tr>\n",
              "      <th>1599996</th>\n",
              "      <td>1</td>\n",
              "      <td>TheWDB.com - Very cool to hear old Walt interv...</td>\n",
              "    </tr>\n",
              "  </tbody>\n",
              "</table>\n",
              "<p>1599997 rows × 2 columns</p>\n",
              "</div>"
            ],
            "text/plain": [
              "         class                                             review\n",
              "0            0  @switchfoot http://twitpic.com/2y1zl - Awww, t...\n",
              "1            0  is upset that he can't update his Facebook by ...\n",
              "2            0  @Kenichan I dived many times for the ball. Man...\n",
              "3            0    my whole body feels itchy and like its on fire \n",
              "4            0  @nationwideclass no, it's not behaving at all....\n",
              "...        ...                                                ...\n",
              "1599992      1                  ReCoVeRiNg FrOm ThE lOnG wEeKeNd \n",
              "1599993      1                                  @SCOOBY_GRITBOYS \n",
              "1599994      1  @Cliff_Forster Yeah, that does work better tha...\n",
              "1599995      1  Just woke up. Having no school is the best fee...\n",
              "1599996      1  TheWDB.com - Very cool to hear old Walt interv...\n",
              "\n",
              "[1599997 rows x 2 columns]"
            ]
          },
          "metadata": {},
          "execution_count": 107
        }
      ]
    }
  ]
}