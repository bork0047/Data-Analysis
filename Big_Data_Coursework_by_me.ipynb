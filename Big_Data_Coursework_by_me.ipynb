{
  "cells": [
    {
      "cell_type": "markdown",
      "metadata": {
        "id": "view-in-github",
        "colab_type": "text"
      },
      "source": [
        "<a href=\"https://colab.research.google.com/github/bork0047/Data-Analysis/blob/main/Big_Data_Coursework_by_me.ipynb\" target=\"_parent\"><img src=\"https://colab.research.google.com/assets/colab-badge.svg\" alt=\"Open In Colab\"/></a>"
      ]
    },
    {
      "cell_type": "markdown",
      "id": "3fce8753",
      "metadata": {
        "id": "3fce8753"
      },
      "source": [
        "CM3111- Big Data Analytics (Coursework)\n",
        "\n",
        "Name: Borislav Nikolaev Aleksandrov\n",
        "Student number: 1906490\n",
        "\n",
        "Description of dataset and peer review:\n",
        "The dataset I have chosen is about Hepatitis Sickness and probability of it being fatal. The dataset contains instances of patients who suffered hepatitis based on mutual or different characteristics. \n",
        "This is a major problem in deprieved areas, mainly third world countries and it is interesting to review the data about it based on each individual person. \n",
        "The dataset is from this website: https://archive.ics.uci.edu/ml/datasets/Hepatitis and was downloaded at 13th of november.\n",
        "\n",
        "\n",
        "This data will be used to predict the survival rate of hepatitis based on certain attributes, which later on could be used to decrease the mortality rate.\n",
        "\n",
        "\n",
        "Main objective of the coursework: \n",
        "To review how many people with what conditions mostly die from the dangerous sickness of hepatitis, based on conditions and information gathered about each individual and their status.\n",
        "The dataset will be used to build a model to predict the possibility that a hepatitis may be fatal for an individual based on their condition.\n",
        "The main  main classification method will be logistic regression/classification.\n",
        "\n",
        "\n",
        "\n",
        "The paper I am going to use is here: https://www.ncbi.nlm.nih.gov/pmc/articles/PMC6668288/\n",
        "\n",
        "Although not a lot of people are sick from hepatitis, it is still one of the most dangerous diseases known to mankind. This is what the paper is mainly about - trying to analyze and save people based on their condition.\n",
        "In England, an estimated 0.4% (160,000) of the population have chronic hepatitis C virus (HCV) infection, with the main group at risk of HCV infection being persons who inject drugs or steroids. \n",
        "Thanks to the paper a conclusion was made: Mortality rates, particularly in younger individuals, were higher in those with a diagnosis of HCV infection compared with the general English population, highlighting health inequalities. \n",
        "The high mortality rates are also mostly associated with common co-morbidities, such as problematic drug and alcohol use and anything related to poor or dirty lifestryle and consumption. \n",
        "\n",
        "Thanks to this trend monitoring the government was able to identify more precisely the deprieved ares from which more people were taken care of, increasing the equality of the population and identifying and decreasing the deprieved areas."
      ]
    },
    {
      "cell_type": "code",
      "execution_count": null,
      "id": "7e0dd6ac",
      "metadata": {
        "id": "7e0dd6ac"
      },
      "outputs": [],
      "source": [
        "# import necessary libraries\n",
        "import numpy as np\n",
        "import pandas as pd\n",
        "import seaborn as sns\n",
        "import matplotlib.pyplot as plt\n",
        "\n",
        "from pandas import Series, DataFrame"
      ]
    },
    {
      "cell_type": "code",
      "execution_count": null,
      "id": "9598047f",
      "metadata": {
        "id": "9598047f",
        "outputId": "fed526db-a515-42cc-9162-08c742a8cbde"
      },
      "outputs": [
        {
          "data": {
            "text/html": [
              "<div>\n",
              "<style scoped>\n",
              "    .dataframe tbody tr th:only-of-type {\n",
              "        vertical-align: middle;\n",
              "    }\n",
              "\n",
              "    .dataframe tbody tr th {\n",
              "        vertical-align: top;\n",
              "    }\n",
              "\n",
              "    .dataframe thead th {\n",
              "        text-align: right;\n",
              "    }\n",
              "</style>\n",
              "<table border=\"1\" class=\"dataframe\">\n",
              "  <thead>\n",
              "    <tr style=\"text-align: right;\">\n",
              "      <th></th>\n",
              "      <th>class</th>\n",
              "      <th>age</th>\n",
              "      <th>sex</th>\n",
              "      <th>steroid</th>\n",
              "      <th>antivirals</th>\n",
              "      <th>fatigue</th>\n",
              "      <th>malaise</th>\n",
              "      <th>anorexia</th>\n",
              "      <th>liver big</th>\n",
              "      <th>liver firm</th>\n",
              "      <th>spleen palpable</th>\n",
              "      <th>spiders</th>\n",
              "      <th>ascites</th>\n",
              "      <th>varices</th>\n",
              "      <th>bilirubin</th>\n",
              "      <th>alk phosphate</th>\n",
              "      <th>sgot</th>\n",
              "      <th>albumin</th>\n",
              "      <th>protime</th>\n",
              "      <th>histology</th>\n",
              "    </tr>\n",
              "  </thead>\n",
              "  <tbody>\n",
              "    <tr>\n",
              "      <th>0</th>\n",
              "      <td>2</td>\n",
              "      <td>30</td>\n",
              "      <td>2</td>\n",
              "      <td>1</td>\n",
              "      <td>2</td>\n",
              "      <td>2</td>\n",
              "      <td>2</td>\n",
              "      <td>2</td>\n",
              "      <td>1</td>\n",
              "      <td>2</td>\n",
              "      <td>2</td>\n",
              "      <td>2</td>\n",
              "      <td>2</td>\n",
              "      <td>2</td>\n",
              "      <td>1.00</td>\n",
              "      <td>85</td>\n",
              "      <td>18</td>\n",
              "      <td>4.0</td>\n",
              "      <td>?</td>\n",
              "      <td>1</td>\n",
              "    </tr>\n",
              "    <tr>\n",
              "      <th>1</th>\n",
              "      <td>2</td>\n",
              "      <td>50</td>\n",
              "      <td>1</td>\n",
              "      <td>1</td>\n",
              "      <td>2</td>\n",
              "      <td>1</td>\n",
              "      <td>2</td>\n",
              "      <td>2</td>\n",
              "      <td>1</td>\n",
              "      <td>2</td>\n",
              "      <td>2</td>\n",
              "      <td>2</td>\n",
              "      <td>2</td>\n",
              "      <td>2</td>\n",
              "      <td>0.90</td>\n",
              "      <td>135</td>\n",
              "      <td>42</td>\n",
              "      <td>3.5</td>\n",
              "      <td>?</td>\n",
              "      <td>1</td>\n",
              "    </tr>\n",
              "    <tr>\n",
              "      <th>2</th>\n",
              "      <td>2</td>\n",
              "      <td>78</td>\n",
              "      <td>1</td>\n",
              "      <td>2</td>\n",
              "      <td>2</td>\n",
              "      <td>1</td>\n",
              "      <td>2</td>\n",
              "      <td>2</td>\n",
              "      <td>2</td>\n",
              "      <td>2</td>\n",
              "      <td>2</td>\n",
              "      <td>2</td>\n",
              "      <td>2</td>\n",
              "      <td>2</td>\n",
              "      <td>0.70</td>\n",
              "      <td>96</td>\n",
              "      <td>32</td>\n",
              "      <td>4.0</td>\n",
              "      <td>?</td>\n",
              "      <td>1</td>\n",
              "    </tr>\n",
              "    <tr>\n",
              "      <th>3</th>\n",
              "      <td>2</td>\n",
              "      <td>31</td>\n",
              "      <td>1</td>\n",
              "      <td>?</td>\n",
              "      <td>1</td>\n",
              "      <td>2</td>\n",
              "      <td>2</td>\n",
              "      <td>2</td>\n",
              "      <td>2</td>\n",
              "      <td>2</td>\n",
              "      <td>2</td>\n",
              "      <td>2</td>\n",
              "      <td>2</td>\n",
              "      <td>2</td>\n",
              "      <td>0.70</td>\n",
              "      <td>46</td>\n",
              "      <td>52</td>\n",
              "      <td>4.0</td>\n",
              "      <td>80</td>\n",
              "      <td>1</td>\n",
              "    </tr>\n",
              "    <tr>\n",
              "      <th>4</th>\n",
              "      <td>2</td>\n",
              "      <td>34</td>\n",
              "      <td>1</td>\n",
              "      <td>2</td>\n",
              "      <td>2</td>\n",
              "      <td>2</td>\n",
              "      <td>2</td>\n",
              "      <td>2</td>\n",
              "      <td>2</td>\n",
              "      <td>2</td>\n",
              "      <td>2</td>\n",
              "      <td>2</td>\n",
              "      <td>2</td>\n",
              "      <td>2</td>\n",
              "      <td>1.00</td>\n",
              "      <td>?</td>\n",
              "      <td>200</td>\n",
              "      <td>4.0</td>\n",
              "      <td>?</td>\n",
              "      <td>1</td>\n",
              "    </tr>\n",
              "    <tr>\n",
              "      <th>5</th>\n",
              "      <td>2</td>\n",
              "      <td>34</td>\n",
              "      <td>1</td>\n",
              "      <td>2</td>\n",
              "      <td>2</td>\n",
              "      <td>2</td>\n",
              "      <td>2</td>\n",
              "      <td>2</td>\n",
              "      <td>2</td>\n",
              "      <td>2</td>\n",
              "      <td>2</td>\n",
              "      <td>2</td>\n",
              "      <td>2</td>\n",
              "      <td>2</td>\n",
              "      <td>0.90</td>\n",
              "      <td>95</td>\n",
              "      <td>28</td>\n",
              "      <td>4.0</td>\n",
              "      <td>75</td>\n",
              "      <td>1</td>\n",
              "    </tr>\n",
              "    <tr>\n",
              "      <th>6</th>\n",
              "      <td>1</td>\n",
              "      <td>51</td>\n",
              "      <td>1</td>\n",
              "      <td>1</td>\n",
              "      <td>2</td>\n",
              "      <td>1</td>\n",
              "      <td>2</td>\n",
              "      <td>1</td>\n",
              "      <td>2</td>\n",
              "      <td>2</td>\n",
              "      <td>1</td>\n",
              "      <td>1</td>\n",
              "      <td>2</td>\n",
              "      <td>2</td>\n",
              "      <td>?</td>\n",
              "      <td>?</td>\n",
              "      <td>?</td>\n",
              "      <td>?</td>\n",
              "      <td>?</td>\n",
              "      <td>1</td>\n",
              "    </tr>\n",
              "    <tr>\n",
              "      <th>7</th>\n",
              "      <td>2</td>\n",
              "      <td>23</td>\n",
              "      <td>1</td>\n",
              "      <td>2</td>\n",
              "      <td>2</td>\n",
              "      <td>2</td>\n",
              "      <td>2</td>\n",
              "      <td>2</td>\n",
              "      <td>2</td>\n",
              "      <td>2</td>\n",
              "      <td>2</td>\n",
              "      <td>2</td>\n",
              "      <td>2</td>\n",
              "      <td>2</td>\n",
              "      <td>1.00</td>\n",
              "      <td>?</td>\n",
              "      <td>?</td>\n",
              "      <td>?</td>\n",
              "      <td>?</td>\n",
              "      <td>1</td>\n",
              "    </tr>\n",
              "    <tr>\n",
              "      <th>8</th>\n",
              "      <td>2</td>\n",
              "      <td>39</td>\n",
              "      <td>1</td>\n",
              "      <td>2</td>\n",
              "      <td>2</td>\n",
              "      <td>1</td>\n",
              "      <td>2</td>\n",
              "      <td>2</td>\n",
              "      <td>2</td>\n",
              "      <td>1</td>\n",
              "      <td>2</td>\n",
              "      <td>2</td>\n",
              "      <td>2</td>\n",
              "      <td>2</td>\n",
              "      <td>0.70</td>\n",
              "      <td>?</td>\n",
              "      <td>48</td>\n",
              "      <td>4.4</td>\n",
              "      <td>?</td>\n",
              "      <td>1</td>\n",
              "    </tr>\n",
              "    <tr>\n",
              "      <th>9</th>\n",
              "      <td>2</td>\n",
              "      <td>30</td>\n",
              "      <td>1</td>\n",
              "      <td>2</td>\n",
              "      <td>2</td>\n",
              "      <td>2</td>\n",
              "      <td>2</td>\n",
              "      <td>2</td>\n",
              "      <td>2</td>\n",
              "      <td>2</td>\n",
              "      <td>2</td>\n",
              "      <td>2</td>\n",
              "      <td>2</td>\n",
              "      <td>2</td>\n",
              "      <td>1.00</td>\n",
              "      <td>?</td>\n",
              "      <td>120</td>\n",
              "      <td>3.9</td>\n",
              "      <td>?</td>\n",
              "      <td>1</td>\n",
              "    </tr>\n",
              "  </tbody>\n",
              "</table>\n",
              "</div>"
            ],
            "text/plain": [
              "   class  age  sex steroid  antivirals fatigue malaise anorexia liver big  \\\n",
              "0      2   30    2       1           2       2       2        2         1   \n",
              "1      2   50    1       1           2       1       2        2         1   \n",
              "2      2   78    1       2           2       1       2        2         2   \n",
              "3      2   31    1       ?           1       2       2        2         2   \n",
              "4      2   34    1       2           2       2       2        2         2   \n",
              "5      2   34    1       2           2       2       2        2         2   \n",
              "6      1   51    1       1           2       1       2        1         2   \n",
              "7      2   23    1       2           2       2       2        2         2   \n",
              "8      2   39    1       2           2       1       2        2         2   \n",
              "9      2   30    1       2           2       2       2        2         2   \n",
              "\n",
              "   liver firm spleen palpable spiders ascites varices bilirubin alk phosphate  \\\n",
              "0           2               2       2       2       2      1.00            85   \n",
              "1           2               2       2       2       2      0.90           135   \n",
              "2           2               2       2       2       2      0.70            96   \n",
              "3           2               2       2       2       2      0.70            46   \n",
              "4           2               2       2       2       2      1.00             ?   \n",
              "5           2               2       2       2       2      0.90            95   \n",
              "6           2               1       1       2       2         ?             ?   \n",
              "7           2               2       2       2       2      1.00             ?   \n",
              "8           1               2       2       2       2      0.70             ?   \n",
              "9           2               2       2       2       2      1.00             ?   \n",
              "\n",
              "  sgot albumin protime  histology  \n",
              "0   18     4.0       ?          1  \n",
              "1   42     3.5       ?          1  \n",
              "2   32     4.0       ?          1  \n",
              "3   52     4.0      80          1  \n",
              "4  200     4.0       ?          1  \n",
              "5   28     4.0      75          1  \n",
              "6    ?       ?       ?          1  \n",
              "7    ?       ?       ?          1  \n",
              "8   48     4.4       ?          1  \n",
              "9  120     3.9       ?          1  "
            ]
          },
          "execution_count": 172,
          "metadata": {},
          "output_type": "execute_result"
        }
      ],
      "source": [
        "#now we load the data \n",
        "df = pd.read_csv('hepatitis.csv')\n",
        "df.head(10)"
      ]
    },
    {
      "cell_type": "code",
      "execution_count": null,
      "id": "3c79ccb8",
      "metadata": {
        "id": "3c79ccb8",
        "outputId": "53df15f4-7e0f-4212-eaa9-f9e7543b09c0"
      },
      "outputs": [
        {
          "name": "stdout",
          "output_type": "stream",
          "text": [
            "There are 155 rows and 20 columns in this dataset\n"
          ]
        }
      ],
      "source": [
        "#now information about the file itself, i.e. number of collumns and rows\n",
        "print(f'There are {df.shape[0]} rows and {df.shape[1]} columns in this dataset')"
      ]
    },
    {
      "cell_type": "code",
      "execution_count": null,
      "id": "cf3785f5",
      "metadata": {
        "id": "cf3785f5",
        "outputId": "8671c4d3-150a-4826-fe9a-452c20f572c7"
      },
      "outputs": [
        {
          "data": {
            "text/plain": [
              "Index(['class', 'age', 'sex', 'steroid', 'antivirals', 'fatigue', 'malaise',\n",
              "       'anorexia', 'liver big', ' liver firm', 'spleen palpable', 'spiders',\n",
              "       'ascites', 'varices', 'bilirubin', 'alk phosphate', 'sgot', 'albumin',\n",
              "       'protime', 'histology'],\n",
              "      dtype='object')"
            ]
          },
          "execution_count": 174,
          "metadata": {},
          "output_type": "execute_result"
        }
      ],
      "source": [
        "# Also checking the names of the columns\n",
        "df.columns"
      ]
    },
    {
      "cell_type": "code",
      "execution_count": null,
      "id": "d332babf",
      "metadata": {
        "id": "d332babf",
        "outputId": "ebfd270f-3821-4c10-a9dd-ba4c7b9dbd5e"
      },
      "outputs": [
        {
          "name": "stdout",
          "output_type": "stream",
          "text": [
            "<class 'pandas.core.frame.DataFrame'>\n",
            "RangeIndex: 155 entries, 0 to 154\n",
            "Data columns (total 20 columns):\n",
            " #   Column           Non-Null Count  Dtype \n",
            "---  ------           --------------  ----- \n",
            " 0   class            155 non-null    int64 \n",
            " 1   age              155 non-null    int64 \n",
            " 2   sex              155 non-null    int64 \n",
            " 3   steroid          155 non-null    object\n",
            " 4   antivirals       155 non-null    int64 \n",
            " 5   fatigue          155 non-null    object\n",
            " 6   malaise          155 non-null    object\n",
            " 7   anorexia         155 non-null    object\n",
            " 8   liver big        155 non-null    object\n",
            " 9    liver firm      155 non-null    object\n",
            " 10  spleen palpable  155 non-null    object\n",
            " 11  spiders          155 non-null    object\n",
            " 12  ascites          155 non-null    object\n",
            " 13  varices          155 non-null    object\n",
            " 14  bilirubin        155 non-null    object\n",
            " 15  alk phosphate    155 non-null    object\n",
            " 16  sgot             155 non-null    object\n",
            " 17  albumin          155 non-null    object\n",
            " 18  protime          155 non-null    object\n",
            " 19  histology        155 non-null    int64 \n",
            "dtypes: int64(5), object(15)\n",
            "memory usage: 24.3+ KB\n"
          ]
        }
      ],
      "source": [
        "#checking the data types so I know what I deal with\n",
        "df.info()"
      ]
    },
    {
      "cell_type": "markdown",
      "id": "705c0ff0",
      "metadata": {
        "id": "705c0ff0"
      },
      "source": [
        "Note: The class attribute features if the certain person is dead or alive, where 1 is for the patient to be dead and 2 is for the patient to be alive.\n",
        "I will show the values after the for loop"
      ]
    },
    {
      "cell_type": "code",
      "execution_count": null,
      "id": "26ae4ef9",
      "metadata": {
        "id": "26ae4ef9",
        "outputId": "37eb2982-2042-45d4-dbea-16ad1426ad24"
      },
      "outputs": [
        {
          "name": "stdout",
          "output_type": "stream",
          "text": [
            "class 2\n",
            "age 49\n",
            "sex 2\n",
            "steroid 3\n",
            "antivirals 2\n",
            "fatigue 3\n",
            "malaise 3\n",
            "anorexia 3\n",
            "liver big 3\n",
            " liver firm 3\n",
            "spleen palpable 3\n",
            "spiders 3\n",
            "ascites 3\n",
            "varices 3\n",
            "bilirubin 35\n",
            "alk phosphate 84\n",
            "sgot 85\n",
            "albumin 30\n",
            "protime 45\n",
            "histology 2\n"
          ]
        }
      ],
      "source": [
        "# here we print out the different types of classes with how many features they have.\n",
        "# using a simple for loop \n",
        "for i in df.columns:\n",
        "        print(i,len(df[i].unique()))"
      ]
    },
    {
      "cell_type": "code",
      "execution_count": null,
      "id": "36ab2ebe",
      "metadata": {
        "id": "36ab2ebe",
        "outputId": "6d7fb303-9760-4e52-adf4-b91a5f5d1999"
      },
      "outputs": [
        {
          "name": "stdout",
          "output_type": "stream",
          "text": [
            "class has 2 unique values, These are: [2 1]\n",
            "sex has 2 unique values, These are: [2 1]\n",
            "steroid has 3 unique values, These are: ['1' '2' '?']\n",
            "antivirals has 2 unique values, These are: [2 1]\n",
            "fatigue has 3 unique values, These are: ['2' '1' '?']\n",
            "malaise has 3 unique values, These are: ['2' '1' '?']\n",
            "anorexia has 3 unique values, These are: ['2' '1' '?']\n",
            "liver big has 3 unique values, These are: ['1' '2' '?']\n",
            " liver firm has 3 unique values, These are: ['2' '1' '?']\n",
            "spleen palpable has 3 unique values, These are: ['2' '1' '?']\n",
            "spiders has 3 unique values, These are: ['2' '1' '?']\n",
            "ascites has 3 unique values, These are: ['2' '1' '?']\n",
            "varices has 3 unique values, These are: ['2' '?' '1']\n",
            "histology has 2 unique values, These are: [1 2]\n"
          ]
        }
      ],
      "source": [
        "for i in df.columns:\n",
        "    #printing the unique values in the column\n",
        "    if len(df[i].unique())<10:\n",
        "        print(f'{i} has {len(df[i].unique())} unique values, These are: {df[i].unique()}')"
      ]
    },
    {
      "cell_type": "code",
      "execution_count": null,
      "id": "d9b85b71",
      "metadata": {
        "id": "d9b85b71",
        "outputId": "9c8cc828-fe1c-4c34-a350-1c8041f95e5f"
      },
      "outputs": [
        {
          "name": "stdout",
          "output_type": "stream",
          "text": [
            "Percentage of people under the age of 42 is  69.0\n"
          ]
        }
      ],
      "source": [
        "# number of rows of people in the dataset with age<47\n",
        "n = df[df.age<=47].shape[0]\n",
        "# print the percentage of those\n",
        "print ('Percentage of people under the age of 42 is ', round(n/df.shape[0],2)*100)"
      ]
    },
    {
      "cell_type": "code",
      "execution_count": null,
      "id": "dfccdd94",
      "metadata": {
        "id": "dfccdd94",
        "outputId": "20fa826c-a06e-4d51-9bd0-10e9c41d2703"
      },
      "outputs": [
        {
          "name": "stdout",
          "output_type": "stream",
          "text": [
            "Percentage of people under the age of 49 is  0.86\n"
          ]
        }
      ],
      "source": [
        "# similarily for the 50% percentile\n",
        "# number of rows of people in the dataset with age<55\n",
        "n = df[df.age<=55].shape[0]\n",
        "# print the percentage of those\n",
        "print ('Percentage of people under the age of 49 is ', round(n/df.shape[0],2))"
      ]
    },
    {
      "cell_type": "code",
      "execution_count": null,
      "id": "83b4fae3",
      "metadata": {
        "id": "83b4fae3",
        "outputId": "eefe4bce-9c14-453d-c1f8-cfc8b9a8164c"
      },
      "outputs": [
        {
          "data": {
            "text/html": [
              "<div>\n",
              "<style scoped>\n",
              "    .dataframe tbody tr th:only-of-type {\n",
              "        vertical-align: middle;\n",
              "    }\n",
              "\n",
              "    .dataframe tbody tr th {\n",
              "        vertical-align: top;\n",
              "    }\n",
              "\n",
              "    .dataframe thead th {\n",
              "        text-align: right;\n",
              "    }\n",
              "</style>\n",
              "<table border=\"1\" class=\"dataframe\">\n",
              "  <thead>\n",
              "    <tr style=\"text-align: right;\">\n",
              "      <th></th>\n",
              "      <th>class</th>\n",
              "      <th>age</th>\n",
              "      <th>sex</th>\n",
              "      <th>antivirals</th>\n",
              "      <th>histology</th>\n",
              "    </tr>\n",
              "  </thead>\n",
              "  <tbody>\n",
              "    <tr>\n",
              "      <th>0.10</th>\n",
              "      <td>1.0</td>\n",
              "      <td>26.4</td>\n",
              "      <td>1.0</td>\n",
              "      <td>1.0</td>\n",
              "      <td>1.0</td>\n",
              "    </tr>\n",
              "    <tr>\n",
              "      <th>0.25</th>\n",
              "      <td>2.0</td>\n",
              "      <td>32.0</td>\n",
              "      <td>1.0</td>\n",
              "      <td>2.0</td>\n",
              "      <td>1.0</td>\n",
              "    </tr>\n",
              "    <tr>\n",
              "      <th>0.50</th>\n",
              "      <td>2.0</td>\n",
              "      <td>39.0</td>\n",
              "      <td>1.0</td>\n",
              "      <td>2.0</td>\n",
              "      <td>1.0</td>\n",
              "    </tr>\n",
              "    <tr>\n",
              "      <th>0.75</th>\n",
              "      <td>2.0</td>\n",
              "      <td>50.0</td>\n",
              "      <td>1.0</td>\n",
              "      <td>2.0</td>\n",
              "      <td>2.0</td>\n",
              "    </tr>\n",
              "  </tbody>\n",
              "</table>\n",
              "</div>"
            ],
            "text/plain": [
              "      class   age  sex  antivirals  histology\n",
              "0.10    1.0  26.4  1.0         1.0        1.0\n",
              "0.25    2.0  32.0  1.0         2.0        1.0\n",
              "0.50    2.0  39.0  1.0         2.0        1.0\n",
              "0.75    2.0  50.0  1.0         2.0        2.0"
            ]
          },
          "execution_count": 180,
          "metadata": {},
          "output_type": "execute_result"
        }
      ],
      "source": [
        "df.quantile([.1, .25, .5, .75], axis = 0)"
      ]
    },
    {
      "cell_type": "code",
      "execution_count": null,
      "id": "a26c5e3b",
      "metadata": {
        "id": "a26c5e3b",
        "outputId": "627ce9d4-a70d-4f62-d43b-befb17a5c6d6"
      },
      "outputs": [
        {
          "data": {
            "text/plain": [
              "2    123\n",
              "1     32\n",
              "Name: class, dtype: int64"
            ]
          },
          "execution_count": 181,
          "metadata": {},
          "output_type": "execute_result"
        }
      ],
      "source": [
        "df['class'].value_counts()"
      ]
    },
    {
      "cell_type": "code",
      "execution_count": null,
      "id": "1bdbe606",
      "metadata": {
        "id": "1bdbe606"
      },
      "outputs": [],
      "source": [
        "#here we visualize the previous distribution\n",
        "sns.set_style('darkgrid')\n",
        "sns.set_palette('Set2')\n",
        "# make a copy of the dataset\n",
        "dfC = df.copy()\n",
        "# function to change sex values\n",
        "def changeS(sex):\n",
        "    if sex == 1:\n",
        "        return 'Female'\n",
        "    else:\n",
        "        return 'Male'\n",
        "# applying the function to the whole column in the dataset\n",
        "dfC['sex'] = dfC['sex'].apply(changeS)\n",
        "# function to change the class\n",
        "def changeT(label):\n",
        "    if label == 0:\n",
        "        return 'Alive from hepatitis'\n",
        "    else:\n",
        "        return 'Not alive'\n",
        "dfC['steroid'] = dfC['steroid'].apply(changeT)"
      ]
    },
    {
      "cell_type": "code",
      "execution_count": null,
      "id": "2923e836",
      "metadata": {
        "id": "2923e836",
        "outputId": "eef25661-93ec-4584-8a8d-3cdee2e563f3"
      },
      "outputs": [
        {
          "data": {
            "image/png": "[encoded data removed]",
            "text/plain": [
              "<Figure size 648x504 with 1 Axes>"
            ]
          },
          "metadata": {},
          "output_type": "display_data"
        }
      ],
      "source": [
        "#from this we could see that so far only male subjects have died from hepatitis without analyzing the other columns\n",
        "sns.set(rc={'figure.figsize':(9,7)})\n",
        "sns.countplot(data= dfC, x='sex',hue='class')\n",
        "plt.title('Gender v/s class\\n')\n",
        "plt.show()"
      ]
    },
    {
      "cell_type": "code",
      "execution_count": null,
      "id": "d64fea8f",
      "metadata": {
        "id": "d64fea8f",
        "outputId": "7fabb650-93ae-47b7-e5e0-67c64183de93"
      },
      "outputs": [
        {
          "name": "stdout",
          "output_type": "stream",
          "text": [
            "Percentage of Donors who use steroids is 0.0\n",
            "Percentage of Donors who dont use steroids is 0.0\n"
          ]
        }
      ],
      "source": [
        "#here we can print what percentaghttps://en-gb.facebook.com/e of donors have used steroids and what have not. \n",
        "#however it only prints 0 as the value\n",
        "donors_using_steroids = len(df[df.steroid==1])\n",
        "donors_no_steroids = len(df[df.steroid==2])\n",
        "print(f'Percentage of Donors who use steroids is {round(donors_using_steroids/df.shape[0]*100,2)}')\n",
        "print(f'Percentage of Donors who dont use steroids is {round(donors_no_steroids/df.shape[0]*100,2)}')"
      ]
    },
    {
      "cell_type": "code",
      "execution_count": null,
      "id": "d39d5026",
      "metadata": {
        "id": "d39d5026",
        "outputId": "fdfc7c84-d607-4005-8898-370a70a106f2"
      },
      "outputs": [
        {
          "data": {
            "text/plain": [
              "class              0\n",
              "age                0\n",
              "sex                0\n",
              "steroid            0\n",
              "antivirals         0\n",
              "fatigue            0\n",
              "malaise            0\n",
              "anorexia           0\n",
              "liver big          0\n",
              " liver firm        0\n",
              "spleen palpable    0\n",
              "spiders            0\n",
              "ascites            0\n",
              "varices            0\n",
              "bilirubin          0\n",
              "alk phosphate      0\n",
              "sgot               0\n",
              "albumin            0\n",
              "protime            0\n",
              "histology          0\n",
              "dtype: int64"
            ]
          },
          "execution_count": 185,
          "metadata": {},
          "output_type": "execute_result"
        }
      ],
      "source": [
        "#here we can check which values are missing\n",
        "df.isnull().sum()"
      ]
    },
    {
      "cell_type": "markdown",
      "id": "be42b521",
      "metadata": {
        "id": "be42b521"
      },
      "source": [
        "According to these results there are no missing values, however when retrieving the dataset it was pointed as a comment that the missing values were marked with \"?\", in the place of a cell. Together with that was a table on which column, how many values were missing:\n",
        "1:11,\n",
        "2:11,\n",
        "3:11,\n",
        "4:11,\n",
        "5:11,\n",
        "6:11,\n",
        "7:11,\n",
        "8:11,\n",
        "9:11,\n",
        "10:11,\n",
        "11:11,\n",
        "12:11,\n",
        "13:11,\n",
        "14:11,\n",
        "15:11,\n",
        "16:11,\n",
        "17:11,\n",
        "18:11,\n",
        "19:11,\n",
        "20:11\n",
        "\n",
        "The first value is the attribute number. \n",
        "\n",
        "The second number is how many values are missing from the current attribute i.e. how many are marked with \"?\"."
      ]
    },
    {
      "cell_type": "code",
      "execution_count": null,
      "id": "3c71d38a",
      "metadata": {
        "id": "3c71d38a",
        "outputId": "134d33f1-51c5-4b1c-f25a-2e5918f4ea91"
      },
      "outputs": [
        {
          "data": {
            "text/html": [
              "<div>\n",
              "<style scoped>\n",
              "    .dataframe tbody tr th:only-of-type {\n",
              "        vertical-align: middle;\n",
              "    }\n",
              "\n",
              "    .dataframe tbody tr th {\n",
              "        vertical-align: top;\n",
              "    }\n",
              "\n",
              "    .dataframe thead th {\n",
              "        text-align: right;\n",
              "    }\n",
              "</style>\n",
              "<table border=\"1\" class=\"dataframe\">\n",
              "  <thead>\n",
              "    <tr style=\"text-align: right;\">\n",
              "      <th></th>\n",
              "      <th>class</th>\n",
              "      <th>age</th>\n",
              "      <th>sex</th>\n",
              "      <th>steroid</th>\n",
              "      <th>antivirals</th>\n",
              "      <th>fatigue</th>\n",
              "      <th>malaise</th>\n",
              "      <th>anorexia</th>\n",
              "      <th>liver big</th>\n",
              "      <th>liver firm</th>\n",
              "      <th>spleen palpable</th>\n",
              "      <th>spiders</th>\n",
              "      <th>ascites</th>\n",
              "      <th>varices</th>\n",
              "      <th>bilirubin</th>\n",
              "      <th>alk phosphate</th>\n",
              "      <th>sgot</th>\n",
              "      <th>albumin</th>\n",
              "      <th>protime</th>\n",
              "      <th>histology</th>\n",
              "    </tr>\n",
              "  </thead>\n",
              "  <tbody>\n",
              "    <tr>\n",
              "      <th>0</th>\n",
              "      <td>False</td>\n",
              "      <td>False</td>\n",
              "      <td>False</td>\n",
              "      <td>False</td>\n",
              "      <td>False</td>\n",
              "      <td>False</td>\n",
              "      <td>False</td>\n",
              "      <td>False</td>\n",
              "      <td>False</td>\n",
              "      <td>False</td>\n",
              "      <td>False</td>\n",
              "      <td>False</td>\n",
              "      <td>False</td>\n",
              "      <td>False</td>\n",
              "      <td>False</td>\n",
              "      <td>False</td>\n",
              "      <td>False</td>\n",
              "      <td>False</td>\n",
              "      <td>False</td>\n",
              "      <td>False</td>\n",
              "    </tr>\n",
              "    <tr>\n",
              "      <th>1</th>\n",
              "      <td>False</td>\n",
              "      <td>False</td>\n",
              "      <td>False</td>\n",
              "      <td>False</td>\n",
              "      <td>False</td>\n",
              "      <td>False</td>\n",
              "      <td>False</td>\n",
              "      <td>False</td>\n",
              "      <td>False</td>\n",
              "      <td>False</td>\n",
              "      <td>False</td>\n",
              "      <td>False</td>\n",
              "      <td>False</td>\n",
              "      <td>False</td>\n",
              "      <td>False</td>\n",
              "      <td>False</td>\n",
              "      <td>False</td>\n",
              "      <td>False</td>\n",
              "      <td>False</td>\n",
              "      <td>False</td>\n",
              "    </tr>\n",
              "    <tr>\n",
              "      <th>2</th>\n",
              "      <td>False</td>\n",
              "      <td>False</td>\n",
              "      <td>False</td>\n",
              "      <td>False</td>\n",
              "      <td>False</td>\n",
              "      <td>False</td>\n",
              "      <td>False</td>\n",
              "      <td>False</td>\n",
              "      <td>False</td>\n",
              "      <td>False</td>\n",
              "      <td>False</td>\n",
              "      <td>False</td>\n",
              "      <td>False</td>\n",
              "      <td>False</td>\n",
              "      <td>False</td>\n",
              "      <td>False</td>\n",
              "      <td>False</td>\n",
              "      <td>False</td>\n",
              "      <td>False</td>\n",
              "      <td>False</td>\n",
              "    </tr>\n",
              "    <tr>\n",
              "      <th>3</th>\n",
              "      <td>False</td>\n",
              "      <td>False</td>\n",
              "      <td>False</td>\n",
              "      <td>False</td>\n",
              "      <td>False</td>\n",
              "      <td>False</td>\n",
              "      <td>False</td>\n",
              "      <td>False</td>\n",
              "      <td>False</td>\n",
              "      <td>False</td>\n",
              "      <td>False</td>\n",
              "      <td>False</td>\n",
              "      <td>False</td>\n",
              "      <td>False</td>\n",
              "      <td>False</td>\n",
              "      <td>False</td>\n",
              "      <td>False</td>\n",
              "      <td>False</td>\n",
              "      <td>False</td>\n",
              "      <td>False</td>\n",
              "    </tr>\n",
              "    <tr>\n",
              "      <th>4</th>\n",
              "      <td>False</td>\n",
              "      <td>False</td>\n",
              "      <td>False</td>\n",
              "      <td>False</td>\n",
              "      <td>False</td>\n",
              "      <td>False</td>\n",
              "      <td>False</td>\n",
              "      <td>False</td>\n",
              "      <td>False</td>\n",
              "      <td>False</td>\n",
              "      <td>False</td>\n",
              "      <td>False</td>\n",
              "      <td>False</td>\n",
              "      <td>False</td>\n",
              "      <td>False</td>\n",
              "      <td>False</td>\n",
              "      <td>False</td>\n",
              "      <td>False</td>\n",
              "      <td>False</td>\n",
              "      <td>False</td>\n",
              "    </tr>\n",
              "    <tr>\n",
              "      <th>...</th>\n",
              "      <td>...</td>\n",
              "      <td>...</td>\n",
              "      <td>...</td>\n",
              "      <td>...</td>\n",
              "      <td>...</td>\n",
              "      <td>...</td>\n",
              "      <td>...</td>\n",
              "      <td>...</td>\n",
              "      <td>...</td>\n",
              "      <td>...</td>\n",
              "      <td>...</td>\n",
              "      <td>...</td>\n",
              "      <td>...</td>\n",
              "      <td>...</td>\n",
              "      <td>...</td>\n",
              "      <td>...</td>\n",
              "      <td>...</td>\n",
              "      <td>...</td>\n",
              "      <td>...</td>\n",
              "      <td>...</td>\n",
              "    </tr>\n",
              "    <tr>\n",
              "      <th>150</th>\n",
              "      <td>False</td>\n",
              "      <td>False</td>\n",
              "      <td>False</td>\n",
              "      <td>False</td>\n",
              "      <td>False</td>\n",
              "      <td>False</td>\n",
              "      <td>False</td>\n",
              "      <td>False</td>\n",
              "      <td>False</td>\n",
              "      <td>False</td>\n",
              "      <td>False</td>\n",
              "      <td>False</td>\n",
              "      <td>False</td>\n",
              "      <td>False</td>\n",
              "      <td>False</td>\n",
              "      <td>False</td>\n",
              "      <td>False</td>\n",
              "      <td>False</td>\n",
              "      <td>False</td>\n",
              "      <td>False</td>\n",
              "    </tr>\n",
              "    <tr>\n",
              "      <th>151</th>\n",
              "      <td>False</td>\n",
              "      <td>False</td>\n",
              "      <td>False</td>\n",
              "      <td>False</td>\n",
              "      <td>False</td>\n",
              "      <td>False</td>\n",
              "      <td>False</td>\n",
              "      <td>False</td>\n",
              "      <td>False</td>\n",
              "      <td>False</td>\n",
              "      <td>False</td>\n",
              "      <td>False</td>\n",
              "      <td>False</td>\n",
              "      <td>False</td>\n",
              "      <td>False</td>\n",
              "      <td>False</td>\n",
              "      <td>False</td>\n",
              "      <td>False</td>\n",
              "      <td>False</td>\n",
              "      <td>False</td>\n",
              "    </tr>\n",
              "    <tr>\n",
              "      <th>152</th>\n",
              "      <td>False</td>\n",
              "      <td>False</td>\n",
              "      <td>False</td>\n",
              "      <td>False</td>\n",
              "      <td>False</td>\n",
              "      <td>False</td>\n",
              "      <td>False</td>\n",
              "      <td>False</td>\n",
              "      <td>False</td>\n",
              "      <td>False</td>\n",
              "      <td>False</td>\n",
              "      <td>False</td>\n",
              "      <td>False</td>\n",
              "      <td>False</td>\n",
              "      <td>False</td>\n",
              "      <td>False</td>\n",
              "      <td>False</td>\n",
              "      <td>False</td>\n",
              "      <td>False</td>\n",
              "      <td>False</td>\n",
              "    </tr>\n",
              "    <tr>\n",
              "      <th>153</th>\n",
              "      <td>False</td>\n",
              "      <td>False</td>\n",
              "      <td>False</td>\n",
              "      <td>False</td>\n",
              "      <td>False</td>\n",
              "      <td>False</td>\n",
              "      <td>False</td>\n",
              "      <td>False</td>\n",
              "      <td>False</td>\n",
              "      <td>False</td>\n",
              "      <td>False</td>\n",
              "      <td>False</td>\n",
              "      <td>False</td>\n",
              "      <td>False</td>\n",
              "      <td>False</td>\n",
              "      <td>False</td>\n",
              "      <td>False</td>\n",
              "      <td>False</td>\n",
              "      <td>False</td>\n",
              "      <td>False</td>\n",
              "    </tr>\n",
              "    <tr>\n",
              "      <th>154</th>\n",
              "      <td>False</td>\n",
              "      <td>False</td>\n",
              "      <td>False</td>\n",
              "      <td>False</td>\n",
              "      <td>False</td>\n",
              "      <td>False</td>\n",
              "      <td>False</td>\n",
              "      <td>False</td>\n",
              "      <td>False</td>\n",
              "      <td>False</td>\n",
              "      <td>False</td>\n",
              "      <td>False</td>\n",
              "      <td>False</td>\n",
              "      <td>False</td>\n",
              "      <td>False</td>\n",
              "      <td>False</td>\n",
              "      <td>False</td>\n",
              "      <td>False</td>\n",
              "      <td>False</td>\n",
              "      <td>False</td>\n",
              "    </tr>\n",
              "  </tbody>\n",
              "</table>\n",
              "<p>155 rows × 20 columns</p>\n",
              "</div>"
            ],
            "text/plain": [
              "     class    age    sex  steroid  antivirals  fatigue  malaise  anorexia  \\\n",
              "0    False  False  False    False       False    False    False     False   \n",
              "1    False  False  False    False       False    False    False     False   \n",
              "2    False  False  False    False       False    False    False     False   \n",
              "3    False  False  False    False       False    False    False     False   \n",
              "4    False  False  False    False       False    False    False     False   \n",
              "..     ...    ...    ...      ...         ...      ...      ...       ...   \n",
              "150  False  False  False    False       False    False    False     False   \n",
              "151  False  False  False    False       False    False    False     False   \n",
              "152  False  False  False    False       False    False    False     False   \n",
              "153  False  False  False    False       False    False    False     False   \n",
              "154  False  False  False    False       False    False    False     False   \n",
              "\n",
              "     liver big   liver firm  spleen palpable  spiders  ascites  varices  \\\n",
              "0        False        False            False    False    False    False   \n",
              "1        False        False            False    False    False    False   \n",
              "2        False        False            False    False    False    False   \n",
              "3        False        False            False    False    False    False   \n",
              "4        False        False            False    False    False    False   \n",
              "..         ...          ...              ...      ...      ...      ...   \n",
              "150      False        False            False    False    False    False   \n",
              "151      False        False            False    False    False    False   \n",
              "152      False        False            False    False    False    False   \n",
              "153      False        False            False    False    False    False   \n",
              "154      False        False            False    False    False    False   \n",
              "\n",
              "     bilirubin  alk phosphate   sgot  albumin  protime  histology  \n",
              "0        False          False  False    False    False      False  \n",
              "1        False          False  False    False    False      False  \n",
              "2        False          False  False    False    False      False  \n",
              "3        False          False  False    False    False      False  \n",
              "4        False          False  False    False    False      False  \n",
              "..         ...            ...    ...      ...      ...        ...  \n",
              "150      False          False  False    False    False      False  \n",
              "151      False          False  False    False    False      False  \n",
              "152      False          False  False    False    False      False  \n",
              "153      False          False  False    False    False      False  \n",
              "154      False          False  False    False    False      False  \n",
              "\n",
              "[155 rows x 20 columns]"
            ]
          },
          "execution_count": 186,
          "metadata": {},
          "output_type": "execute_result"
        }
      ],
      "source": [
        "missing = np.nan\n",
        "\n",
        "df.isnull()"
      ]
    },
    {
      "cell_type": "code",
      "execution_count": null,
      "id": "22a19b7a",
      "metadata": {
        "id": "22a19b7a"
      },
      "outputs": [],
      "source": [
        "#here I replace all the values that are '?' with a Null value which can be identified\n",
        "df = df.replace(['?'],None)"
      ]
    },
    {
      "cell_type": "code",
      "execution_count": null,
      "id": "02c9285e",
      "metadata": {
        "id": "02c9285e",
        "outputId": "532f47c8-3127-4150-ec57-7021c438f54a"
      },
      "outputs": [
        {
          "data": {
            "text/html": [
              "<div>\n",
              "<style scoped>\n",
              "    .dataframe tbody tr th:only-of-type {\n",
              "        vertical-align: middle;\n",
              "    }\n",
              "\n",
              "    .dataframe tbody tr th {\n",
              "        vertical-align: top;\n",
              "    }\n",
              "\n",
              "    .dataframe thead th {\n",
              "        text-align: right;\n",
              "    }\n",
              "</style>\n",
              "<table border=\"1\" class=\"dataframe\">\n",
              "  <thead>\n",
              "    <tr style=\"text-align: right;\">\n",
              "      <th></th>\n",
              "      <th>class</th>\n",
              "      <th>age</th>\n",
              "      <th>sex</th>\n",
              "      <th>steroid</th>\n",
              "      <th>antivirals</th>\n",
              "      <th>fatigue</th>\n",
              "      <th>malaise</th>\n",
              "      <th>anorexia</th>\n",
              "      <th>liver big</th>\n",
              "      <th>liver firm</th>\n",
              "      <th>spleen palpable</th>\n",
              "      <th>spiders</th>\n",
              "      <th>ascites</th>\n",
              "      <th>varices</th>\n",
              "      <th>bilirubin</th>\n",
              "      <th>alk phosphate</th>\n",
              "      <th>sgot</th>\n",
              "      <th>albumin</th>\n",
              "      <th>protime</th>\n",
              "      <th>histology</th>\n",
              "    </tr>\n",
              "  </thead>\n",
              "  <tbody>\n",
              "    <tr>\n",
              "      <th>0</th>\n",
              "      <td>2</td>\n",
              "      <td>30</td>\n",
              "      <td>2</td>\n",
              "      <td>1</td>\n",
              "      <td>2</td>\n",
              "      <td>2</td>\n",
              "      <td>2</td>\n",
              "      <td>2</td>\n",
              "      <td>1</td>\n",
              "      <td>2</td>\n",
              "      <td>2</td>\n",
              "      <td>2</td>\n",
              "      <td>2</td>\n",
              "      <td>2</td>\n",
              "      <td>1.00</td>\n",
              "      <td>85</td>\n",
              "      <td>18</td>\n",
              "      <td>4.0</td>\n",
              "      <td>?</td>\n",
              "      <td>1</td>\n",
              "    </tr>\n",
              "    <tr>\n",
              "      <th>1</th>\n",
              "      <td>2</td>\n",
              "      <td>50</td>\n",
              "      <td>1</td>\n",
              "      <td>1</td>\n",
              "      <td>2</td>\n",
              "      <td>1</td>\n",
              "      <td>2</td>\n",
              "      <td>2</td>\n",
              "      <td>1</td>\n",
              "      <td>2</td>\n",
              "      <td>2</td>\n",
              "      <td>2</td>\n",
              "      <td>2</td>\n",
              "      <td>2</td>\n",
              "      <td>0.90</td>\n",
              "      <td>135</td>\n",
              "      <td>42</td>\n",
              "      <td>3.5</td>\n",
              "      <td>?</td>\n",
              "      <td>1</td>\n",
              "    </tr>\n",
              "    <tr>\n",
              "      <th>2</th>\n",
              "      <td>2</td>\n",
              "      <td>78</td>\n",
              "      <td>1</td>\n",
              "      <td>2</td>\n",
              "      <td>2</td>\n",
              "      <td>1</td>\n",
              "      <td>2</td>\n",
              "      <td>2</td>\n",
              "      <td>2</td>\n",
              "      <td>2</td>\n",
              "      <td>2</td>\n",
              "      <td>2</td>\n",
              "      <td>2</td>\n",
              "      <td>2</td>\n",
              "      <td>0.70</td>\n",
              "      <td>96</td>\n",
              "      <td>32</td>\n",
              "      <td>4.0</td>\n",
              "      <td>?</td>\n",
              "      <td>1</td>\n",
              "    </tr>\n",
              "    <tr>\n",
              "      <th>3</th>\n",
              "      <td>2</td>\n",
              "      <td>31</td>\n",
              "      <td>1</td>\n",
              "      <td>2</td>\n",
              "      <td>1</td>\n",
              "      <td>2</td>\n",
              "      <td>2</td>\n",
              "      <td>2</td>\n",
              "      <td>2</td>\n",
              "      <td>2</td>\n",
              "      <td>2</td>\n",
              "      <td>2</td>\n",
              "      <td>2</td>\n",
              "      <td>2</td>\n",
              "      <td>0.70</td>\n",
              "      <td>46</td>\n",
              "      <td>52</td>\n",
              "      <td>4.0</td>\n",
              "      <td>80</td>\n",
              "      <td>1</td>\n",
              "    </tr>\n",
              "    <tr>\n",
              "      <th>4</th>\n",
              "      <td>2</td>\n",
              "      <td>34</td>\n",
              "      <td>1</td>\n",
              "      <td>2</td>\n",
              "      <td>2</td>\n",
              "      <td>2</td>\n",
              "      <td>2</td>\n",
              "      <td>2</td>\n",
              "      <td>2</td>\n",
              "      <td>2</td>\n",
              "      <td>2</td>\n",
              "      <td>2</td>\n",
              "      <td>2</td>\n",
              "      <td>2</td>\n",
              "      <td>1.00</td>\n",
              "      <td>46</td>\n",
              "      <td>200</td>\n",
              "      <td>4.0</td>\n",
              "      <td>80</td>\n",
              "      <td>1</td>\n",
              "    </tr>\n",
              "    <tr>\n",
              "      <th>5</th>\n",
              "      <td>2</td>\n",
              "      <td>34</td>\n",
              "      <td>1</td>\n",
              "      <td>2</td>\n",
              "      <td>2</td>\n",
              "      <td>2</td>\n",
              "      <td>2</td>\n",
              "      <td>2</td>\n",
              "      <td>2</td>\n",
              "      <td>2</td>\n",
              "      <td>2</td>\n",
              "      <td>2</td>\n",
              "      <td>2</td>\n",
              "      <td>2</td>\n",
              "      <td>0.90</td>\n",
              "      <td>95</td>\n",
              "      <td>28</td>\n",
              "      <td>4.0</td>\n",
              "      <td>75</td>\n",
              "      <td>1</td>\n",
              "    </tr>\n",
              "    <tr>\n",
              "      <th>6</th>\n",
              "      <td>1</td>\n",
              "      <td>51</td>\n",
              "      <td>1</td>\n",
              "      <td>1</td>\n",
              "      <td>2</td>\n",
              "      <td>1</td>\n",
              "      <td>2</td>\n",
              "      <td>1</td>\n",
              "      <td>2</td>\n",
              "      <td>2</td>\n",
              "      <td>1</td>\n",
              "      <td>1</td>\n",
              "      <td>2</td>\n",
              "      <td>2</td>\n",
              "      <td>0.90</td>\n",
              "      <td>95</td>\n",
              "      <td>28</td>\n",
              "      <td>4.0</td>\n",
              "      <td>75</td>\n",
              "      <td>1</td>\n",
              "    </tr>\n",
              "    <tr>\n",
              "      <th>7</th>\n",
              "      <td>2</td>\n",
              "      <td>23</td>\n",
              "      <td>1</td>\n",
              "      <td>2</td>\n",
              "      <td>2</td>\n",
              "      <td>2</td>\n",
              "      <td>2</td>\n",
              "      <td>2</td>\n",
              "      <td>2</td>\n",
              "      <td>2</td>\n",
              "      <td>2</td>\n",
              "      <td>2</td>\n",
              "      <td>2</td>\n",
              "      <td>2</td>\n",
              "      <td>1.00</td>\n",
              "      <td>95</td>\n",
              "      <td>28</td>\n",
              "      <td>4.0</td>\n",
              "      <td>75</td>\n",
              "      <td>1</td>\n",
              "    </tr>\n",
              "    <tr>\n",
              "      <th>8</th>\n",
              "      <td>2</td>\n",
              "      <td>39</td>\n",
              "      <td>1</td>\n",
              "      <td>2</td>\n",
              "      <td>2</td>\n",
              "      <td>1</td>\n",
              "      <td>2</td>\n",
              "      <td>2</td>\n",
              "      <td>2</td>\n",
              "      <td>1</td>\n",
              "      <td>2</td>\n",
              "      <td>2</td>\n",
              "      <td>2</td>\n",
              "      <td>2</td>\n",
              "      <td>0.70</td>\n",
              "      <td>95</td>\n",
              "      <td>48</td>\n",
              "      <td>4.4</td>\n",
              "      <td>75</td>\n",
              "      <td>1</td>\n",
              "    </tr>\n",
              "    <tr>\n",
              "      <th>9</th>\n",
              "      <td>2</td>\n",
              "      <td>30</td>\n",
              "      <td>1</td>\n",
              "      <td>2</td>\n",
              "      <td>2</td>\n",
              "      <td>2</td>\n",
              "      <td>2</td>\n",
              "      <td>2</td>\n",
              "      <td>2</td>\n",
              "      <td>2</td>\n",
              "      <td>2</td>\n",
              "      <td>2</td>\n",
              "      <td>2</td>\n",
              "      <td>2</td>\n",
              "      <td>1.00</td>\n",
              "      <td>95</td>\n",
              "      <td>120</td>\n",
              "      <td>3.9</td>\n",
              "      <td>75</td>\n",
              "      <td>1</td>\n",
              "    </tr>\n",
              "  </tbody>\n",
              "</table>\n",
              "</div>"
            ],
            "text/plain": [
              "   class  age  sex steroid  antivirals fatigue malaise anorexia liver big  \\\n",
              "0      2   30    2       1           2       2       2        2         1   \n",
              "1      2   50    1       1           2       1       2        2         1   \n",
              "2      2   78    1       2           2       1       2        2         2   \n",
              "3      2   31    1       2           1       2       2        2         2   \n",
              "4      2   34    1       2           2       2       2        2         2   \n",
              "5      2   34    1       2           2       2       2        2         2   \n",
              "6      1   51    1       1           2       1       2        1         2   \n",
              "7      2   23    1       2           2       2       2        2         2   \n",
              "8      2   39    1       2           2       1       2        2         2   \n",
              "9      2   30    1       2           2       2       2        2         2   \n",
              "\n",
              "   liver firm spleen palpable spiders ascites varices bilirubin alk phosphate  \\\n",
              "0           2               2       2       2       2      1.00            85   \n",
              "1           2               2       2       2       2      0.90           135   \n",
              "2           2               2       2       2       2      0.70            96   \n",
              "3           2               2       2       2       2      0.70            46   \n",
              "4           2               2       2       2       2      1.00            46   \n",
              "5           2               2       2       2       2      0.90            95   \n",
              "6           2               1       1       2       2      0.90            95   \n",
              "7           2               2       2       2       2      1.00            95   \n",
              "8           1               2       2       2       2      0.70            95   \n",
              "9           2               2       2       2       2      1.00            95   \n",
              "\n",
              "  sgot albumin protime  histology  \n",
              "0   18     4.0       ?          1  \n",
              "1   42     3.5       ?          1  \n",
              "2   32     4.0       ?          1  \n",
              "3   52     4.0      80          1  \n",
              "4  200     4.0      80          1  \n",
              "5   28     4.0      75          1  \n",
              "6   28     4.0      75          1  \n",
              "7   28     4.0      75          1  \n",
              "8   48     4.4      75          1  \n",
              "9  120     3.9      75          1  "
            ]
          },
          "execution_count": 188,
          "metadata": {},
          "output_type": "execute_result"
        }
      ],
      "source": [
        "df.head(10)"
      ]
    },
    {
      "cell_type": "code",
      "execution_count": null,
      "id": "1c549c51",
      "metadata": {
        "id": "1c549c51",
        "outputId": "b5546aca-9528-4035-a599-a8865d50f70d"
      },
      "outputs": [
        {
          "data": {
            "text/plain": [
              "class              0\n",
              "age                0\n",
              "sex                0\n",
              "steroid            0\n",
              "antivirals         0\n",
              "fatigue            0\n",
              "malaise            0\n",
              "anorexia           0\n",
              "liver big          0\n",
              " liver firm        0\n",
              "spleen palpable    0\n",
              "spiders            0\n",
              "ascites            0\n",
              "varices            0\n",
              "bilirubin          0\n",
              "alk phosphate      0\n",
              "sgot               0\n",
              "albumin            0\n",
              "protime            3\n",
              "histology          0\n",
              "dtype: int64"
            ]
          },
          "execution_count": 189,
          "metadata": {},
          "output_type": "execute_result"
        }
      ],
      "source": [
        "df['protime'] = df['protime'].replace(['?'],np.nan)\n",
        "df['protime'] = df['protime'].replace([None],np.nan)\n",
        "#df.head(10)\n",
        "df.isnull().sum()"
      ]
    },
    {
      "cell_type": "code",
      "execution_count": null,
      "id": "3ab3cda1",
      "metadata": {
        "id": "3ab3cda1"
      },
      "outputs": [],
      "source": [
        "# Compute the mean for protime\n",
        "protime_mean = round(df['protime'].mean())\n",
        "# assign the mean to the missing values\n",
        "df['protime'].fillna(protime_mean, inplace = True)"
      ]
    },
    {
      "cell_type": "markdown",
      "id": "014a02f7",
      "metadata": {
        "id": "014a02f7"
      },
      "source": [
        "After multiple tries every value converts as supposed, and no errors occure, however the first 3 values in the protime row were always '?', which does not seem to be changable.\n",
        "I made sure to edit it, as I changed the '?' to None and then the None to null values as it made the code run"
      ]
    },
    {
      "cell_type": "markdown",
      "id": "2e108346",
      "metadata": {
        "id": "2e108346"
      },
      "source": [
        "Now time to create a classification model for the linear regression which will help me to classify/predict the class label in my dataset"
      ]
    },
    {
      "cell_type": "code",
      "execution_count": null,
      "id": "8bd7734c",
      "metadata": {
        "id": "8bd7734c",
        "outputId": "cf681998-d227-489d-ab95-2db81e6047d3"
      },
      "outputs": [
        {
          "name": "stdout",
          "output_type": "stream",
          "text": [
            "<class 'pandas.core.frame.DataFrame'>\n",
            "<class 'pandas.core.series.Series'>\n"
          ]
        }
      ],
      "source": [
        "# store the input features\n",
        "X = df.drop('class', axis = 1)\n",
        "# store the label column into y variable\n",
        "y = df['class']\n",
        "\n",
        "#here I check the type of variables that are x and y\n",
        "print(type(X))\n",
        "print(type(y))"
      ]
    },
    {
      "cell_type": "code",
      "execution_count": null,
      "id": "fa907626",
      "metadata": {
        "id": "fa907626"
      },
      "outputs": [],
      "source": [
        "#Here I make the test set to evaluate the performance of my model\n",
        "#Below, I use the train_test_split to do this split 80% of the data for training, and 20% of the data for testing\n",
        "\n",
        "from sklearn.model_selection import train_test_split\n",
        "X_train, X_test, y_train, y_test = train_test_split(X, y, test_size=0.2, random_state=0)"
      ]
    },
    {
      "cell_type": "code",
      "execution_count": null,
      "id": "d47d1226",
      "metadata": {
        "id": "d47d1226"
      },
      "outputs": [],
      "source": [
        "#Normalizating data\n",
        "\n",
        "from sklearn import preprocessing\n",
        "normalized_X_train = preprocessing.normalize(X_train)\n",
        "normalized_X_test = preprocessing.normalize(X_test)"
      ]
    },
    {
      "cell_type": "code",
      "execution_count": null,
      "id": "2abedebe",
      "metadata": {
        "id": "2abedebe",
        "outputId": "439fe948-8043-4fb4-dc39-47aea980508c"
      },
      "outputs": [
        {
          "data": {
            "text/plain": [
              "LogisticRegression(max_iter=3000)"
            ]
          },
          "execution_count": 196,
          "metadata": {},
          "output_type": "execute_result"
        }
      ],
      "source": [
        "#I use the LogisticRegression from the sklearn library to create the Logistic Regression Model\n",
        "from sklearn.linear_model import LogisticRegression\n",
        "\n",
        "lg_model = LogisticRegression(solver='lbfgs',max_iter=3000)\n",
        "lg_model.fit(X_train,y_train)"
      ]
    },
    {
      "cell_type": "markdown",
      "id": "63ce24a7",
      "metadata": {
        "id": "63ce24a7"
      },
      "source": [
        "Now the predictions and error inspection"
      ]
    },
    {
      "cell_type": "code",
      "execution_count": null,
      "id": "6599cd06",
      "metadata": {
        "id": "6599cd06"
      },
      "outputs": [],
      "source": [
        "# The predicted values\n",
        "y_pred = lg_model.predict(X_test)\n",
        "\n",
        "# The actual values\n",
        "actual = y_test"
      ]
    },
    {
      "cell_type": "code",
      "execution_count": null,
      "id": "573bd342",
      "metadata": {
        "id": "573bd342"
      },
      "outputs": [],
      "source": [
        "#  Manual inspections for the results by making a dictionary and checking the results\n",
        "dic = {'Actual':actual,\n",
        "'Prediction':y_pred,\n",
        "'correct_prediction':0\n",
        "}\n",
        "result = pd.DataFrame(dic)"
      ]
    },
    {
      "cell_type": "code",
      "execution_count": null,
      "id": "3f5971b5",
      "metadata": {
        "id": "3f5971b5"
      },
      "outputs": [],
      "source": [
        "# Updating the correct_prediction values to 1, if correct prediction\n",
        "def myfunc(x,y):\n",
        "    if x == y:\n",
        "        return 1\n",
        "    else:\n",
        "        return 0\n",
        "result['correct_prediction'] = result.apply(lambda x: myfunc(x.Actual, x.Prediction), axis=1)"
      ]
    },
    {
      "cell_type": "code",
      "execution_count": null,
      "id": "7a25258e",
      "metadata": {
        "id": "7a25258e",
        "outputId": "fa6f314f-6578-449d-bd33-db2f7f57e397"
      },
      "outputs": [
        {
          "data": {
            "text/html": [
              "<div>\n",
              "<style scoped>\n",
              "    .dataframe tbody tr th:only-of-type {\n",
              "        vertical-align: middle;\n",
              "    }\n",
              "\n",
              "    .dataframe tbody tr th {\n",
              "        vertical-align: top;\n",
              "    }\n",
              "\n",
              "    .dataframe thead th {\n",
              "        text-align: right;\n",
              "    }\n",
              "</style>\n",
              "<table border=\"1\" class=\"dataframe\">\n",
              "  <thead>\n",
              "    <tr style=\"text-align: right;\">\n",
              "      <th></th>\n",
              "      <th>Actual</th>\n",
              "      <th>Prediction</th>\n",
              "      <th>correct_prediction</th>\n",
              "    </tr>\n",
              "  </thead>\n",
              "  <tbody>\n",
              "    <tr>\n",
              "      <th>111</th>\n",
              "      <td>1</td>\n",
              "      <td>2</td>\n",
              "      <td>0</td>\n",
              "    </tr>\n",
              "    <tr>\n",
              "      <th>118</th>\n",
              "      <td>1</td>\n",
              "      <td>2</td>\n",
              "      <td>0</td>\n",
              "    </tr>\n",
              "    <tr>\n",
              "      <th>86</th>\n",
              "      <td>1</td>\n",
              "      <td>2</td>\n",
              "      <td>0</td>\n",
              "    </tr>\n",
              "    <tr>\n",
              "      <th>71</th>\n",
              "      <td>1</td>\n",
              "      <td>2</td>\n",
              "      <td>0</td>\n",
              "    </tr>\n",
              "    <tr>\n",
              "      <th>98</th>\n",
              "      <td>1</td>\n",
              "      <td>2</td>\n",
              "      <td>0</td>\n",
              "    </tr>\n",
              "    <tr>\n",
              "      <th>146</th>\n",
              "      <td>1</td>\n",
              "      <td>2</td>\n",
              "      <td>0</td>\n",
              "    </tr>\n",
              "  </tbody>\n",
              "</table>\n",
              "</div>"
            ],
            "text/plain": [
              "     Actual  Prediction  correct_prediction\n",
              "111       1           2                   0\n",
              "118       1           2                   0\n",
              "86        1           2                   0\n",
              "71        1           2                   0\n",
              "98        1           2                   0\n",
              "146       1           2                   0"
            ]
          },
          "execution_count": 201,
          "metadata": {},
          "output_type": "execute_result"
        }
      ],
      "source": [
        "# Checking the result\n",
        "result[result.correct_prediction==0]"
      ]
    },
    {
      "cell_type": "code",
      "execution_count": null,
      "id": "db0a7add",
      "metadata": {
        "id": "db0a7add",
        "outputId": "6bfe4e25-7a0f-4f69-aead-db29270b6127"
      },
      "outputs": [
        {
          "name": "stdout",
          "output_type": "stream",
          "text": [
            "Modelled Accuracy on the tested data is 0.8064516129032258\n"
          ]
        }
      ],
      "source": [
        "# Manually computing the accuracy of my model \n",
        "print(f'Modelled Accuracy on the tested data is {len(result[result.correct_prediction==1])/len(result)}')"
      ]
    },
    {
      "cell_type": "code",
      "execution_count": null,
      "id": "7518d138",
      "metadata": {
        "id": "7518d138"
      },
      "outputs": [],
      "source": [
        "# Saving the dataframe of the results for further inspection\n",
        "result.to_csv('test.csv')"
      ]
    },
    {
      "cell_type": "markdown",
      "id": "6c9e5717",
      "metadata": {
        "id": "6c9e5717"
      },
      "source": [
        "Model evaluation and impromvement"
      ]
    },
    {
      "cell_type": "code",
      "execution_count": null,
      "id": "176ad67b",
      "metadata": {
        "id": "176ad67b",
        "outputId": "18067c35-0d0c-411f-8078-ced939da8535"
      },
      "outputs": [
        {
          "name": "stdout",
          "output_type": "stream",
          "text": [
            "The Model Accuracy on Testing Set is 0.81\n"
          ]
        }
      ],
      "source": [
        "# Checking the accuracy of the model with the closest number to the one that was received earlier (0.8064516129032258)\n",
        "from sklearn.metrics import accuracy_score\n",
        "print(f'The Model Accuracy on Testing Set is {round(accuracy_score(y_test,y_pred),2)}')"
      ]
    },
    {
      "cell_type": "code",
      "execution_count": null,
      "id": "9cd5cc02",
      "metadata": {
        "id": "9cd5cc02",
        "outputId": "fef5b439-2393-4139-c096-03e07d4fd36a"
      },
      "outputs": [
        {
          "name": "stdout",
          "output_type": "stream",
          "text": [
            "              precision    recall  f1-score   support\n",
            "\n",
            "           1       1.00      0.33      0.50         9\n",
            "           2       0.79      1.00      0.88        22\n",
            "\n",
            "    accuracy                           0.81        31\n",
            "   macro avg       0.89      0.67      0.69        31\n",
            "weighted avg       0.85      0.81      0.77        31\n",
            "\n"
          ]
        }
      ],
      "source": [
        "# Here I receive other metrics helpful for analysis on the data, such as precision, recall, f1-score and support\n",
        "from sklearn.metrics import classification_report\n",
        "print(classification_report(y_test,y_pred))"
      ]
    },
    {
      "cell_type": "markdown",
      "id": "4adc28b0",
      "metadata": {
        "id": "4adc28b0"
      },
      "source": [
        "The model classification report shows that 100% prediction of absence of hepatitis sickness\n",
        "was predicted correct and 79% of presence of hepatitis was predicted correct.\n",
        "\n",
        "Another useful metric as described from the lectures, is a confusion matrix which I will use now"
      ]
    },
    {
      "cell_type": "code",
      "execution_count": null,
      "id": "b98b4d50",
      "metadata": {
        "id": "b98b4d50",
        "outputId": "43a80f2a-4bbb-42e4-952f-9638ae2b0cd9"
      },
      "outputs": [
        {
          "name": "stdout",
          "output_type": "stream",
          "text": [
            "[[ 3  6]\n",
            " [ 0 22]]\n"
          ]
        }
      ],
      "source": [
        "from sklearn.metrics import confusion_matrix\n",
        "print(confusion_matrix(y_test,y_pred))"
      ]
    },
    {
      "cell_type": "code",
      "execution_count": null,
      "id": "362b783d",
      "metadata": {
        "id": "362b783d",
        "outputId": "9e176d23-7e38-4737-bf75-00d08c922368"
      },
      "outputs": [
        {
          "data": {
            "text/plain": [
              "(0.0, 2.0)"
            ]
          },
          "execution_count": 210,
          "metadata": {},
          "output_type": "execute_result"
        },
        {
          "data": {
            "image/png": "[encoded data removed]",
            "text/plain": [
              "<Figure size 648x504 with 2 Axes>"
            ]
          },
          "metadata": {},
          "output_type": "display_data"
        }
      ],
      "source": [
        "# Setting up the matrix as a small graph to help in understanding the results\n",
        "ax = sns.heatmap(confusion_matrix(y_test,y_pred),annot=True,fmt=\"d\")\n",
        "ax.set_ylim([0,2])"
      ]
    },
    {
      "cell_type": "markdown",
      "id": "04cd9769",
      "metadata": {
        "id": "04cd9769"
      },
      "source": [
        "The Confusion Matrix True Positive value is 22 and true Negative was 3. And the False Positive\n",
        "came out to be 0 and False Negative is 6\n",
        "\n",
        "Next on is simply saving the model that I just made into a file folder which can later be used for more analysis over \n",
        "the data and using it again without retrain it. The model is always saved as an object with nay name we desire"
      ]
    },
    {
      "cell_type": "code",
      "execution_count": null,
      "id": "b5627f3c",
      "metadata": {
        "id": "b5627f3c",
        "outputId": "0b318ba5-7bb6-4741-a54e-525823c41e10"
      },
      "outputs": [
        {
          "name": "stdout",
          "output_type": "stream",
          "text": [
            "Test score of the model is: 80.65 %\n"
          ]
        }
      ],
      "source": [
        "import pickle\n",
        "# Save to file in the current working directory\n",
        "pkl_filename = \"pickle_coursework_model.pkl\"\n",
        "\n",
        "# saving my model\n",
        "with open(pkl_filename, 'wb') as file:\n",
        "    pickle.dump(lg_model, file)\n",
        "\n",
        "# Load the model from file\n",
        "with open(pkl_filename, 'rb') as file:\n",
        "    pickle_model = pickle.load(file)\n",
        "\n",
        "# Testing and checking the mode and results loaded from the file\n",
        "score = pickle_model.score(X_test, y_test)\n",
        "print(\"Test score of the model is: {0:.2f} %\".format(100 * score))\n",
        "y_hat = pickle_model.predict(X_test)\n"
      ]
    },
    {
      "cell_type": "code",
      "execution_count": null,
      "id": "aba6be60",
      "metadata": {
        "id": "aba6be60",
        "outputId": "0ada31f5-7ac2-401a-e1a1-0063cd11a313"
      },
      "outputs": [
        {
          "name": "stdout",
          "output_type": "stream",
          "text": [
            "[0.74193548 0.77419355 0.80645161 0.51612903 0.58064516]\n",
            "0.6838709677419355\n"
          ]
        }
      ],
      "source": [
        "# Some cross-validation to analyze the data\n",
        "# For that I used a simple function which validates the mean of the dataset\n",
        "\n",
        "from sklearn.datasets import load_iris\n",
        "from sklearn.neighbors import KNeighborsClassifier\n",
        "\n",
        "classifier = KNeighborsClassifier()\n",
        "\n",
        "from sklearn.model_selection import cross_val_score\n",
        "scores = cross_val_score(classifier, X, y)\n",
        "print(scores)\n",
        "print(np.mean(scores))"
      ]
    },
    {
      "cell_type": "code",
      "execution_count": null,
      "id": "ac1374b9",
      "metadata": {
        "id": "ac1374b9",
        "outputId": "c44c7dfe-5115-4e09-a555-05c4a8305598"
      },
      "outputs": [
        {
          "data": {
            "text/plain": [
              "array([0.74193548, 0.77419355, 0.80645161, 0.51612903, 0.58064516])"
            ]
          },
          "execution_count": 219,
          "metadata": {},
          "output_type": "execute_result"
        }
      ],
      "source": [
        "cross_val_score(classifier, X, y, cv=5)"
      ]
    },
    {
      "cell_type": "markdown",
      "id": "3a5507fc",
      "metadata": {
        "id": "3a5507fc"
      },
      "source": [
        "After fine tuning the parameters of my code and some cross validation and peeks on the code, as per conclusion the results are still the same or extremely close with before."
      ]
    },
    {
      "cell_type": "markdown",
      "id": "bb12896d",
      "metadata": {
        "id": "bb12896d"
      },
      "source": [
        "Thanks to this analysis, I was able to cope the information in a useful and satisfying way for a reader to understand it.\n",
        "After coding the results, I decided to search up some more methods to help me edit and make the code more efficient. After that I re-wrote my code and made sure it runs correctly. Commented the results and code so a reader can understand and most importantly made sure to make my code reproducable after numerous errors. With the help of the lectures and researching methods in the internet I was able to overcome most ups and downs in the code and make it more efficient.\n",
        "The data analysis is commented step by step in the code and I think that the code itself together with the comments, explain pretty well what and how it was analyzed."
      ]
    }
  ],
  "metadata": {
    "kernelspec": {
      "display_name": "Python 3",
      "language": "python",
      "name": "python3"
    },
    "language_info": {
      "codemirror_mode": {
        "name": "ipython",
        "version": 3
      },
      "file_extension": ".py",
      "mimetype": "text/x-python",
      "name": "python",
      "nbconvert_exporter": "python",
      "pygments_lexer": "ipython3",
      "version": "3.8.8"
    },
    "colab": {
      "provenance": [],
      "include_colab_link": true
    }
  },
  "nbformat": 4,
  "nbformat_minor": 5
}