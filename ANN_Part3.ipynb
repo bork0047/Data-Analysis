{
  "nbformat": 4,
  "nbformat_minor": 0,
  "metadata": {
    "colab": {
      "provenance": [],
      "collapsed_sections": [
        "HNXjY4aIVRnP",
        "LnkQ4vQqF3Gp"
      ],
      "include_colab_link": true
    },
    "kernelspec": {
      "display_name": "Python 3",
      "language": "python",
      "name": "python3"
    },
    "language_info": {
      "codemirror_mode": {
        "name": "ipython",
        "version": 3
      },
      "file_extension": ".py",
      "mimetype": "text/x-python",
      "name": "python",
      "nbconvert_exporter": "python",
      "pygments_lexer": "ipython3",
      "version": "3.7.4"
    }
  },
  "cells": [
    {
      "cell_type": "markdown",
      "metadata": {
        "id": "view-in-github",
        "colab_type": "text"
      },
      "source": [
        "<a href=\"https://colab.research.google.com/github/bork0047/Data-Analysis/blob/main/ANN_Part3.ipynb\" target=\"_parent\"><img src=\"https://colab.research.google.com/assets/colab-badge.svg\" alt=\"Open In Colab\"/></a>"
      ]
    },
    {
      "cell_type": "markdown",
      "metadata": {
        "id": "PhzGO4V5VRm4"
      },
      "source": [
        "## Import our libraries"
      ]
    },
    {
      "cell_type": "code",
      "metadata": {
        "id": "dUwiqpRkVRm5"
      },
      "source": [
        "import pandas as pd # to manage data frames and reading csv files\n",
        "import numpy as np\n",
        "#for the sigmoid function we need expit() from scipy\n",
        "import scipy.special\n",
        "#library for plotting arrays\n",
        "import matplotlib.pyplot as plt\n",
        "\n",
        "%matplotlib inline\n",
        "\n",
        "import seaborn as sns\n",
        "sns.set_style(\"darkgrid\")"
      ],
      "execution_count": null,
      "outputs": []
    },
    {
      "cell_type": "code",
      "metadata": {
        "id": "w4_18oD8VRm9"
      },
      "source": [
        "np.random.seed(42) "
      ],
      "execution_count": null,
      "outputs": []
    },
    {
      "cell_type": "markdown",
      "metadata": {
        "id": "BMz-Xbwdyvrp"
      },
      "source": [
        "# 0. Preliminaries"
      ]
    },
    {
      "cell_type": "markdown",
      "metadata": {
        "id": "VyYcBYJmVRnA"
      },
      "source": [
        "## Set our Global Variables\n",
        "later you will need to modify these to present your solution to the Exercise"
      ]
    },
    {
      "cell_type": "code",
      "metadata": {
        "id": "vibIaaNRVRnA"
      },
      "source": [
        "#number of input, hidden and output nodes\n",
        "input_nodes = 784 #we have a 28x28 matrix to describe each digit\n",
        "hidden_nodes = 200\n",
        "output_nodes = 10\n",
        "\n",
        "learning_rate = 0.3\n",
        "batch_size = 1 # increase this if you want batch gradient descent\n",
        "\n",
        "# epochs is the number of training iterations \n",
        "epochs = 10\n",
        "\n",
        "# datasets to read\n",
        "# you can change these when trying out other datasets\n",
        "train_file = \"sample_data/mnist_train_small.csv\"\n",
        "test_file = \"sample_data/mnist_test.csv\""
      ],
      "execution_count": null,
      "outputs": []
    },
    {
      "cell_type": "markdown",
      "metadata": {
        "id": "VpdkIJDQSwK0"
      },
      "source": [
        "### Get the MNIST Data into a ataframe"
      ]
    },
    {
      "cell_type": "code",
      "metadata": {
        "id": "r2gP2v74VRnM",
        "colab": {
          "base_uri": "https://localhost:8080/"
        },
        "outputId": "36a1dc52-1a6e-42d5-b08a-1a450092a502"
      },
      "source": [
        "df_orig_train = pd.read_csv(train_file, header=None)  # read entire train dataset\n",
        "df_orig_test = pd.read_csv(test_file, header=None)  # read entire test dataset\n",
        "df_orig_train.info()\n",
        "\n",
        "y_train_all =  pd.get_dummies(df_orig_train[0]).values # this is the class column\n",
        "X_train_all = df_orig_train.drop(0, axis = 1).values # maintain all columns after dropping the class column\n",
        "print(y_train_all.shape)\n",
        "print(X_train_all.shape)\n",
        "\n",
        "y_test_all =  pd.get_dummies(df_orig_test[0]).values\n",
        "X_test_all = df_orig_test.drop(0, axis = 1).values\n",
        "print(y_test_all.shape)\n",
        "print(X_test_all.shape)"
      ],
      "execution_count": null,
      "outputs": [
        {
          "output_type": "stream",
          "name": "stdout",
          "text": [
            "<class 'pandas.core.frame.DataFrame'>\n",
            "RangeIndex: 20000 entries, 0 to 19999\n",
            "Columns: 785 entries, 0 to 784\n",
            "dtypes: int64(785)\n",
            "memory usage: 119.8 MB\n",
            "(20000, 10)\n",
            "(20000, 784)\n",
            "(10000, 10)\n",
            "(10000, 784)\n"
          ]
        }
      ]
    },
    {
      "cell_type": "markdown",
      "metadata": {
        "id": "D3sanIrTSwK1"
      },
      "source": [
        "## <font color='red'>Exercises</font> with the MNIST dataset\n",
        "Print the contents of the dataframes to understand how the instances and the output target values are stored. You can use head() and tail() functions on any data frame."
      ]
    },
    {
      "cell_type": "markdown",
      "metadata": {
        "id": "HNXjY4aIVRnP"
      },
      "source": [
        "## Helper functions to preprocess the data\n",
        "MNIST is a large dataset and sometimes it helps to work with a small sample before running it on the full data. \n",
        "These helper functions allow you to control that by setting the train_sample_size."
      ]
    },
    {
      "cell_type": "code",
      "metadata": {
        "id": "S_dmj6ViWlhU",
        "colab": {
          "base_uri": "https://localhost:8080/"
        },
        "outputId": "eb181af1-17dc-4093-e0b2-caf1034ab248"
      },
      "source": [
        "# Select smaller samples of the train and test datasets (will execute faster when training our networks than using the entire dataset)\n",
        "train_sample_size = 2000  # choosing a smaller sample instead of the entire dataset\n",
        "print(\"Percentage of training data used: \", train_sample_size/len(y_train_all) * 100)\n",
        "test_sample_size = 2000 # len(y_test_all)\n",
        "print(\"Percentage of testing data used: \", test_sample_size/len(y_test_all) * 100)"
      ],
      "execution_count": null,
      "outputs": [
        {
          "output_type": "stream",
          "name": "stdout",
          "text": [
            "Percentage of training data used:  10.0\n",
            "Percentage of testing data used:  20.0\n"
          ]
        }
      ]
    },
    {
      "cell_type": "code",
      "metadata": {
        "id": "3st-ONvqjSFJ",
        "colab": {
          "base_uri": "https://localhost:8080/"
        },
        "outputId": "6984149a-33c6-49f5-8a0f-049c47dc3e1a"
      },
      "source": [
        "# get indices for random sampling\n",
        "random_indices = np.random.choice(range(len(y_train_all)), train_sample_size, replace = False)\n",
        "\n",
        "# get a smaller random sample\n",
        "X_train = X_train_all[random_indices]\n",
        "y_train = y_train_all[random_indices]\n",
        "print(y_train.shape)\n",
        "print(X_train.shape)\n",
        "\n",
        "#preprocessing steps to normalise the mnist data\n",
        "X_train = (X_train / 255.0 * 0.99) + 0.01 # scale and shift the inputs\n",
        "y_train = y_train + 0.01\n",
        "y_train = np.where(y_train != 1.01, y_train, 0.99)\n",
        "\n",
        "# do the same steps now for the test data\n",
        "random_test_indices = np.random.choice(range(len(y_test_all)), test_sample_size, replace = False)\n",
        "X_test = X_test_all[random_test_indices]\n",
        "y_test = y_test_all[random_test_indices]\n",
        "print(y_test.shape)\n",
        "print(X_test.shape)\n",
        "\n",
        "X_test = (X_test / 255.0 * 0.99) + 0.01\n",
        "y_test = y_test + 0.01\n",
        "y_test = np.where(y_test != 1.01, y_test, 0.99)"
      ],
      "execution_count": null,
      "outputs": [
        {
          "output_type": "stream",
          "name": "stdout",
          "text": [
            "(2000, 10)\n",
            "(2000, 784)\n",
            "(2000, 10)\n",
            "(2000, 784)\n"
          ]
        }
      ]
    },
    {
      "cell_type": "markdown",
      "metadata": {
        "id": "0t0QVVqMVRnV"
      },
      "source": [
        "## Helper functions for evaluation\n",
        "The MSE is a measure of the quality of an estimator—it is always non-negative, and values closer to zero are better.\n",
        "see for instance a detailed discussion [here](https://en.wikipedia.org/wiki/Mean_squared_error).\n",
        "\n",
        "Accuracy is another metric for evaluating classification models. Informally, accuracy is the fraction of predictions our model got right. \n",
        "\n",
        "If you want to find out more about different types of metrics there is an overview [here](https://towardsdatascience.com/metrics-to-evaluate-your-machine-learning-algorithm-f10ba6e382340). "
      ]
    },
    {
      "cell_type": "code",
      "metadata": {
        "id": "YdoOU0EYVRnV"
      },
      "source": [
        "def mean_squared_error(predictions, targets):\n",
        "    \"\"\"\n",
        "    Calculates mean squared error of a model's predictions.\n",
        "    \"\"\"\n",
        "    N=targets.size\n",
        "    mse = ((targets - predictions) **2).sum() / (2*N)\n",
        "    return mse\n",
        "\n",
        "\n",
        "def accuracy(predictions, targets):\n",
        "    \"\"\"\n",
        "    Calculates the accuracy of a model's predictions.\n",
        "    \"\"\"\n",
        "    prediction_labels = np.argmax(predictions, axis=1)\n",
        "    target_labels = np.argmax(targets, axis=1)\n",
        "    predictions_correct = (prediction_labels == target_labels.round())\n",
        "    accuracy = predictions_correct.mean()\n",
        "    return accuracy\n"
      ],
      "execution_count": null,
      "outputs": []
    },
    {
      "cell_type": "markdown",
      "metadata": {
        "id": "DBM_Nj_QSwK2"
      },
      "source": [
        "### Helper classes for activations"
      ]
    },
    {
      "cell_type": "code",
      "metadata": {
        "id": "PVB62gotSwK3"
      },
      "source": [
        "class Activation_ReLU:\n",
        "    def forward(self, x):\n",
        "        return(np.maximum(0, x))\n",
        "    def backward(self, x):\n",
        "        return(np.greater(x, 0).astype(int)) # inputs > 0 then convert bools to int\n",
        "        \n",
        "class Activation_Sigmoid:\n",
        "    def forward(self, x):\n",
        "        return(1 / (1 + np.exp(-x)))\n",
        "    def backward(self, x):\n",
        "        return(x * ( 1 - x))"
      ],
      "execution_count": null,
      "outputs": []
    },
    {
      "cell_type": "markdown",
      "metadata": {
        "id": "8JQU844WVRnX"
      },
      "source": [
        "## Class Definitions\n",
        "\n"
      ]
    },
    {
      "cell_type": "code",
      "metadata": {
        "id": "OI0D07wwXcd-"
      },
      "source": [
        "class Optimizer_SGD:\n",
        "    def __init__(self, learningrate=0.3):\n",
        "           self.lr = learningrate\n",
        "            \n",
        "    def weight_update(self, layer):       \n",
        "        layer.weights -= self.lr * layer.dweights\n",
        "        layer.biases -= self.lr * layer.dbiases\n"
      ],
      "execution_count": null,
      "outputs": []
    },
    {
      "cell_type": "code",
      "metadata": {
        "id": "ZJrgwcKIVRnY"
      },
      "source": [
        "class Layer_Dense:\n",
        "    def __init__(self, n_inputs, n_neurons):\n",
        "        # weights initialised from a gaussian with mean 0 and variance 1\n",
        "        # multiply with a small value just to ensure we start with small weight values\n",
        "        self.weights = 0.1*  np.random.normal(0.0, pow(n_inputs, -0.5), (n_inputs, n_neurons))\n",
        "        self.biases = np.zeros((1, n_neurons))\n",
        "\n",
        "    def forward(self, inputs, act):\n",
        "        self.inputs = inputs #need this when backpropagating so maintain it in the layer class\n",
        "        z = np.dot(inputs , self.weights) + self.biases # weights dot product\n",
        "        self.outputs = act.forward(z) # nonlinear activation output of the layer\n",
        "            \n",
        "    def backward(self, error, act):\n",
        "        delta = error * act.backward(self.outputs)\n",
        "        self.dinputs = np.dot(delta, self.weights.T)  #this layer's error \n",
        "        \n",
        "        N = self.dinputs.shape[0]\n",
        "        self.dweights = np.dot(self.inputs.T, delta) / N  # derivatives for weights used by the optimizer class  \n",
        "        self.dbiases = np.mean(delta, axis=0, keepdims=True) # derivatives for biases used by the optimizer class \n"
      ],
      "execution_count": null,
      "outputs": []
    },
    {
      "cell_type": "markdown",
      "metadata": {
        "id": "uEyTbNu_0bY1"
      },
      "source": [
        "### Creating Layers\n",
        "#### <font color='red'>Exercises</font> Complete the code to include batching during training\n"
      ]
    },
    {
      "cell_type": "code",
      "metadata": {
        "id": "fHuX3xAr0dGy",
        "colab": {
          "base_uri": "https://localhost:8080/"
        },
        "outputId": "d980badb-6ce0-4192-e31f-409c65d563be"
      },
      "source": [
        "# SOLUTION from last week improved\n",
        "np.random.seed(42)\n",
        "layer1 = Layer_Dense(784, 300) \n",
        "layer2 = Layer_Dense(300, 64) \n",
        "layer3 = Layer_Dense(64, 10) \n",
        "\n",
        "act1 = Activation_ReLU()\n",
        "act2 = Activation_ReLU()\n",
        "act3 = Activation_Sigmoid()\n",
        "learning_rate = 0.3\n",
        "\n",
        "opt  = Optimizer_SGD(learning_rate)\n",
        "\n",
        "# maintain a dataframe to keep track of the network error\n",
        "monitoring = {}\n",
        "monitoring['mean_squared_error'] = []\n",
        "monitoring['accuracy'] = []\n",
        "\n",
        "# Variable to hold the batch size\n",
        "batch_size = 10 #len(X_train)\n",
        "# iterate and update weights at each epoch\n",
        "for epoch in range(20):\n",
        "  for i in range(0, len(X_train), batch_size):\n",
        "    \n",
        "    X_train_batch= X_train[i:i + batch_size]\n",
        "    y_train_batch= y_train[i:i + batch_size]\n",
        "    layer1.forward(X_train_batch, act1)   \n",
        "    layer2.forward(layer1.outputs, act2)\n",
        "    layer3.forward(layer2.outputs, act3)\n",
        "\n",
        "    #calculate the loss\n",
        "    loss=(layer3.outputs - y_train_batch)\n",
        "\n",
        "    # backprop through the layers\n",
        "    layer3.backward(loss, act3)\n",
        "    layer2.backward(layer3.dinputs, act2)\n",
        "    layer1.backward(layer2.dinputs, act1)\n",
        "\n",
        "    # update all the layer weights\n",
        "    opt.weight_update(layer3)\n",
        "    opt.weight_update(layer2)\n",
        "    opt.weight_update(layer1)\n",
        "  #end of batching loop for training\n",
        "\n",
        "  # Get predictions on the traiing data\n",
        "  layer1.forward(X_train, act1)   \n",
        "  layer2.forward(layer1.outputs, act2)\n",
        "  layer3.forward(layer2.outputs, act3)\n",
        "  pred = layer3.outputs\n",
        "  mse = mean_squared_error(pred, y_train)\n",
        "  acc = accuracy(pred, y_train)\n",
        "  monitoring['mean_squared_error'].append(mse)\n",
        "  monitoring['accuracy'].append(acc)\n",
        "  #end of epoch for loop\n",
        "\n",
        "monitoring_df = pd.DataFrame(monitoring)   \n",
        "monitoring_df"
      ],
      "execution_count": null,
      "outputs": [
        {
          "output_type": "execute_result",
          "data": {
            "text/plain": [
              "    mean_squared_error  accuracy\n",
              "0             0.043519    0.1110\n",
              "1             0.043397    0.1110\n",
              "2             0.043289    0.1110\n",
              "3             0.043136    0.1280\n",
              "4             0.042304    0.2135\n",
              "5             0.036261    0.3360\n",
              "6             0.030675    0.4965\n",
              "7             0.023065    0.6450\n",
              "8             0.017235    0.7690\n",
              "9             0.013757    0.8055\n",
              "10            0.010769    0.8605\n",
              "11            0.008841    0.8865\n",
              "12            0.007505    0.9070\n",
              "13            0.006546    0.9180\n",
              "14            0.005833    0.9255\n",
              "15            0.005005    0.9375\n",
              "16            0.004434    0.9450\n",
              "17            0.003913    0.9550\n",
              "18            0.003421    0.9610\n",
              "19            0.002996    0.9650"
            ],
            "text/html": [
              "\n",
              "  <div id=\"df-3281938b-b2bf-4171-a74c-b3000f926875\">\n",
              "    <div class=\"colab-df-container\">\n",
              "      <div>\n",
              "<style scoped>\n",
              "    .dataframe tbody tr th:only-of-type {\n",
              "        vertical-align: middle;\n",
              "    }\n",
              "\n",
              "    .dataframe tbody tr th {\n",
              "        vertical-align: top;\n",
              "    }\n",
              "\n",
              "    .dataframe thead th {\n",
              "        text-align: right;\n",
              "    }\n",
              "</style>\n",
              "<table border=\"1\" class=\"dataframe\">\n",
              "  <thead>\n",
              "    <tr style=\"text-align: right;\">\n",
              "      <th></th>\n",
              "      <th>mean_squared_error</th>\n",
              "      <th>accuracy</th>\n",
              "    </tr>\n",
              "  </thead>\n",
              "  <tbody>\n",
              "    <tr>\n",
              "      <th>0</th>\n",
              "      <td>0.043519</td>\n",
              "      <td>0.1110</td>\n",
              "    </tr>\n",
              "    <tr>\n",
              "      <th>1</th>\n",
              "      <td>0.043397</td>\n",
              "      <td>0.1110</td>\n",
              "    </tr>\n",
              "    <tr>\n",
              "      <th>2</th>\n",
              "      <td>0.043289</td>\n",
              "      <td>0.1110</td>\n",
              "    </tr>\n",
              "    <tr>\n",
              "      <th>3</th>\n",
              "      <td>0.043136</td>\n",
              "      <td>0.1280</td>\n",
              "    </tr>\n",
              "    <tr>\n",
              "      <th>4</th>\n",
              "      <td>0.042304</td>\n",
              "      <td>0.2135</td>\n",
              "    </tr>\n",
              "    <tr>\n",
              "      <th>5</th>\n",
              "      <td>0.036261</td>\n",
              "      <td>0.3360</td>\n",
              "    </tr>\n",
              "    <tr>\n",
              "      <th>6</th>\n",
              "      <td>0.030675</td>\n",
              "      <td>0.4965</td>\n",
              "    </tr>\n",
              "    <tr>\n",
              "      <th>7</th>\n",
              "      <td>0.023065</td>\n",
              "      <td>0.6450</td>\n",
              "    </tr>\n",
              "    <tr>\n",
              "      <th>8</th>\n",
              "      <td>0.017235</td>\n",
              "      <td>0.7690</td>\n",
              "    </tr>\n",
              "    <tr>\n",
              "      <th>9</th>\n",
              "      <td>0.013757</td>\n",
              "      <td>0.8055</td>\n",
              "    </tr>\n",
              "    <tr>\n",
              "      <th>10</th>\n",
              "      <td>0.010769</td>\n",
              "      <td>0.8605</td>\n",
              "    </tr>\n",
              "    <tr>\n",
              "      <th>11</th>\n",
              "      <td>0.008841</td>\n",
              "      <td>0.8865</td>\n",
              "    </tr>\n",
              "    <tr>\n",
              "      <th>12</th>\n",
              "      <td>0.007505</td>\n",
              "      <td>0.9070</td>\n",
              "    </tr>\n",
              "    <tr>\n",
              "      <th>13</th>\n",
              "      <td>0.006546</td>\n",
              "      <td>0.9180</td>\n",
              "    </tr>\n",
              "    <tr>\n",
              "      <th>14</th>\n",
              "      <td>0.005833</td>\n",
              "      <td>0.9255</td>\n",
              "    </tr>\n",
              "    <tr>\n",
              "      <th>15</th>\n",
              "      <td>0.005005</td>\n",
              "      <td>0.9375</td>\n",
              "    </tr>\n",
              "    <tr>\n",
              "      <th>16</th>\n",
              "      <td>0.004434</td>\n",
              "      <td>0.9450</td>\n",
              "    </tr>\n",
              "    <tr>\n",
              "      <th>17</th>\n",
              "      <td>0.003913</td>\n",
              "      <td>0.9550</td>\n",
              "    </tr>\n",
              "    <tr>\n",
              "      <th>18</th>\n",
              "      <td>0.003421</td>\n",
              "      <td>0.9610</td>\n",
              "    </tr>\n",
              "    <tr>\n",
              "      <th>19</th>\n",
              "      <td>0.002996</td>\n",
              "      <td>0.9650</td>\n",
              "    </tr>\n",
              "  </tbody>\n",
              "</table>\n",
              "</div>\n",
              "      <button class=\"colab-df-convert\" onclick=\"convertToInteractive('df-3281938b-b2bf-4171-a74c-b3000f926875')\"\n",
              "              title=\"Convert this dataframe to an interactive table.\"\n",
              "              style=\"display:none;\">\n",
              "        \n",
              "  <svg xmlns=\"http://www.w3.org/2000/svg\" height=\"24px\"viewBox=\"0 0 24 24\"\n",
              "       width=\"24px\">\n",
              "    <path d=\"M0 0h24v24H0V0z\" fill=\"none\"/>\n",
              "    <path d=\"M18.56 5.44l.94 2.06.94-2.06 2.06-.94-2.06-.94-.94-2.06-.94 2.06-2.06.94zm-11 1L8.5 8.5l.94-2.06 2.06-.94-2.06-.94L8.5 2.5l-.94 2.06-2.06.94zm10 10l.94 2.06.94-2.06 2.06-.94-2.06-.94-.94-2.06-.94 2.06-2.06.94z\"/><path d=\"M17.41 7.96l-1.37-1.37c-.4-.4-.92-.59-1.43-.59-.52 0-1.04.2-1.43.59L10.3 9.45l-7.72 7.72c-.78.78-.78 2.05 0 2.83L4 21.41c.39.39.9.59 1.41.59.51 0 1.02-.2 1.41-.59l7.78-7.78 2.81-2.81c.8-.78.8-2.07 0-2.86zM5.41 20L4 18.59l7.72-7.72 1.47 1.35L5.41 20z\"/>\n",
              "  </svg>\n",
              "      </button>\n",
              "      \n",
              "  <style>\n",
              "    .colab-df-container {\n",
              "      display:flex;\n",
              "      flex-wrap:wrap;\n",
              "      gap: 12px;\n",
              "    }\n",
              "\n",
              "    .colab-df-convert {\n",
              "      background-color: #E8F0FE;\n",
              "      border: none;\n",
              "      border-radius: 50%;\n",
              "      cursor: pointer;\n",
              "      display: none;\n",
              "      fill: #1967D2;\n",
              "      height: 32px;\n",
              "      padding: 0 0 0 0;\n",
              "      width: 32px;\n",
              "    }\n",
              "\n",
              "    .colab-df-convert:hover {\n",
              "      background-color: #E2EBFA;\n",
              "      box-shadow: 0px 1px 2px rgba(60, 64, 67, 0.3), 0px 1px 3px 1px rgba(60, 64, 67, 0.15);\n",
              "      fill: #174EA6;\n",
              "    }\n",
              "\n",
              "    [theme=dark] .colab-df-convert {\n",
              "      background-color: #3B4455;\n",
              "      fill: #D2E3FC;\n",
              "    }\n",
              "\n",
              "    [theme=dark] .colab-df-convert:hover {\n",
              "      background-color: #434B5C;\n",
              "      box-shadow: 0px 1px 3px 1px rgba(0, 0, 0, 0.15);\n",
              "      filter: drop-shadow(0px 1px 2px rgba(0, 0, 0, 0.3));\n",
              "      fill: #FFFFFF;\n",
              "    }\n",
              "  </style>\n",
              "\n",
              "      <script>\n",
              "        const buttonEl =\n",
              "          document.querySelector('#df-3281938b-b2bf-4171-a74c-b3000f926875 button.colab-df-convert');\n",
              "        buttonEl.style.display =\n",
              "          google.colab.kernel.accessAllowed ? 'block' : 'none';\n",
              "\n",
              "        async function convertToInteractive(key) {\n",
              "          const element = document.querySelector('#df-3281938b-b2bf-4171-a74c-b3000f926875');\n",
              "          const dataTable =\n",
              "            await google.colab.kernel.invokeFunction('convertToInteractive',\n",
              "                                                     [key], {});\n",
              "          if (!dataTable) return;\n",
              "\n",
              "          const docLinkHtml = 'Like what you see? Visit the ' +\n",
              "            '<a target=\"_blank\" href=https://colab.research.google.com/notebooks/data_table.ipynb>data table notebook</a>'\n",
              "            + ' to learn more about interactive tables.';\n",
              "          element.innerHTML = '';\n",
              "          dataTable['output_type'] = 'display_data';\n",
              "          await google.colab.output.renderOutput(dataTable, element);\n",
              "          const docLink = document.createElement('div');\n",
              "          docLink.innerHTML = docLinkHtml;\n",
              "          element.appendChild(docLink);\n",
              "        }\n",
              "      </script>\n",
              "    </div>\n",
              "  </div>\n",
              "  "
            ]
          },
          "metadata": {},
          "execution_count": 13
        }
      ]
    },
    {
      "cell_type": "markdown",
      "metadata": {
        "id": "LnkQ4vQqF3Gp"
      },
      "source": [
        "# 1.0 Build our Artificial Neural Network class"
      ]
    },
    {
      "cell_type": "markdown",
      "metadata": {
        "id": "TNLt5vFeyc2m"
      },
      "source": [
        "## <font color='red'>Exercises</font> Complete the ANN class methods"
      ]
    },
    {
      "cell_type": "code",
      "metadata": {
        "id": "alWOu_v4c2oh"
      },
      "source": [
        "class ANN():\n",
        "    def __init__(self, ouput_layer, act2, hidden_layer, act1, opt, batch_size = 10):\n",
        "        self.layer2 = ouput_layer\n",
        "        self.act2 = act2\n",
        "        self.layer1 = hidden_layer\n",
        "        self.act1 = act1\n",
        "        self.opt = opt\n",
        "        self.batch_size = batch_size\n",
        "\n",
        "    # Write a method to return consecutive batches from x and y \n",
        "    # with each batch being of the size specified by self.batch_size\n",
        "    def batch_input(self, x, y):\n",
        "        for i in range(0, len(x), self.batch_size):\n",
        "            yield (x[i:i + self.batch_size], y[i:i + self.batch_size])\n",
        "            \n",
        "    # alternate implmentation without yield is less optimised\n",
        "    #def batch_input_v2(self, x, y):\n",
        "        #batches = []\n",
        "        #for i in range(0, len(x), self.batch_size):\n",
        "          #batch_x = x[i:i + self.batch_size]\n",
        "          #batch_y = y[i:i + self.batch_size]\n",
        "          #batches.append((batch_x, batch_y))\n",
        "        #return (batches)\n",
        "\n",
        "    def train(self, x, y, epochs, opt, lr=0.3):\n",
        "        opt.lr = lr\n",
        "\n",
        "\n",
        "        monitoring = {}\n",
        "        monitoring['mean_squared_error'] = []\n",
        "        monitoring['accuracy'] = []\n",
        "\n",
        "        for epoch in range(epochs):\n",
        "            \n",
        "            for (batch_x, batch_y) in self.batch_input(x, y):\n",
        "                self.layer1.forward(batch_x, self.act1)\n",
        "                self.layer2.forward(self.layer1.outputs, self.act2)\n",
        "\n",
        "                #calculate the loss\n",
        "                loss=(self.layer2.outputs-batch_y)\n",
        "                \n",
        "                # backprop through the layers \n",
        "                self.layer2.backward(loss, self.act2)\n",
        "                self.layer1.backward(self.layer2.dinputs, self.act1)\n",
        "\n",
        "                # update all the layer weights\n",
        "                self.opt.weight_update(self.layer1)\n",
        "                self.opt.weight_update(self.layer2)\n",
        "               \n",
        "            # check models prediction capability\n",
        "            pred = self.predict(x)\n",
        "            mse, acc = self.evaluate(pred, y)\n",
        "            monitoring['mean_squared_error'].append(mse)\n",
        "            monitoring['accuracy'].append(acc)\n",
        "\n",
        "        monitoring_df = pd.DataFrame(monitoring)   \n",
        "        return monitoring_df\n",
        "\n",
        "    def predict(self, x):\n",
        "        self.layer1.forward(x, self.act1)\n",
        "        self.layer2.forward(self.layer1.outputs, self.act2)\n",
        "        return self.layer2.outputs\n",
        "\n",
        "    def evaluate(self, predicts, y):\n",
        "        mse = mean_squared_error(predicts, y)\n",
        "        acc = accuracy(predicts, y)\n",
        "        return mse, acc\n",
        "\n",
        "    def test(self, x, y):\n",
        "        monitoring = {}\n",
        "        pred = self.predict(x)\n",
        "        mse, acc = self.evaluate(pred, y)\n",
        "        monitoring['mean_squared_error'] = [mse]\n",
        "        monitoring['accuracy'] = [acc]\n",
        "        return pd.DataFrame(monitoring)"
      ],
      "execution_count": null,
      "outputs": []
    },
    {
      "cell_type": "markdown",
      "metadata": {
        "id": "8CNSLx21yOQr"
      },
      "source": [
        "## <font color='red'>Exercises</font> Using Artificial Neural Net Class to train a model\n",
        "\n",
        "To train an ANN; first configure the layers and use them to initialise the ANN object. \n",
        "Use the train method to train the model based on the hyperparameters being set. \n",
        "\n",
        "Complete the code below. "
      ]
    },
    {
      "cell_type": "code",
      "metadata": {
        "id": "zcRhbq4cVRna",
        "colab": {
          "base_uri": "https://localhost:8080/",
          "height": 363
        },
        "outputId": "d9e07013-ddb8-4bc7-a4bb-544154d1aafd"
      },
      "source": [
        "np.random.seed(42)\n",
        "\n",
        "# set other hyperparameters\n",
        "batch_size = 20\n",
        "epochs = 10\n",
        "lr = 0.3\n",
        "act1 = Activation_ReLU()\n",
        "act2 = Activation_Sigmoid()\n",
        "sgd = Optimizer_SGD()\n",
        "\n",
        "# configure the layers\n",
        "hidden = Layer_Dense(784,64)\n",
        "output = Layer_Dense(64,10)\n",
        "\n",
        "# create an ANN model\n",
        "ann = ANN(output, act2, hidden, act1, sgd, batch_size)\n",
        "\n",
        "# train the ANN model with training data\n",
        "train_performance = ann.train(X_train, y_train, epochs, sgd, lr)\n",
        "\n",
        "train_performance"
      ],
      "execution_count": null,
      "outputs": [
        {
          "output_type": "execute_result",
          "data": {
            "text/plain": [
              "   mean_squared_error  accuracy\n",
              "0            0.043474    0.1115\n",
              "1            0.033712    0.4670\n",
              "2            0.023760    0.6845\n",
              "3            0.018491    0.7745\n",
              "4            0.014806    0.8525\n",
              "5            0.011753    0.8880\n",
              "6            0.009893    0.9040\n",
              "7            0.008707    0.9125\n",
              "8            0.007862    0.9160\n",
              "9            0.007202    0.9230"
            ],
            "text/html": [
              "\n",
              "  <div id=\"df-53e0f351-ddd5-4192-aab1-bc8c19de0885\">\n",
              "    <div class=\"colab-df-container\">\n",
              "      <div>\n",
              "<style scoped>\n",
              "    .dataframe tbody tr th:only-of-type {\n",
              "        vertical-align: middle;\n",
              "    }\n",
              "\n",
              "    .dataframe tbody tr th {\n",
              "        vertical-align: top;\n",
              "    }\n",
              "\n",
              "    .dataframe thead th {\n",
              "        text-align: right;\n",
              "    }\n",
              "</style>\n",
              "<table border=\"1\" class=\"dataframe\">\n",
              "  <thead>\n",
              "    <tr style=\"text-align: right;\">\n",
              "      <th></th>\n",
              "      <th>mean_squared_error</th>\n",
              "      <th>accuracy</th>\n",
              "    </tr>\n",
              "  </thead>\n",
              "  <tbody>\n",
              "    <tr>\n",
              "      <th>0</th>\n",
              "      <td>0.043474</td>\n",
              "      <td>0.1115</td>\n",
              "    </tr>\n",
              "    <tr>\n",
              "      <th>1</th>\n",
              "      <td>0.033712</td>\n",
              "      <td>0.4670</td>\n",
              "    </tr>\n",
              "    <tr>\n",
              "      <th>2</th>\n",
              "      <td>0.023760</td>\n",
              "      <td>0.6845</td>\n",
              "    </tr>\n",
              "    <tr>\n",
              "      <th>3</th>\n",
              "      <td>0.018491</td>\n",
              "      <td>0.7745</td>\n",
              "    </tr>\n",
              "    <tr>\n",
              "      <th>4</th>\n",
              "      <td>0.014806</td>\n",
              "      <td>0.8525</td>\n",
              "    </tr>\n",
              "    <tr>\n",
              "      <th>5</th>\n",
              "      <td>0.011753</td>\n",
              "      <td>0.8880</td>\n",
              "    </tr>\n",
              "    <tr>\n",
              "      <th>6</th>\n",
              "      <td>0.009893</td>\n",
              "      <td>0.9040</td>\n",
              "    </tr>\n",
              "    <tr>\n",
              "      <th>7</th>\n",
              "      <td>0.008707</td>\n",
              "      <td>0.9125</td>\n",
              "    </tr>\n",
              "    <tr>\n",
              "      <th>8</th>\n",
              "      <td>0.007862</td>\n",
              "      <td>0.9160</td>\n",
              "    </tr>\n",
              "    <tr>\n",
              "      <th>9</th>\n",
              "      <td>0.007202</td>\n",
              "      <td>0.9230</td>\n",
              "    </tr>\n",
              "  </tbody>\n",
              "</table>\n",
              "</div>\n",
              "      <button class=\"colab-df-convert\" onclick=\"convertToInteractive('df-53e0f351-ddd5-4192-aab1-bc8c19de0885')\"\n",
              "              title=\"Convert this dataframe to an interactive table.\"\n",
              "              style=\"display:none;\">\n",
              "        \n",
              "  <svg xmlns=\"http://www.w3.org/2000/svg\" height=\"24px\"viewBox=\"0 0 24 24\"\n",
              "       width=\"24px\">\n",
              "    <path d=\"M0 0h24v24H0V0z\" fill=\"none\"/>\n",
              "    <path d=\"M18.56 5.44l.94 2.06.94-2.06 2.06-.94-2.06-.94-.94-2.06-.94 2.06-2.06.94zm-11 1L8.5 8.5l.94-2.06 2.06-.94-2.06-.94L8.5 2.5l-.94 2.06-2.06.94zm10 10l.94 2.06.94-2.06 2.06-.94-2.06-.94-.94-2.06-.94 2.06-2.06.94z\"/><path d=\"M17.41 7.96l-1.37-1.37c-.4-.4-.92-.59-1.43-.59-.52 0-1.04.2-1.43.59L10.3 9.45l-7.72 7.72c-.78.78-.78 2.05 0 2.83L4 21.41c.39.39.9.59 1.41.59.51 0 1.02-.2 1.41-.59l7.78-7.78 2.81-2.81c.8-.78.8-2.07 0-2.86zM5.41 20L4 18.59l7.72-7.72 1.47 1.35L5.41 20z\"/>\n",
              "  </svg>\n",
              "      </button>\n",
              "      \n",
              "  <style>\n",
              "    .colab-df-container {\n",
              "      display:flex;\n",
              "      flex-wrap:wrap;\n",
              "      gap: 12px;\n",
              "    }\n",
              "\n",
              "    .colab-df-convert {\n",
              "      background-color: #E8F0FE;\n",
              "      border: none;\n",
              "      border-radius: 50%;\n",
              "      cursor: pointer;\n",
              "      display: none;\n",
              "      fill: #1967D2;\n",
              "      height: 32px;\n",
              "      padding: 0 0 0 0;\n",
              "      width: 32px;\n",
              "    }\n",
              "\n",
              "    .colab-df-convert:hover {\n",
              "      background-color: #E2EBFA;\n",
              "      box-shadow: 0px 1px 2px rgba(60, 64, 67, 0.3), 0px 1px 3px 1px rgba(60, 64, 67, 0.15);\n",
              "      fill: #174EA6;\n",
              "    }\n",
              "\n",
              "    [theme=dark] .colab-df-convert {\n",
              "      background-color: #3B4455;\n",
              "      fill: #D2E3FC;\n",
              "    }\n",
              "\n",
              "    [theme=dark] .colab-df-convert:hover {\n",
              "      background-color: #434B5C;\n",
              "      box-shadow: 0px 1px 3px 1px rgba(0, 0, 0, 0.15);\n",
              "      filter: drop-shadow(0px 1px 2px rgba(0, 0, 0, 0.3));\n",
              "      fill: #FFFFFF;\n",
              "    }\n",
              "  </style>\n",
              "\n",
              "      <script>\n",
              "        const buttonEl =\n",
              "          document.querySelector('#df-53e0f351-ddd5-4192-aab1-bc8c19de0885 button.colab-df-convert');\n",
              "        buttonEl.style.display =\n",
              "          google.colab.kernel.accessAllowed ? 'block' : 'none';\n",
              "\n",
              "        async function convertToInteractive(key) {\n",
              "          const element = document.querySelector('#df-53e0f351-ddd5-4192-aab1-bc8c19de0885');\n",
              "          const dataTable =\n",
              "            await google.colab.kernel.invokeFunction('convertToInteractive',\n",
              "                                                     [key], {});\n",
              "          if (!dataTable) return;\n",
              "\n",
              "          const docLinkHtml = 'Like what you see? Visit the ' +\n",
              "            '<a target=\"_blank\" href=https://colab.research.google.com/notebooks/data_table.ipynb>data table notebook</a>'\n",
              "            + ' to learn more about interactive tables.';\n",
              "          element.innerHTML = '';\n",
              "          dataTable['output_type'] = 'display_data';\n",
              "          await google.colab.output.renderOutput(dataTable, element);\n",
              "          const docLink = document.createElement('div');\n",
              "          docLink.innerHTML = docLinkHtml;\n",
              "          element.appendChild(docLink);\n",
              "        }\n",
              "      </script>\n",
              "    </div>\n",
              "  </div>\n",
              "  "
            ]
          },
          "metadata": {},
          "execution_count": 15
        }
      ]
    },
    {
      "cell_type": "markdown",
      "metadata": {
        "id": "-nGo4e-hVRng"
      },
      "source": [
        "### Plot the model error and accuracy with increasing epochs\n",
        "\n",
        "Error at the end of each epoch has been stored in self.E\n",
        "We can now use mathplotlib to plot the error at the end of each epoch. \n",
        "Our expectation is that as we continue to descend (hill-walking) we should move closer to the minima\n",
        "as such error should decrease. "
      ]
    },
    {
      "cell_type": "code",
      "metadata": {
        "id": "00oXPVPlf1RG",
        "scrolled": true
      },
      "source": [
        "fig, axes = plt.subplots(1, 2, figsize=(15,5))\n",
        "train_performance.mean_squared_error.plot(ax=axes[0], title=\"Mean Squared Error\", xlabel = \"epochs\")\n",
        "print(train_performance)\n",
        "\n",
        "train_performance.accuracy.plot(ax=axes[1], title=\"Accuracy\", xlabel = \"epochs\") \n",
        "#plt.savefig('train_performance.png', dpi=300) # uncomment to save this plot\n",
        "\n"
      ],
      "execution_count": null,
      "outputs": []
    },
    {
      "cell_type": "code",
      "metadata": {
        "id": "uVhSe6xNmrze"
      },
      "source": [],
      "execution_count": null,
      "outputs": []
    },
    {
      "cell_type": "markdown",
      "metadata": {
        "id": "IXJfujvrGaPQ"
      },
      "source": [
        "# 2.0 Exploring different values of a hyperparameter - a comparative study on the batch_size"
      ]
    },
    {
      "cell_type": "code",
      "metadata": {
        "id": "EvC4Hdg3oX-H",
        "colab": {
          "base_uri": "https://localhost:8080/"
        },
        "outputId": "bef96f05-8479-45be-fb70-2cfb7f12db80"
      },
      "source": [
        "print(\"This will take a few moments ...\")\n",
        "ann_list = []\n",
        "train_results_list = []\n",
        "batch_sizes = [1, 20, 100, 200, 500, len(X_train)]\n",
        "lr=0.3\n",
        "epochs=10\n",
        "act1 = Activation_ReLU()\n",
        "act2 = Activation_Sigmoid()\n",
        "sgd = Optimizer_SGD()\n",
        "\n",
        "for batch_size in batch_sizes:\n",
        "    # configure the layers\n",
        "    hidden_layer = Layer_Dense(784,200)\n",
        "    output_layer = Layer_Dense(200,10)\n",
        "\n",
        "    # create an ANN model\n",
        "    ann = ANN(output_layer, act2, hidden_layer, act1, sgd, batch_size) # create a new ANN model with a specific batch size\n",
        "    \n",
        "    train_performance=ann.train(X_train, y_train, epochs, sgd, lr) # train the model\n",
        "\n",
        "    train_results_list.append(train_performance)\n",
        "    ann_list.append(ann) # maintain each ANN model in a list\n",
        "\n",
        "print('completed')"
      ],
      "execution_count": null,
      "outputs": [
        {
          "output_type": "stream",
          "name": "stdout",
          "text": [
            "This will take a few moments ...\n",
            "completed\n"
          ]
        }
      ]
    },
    {
      "cell_type": "markdown",
      "metadata": {
        "id": "P0oaGHZiocVi"
      },
      "source": [
        "## Gather the test results for each ANN"
      ]
    },
    {
      "cell_type": "code",
      "metadata": {
        "id": "BL5vbWC-oY7_",
        "colab": {
          "base_uri": "https://localhost:8080/"
        },
        "outputId": "715feafb-e938-4b47-fc66-b7a1902b40b4"
      },
      "source": [
        "#iterate through each model and accumulate number of correct predictions\n",
        "\n",
        "\n",
        "test_results_list = []\n",
        "\n",
        "for model in ann_list: \n",
        "    df_test_result = model.test(X_test, y_test)\n",
        "    mse=df_test_result['mean_squared_error'].values\n",
        "    acc=df_test_result['accuracy'].values\n",
        "\n",
        "    test_results_list.append((mse[0], acc[0]))\n",
        "\n",
        "    pass\n",
        "pass\n",
        "\n",
        "print (\"Mean Squared Error and Accuracy Results \\n {}\".format(test_results_list))"
      ],
      "execution_count": null,
      "outputs": [
        {
          "output_type": "stream",
          "name": "stdout",
          "text": [
            "Mean Squared Error and Accuracy Results \n",
            " [(0.006336155601908827, 0.9235), (0.0092389890404743, 0.8855), (0.032535101529176, 0.5135), (0.043131244947902665, 0.2865), (0.04402670943451509, 0.1675), (0.04684975219556329, 0.0955)]\n"
          ]
        }
      ]
    },
    {
      "cell_type": "markdown",
      "metadata": {
        "id": "x-W2k8lHojHy"
      },
      "source": [
        "#### Create a convenient dataframe to hold all the test results"
      ]
    },
    {
      "cell_type": "code",
      "metadata": {
        "id": "jmEwcOn3ofKW",
        "colab": {
          "base_uri": "https://localhost:8080/",
          "height": 225
        },
        "outputId": "ff797374-7c20-4266-8a38-710c61114db4"
      },
      "source": [
        "print(test_results_list)\n",
        "\n",
        "\n",
        "df_batch_results = pd.DataFrame(test_results_list, columns=['mean_squared_error','accuracy' ], index=batch_sizes)\n",
        "df_batch_results.head()"
      ],
      "execution_count": null,
      "outputs": [
        {
          "output_type": "stream",
          "name": "stdout",
          "text": [
            "[(0.006336155601908827, 0.9235), (0.0092389890404743, 0.8855), (0.032535101529176, 0.5135), (0.043131244947902665, 0.2865), (0.04402670943451509, 0.1675), (0.04684975219556329, 0.0955)]\n"
          ]
        },
        {
          "output_type": "execute_result",
          "data": {
            "text/plain": [
              "     mean_squared_error  accuracy\n",
              "1              0.006336    0.9235\n",
              "20             0.009239    0.8855\n",
              "100            0.032535    0.5135\n",
              "200            0.043131    0.2865\n",
              "500            0.044027    0.1675"
            ],
            "text/html": [
              "\n",
              "  <div id=\"df-33ec14da-0ae4-4857-b4df-4d14a4f83116\">\n",
              "    <div class=\"colab-df-container\">\n",
              "      <div>\n",
              "<style scoped>\n",
              "    .dataframe tbody tr th:only-of-type {\n",
              "        vertical-align: middle;\n",
              "    }\n",
              "\n",
              "    .dataframe tbody tr th {\n",
              "        vertical-align: top;\n",
              "    }\n",
              "\n",
              "    .dataframe thead th {\n",
              "        text-align: right;\n",
              "    }\n",
              "</style>\n",
              "<table border=\"1\" class=\"dataframe\">\n",
              "  <thead>\n",
              "    <tr style=\"text-align: right;\">\n",
              "      <th></th>\n",
              "      <th>mean_squared_error</th>\n",
              "      <th>accuracy</th>\n",
              "    </tr>\n",
              "  </thead>\n",
              "  <tbody>\n",
              "    <tr>\n",
              "      <th>1</th>\n",
              "      <td>0.006336</td>\n",
              "      <td>0.9235</td>\n",
              "    </tr>\n",
              "    <tr>\n",
              "      <th>20</th>\n",
              "      <td>0.009239</td>\n",
              "      <td>0.8855</td>\n",
              "    </tr>\n",
              "    <tr>\n",
              "      <th>100</th>\n",
              "      <td>0.032535</td>\n",
              "      <td>0.5135</td>\n",
              "    </tr>\n",
              "    <tr>\n",
              "      <th>200</th>\n",
              "      <td>0.043131</td>\n",
              "      <td>0.2865</td>\n",
              "    </tr>\n",
              "    <tr>\n",
              "      <th>500</th>\n",
              "      <td>0.044027</td>\n",
              "      <td>0.1675</td>\n",
              "    </tr>\n",
              "  </tbody>\n",
              "</table>\n",
              "</div>\n",
              "      <button class=\"colab-df-convert\" onclick=\"convertToInteractive('df-33ec14da-0ae4-4857-b4df-4d14a4f83116')\"\n",
              "              title=\"Convert this dataframe to an interactive table.\"\n",
              "              style=\"display:none;\">\n",
              "        \n",
              "  <svg xmlns=\"http://www.w3.org/2000/svg\" height=\"24px\"viewBox=\"0 0 24 24\"\n",
              "       width=\"24px\">\n",
              "    <path d=\"M0 0h24v24H0V0z\" fill=\"none\"/>\n",
              "    <path d=\"M18.56 5.44l.94 2.06.94-2.06 2.06-.94-2.06-.94-.94-2.06-.94 2.06-2.06.94zm-11 1L8.5 8.5l.94-2.06 2.06-.94-2.06-.94L8.5 2.5l-.94 2.06-2.06.94zm10 10l.94 2.06.94-2.06 2.06-.94-2.06-.94-.94-2.06-.94 2.06-2.06.94z\"/><path d=\"M17.41 7.96l-1.37-1.37c-.4-.4-.92-.59-1.43-.59-.52 0-1.04.2-1.43.59L10.3 9.45l-7.72 7.72c-.78.78-.78 2.05 0 2.83L4 21.41c.39.39.9.59 1.41.59.51 0 1.02-.2 1.41-.59l7.78-7.78 2.81-2.81c.8-.78.8-2.07 0-2.86zM5.41 20L4 18.59l7.72-7.72 1.47 1.35L5.41 20z\"/>\n",
              "  </svg>\n",
              "      </button>\n",
              "      \n",
              "  <style>\n",
              "    .colab-df-container {\n",
              "      display:flex;\n",
              "      flex-wrap:wrap;\n",
              "      gap: 12px;\n",
              "    }\n",
              "\n",
              "    .colab-df-convert {\n",
              "      background-color: #E8F0FE;\n",
              "      border: none;\n",
              "      border-radius: 50%;\n",
              "      cursor: pointer;\n",
              "      display: none;\n",
              "      fill: #1967D2;\n",
              "      height: 32px;\n",
              "      padding: 0 0 0 0;\n",
              "      width: 32px;\n",
              "    }\n",
              "\n",
              "    .colab-df-convert:hover {\n",
              "      background-color: #E2EBFA;\n",
              "      box-shadow: 0px 1px 2px rgba(60, 64, 67, 0.3), 0px 1px 3px 1px rgba(60, 64, 67, 0.15);\n",
              "      fill: #174EA6;\n",
              "    }\n",
              "\n",
              "    [theme=dark] .colab-df-convert {\n",
              "      background-color: #3B4455;\n",
              "      fill: #D2E3FC;\n",
              "    }\n",
              "\n",
              "    [theme=dark] .colab-df-convert:hover {\n",
              "      background-color: #434B5C;\n",
              "      box-shadow: 0px 1px 3px 1px rgba(0, 0, 0, 0.15);\n",
              "      filter: drop-shadow(0px 1px 2px rgba(0, 0, 0, 0.3));\n",
              "      fill: #FFFFFF;\n",
              "    }\n",
              "  </style>\n",
              "\n",
              "      <script>\n",
              "        const buttonEl =\n",
              "          document.querySelector('#df-33ec14da-0ae4-4857-b4df-4d14a4f83116 button.colab-df-convert');\n",
              "        buttonEl.style.display =\n",
              "          google.colab.kernel.accessAllowed ? 'block' : 'none';\n",
              "\n",
              "        async function convertToInteractive(key) {\n",
              "          const element = document.querySelector('#df-33ec14da-0ae4-4857-b4df-4d14a4f83116');\n",
              "          const dataTable =\n",
              "            await google.colab.kernel.invokeFunction('convertToInteractive',\n",
              "                                                     [key], {});\n",
              "          if (!dataTable) return;\n",
              "\n",
              "          const docLinkHtml = 'Like what you see? Visit the ' +\n",
              "            '<a target=\"_blank\" href=https://colab.research.google.com/notebooks/data_table.ipynb>data table notebook</a>'\n",
              "            + ' to learn more about interactive tables.';\n",
              "          element.innerHTML = '';\n",
              "          dataTable['output_type'] = 'display_data';\n",
              "          await google.colab.output.renderOutput(dataTable, element);\n",
              "          const docLink = document.createElement('div');\n",
              "          docLink.innerHTML = docLinkHtml;\n",
              "          element.appendChild(docLink);\n",
              "        }\n",
              "      </script>\n",
              "    </div>\n",
              "  </div>\n",
              "  "
            ]
          },
          "metadata": {},
          "execution_count": 19
        }
      ]
    },
    {
      "cell_type": "markdown",
      "metadata": {
        "id": "fuhUUthxoomz"
      },
      "source": [
        "## Create a bar chart to analyse the mean squared error and accuracy results"
      ]
    },
    {
      "cell_type": "code",
      "metadata": {
        "id": "IdnayK7Wol1p",
        "colab": {
          "base_uri": "https://localhost:8080/",
          "height": 387
        },
        "outputId": "87c36293-f191-4fcd-cd9d-4aa3b8bebee0"
      },
      "source": [
        "objects = batch_sizes\n",
        "performance = test_results_list\n",
        "print(performance)\n",
        "# plot performances bars\n",
        "fig, axes = plt.subplots(1, 2, figsize=(15,5))\n",
        "y_pos = np.arange(len(objects))\n",
        "# get mean squared error from performance\n",
        "model_mse = [x[0] for x in performance]\n",
        "axes[0].bar(y_pos, model_mse, align='center', alpha=0.5)\n",
        "axes[0].set_xticks(y_pos)\n",
        "axes[0].set_xticklabels(objects)\n",
        "axes[0].set_xlabel('Batch size')\n",
        "axes[0].set_title('Mean Squared Error')\n",
        "\n",
        "# plot accuracy from performance\n",
        "model_acc = [x[1] for x in performance]\n",
        "axes[1].bar(y_pos, model_acc, align='center', alpha=0.5)\n",
        "axes[1].set_xticks(y_pos)\n",
        "axes[1].set_xticklabels(objects)\n",
        "axes[1].set_xlabel('Batch size')\n",
        "axes[1].set_title('Accuracy')\n"
      ],
      "execution_count": null,
      "outputs": [
        {
          "output_type": "stream",
          "name": "stdout",
          "text": [
            "[(0.006336155601908827, 0.9235), (0.0092389890404743, 0.8855), (0.032535101529176, 0.5135), (0.043131244947902665, 0.2865), (0.04402670943451509, 0.1675), (0.04684975219556329, 0.0955)]\n"
          ]
        },
        {
          "output_type": "execute_result",
          "data": {
            "text/plain": [
              "Text(0.5, 1.0, 'Accuracy')"
            ]
          },
          "metadata": {},
          "execution_count": 20
        },
        {
          "output_type": "display_data",
          "data": {
            "text/plain": [
              "<Figure size 1080x360 with 2 Axes>"
            ],
            "image/png": "[encoded data removed]"
          },
          "metadata": {}
        }
      ]
    },
    {
      "cell_type": "markdown",
      "metadata": {
        "id": "VIvGyAGno2jE"
      },
      "source": [
        "## Study the impact of varying two hyper parameters on the ANN"
      ]
    },
    {
      "cell_type": "code",
      "metadata": {
        "id": "eQNmEMJpoyXJ",
        "colab": {
          "base_uri": "https://localhost:8080/"
        },
        "outputId": "b324af94-4e3f-4a6b-b1e7-570cf47f4c7f"
      },
      "source": [
        "# Try different configurations of hidden layer and batch size\n",
        "print(\"Percentage of training data used: \", (len(y_train)/len(y_train_all)) * 100)\n",
        "\n",
        "print(\"This will take a few moments ...\")\n",
        "train_results_list = []\n",
        "ann_list = []\n",
        "batch_sizes = [1, 20, 100, 200, 500, len(y_train)]  # lets try six different configurations of batch sizes\n",
        "hidden_nodes = [200, 5]  # two different configurations of hidden node layer\n",
        "epochs=20\n",
        "lr=0.3\n",
        "sgd = Optimizer_SGD()\n",
        "\n",
        "# lets create the set of modesl\n",
        "for hidden in hidden_nodes:\n",
        "    ann_list_element = [] # first set of nets with a given hidden node size\n",
        "    for batch in batch_sizes:\n",
        "        # configure the layers\n",
        "        hidden_layer = Layer_Dense(784, hidden)\n",
        "        output_layer = Layer_Dense(hidden, 10)\n",
        "        \n",
        "        ann_ = ANN(output_layer, act2, hidden_layer, act1, sgd, batch) # create a new ANN model with a specific batch size\n",
        "\n",
        "        train_performance = ann_.train(X_train, y_train, epochs, sgd, lr) # train the model\n",
        "\n",
        "        train_results_list.append(train_performance)\n",
        "        ann_list_element.append(ann_) # maintain each ANN model in a list\n",
        " \n",
        "        pass\n",
        "    \n",
        "    ann_list.append(ann_list_element)# now append the set of models \n",
        "    pass\n",
        "\n",
        "#lets test the models \n",
        "model_results = []\n",
        "model_result_element = []\n",
        "\n",
        "for model1 in ann_list:\n",
        "    model_result_element = []\n",
        "    \n",
        "    for model2 in model1:\n",
        "        df_test_result = model2.test(X_test, y_test)\n",
        "        mse=df_test_result['mean_squared_error'].values\n",
        "        acc=df_test_result['accuracy'].values\n",
        "\n",
        "        model_result_element.append((mse[0], acc[0]))\n",
        "        pass\n",
        "    model_results.append(model_result_element)\n",
        "    pass\n",
        "\n",
        "print('completed')"
      ],
      "execution_count": null,
      "outputs": [
        {
          "output_type": "stream",
          "name": "stdout",
          "text": [
            "Percentage of training data used:  10.0\n",
            "This will take a few moments ...\n",
            "completed\n"
          ]
        }
      ]
    },
    {
      "cell_type": "markdown",
      "metadata": {
        "id": "Nm5hId5so7Sm"
      },
      "source": [
        "## Plot the results of hidden nodes versus batch size\n",
        "\n",
        "In the graph below we have plotted the accuracy for 6 different batch sizes comparing against 2 architectures (one with 200 hidden nodes and the other with 4 hidden nodes). \n",
        "As expected when the ANN architecture has fewer hidden nodes it has less opportunity to learn a sensible mapping between the input features and expected outputs."
      ]
    },
    {
      "cell_type": "code",
      "metadata": {
        "id": "BiwEagLLo8L7",
        "colab": {
          "base_uri": "https://localhost:8080/",
          "height": 368
        },
        "outputId": "9108de63-82a5-4740-e5f2-52cd40a0a0db"
      },
      "source": [
        "objects = batch_sizes\n",
        "\n",
        "fig, axes = plt.subplots(1, 2, figsize=(15,5))\n",
        "\n",
        "for result in model_results:\n",
        "    performance_mse = [x[0] for x in result]  # mean squared error\n",
        "    performance_acc = [x[1] for x in result]  # accuracy\n",
        "    axes[0].bar(y_pos, performance_acc, align='center', alpha=0.5 )  # add accuracy to plot\n",
        "    axes[1].bar(y_pos, performance_mse, align='center', alpha=0.5 )  #  add mean squared error to plot\n",
        "\n",
        "y_pos = np.arange(len(objects))\n",
        "axes[0].legend(hidden_nodes)\n",
        "axes[0].set_xticks(y_pos)\n",
        "axes[0].set_xticklabels(objects)\n",
        "axes[0].set_xlabel('Batch size')\n",
        "axes[0].set_title('Accuracy')\n",
        "\n",
        "axes[1].legend(hidden_nodes)\n",
        "axes[1].set_xticks(y_pos)\n",
        "axes[1].set_xticklabels(objects)\n",
        "axes[1].set_xlabel('Batch size')\n",
        "axes[1].set_title('Mean Squared Error Average')"
      ],
      "execution_count": null,
      "outputs": [
        {
          "output_type": "execute_result",
          "data": {
            "text/plain": [
              "Text(0.5, 1.0, 'Mean Squared Error Average')"
            ]
          },
          "metadata": {},
          "execution_count": 22
        },
        {
          "output_type": "display_data",
          "data": {
            "text/plain": [
              "<Figure size 1080x360 with 2 Axes>"
            ],
            "image/png": "[encoded data removed]"
          },
          "metadata": {}
        }
      ]
    },
    {
      "cell_type": "markdown",
      "metadata": {
        "id": "9I1636sBVRn2"
      },
      "source": [
        "## Exercises loosly aligned to CW1\n",
        "\n",
        "How would you interpret the results from the graph above?\n",
        "\n",
        "You should now try exploring with different hyper-parameters: \n",
        "\n",
        "- What is the effect of increasing learning rate on accuracy?\n",
        "- What happens to network error with increased number of epochs?\n",
        "- What is the effect of increasing training epochs on test set accuracy?\n",
        "- What happens to accuracy when you increase batch size?\n",
        "- Explore the different charting functionality provided by matplotlib (https://matplotlib.org/)\n",
        "\n",
        "Try to examine the ANN class closely:\n",
        "- Can you understand how the gradients are used to tweak the weights so as to move towards a local minima of reducing error?\n",
        "- You might want to write a helper function to compare the hidden_inputs values and the hidden_outputs after the activation function is applied in the query function.\n",
        "- Pay attention to the training time when you use the entire MNIST train instances versus a smaller sample such as 1500.\n",
        "\n",
        "\n",
        "### Advanced\n",
        "\n",
        "- What is the effect of increasing the nummber of hidden layer nodes on accuracy?\n",
        "Hint: You need to modify the ANN class methods init, train and prediction.\n",
        "- In the lecture we covered the sigmoid activation function and in this code we have implemented both the forward function and the derivatives in the backward function (see activation class). How might you change the code to use the ReLu activation function instead of the sigmoid?"
      ]
    },
    {
      "cell_type": "markdown",
      "metadata": {
        "id": "94okQ4bajs60"
      },
      "source": [
        "## <font color='red'>Exercises</font> Advanced\n",
        "\n",
        "- Modify the code above to add a further hidden layer? Your first layer must match the 784 feature dimension of the instance and your last layer must output 10 signals to align with the 10 MNIST class digits. But the middle layers can have any reasonable dimension. Ensure that between layers the dimension sizes match.\n",
        "- Increase or decrease the epochs?\n",
        "- What combination of epochs and layers help acheive the highest accuracy (or lowest error)?"
      ]
    },
    {
      "cell_type": "code",
      "metadata": {
        "id": "KqyxK6URjPep"
      },
      "source": [
        "# class modified to add an exrta hidden_layer2\n",
        "class ANN():\n",
        "    def __init__(self, ouput_layer, act3, hidden_layer2, act2, hidden_layer1, act1, opt, batch_size = 10):\n",
        "        self.layer3 = ouput_layer\n",
        "        self.act3 = act3\n",
        "        self.layer2 = hidden_layer2\n",
        "        self.act2 = act2              # new hidden layer's activation\n",
        "        self.layer1 = hidden_layer1   # new hidden layer\n",
        "        self.act1 = act1\n",
        "        self.opt = opt\n",
        "        self.batch_size = batch_size\n",
        "\n",
        "    def batch_input(self, x, y):\n",
        "        for i in range(0, len(x), self.batch_size):\n",
        "            yield (x[i:i + self.batch_size], y[i:i + self.batch_size])\n",
        "\n",
        "    def train(self, x, y, epochs, opt, lr=0.3):\n",
        "        opt.lr = lr\n",
        "\n",
        "        monitoring = {}\n",
        "        monitoring['mean_squared_error'] = []\n",
        "        monitoring['accuracy'] = []\n",
        "\n",
        "        for epoch in range(epochs):\n",
        "\n",
        "            for (batch_x, batch_y) in self.batch_input(x, y):\n",
        "                self.layer1.forward(batch_x, self.act1)\n",
        "                self.layer2.forward(self.layer1.outputs, self.act2)\n",
        "                self.layer3.forward(self.layer2.outputs, self.act3)\n",
        "\n",
        "                #calculate the loss\n",
        "                loss=(self.layer3.outputs-batch_y)\n",
        "                \n",
        "                # backprop through the layers \n",
        "                self.layer3.backward(loss, self.act3) # change to add the new layer               \n",
        "                self.layer2.backward(self.layer3.dinputs, self.act2) # change to add the new layer      \n",
        "                self.layer1.backward(self.layer2.dinputs, self.act1)\n",
        "\n",
        "                # update all the layer weights\n",
        "                self.opt.weight_update(self.layer1)\n",
        "                self.opt.weight_update(self.layer2) # change to add the new layer      \n",
        "                self.opt.weight_update(self.layer3)               \n",
        "\n",
        "            pred = self.predict(x)\n",
        "            mse, acc = self.evaluate(pred, y)\n",
        "            monitoring['mean_squared_error'].append(mse)\n",
        "            monitoring['accuracy'].append(acc)\n",
        "\n",
        "        monitoring_df = pd.DataFrame(monitoring)   \n",
        "        return monitoring_df\n",
        "\n",
        "    def predict(self, x):\n",
        "        self.layer1.forward(x, self.act1)\n",
        "        self.layer2.forward(self.layer1.outputs, self.act2)\n",
        "        self.layer3.forward(self.layer2.outputs, self.act3) # change to add the new layer  \n",
        "        return self.layer3.outputs\n",
        "\n",
        "    def evaluate(self, predicts, y):\n",
        "        mse = mean_squared_error(predicts, y)\n",
        "        acc = accuracy(predicts, y)\n",
        "        return mse, acc\n",
        "\n",
        "    def test(self, x, y):\n",
        "        monitoring = {}\n",
        "        pred = self.predict(x)\n",
        "        mse, acc = self.evaluate(pred, y)\n",
        "        monitoring['mean_squared_error'] = [mse]\n",
        "        monitoring['accuracy'] = [acc]\n",
        "        return pd.DataFrame(monitoring)"
      ],
      "execution_count": null,
      "outputs": []
    },
    {
      "cell_type": "code",
      "metadata": {
        "id": "lvxtYx2hjP0B",
        "colab": {
          "base_uri": "https://localhost:8080/",
          "height": 363
        },
        "outputId": "fb5ea3c6-0e27-40fc-c05f-9cbf147b0409"
      },
      "source": [
        "np.random.seed(42)\n",
        "\n",
        "# set other hyperparameters\n",
        "batch_size = 20\n",
        "epochs = 10\n",
        "lr = 0.3\n",
        "act1 = Activation_ReLU()\n",
        "act2 = Activation_ReLU()\n",
        "act3 = Activation_Sigmoid()\n",
        "sgd = Optimizer_SGD()\n",
        "\n",
        "# configure the layers\n",
        "hidden1 = Layer_Dense(784,128) # change to add the new layer  \n",
        "hidden2 = Layer_Dense(128,32) # change to add the new layer  \n",
        "output = Layer_Dense(32,10)\n",
        "\n",
        "# create an ANN model\n",
        "ann = ANN(output, act3, hidden2, act2, hidden1, act1, sgd, batch_size)\n",
        "\n",
        "# train the ANN model with training data\n",
        "train_performance = ann.train(X_train, y_train, epochs, sgd, lr)\n",
        "\n",
        "train_performance"
      ],
      "execution_count": null,
      "outputs": [
        {
          "output_type": "execute_result",
          "data": {
            "text/plain": [
              "   mean_squared_error  accuracy\n",
              "0            0.043545    0.1110\n",
              "1            0.043459    0.1110\n",
              "2            0.043401    0.1110\n",
              "3            0.043351    0.1110\n",
              "4            0.043304    0.1145\n",
              "5            0.043255    0.1195\n",
              "6            0.043194    0.1355\n",
              "7            0.043099    0.1675\n",
              "8            0.042856    0.2075\n",
              "9            0.040777    0.2135"
            ],
            "text/html": [
              "\n",
              "  <div id=\"df-5884df94-ccf1-4353-acf1-c2f3bdf03240\">\n",
              "    <div class=\"colab-df-container\">\n",
              "      <div>\n",
              "<style scoped>\n",
              "    .dataframe tbody tr th:only-of-type {\n",
              "        vertical-align: middle;\n",
              "    }\n",
              "\n",
              "    .dataframe tbody tr th {\n",
              "        vertical-align: top;\n",
              "    }\n",
              "\n",
              "    .dataframe thead th {\n",
              "        text-align: right;\n",
              "    }\n",
              "</style>\n",
              "<table border=\"1\" class=\"dataframe\">\n",
              "  <thead>\n",
              "    <tr style=\"text-align: right;\">\n",
              "      <th></th>\n",
              "      <th>mean_squared_error</th>\n",
              "      <th>accuracy</th>\n",
              "    </tr>\n",
              "  </thead>\n",
              "  <tbody>\n",
              "    <tr>\n",
              "      <th>0</th>\n",
              "      <td>0.043545</td>\n",
              "      <td>0.1110</td>\n",
              "    </tr>\n",
              "    <tr>\n",
              "      <th>1</th>\n",
              "      <td>0.043459</td>\n",
              "      <td>0.1110</td>\n",
              "    </tr>\n",
              "    <tr>\n",
              "      <th>2</th>\n",
              "      <td>0.043401</td>\n",
              "      <td>0.1110</td>\n",
              "    </tr>\n",
              "    <tr>\n",
              "      <th>3</th>\n",
              "      <td>0.043351</td>\n",
              "      <td>0.1110</td>\n",
              "    </tr>\n",
              "    <tr>\n",
              "      <th>4</th>\n",
              "      <td>0.043304</td>\n",
              "      <td>0.1145</td>\n",
              "    </tr>\n",
              "    <tr>\n",
              "      <th>5</th>\n",
              "      <td>0.043255</td>\n",
              "      <td>0.1195</td>\n",
              "    </tr>\n",
              "    <tr>\n",
              "      <th>6</th>\n",
              "      <td>0.043194</td>\n",
              "      <td>0.1355</td>\n",
              "    </tr>\n",
              "    <tr>\n",
              "      <th>7</th>\n",
              "      <td>0.043099</td>\n",
              "      <td>0.1675</td>\n",
              "    </tr>\n",
              "    <tr>\n",
              "      <th>8</th>\n",
              "      <td>0.042856</td>\n",
              "      <td>0.2075</td>\n",
              "    </tr>\n",
              "    <tr>\n",
              "      <th>9</th>\n",
              "      <td>0.040777</td>\n",
              "      <td>0.2135</td>\n",
              "    </tr>\n",
              "  </tbody>\n",
              "</table>\n",
              "</div>\n",
              "      <button class=\"colab-df-convert\" onclick=\"convertToInteractive('df-5884df94-ccf1-4353-acf1-c2f3bdf03240')\"\n",
              "              title=\"Convert this dataframe to an interactive table.\"\n",
              "              style=\"display:none;\">\n",
              "        \n",
              "  <svg xmlns=\"http://www.w3.org/2000/svg\" height=\"24px\"viewBox=\"0 0 24 24\"\n",
              "       width=\"24px\">\n",
              "    <path d=\"M0 0h24v24H0V0z\" fill=\"none\"/>\n",
              "    <path d=\"M18.56 5.44l.94 2.06.94-2.06 2.06-.94-2.06-.94-.94-2.06-.94 2.06-2.06.94zm-11 1L8.5 8.5l.94-2.06 2.06-.94-2.06-.94L8.5 2.5l-.94 2.06-2.06.94zm10 10l.94 2.06.94-2.06 2.06-.94-2.06-.94-.94-2.06-.94 2.06-2.06.94z\"/><path d=\"M17.41 7.96l-1.37-1.37c-.4-.4-.92-.59-1.43-.59-.52 0-1.04.2-1.43.59L10.3 9.45l-7.72 7.72c-.78.78-.78 2.05 0 2.83L4 21.41c.39.39.9.59 1.41.59.51 0 1.02-.2 1.41-.59l7.78-7.78 2.81-2.81c.8-.78.8-2.07 0-2.86zM5.41 20L4 18.59l7.72-7.72 1.47 1.35L5.41 20z\"/>\n",
              "  </svg>\n",
              "      </button>\n",
              "      \n",
              "  <style>\n",
              "    .colab-df-container {\n",
              "      display:flex;\n",
              "      flex-wrap:wrap;\n",
              "      gap: 12px;\n",
              "    }\n",
              "\n",
              "    .colab-df-convert {\n",
              "      background-color: #E8F0FE;\n",
              "      border: none;\n",
              "      border-radius: 50%;\n",
              "      cursor: pointer;\n",
              "      display: none;\n",
              "      fill: #1967D2;\n",
              "      height: 32px;\n",
              "      padding: 0 0 0 0;\n",
              "      width: 32px;\n",
              "    }\n",
              "\n",
              "    .colab-df-convert:hover {\n",
              "      background-color: #E2EBFA;\n",
              "      box-shadow: 0px 1px 2px rgba(60, 64, 67, 0.3), 0px 1px 3px 1px rgba(60, 64, 67, 0.15);\n",
              "      fill: #174EA6;\n",
              "    }\n",
              "\n",
              "    [theme=dark] .colab-df-convert {\n",
              "      background-color: #3B4455;\n",
              "      fill: #D2E3FC;\n",
              "    }\n",
              "\n",
              "    [theme=dark] .colab-df-convert:hover {\n",
              "      background-color: #434B5C;\n",
              "      box-shadow: 0px 1px 3px 1px rgba(0, 0, 0, 0.15);\n",
              "      filter: drop-shadow(0px 1px 2px rgba(0, 0, 0, 0.3));\n",
              "      fill: #FFFFFF;\n",
              "    }\n",
              "  </style>\n",
              "\n",
              "      <script>\n",
              "        const buttonEl =\n",
              "          document.querySelector('#df-5884df94-ccf1-4353-acf1-c2f3bdf03240 button.colab-df-convert');\n",
              "        buttonEl.style.display =\n",
              "          google.colab.kernel.accessAllowed ? 'block' : 'none';\n",
              "\n",
              "        async function convertToInteractive(key) {\n",
              "          const element = document.querySelector('#df-5884df94-ccf1-4353-acf1-c2f3bdf03240');\n",
              "          const dataTable =\n",
              "            await google.colab.kernel.invokeFunction('convertToInteractive',\n",
              "                                                     [key], {});\n",
              "          if (!dataTable) return;\n",
              "\n",
              "          const docLinkHtml = 'Like what you see? Visit the ' +\n",
              "            '<a target=\"_blank\" href=https://colab.research.google.com/notebooks/data_table.ipynb>data table notebook</a>'\n",
              "            + ' to learn more about interactive tables.';\n",
              "          element.innerHTML = '';\n",
              "          dataTable['output_type'] = 'display_data';\n",
              "          await google.colab.output.renderOutput(dataTable, element);\n",
              "          const docLink = document.createElement('div');\n",
              "          docLink.innerHTML = docLinkHtml;\n",
              "          element.appendChild(docLink);\n",
              "        }\n",
              "      </script>\n",
              "    </div>\n",
              "  </div>\n",
              "  "
            ]
          },
          "metadata": {},
          "execution_count": 24
        }
      ]
    },
    {
      "cell_type": "code",
      "metadata": {
        "id": "4e3g439qkZ8X",
        "colab": {
          "base_uri": "https://localhost:8080/",
          "height": 354
        },
        "outputId": "d5a29597-c5c3-417a-991b-7891c7ba753c"
      },
      "source": [
        "fig, axes = plt.subplots(1, 2, figsize=(15,5))\n",
        "train_performance.mean_squared_error.plot(ax=axes[0], title=\"Mean Squared Error\")\n",
        "\n",
        "train_performance.accuracy.plot(ax=axes[1], title=\"Accuracy\") \n",
        "#plt.savefig('train_performance.png', dpi=300) # uncomment to save this plot"
      ],
      "execution_count": null,
      "outputs": [
        {
          "output_type": "execute_result",
          "data": {
            "text/plain": [
              "<matplotlib.axes._subplots.AxesSubplot at 0x7f482b4dc350>"
            ]
          },
          "metadata": {},
          "execution_count": 25
        },
        {
          "output_type": "display_data",
          "data": {
            "text/plain": [
              "<Figure size 1080x360 with 2 Axes>"
            ],
            "image/png": "[encoded data removed]"
          },
          "metadata": {}
        }
      ]
    },
    {
      "cell_type": "code",
      "metadata": {
        "id": "IKMtFXcOl3Fc",
        "colab": {
          "base_uri": "https://localhost:8080/",
          "height": 118
        },
        "outputId": "2ad4edc5-c3b3-41cd-cb8a-4484b414124d"
      },
      "source": [
        "print('X_test.shape => {} '.format(X_test.shape))\n",
        "print('y_test.shape => {} '.format(y_test.shape))\n",
        "test_performance = ann.test(X_test, y_test)\n",
        "test_performance"
      ],
      "execution_count": null,
      "outputs": [
        {
          "output_type": "stream",
          "name": "stdout",
          "text": [
            "X_test.shape => (2000, 784) \n",
            "y_test.shape => (2000, 10) \n"
          ]
        },
        {
          "output_type": "execute_result",
          "data": {
            "text/plain": [
              "   mean_squared_error  accuracy\n",
              "0            0.041037     0.208"
            ],
            "text/html": [
              "\n",
              "  <div id=\"df-19dc9e46-1443-41b5-85df-9486c9597864\">\n",
              "    <div class=\"colab-df-container\">\n",
              "      <div>\n",
              "<style scoped>\n",
              "    .dataframe tbody tr th:only-of-type {\n",
              "        vertical-align: middle;\n",
              "    }\n",
              "\n",
              "    .dataframe tbody tr th {\n",
              "        vertical-align: top;\n",
              "    }\n",
              "\n",
              "    .dataframe thead th {\n",
              "        text-align: right;\n",
              "    }\n",
              "</style>\n",
              "<table border=\"1\" class=\"dataframe\">\n",
              "  <thead>\n",
              "    <tr style=\"text-align: right;\">\n",
              "      <th></th>\n",
              "      <th>mean_squared_error</th>\n",
              "      <th>accuracy</th>\n",
              "    </tr>\n",
              "  </thead>\n",
              "  <tbody>\n",
              "    <tr>\n",
              "      <th>0</th>\n",
              "      <td>0.041037</td>\n",
              "      <td>0.208</td>\n",
              "    </tr>\n",
              "  </tbody>\n",
              "</table>\n",
              "</div>\n",
              "      <button class=\"colab-df-convert\" onclick=\"convertToInteractive('df-19dc9e46-1443-41b5-85df-9486c9597864')\"\n",
              "              title=\"Convert this dataframe to an interactive table.\"\n",
              "              style=\"display:none;\">\n",
              "        \n",
              "  <svg xmlns=\"http://www.w3.org/2000/svg\" height=\"24px\"viewBox=\"0 0 24 24\"\n",
              "       width=\"24px\">\n",
              "    <path d=\"M0 0h24v24H0V0z\" fill=\"none\"/>\n",
              "    <path d=\"M18.56 5.44l.94 2.06.94-2.06 2.06-.94-2.06-.94-.94-2.06-.94 2.06-2.06.94zm-11 1L8.5 8.5l.94-2.06 2.06-.94-2.06-.94L8.5 2.5l-.94 2.06-2.06.94zm10 10l.94 2.06.94-2.06 2.06-.94-2.06-.94-.94-2.06-.94 2.06-2.06.94z\"/><path d=\"M17.41 7.96l-1.37-1.37c-.4-.4-.92-.59-1.43-.59-.52 0-1.04.2-1.43.59L10.3 9.45l-7.72 7.72c-.78.78-.78 2.05 0 2.83L4 21.41c.39.39.9.59 1.41.59.51 0 1.02-.2 1.41-.59l7.78-7.78 2.81-2.81c.8-.78.8-2.07 0-2.86zM5.41 20L4 18.59l7.72-7.72 1.47 1.35L5.41 20z\"/>\n",
              "  </svg>\n",
              "      </button>\n",
              "      \n",
              "  <style>\n",
              "    .colab-df-container {\n",
              "      display:flex;\n",
              "      flex-wrap:wrap;\n",
              "      gap: 12px;\n",
              "    }\n",
              "\n",
              "    .colab-df-convert {\n",
              "      background-color: #E8F0FE;\n",
              "      border: none;\n",
              "      border-radius: 50%;\n",
              "      cursor: pointer;\n",
              "      display: none;\n",
              "      fill: #1967D2;\n",
              "      height: 32px;\n",
              "      padding: 0 0 0 0;\n",
              "      width: 32px;\n",
              "    }\n",
              "\n",
              "    .colab-df-convert:hover {\n",
              "      background-color: #E2EBFA;\n",
              "      box-shadow: 0px 1px 2px rgba(60, 64, 67, 0.3), 0px 1px 3px 1px rgba(60, 64, 67, 0.15);\n",
              "      fill: #174EA6;\n",
              "    }\n",
              "\n",
              "    [theme=dark] .colab-df-convert {\n",
              "      background-color: #3B4455;\n",
              "      fill: #D2E3FC;\n",
              "    }\n",
              "\n",
              "    [theme=dark] .colab-df-convert:hover {\n",
              "      background-color: #434B5C;\n",
              "      box-shadow: 0px 1px 3px 1px rgba(0, 0, 0, 0.15);\n",
              "      filter: drop-shadow(0px 1px 2px rgba(0, 0, 0, 0.3));\n",
              "      fill: #FFFFFF;\n",
              "    }\n",
              "  </style>\n",
              "\n",
              "      <script>\n",
              "        const buttonEl =\n",
              "          document.querySelector('#df-19dc9e46-1443-41b5-85df-9486c9597864 button.colab-df-convert');\n",
              "        buttonEl.style.display =\n",
              "          google.colab.kernel.accessAllowed ? 'block' : 'none';\n",
              "\n",
              "        async function convertToInteractive(key) {\n",
              "          const element = document.querySelector('#df-19dc9e46-1443-41b5-85df-9486c9597864');\n",
              "          const dataTable =\n",
              "            await google.colab.kernel.invokeFunction('convertToInteractive',\n",
              "                                                     [key], {});\n",
              "          if (!dataTable) return;\n",
              "\n",
              "          const docLinkHtml = 'Like what you see? Visit the ' +\n",
              "            '<a target=\"_blank\" href=https://colab.research.google.com/notebooks/data_table.ipynb>data table notebook</a>'\n",
              "            + ' to learn more about interactive tables.';\n",
              "          element.innerHTML = '';\n",
              "          dataTable['output_type'] = 'display_data';\n",
              "          await google.colab.output.renderOutput(dataTable, element);\n",
              "          const docLink = document.createElement('div');\n",
              "          docLink.innerHTML = docLinkHtml;\n",
              "          element.appendChild(docLink);\n",
              "        }\n",
              "      </script>\n",
              "    </div>\n",
              "  </div>\n",
              "  "
            ]
          },
          "metadata": {},
          "execution_count": 26
        }
      ]
    },
    {
      "cell_type": "code",
      "metadata": {
        "id": "5kWIsqsml-g5",
        "colab": {
          "base_uri": "https://localhost:8080/"
        },
        "outputId": "79d1bd40-cba9-462b-c31c-95fc8ab7442e"
      },
      "source": [
        "print(\"This will take a few moments ...\")\n",
        "ann_list = []\n",
        "train_results_list = []\n",
        "batch_sizes = [1, 20, 100, 200, 500, len(X_train)]\n",
        "lr=0.7\n",
        "epochs=20\n",
        "act1 = Activation_ReLU()\n",
        "act2 = Activation_ReLU()\n",
        "act3 = Activation_Sigmoid()\n",
        "sgd = Optimizer_SGD()\n",
        "\n",
        "for batch_size in batch_sizes:\n",
        "    # configure the layers\n",
        "    hidden1 = Layer_Dense(784,128) # change to add the new layer  \n",
        "    hidden2 = Layer_Dense(128,32) # change to add the new layer  \n",
        "    output = Layer_Dense(32,10)\n",
        "\n",
        "    # create an ANN model\n",
        "    ann = ANN(output, act3, hidden2, act2, hidden1, act1, sgd, batch_size)\n",
        "\n",
        "    # train the ANN model with training data\n",
        "    train_performance = ann.train(X_train, y_train, epochs, sgd, lr)\n",
        "\n",
        "    train_results_list.append(train_performance)\n",
        "    ann_list.append(ann) # maintain each ANN model in a list\n",
        "\n",
        "print('completed')"
      ],
      "execution_count": null,
      "outputs": [
        {
          "output_type": "stream",
          "name": "stdout",
          "text": [
            "This will take a few moments ...\n"
          ]
        },
        {
          "output_type": "stream",
          "name": "stderr",
          "text": [
            "/usr/local/lib/python3.7/dist-packages/ipykernel_launcher.py:9: RuntimeWarning: overflow encountered in exp\n",
            "  if __name__ == '__main__':\n"
          ]
        },
        {
          "output_type": "stream",
          "name": "stdout",
          "text": [
            "completed\n"
          ]
        }
      ]
    },
    {
      "cell_type": "code",
      "metadata": {
        "id": "-40KyhxFl-SO",
        "colab": {
          "base_uri": "https://localhost:8080/"
        },
        "outputId": "cf49fdd5-028f-4583-c2f7-5832fbadb06a"
      },
      "source": [
        "#iteratre through each model and accumilate number of correct predictions\n",
        "\n",
        "\n",
        "test_results_list = []\n",
        "\n",
        "for model in ann_list: \n",
        "    df_test_result = model.test(X_test, y_test)\n",
        "    mse=df_test_result['mean_squared_error'].values\n",
        "    acc=df_test_result['accuracy'].values\n",
        "\n",
        "    test_results_list.append((mse[0], acc[0]))\n",
        "\n",
        "    pass\n",
        "pass\n",
        "\n",
        "print (\"Mean Squared Error and Accuracy Results \\n {}\".format(test_results_list))"
      ],
      "execution_count": null,
      "outputs": [
        {
          "output_type": "stream",
          "name": "stdout",
          "text": [
            "Mean Squared Error and Accuracy Results \n",
            " [(0.12715598948670787, 0.1135), (0.007150325707124278, 0.9035), (0.04259960198936965, 0.2035), (0.043347698075996956, 0.1275), (0.043426061461807774, 0.14), (0.04987145491538856, 0.0975)]\n"
          ]
        },
        {
          "output_type": "stream",
          "name": "stderr",
          "text": [
            "/usr/local/lib/python3.7/dist-packages/ipykernel_launcher.py:9: RuntimeWarning: overflow encountered in exp\n",
            "  if __name__ == '__main__':\n"
          ]
        }
      ]
    },
    {
      "cell_type": "code",
      "metadata": {
        "id": "Keev0k8zl-Bz",
        "colab": {
          "base_uri": "https://localhost:8080/",
          "height": 225
        },
        "outputId": "bb839c49-35e2-41f2-9a8d-e9045a4f4a7d"
      },
      "source": [
        "print(test_results_list)\n",
        "df_batch_results = pd.DataFrame(test_results_list, columns=['mean_squared_error', 'accuracy'], index=batch_sizes)\n",
        "df_batch_results.head()"
      ],
      "execution_count": null,
      "outputs": [
        {
          "output_type": "stream",
          "name": "stdout",
          "text": [
            "[(0.12715598948670787, 0.1135), (0.007150325707124278, 0.9035), (0.04259960198936965, 0.2035), (0.043347698075996956, 0.1275), (0.043426061461807774, 0.14), (0.04987145491538856, 0.0975)]\n"
          ]
        },
        {
          "output_type": "execute_result",
          "data": {
            "text/plain": [
              "     mean_squared_error  accuracy\n",
              "1              0.127156    0.1135\n",
              "20             0.007150    0.9035\n",
              "100            0.042600    0.2035\n",
              "200            0.043348    0.1275\n",
              "500            0.043426    0.1400"
            ],
            "text/html": [
              "\n",
              "  <div id=\"df-930fe996-77d4-40d0-bb80-984c450c2d76\">\n",
              "    <div class=\"colab-df-container\">\n",
              "      <div>\n",
              "<style scoped>\n",
              "    .dataframe tbody tr th:only-of-type {\n",
              "        vertical-align: middle;\n",
              "    }\n",
              "\n",
              "    .dataframe tbody tr th {\n",
              "        vertical-align: top;\n",
              "    }\n",
              "\n",
              "    .dataframe thead th {\n",
              "        text-align: right;\n",
              "    }\n",
              "</style>\n",
              "<table border=\"1\" class=\"dataframe\">\n",
              "  <thead>\n",
              "    <tr style=\"text-align: right;\">\n",
              "      <th></th>\n",
              "      <th>mean_squared_error</th>\n",
              "      <th>accuracy</th>\n",
              "    </tr>\n",
              "  </thead>\n",
              "  <tbody>\n",
              "    <tr>\n",
              "      <th>1</th>\n",
              "      <td>0.127156</td>\n",
              "      <td>0.1135</td>\n",
              "    </tr>\n",
              "    <tr>\n",
              "      <th>20</th>\n",
              "      <td>0.007150</td>\n",
              "      <td>0.9035</td>\n",
              "    </tr>\n",
              "    <tr>\n",
              "      <th>100</th>\n",
              "      <td>0.042600</td>\n",
              "      <td>0.2035</td>\n",
              "    </tr>\n",
              "    <tr>\n",
              "      <th>200</th>\n",
              "      <td>0.043348</td>\n",
              "      <td>0.1275</td>\n",
              "    </tr>\n",
              "    <tr>\n",
              "      <th>500</th>\n",
              "      <td>0.043426</td>\n",
              "      <td>0.1400</td>\n",
              "    </tr>\n",
              "  </tbody>\n",
              "</table>\n",
              "</div>\n",
              "      <button class=\"colab-df-convert\" onclick=\"convertToInteractive('df-930fe996-77d4-40d0-bb80-984c450c2d76')\"\n",
              "              title=\"Convert this dataframe to an interactive table.\"\n",
              "              style=\"display:none;\">\n",
              "        \n",
              "  <svg xmlns=\"http://www.w3.org/2000/svg\" height=\"24px\"viewBox=\"0 0 24 24\"\n",
              "       width=\"24px\">\n",
              "    <path d=\"M0 0h24v24H0V0z\" fill=\"none\"/>\n",
              "    <path d=\"M18.56 5.44l.94 2.06.94-2.06 2.06-.94-2.06-.94-.94-2.06-.94 2.06-2.06.94zm-11 1L8.5 8.5l.94-2.06 2.06-.94-2.06-.94L8.5 2.5l-.94 2.06-2.06.94zm10 10l.94 2.06.94-2.06 2.06-.94-2.06-.94-.94-2.06-.94 2.06-2.06.94z\"/><path d=\"M17.41 7.96l-1.37-1.37c-.4-.4-.92-.59-1.43-.59-.52 0-1.04.2-1.43.59L10.3 9.45l-7.72 7.72c-.78.78-.78 2.05 0 2.83L4 21.41c.39.39.9.59 1.41.59.51 0 1.02-.2 1.41-.59l7.78-7.78 2.81-2.81c.8-.78.8-2.07 0-2.86zM5.41 20L4 18.59l7.72-7.72 1.47 1.35L5.41 20z\"/>\n",
              "  </svg>\n",
              "      </button>\n",
              "      \n",
              "  <style>\n",
              "    .colab-df-container {\n",
              "      display:flex;\n",
              "      flex-wrap:wrap;\n",
              "      gap: 12px;\n",
              "    }\n",
              "\n",
              "    .colab-df-convert {\n",
              "      background-color: #E8F0FE;\n",
              "      border: none;\n",
              "      border-radius: 50%;\n",
              "      cursor: pointer;\n",
              "      display: none;\n",
              "      fill: #1967D2;\n",
              "      height: 32px;\n",
              "      padding: 0 0 0 0;\n",
              "      width: 32px;\n",
              "    }\n",
              "\n",
              "    .colab-df-convert:hover {\n",
              "      background-color: #E2EBFA;\n",
              "      box-shadow: 0px 1px 2px rgba(60, 64, 67, 0.3), 0px 1px 3px 1px rgba(60, 64, 67, 0.15);\n",
              "      fill: #174EA6;\n",
              "    }\n",
              "\n",
              "    [theme=dark] .colab-df-convert {\n",
              "      background-color: #3B4455;\n",
              "      fill: #D2E3FC;\n",
              "    }\n",
              "\n",
              "    [theme=dark] .colab-df-convert:hover {\n",
              "      background-color: #434B5C;\n",
              "      box-shadow: 0px 1px 3px 1px rgba(0, 0, 0, 0.15);\n",
              "      filter: drop-shadow(0px 1px 2px rgba(0, 0, 0, 0.3));\n",
              "      fill: #FFFFFF;\n",
              "    }\n",
              "  </style>\n",
              "\n",
              "      <script>\n",
              "        const buttonEl =\n",
              "          document.querySelector('#df-930fe996-77d4-40d0-bb80-984c450c2d76 button.colab-df-convert');\n",
              "        buttonEl.style.display =\n",
              "          google.colab.kernel.accessAllowed ? 'block' : 'none';\n",
              "\n",
              "        async function convertToInteractive(key) {\n",
              "          const element = document.querySelector('#df-930fe996-77d4-40d0-bb80-984c450c2d76');\n",
              "          const dataTable =\n",
              "            await google.colab.kernel.invokeFunction('convertToInteractive',\n",
              "                                                     [key], {});\n",
              "          if (!dataTable) return;\n",
              "\n",
              "          const docLinkHtml = 'Like what you see? Visit the ' +\n",
              "            '<a target=\"_blank\" href=https://colab.research.google.com/notebooks/data_table.ipynb>data table notebook</a>'\n",
              "            + ' to learn more about interactive tables.';\n",
              "          element.innerHTML = '';\n",
              "          dataTable['output_type'] = 'display_data';\n",
              "          await google.colab.output.renderOutput(dataTable, element);\n",
              "          const docLink = document.createElement('div');\n",
              "          docLink.innerHTML = docLinkHtml;\n",
              "          element.appendChild(docLink);\n",
              "        }\n",
              "      </script>\n",
              "    </div>\n",
              "  </div>\n",
              "  "
            ]
          },
          "metadata": {},
          "execution_count": 29
        }
      ]
    },
    {
      "cell_type": "code",
      "metadata": {
        "id": "dQoBPsx5klKb",
        "colab": {
          "base_uri": "https://localhost:8080/",
          "height": 368
        },
        "outputId": "f4f5124f-d4df-483f-8152-3c7f5f5024a0"
      },
      "source": [
        "objects = batch_sizes\n",
        "performance = test_results_list\n",
        "\n",
        "# plot performances bars\n",
        "fig, axes = plt.subplots(1, 2, figsize=(15,5))\n",
        "y_pos = np.arange(len(objects))\n",
        "# get mean squared error from performance\n",
        "model_mse = [x[0] for x in performance]\n",
        "axes[0].bar(y_pos, model_mse, align='center', alpha=0.5)\n",
        "axes[0].set_xticks(y_pos)\n",
        "axes[0].set_xticklabels(objects)\n",
        "axes[0].set_xlabel('Batch size')\n",
        "axes[0].set_title('Mean Squared Error')\n",
        "\n",
        "# plot accuracy from performance\n",
        "model_acc = [x[1] for x in performance]\n",
        "axes[1].bar(y_pos, model_acc, align='center', alpha=0.5)\n",
        "axes[1].set_xticks(y_pos)\n",
        "axes[1].set_xticklabels(objects)\n",
        "axes[1].set_xlabel('Batch size')\n",
        "axes[1].set_title('Accuracy')\n"
      ],
      "execution_count": null,
      "outputs": [
        {
          "output_type": "execute_result",
          "data": {
            "text/plain": [
              "Text(0.5, 1.0, 'Accuracy')"
            ]
          },
          "metadata": {},
          "execution_count": 30
        },
        {
          "output_type": "display_data",
          "data": {
            "text/plain": [
              "<Figure size 1080x360 with 2 Axes>"
            ],
            "image/png": "[encoded data removed]"
          },
          "metadata": {}
        }
      ]
    }
  ]
}