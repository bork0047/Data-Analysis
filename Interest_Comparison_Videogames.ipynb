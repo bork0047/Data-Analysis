{
  "cells": [
    {
      "cell_type": "markdown",
      "metadata": {
        "id": "view-in-github",
        "colab_type": "text"
      },
      "source": [
        "<a href=\"https://colab.research.google.com/github/bork0047/Data-Analysis/blob/main/Interest_Comparison_Videogames.ipynb\" target=\"_parent\"><img src=\"https://colab.research.google.com/assets/colab-badge.svg\" alt=\"Open In Colab\"/></a>"
      ]
    },
    {
      "cell_type": "code",
      "execution_count": null,
      "id": "324e9f1b",
      "metadata": {
        "id": "324e9f1b",
        "outputId": "d663c0f4-05b9-444d-fb6a-a40f94ef70a2"
      },
      "outputs": [
        {
          "name": "stdout",
          "output_type": "stream",
          "text": [
            "Collecting pytrends\n",
            "  Downloading pytrends-4.8.0.tar.gz (19 kB)\n",
            "Requirement already satisfied: requests>=2.0 in d:\\anacondajupyter\\lib\\site-packages (from pytrends) (2.25.1)\n",
            "Requirement already satisfied: pandas>=0.25 in d:\\anacondajupyter\\lib\\site-packages (from pytrends) (1.2.4)\n",
            "Requirement already satisfied: lxml in d:\\anacondajupyter\\lib\\site-packages (from pytrends) (4.6.3)\n",
            "Requirement already satisfied: numpy>=1.16.5 in d:\\anacondajupyter\\lib\\site-packages (from pandas>=0.25->pytrends) (1.20.1)\n",
            "Requirement already satisfied: pytz>=2017.3 in d:\\anacondajupyter\\lib\\site-packages (from pandas>=0.25->pytrends) (2021.1)\n",
            "Requirement already satisfied: python-dateutil>=2.7.3 in d:\\anacondajupyter\\lib\\site-packages (from pandas>=0.25->pytrends) (2.8.1)\n",
            "Requirement already satisfied: six>=1.5 in d:\\anacondajupyter\\lib\\site-packages (from python-dateutil>=2.7.3->pandas>=0.25->pytrends) (1.15.0)\n",
            "Requirement already satisfied: urllib3<1.27,>=1.21.1 in d:\\anacondajupyter\\lib\\site-packages (from requests>=2.0->pytrends) (1.26.4)\n",
            "Requirement already satisfied: idna<3,>=2.5 in d:\\anacondajupyter\\lib\\site-packages (from requests>=2.0->pytrends) (2.10)\n",
            "Requirement already satisfied: chardet<5,>=3.0.2 in d:\\anacondajupyter\\lib\\site-packages (from requests>=2.0->pytrends) (4.0.0)\n",
            "Requirement already satisfied: certifi>=2017.4.17 in d:\\anacondajupyter\\lib\\site-packages (from requests>=2.0->pytrends) (2020.12.5)\n",
            "Building wheels for collected packages: pytrends\n",
            "  Building wheel for pytrends (setup.py): started\n",
            "  Building wheel for pytrends (setup.py): finished with status 'done'\n",
            "  Created wheel for pytrends: filename=pytrends-4.8.0-py3-none-any.whl size=16105 sha256=97a454f0e232239edae6393a35dfd0fa07e02572faf6486b1132a6d94352b7b7\n",
            "  Stored in directory: c:\\users\\user\\appdata\\local\\pip\\cache\\wheels\\e8\\78\\c8\\18d4f4804753e14416809b365773220c48b41fe5387f2bb6b9\n",
            "Successfully built pytrends\n",
            "Installing collected packages: pytrends\n",
            "Successfully installed pytrends-4.8.0\n",
            "Note: you may need to restart the kernel to use updated packages.\n"
          ]
        }
      ],
      "source": [
        "pip install pytrends"
      ]
    },
    {
      "cell_type": "code",
      "execution_count": null,
      "id": "97aafc6e",
      "metadata": {
        "id": "97aafc6e",
        "outputId": "b2f473de-46e4-41e1-e454-2c083ffa444b"
      },
      "outputs": [
        {
          "data": {
            "text/html": [
              "<div>\n",
              "<style scoped>\n",
              "    .dataframe tbody tr th:only-of-type {\n",
              "        vertical-align: middle;\n",
              "    }\n",
              "\n",
              "    .dataframe tbody tr th {\n",
              "        vertical-align: top;\n",
              "    }\n",
              "\n",
              "    .dataframe thead th {\n",
              "        text-align: right;\n",
              "    }\n",
              "</style>\n",
              "<table border=\"1\" class=\"dataframe\">\n",
              "  <thead>\n",
              "    <tr style=\"text-align: right;\">\n",
              "      <th></th>\n",
              "      <th>World of Warcraft</th>\n",
              "      <th>Warframe</th>\n",
              "      <th>Call of Duty</th>\n",
              "      <th>isPartial</th>\n",
              "    </tr>\n",
              "    <tr>\n",
              "      <th>date</th>\n",
              "      <th></th>\n",
              "      <th></th>\n",
              "      <th></th>\n",
              "      <th></th>\n",
              "    </tr>\n",
              "  </thead>\n",
              "  <tbody>\n",
              "    <tr>\n",
              "      <th>2017-11-05</th>\n",
              "      <td>9</td>\n",
              "      <td>31</td>\n",
              "      <td>84</td>\n",
              "      <td>False</td>\n",
              "    </tr>\n",
              "    <tr>\n",
              "      <th>2017-11-12</th>\n",
              "      <td>7</td>\n",
              "      <td>32</td>\n",
              "      <td>53</td>\n",
              "      <td>False</td>\n",
              "    </tr>\n",
              "    <tr>\n",
              "      <th>2017-11-19</th>\n",
              "      <td>6</td>\n",
              "      <td>32</td>\n",
              "      <td>57</td>\n",
              "      <td>False</td>\n",
              "    </tr>\n",
              "    <tr>\n",
              "      <th>2017-11-26</th>\n",
              "      <td>6</td>\n",
              "      <td>27</td>\n",
              "      <td>46</td>\n",
              "      <td>False</td>\n",
              "    </tr>\n",
              "    <tr>\n",
              "      <th>2017-12-03</th>\n",
              "      <td>6</td>\n",
              "      <td>27</td>\n",
              "      <td>40</td>\n",
              "      <td>False</td>\n",
              "    </tr>\n",
              "    <tr>\n",
              "      <th>...</th>\n",
              "      <td>...</td>\n",
              "      <td>...</td>\n",
              "      <td>...</td>\n",
              "      <td>...</td>\n",
              "    </tr>\n",
              "    <tr>\n",
              "      <th>2022-09-25</th>\n",
              "      <td>4</td>\n",
              "      <td>12</td>\n",
              "      <td>30</td>\n",
              "      <td>False</td>\n",
              "    </tr>\n",
              "    <tr>\n",
              "      <th>2022-10-02</th>\n",
              "      <td>4</td>\n",
              "      <td>13</td>\n",
              "      <td>25</td>\n",
              "      <td>False</td>\n",
              "    </tr>\n",
              "    <tr>\n",
              "      <th>2022-10-09</th>\n",
              "      <td>3</td>\n",
              "      <td>12</td>\n",
              "      <td>26</td>\n",
              "      <td>False</td>\n",
              "    </tr>\n",
              "    <tr>\n",
              "      <th>2022-10-16</th>\n",
              "      <td>3</td>\n",
              "      <td>10</td>\n",
              "      <td>36</td>\n",
              "      <td>False</td>\n",
              "    </tr>\n",
              "    <tr>\n",
              "      <th>2022-10-23</th>\n",
              "      <td>4</td>\n",
              "      <td>10</td>\n",
              "      <td>65</td>\n",
              "      <td>False</td>\n",
              "    </tr>\n",
              "  </tbody>\n",
              "</table>\n",
              "<p>260 rows × 4 columns</p>\n",
              "</div>"
            ],
            "text/plain": [
              "            World of Warcraft  Warframe  Call of Duty  isPartial\n",
              "date                                                            \n",
              "2017-11-05                  9        31            84      False\n",
              "2017-11-12                  7        32            53      False\n",
              "2017-11-19                  6        32            57      False\n",
              "2017-11-26                  6        27            46      False\n",
              "2017-12-03                  6        27            40      False\n",
              "...                       ...       ...           ...        ...\n",
              "2022-09-25                  4        12            30      False\n",
              "2022-10-02                  4        13            25      False\n",
              "2022-10-09                  3        12            26      False\n",
              "2022-10-16                  3        10            36      False\n",
              "2022-10-23                  4        10            65      False\n",
              "\n",
              "[260 rows x 4 columns]"
            ]
          },
          "execution_count": 23,
          "metadata": {},
          "output_type": "execute_result"
        }
      ],
      "source": [
        "from pytrends.request import TrendReq\n",
        "\n",
        "#create a pytrend object data from google trends\n",
        "pytrends = TrendReq(hl='en-US')\n",
        "\n",
        "#extract data about keywords\n",
        "keywords = ['World of Warcraft', 'Warframe', 'Call of Duty']\n",
        "pytrends.build_payload(keywords, timeframe = 'today 5-y')\n",
        "\n",
        "#specify the get data\n",
        "data = pytrends.interest_over_time()\n",
        "\n",
        "#print the data\n",
        "data"
      ]
    },
    {
      "cell_type": "code",
      "execution_count": null,
      "id": "fd6066cb",
      "metadata": {
        "id": "fd6066cb",
        "outputId": "0015c46d-a74d-48ff-a394-086756dda36e"
      },
      "outputs": [
        {
          "data": {
            "image/png": "[encoded data removed]",
            "text/plain": [
              "<Figure size 432x288 with 1 Axes>"
            ]
          },
          "metadata": {
            "needs_background": "light"
          },
          "output_type": "display_data"
        },
        {
          "data": {
            "text/plain": [
              "<Figure size 432x288 with 0 Axes>"
            ]
          },
          "metadata": {},
          "output_type": "display_data"
        }
      ],
      "source": [
        "#upon reviewing the data, we can see that it is too hard to analyze as it is 260 rows\n",
        "\n",
        "#so in this case, I will plot the data so it is more eye-candy-like\n",
        "\n",
        "import matplotlib.pyplot as plt\n",
        "\n",
        "plt.plot(data)\n",
        "\n",
        "#add titles\n",
        "plt.suptitle('MMORPG Interest on Google')\n",
        "plt.xlabel('years')\n",
        "plt.ylabel('weekly searches')\n",
        "\n",
        "#make a small legend to show which value is which\n",
        "#default legend is upper right\n",
        "plt.legend(keywords, loc = 'upper left')\n",
        "\n",
        "plt.show()\n",
        "plt.savefig('data.png')"
      ]
    },
    {
      "cell_type": "code",
      "execution_count": null,
      "id": "8951f66d",
      "metadata": {
        "id": "8951f66d",
        "outputId": "7bdc3fe5-ba91-49dd-f170-045d07d42277"
      },
      "outputs": [
        {
          "data": {
            "text/plain": [
              "<matplotlib.legend.Legend at 0x228dcf22d60>"
            ]
          },
          "execution_count": 25,
          "metadata": {},
          "output_type": "execute_result"
        },
        {
          "data": {
            "image/png": "[encoded data removed]",
            "text/plain": [
              "<Figure size 432x288 with 1 Axes>"
            ]
          },
          "metadata": {
            "needs_background": "light"
          },
          "output_type": "display_data"
        }
      ],
      "source": [
        "#analyze specific data based on its name\n",
        "focus = ['World of Warcraft', 'Warframe']\n",
        "\n",
        "plt.plot(data[focus])\n",
        "plt.legend(focus)"
      ]
    },
    {
      "cell_type": "code",
      "execution_count": null,
      "id": "c2d6a9c6",
      "metadata": {
        "id": "c2d6a9c6",
        "outputId": "1637a497-c642-4653-d031-fabf17c5c5e4"
      },
      "outputs": [
        {
          "data": {
            "text/plain": [
              "geoName\n",
              "Faroe Islands    35\n",
              "Denmark          21\n",
              "Sweden           20\n",
              "Bulgaria         19\n",
              "Iceland          18\n",
              "Czechia          17\n",
              "Norway           17\n",
              "St. Helena       16\n",
              "Malta            14\n",
              "Slovakia         14\n",
              "Name: World of Warcraft, dtype: int32"
            ]
          },
          "execution_count": 28,
          "metadata": {},
          "output_type": "execute_result"
        }
      ],
      "source": [
        "#analyze which country based on keywords\n",
        "data2 = pytrends.interest_by_region(resolution='COUNTRY', inc_low_vol=True)\n",
        "\n",
        "#get countries with the highest search of \"World of Warcraft\"\n",
        "data2 = data2['World of Warcraft'].nlargest(10)\n",
        "data2"
      ]
    },
    {
      "cell_type": "code",
      "execution_count": null,
      "id": "a9c2e57c",
      "metadata": {
        "id": "a9c2e57c",
        "outputId": "13dc120b-3b39-4745-be49-9274d6bc88f1"
      },
      "outputs": [
        {
          "data": {
            "text/plain": [
              "pandas.core.series.Series"
            ]
          },
          "execution_count": 29,
          "metadata": {},
          "output_type": "execute_result"
        }
      ],
      "source": [
        "type(data2)"
      ]
    },
    {
      "cell_type": "code",
      "execution_count": null,
      "id": "50a9b5db",
      "metadata": {
        "id": "50a9b5db",
        "outputId": "41053f4e-fc02-42b1-ba20-c402555ee934"
      },
      "outputs": [
        {
          "data": {
            "text/html": [
              "<div>\n",
              "<style scoped>\n",
              "    .dataframe tbody tr th:only-of-type {\n",
              "        vertical-align: middle;\n",
              "    }\n",
              "\n",
              "    .dataframe tbody tr th {\n",
              "        vertical-align: top;\n",
              "    }\n",
              "\n",
              "    .dataframe thead th {\n",
              "        text-align: right;\n",
              "    }\n",
              "</style>\n",
              "<table border=\"1\" class=\"dataframe\">\n",
              "  <thead>\n",
              "    <tr style=\"text-align: right;\">\n",
              "      <th></th>\n",
              "      <th>World of Warcraft</th>\n",
              "    </tr>\n",
              "    <tr>\n",
              "      <th>geoName</th>\n",
              "      <th></th>\n",
              "    </tr>\n",
              "  </thead>\n",
              "  <tbody>\n",
              "    <tr>\n",
              "      <th>Faroe Islands</th>\n",
              "      <td>35</td>\n",
              "    </tr>\n",
              "    <tr>\n",
              "      <th>Denmark</th>\n",
              "      <td>21</td>\n",
              "    </tr>\n",
              "    <tr>\n",
              "      <th>Sweden</th>\n",
              "      <td>20</td>\n",
              "    </tr>\n",
              "    <tr>\n",
              "      <th>Bulgaria</th>\n",
              "      <td>19</td>\n",
              "    </tr>\n",
              "    <tr>\n",
              "      <th>Iceland</th>\n",
              "      <td>18</td>\n",
              "    </tr>\n",
              "    <tr>\n",
              "      <th>Czechia</th>\n",
              "      <td>17</td>\n",
              "    </tr>\n",
              "    <tr>\n",
              "      <th>Norway</th>\n",
              "      <td>17</td>\n",
              "    </tr>\n",
              "    <tr>\n",
              "      <th>St. Helena</th>\n",
              "      <td>16</td>\n",
              "    </tr>\n",
              "    <tr>\n",
              "      <th>Malta</th>\n",
              "      <td>14</td>\n",
              "    </tr>\n",
              "    <tr>\n",
              "      <th>Slovakia</th>\n",
              "      <td>14</td>\n",
              "    </tr>\n",
              "  </tbody>\n",
              "</table>\n",
              "</div>"
            ],
            "text/plain": [
              "               World of Warcraft\n",
              "geoName                         \n",
              "Faroe Islands                 35\n",
              "Denmark                       21\n",
              "Sweden                        20\n",
              "Bulgaria                      19\n",
              "Iceland                       18\n",
              "Czechia                       17\n",
              "Norway                        17\n",
              "St. Helena                    16\n",
              "Malta                         14\n",
              "Slovakia                      14"
            ]
          },
          "execution_count": 30,
          "metadata": {},
          "output_type": "execute_result"
        }
      ],
      "source": [
        "data2 = data2.to_frame()\n",
        "data2"
      ]
    },
    {
      "cell_type": "code",
      "execution_count": null,
      "id": "f806f032",
      "metadata": {
        "id": "f806f032",
        "outputId": "bd8c959a-7594-476f-9576-791c688c0716"
      },
      "outputs": [
        {
          "data": {
            "image/png": "[encoded data removed]",
            "text/plain": [
              "<Figure size 432x288 with 1 Axes>"
            ]
          },
          "metadata": {
            "needs_background": "light"
          },
          "output_type": "display_data"
        }
      ],
      "source": [
        "#plot bar chart with pandas (so much easier than matplotlib, much much easier)\n",
        "data2.plot(kind='bar')\n",
        "\n",
        "#titles adding\n",
        "plt.suptitle('WoW Searches for Country')\n",
        "plt.xlabel('Countries')\n",
        "plt.ylabel('Average number of searches over the past 5 years')\n",
        "\n",
        "plt.show()"
      ]
    },
    {
      "cell_type": "code",
      "execution_count": null,
      "id": "8a6561f4",
      "metadata": {
        "id": "8a6561f4",
        "outputId": "da47485f-6dd1-40c6-b7ad-b958d9a7b3f3"
      },
      "outputs": [
        {
          "data": {
            "text/html": [
              "<div>\n",
              "<style scoped>\n",
              "    .dataframe tbody tr th:only-of-type {\n",
              "        vertical-align: middle;\n",
              "    }\n",
              "\n",
              "    .dataframe tbody tr th {\n",
              "        vertical-align: top;\n",
              "    }\n",
              "\n",
              "    .dataframe thead th {\n",
              "        text-align: right;\n",
              "    }\n",
              "</style>\n",
              "<table border=\"1\" class=\"dataframe\">\n",
              "  <thead>\n",
              "    <tr style=\"text-align: right;\">\n",
              "      <th></th>\n",
              "      <th>World of Warcraft</th>\n",
              "      <th>Warframe</th>\n",
              "      <th>Call of Duty</th>\n",
              "    </tr>\n",
              "    <tr>\n",
              "      <th>geoName</th>\n",
              "      <th></th>\n",
              "      <th></th>\n",
              "      <th></th>\n",
              "    </tr>\n",
              "  </thead>\n",
              "  <tbody>\n",
              "    <tr>\n",
              "      <th>Cuba</th>\n",
              "      <td>9</td>\n",
              "      <td>1</td>\n",
              "      <td>90</td>\n",
              "    </tr>\n",
              "    <tr>\n",
              "      <th>Curaçao</th>\n",
              "      <td>0</td>\n",
              "      <td>20</td>\n",
              "      <td>80</td>\n",
              "    </tr>\n",
              "    <tr>\n",
              "      <th>Cyprus</th>\n",
              "      <td>10</td>\n",
              "      <td>30</td>\n",
              "      <td>60</td>\n",
              "    </tr>\n",
              "    <tr>\n",
              "      <th>Czechia</th>\n",
              "      <td>17</td>\n",
              "      <td>28</td>\n",
              "      <td>55</td>\n",
              "    </tr>\n",
              "    <tr>\n",
              "      <th>Côte d’Ivoire</th>\n",
              "      <td>0</td>\n",
              "      <td>0</td>\n",
              "      <td>100</td>\n",
              "    </tr>\n",
              "  </tbody>\n",
              "</table>\n",
              "</div>"
            ],
            "text/plain": [
              "               World of Warcraft  Warframe  Call of Duty\n",
              "geoName                                                 \n",
              "Cuba                           9         1            90\n",
              "Curaçao                        0        20            80\n",
              "Cyprus                        10        30            60\n",
              "Czechia                       17        28            55\n",
              "Côte d’Ivoire                  0         0           100"
            ]
          },
          "execution_count": 38,
          "metadata": {},
          "output_type": "execute_result"
        }
      ],
      "source": [
        "#plot a bar chart with ALL the keywords\n",
        "data3 = pytrends.interest_by_region(resolution='COUNTRY', inc_low_vol=True)\n",
        "\n",
        "data3 = data3[55:60]\n",
        "data3"
      ]
    },
    {
      "cell_type": "code",
      "execution_count": null,
      "id": "1af8b0c9",
      "metadata": {
        "id": "1af8b0c9",
        "outputId": "1841f0ef-cfe1-4804-91d4-dc709d7734c2"
      },
      "outputs": [
        {
          "data": {
            "image/png": "[encoded data removed]",
            "text/plain": [
              "<Figure size 432x288 with 1 Axes>"
            ]
          },
          "metadata": {
            "needs_background": "light"
          },
          "output_type": "display_data"
        }
      ],
      "source": [
        "data3.plot(kind = 'bar')\n",
        "plt.ylabel('Number of searches')\n",
        "plt.xlabel('Countries searched in')\n",
        "plt.show()"
      ]
    },
    {
      "cell_type": "code",
      "execution_count": null,
      "id": "93bced9c",
      "metadata": {
        "id": "93bced9c"
      },
      "outputs": [],
      "source": []
    }
  ],
  "metadata": {
    "kernelspec": {
      "display_name": "Python 3",
      "language": "python",
      "name": "python3"
    },
    "language_info": {
      "codemirror_mode": {
        "name": "ipython",
        "version": 3
      },
      "file_extension": ".py",
      "mimetype": "text/x-python",
      "name": "python",
      "nbconvert_exporter": "python",
      "pygments_lexer": "ipython3",
      "version": "3.8.8"
    },
    "colab": {
      "provenance": [],
      "include_colab_link": true
    }
  },
  "nbformat": 4,
  "nbformat_minor": 5
}